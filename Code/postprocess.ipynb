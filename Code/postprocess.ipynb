{
 "cells": [
  {
   "cell_type": "code",
   "execution_count": 47,
   "metadata": {},
   "outputs": [],
   "source": [
    "import openai\n",
    "import os\n",
    "import pandas as pd\n",
    "import plotly.express as px\n",
    "import plotly.graph_objects as go\n",
    "from plotly.colors import n_colors\n",
    "from matplotlib import pyplot as plt\n",
    "import numpy as np\n",
    "import pickle\n",
    "from scipy.stats import mannwhitneyu\n",
    "from scipy.stats import pearsonr\n",
    "from scipy.stats import shapiro\n",
    "import warnings\n",
    "warnings.filterwarnings(\"ignore\")\n",
    "\n",
    "\n",
    "pd.set_option(\"display.max_rows\", None, \"display.max_columns\",\n",
    "              None, 'display.max_colwidth', None)\n",
    "\n",
    "os.environ[\"TOKENIZERS_PARALLELISM\"] = \"true\"\n",
    "\n",
    "openai.api_key = os.getenv('OPENAI_API_KEY')"
   ]
  },
  {
   "cell_type": "code",
   "execution_count": 2,
   "metadata": {},
   "outputs": [],
   "source": [
    "path_dataset = os.path.join(os.path.dirname(os.getcwd()), 'Dataset')\n",
    "\n",
    "path_result = os.path.join(os.path.dirname(os.getcwd()), 'Result')\n",
    "if not os.path.exists(path_result):\n",
    "    os.makedirs(path_result)\n",
    "\n",
    "path_general = os.path.join(path_result, 'General')\n",
    "if not os.path.exists(path_general):\n",
    "    os.makedirs(path_general)\n",
    "\n",
    "path_challenge = os.path.join(path_result, 'Challenge')\n",
    "if not os.path.exists(path_challenge):\n",
    "    os.makedirs(path_challenge)\n",
    "\n",
    "path_solution = os.path.join(path_result, 'Solution')\n",
    "if not os.path.exists(path_solution):\n",
    "    os.makedirs(path_solution)\n",
    "\n",
    "path_challenge_git_qa = os.path.join(path_challenge, 'Git vs QA')\n",
    "if not os.path.exists(path_challenge_git_qa):\n",
    "    os.makedirs(path_challenge_git_qa)\n",
    "\n",
    "path_challenge_open_closed = os.path.join(path_challenge, 'Open vs Closed')\n",
    "if not os.path.exists(path_challenge_open_closed):\n",
    "    os.makedirs(path_challenge_open_closed)\n",
    "\n",
    "path_challenge_so_to = os.path.join(\n",
    "    path_challenge, 'Stack Overflow vs Tool-specific')\n",
    "if not os.path.exists(path_challenge_so_to):\n",
    "    os.makedirs(path_challenge_so_to)\n",
    "\n",
    "path_challenge_azureml_sagemaker = os.path.join(\n",
    "    path_challenge, 'AzureML vs SageMaker')\n",
    "if not os.path.exists(path_challenge_azureml_sagemaker):\n",
    "    os.makedirs(path_challenge_azureml_sagemaker)\n",
    "\n",
    "path_challenge_evolution = os.path.join(path_challenge, 'Evolution')\n",
    "if not os.path.exists(path_challenge_evolution):\n",
    "    os.makedirs(path_challenge_evolution)\n",
    "\n",
    "path_solution_evolution = os.path.join(path_solution, 'Evolution')\n",
    "if not os.path.exists(path_solution_evolution):\n",
    "    os.makedirs(path_solution_evolution)"
   ]
  },
  {
   "cell_type": "code",
   "execution_count": 3,
   "metadata": {},
   "outputs": [],
   "source": [
    "# The significance level is the probability of rejecting the null hypothesis when it is true.\n",
    "alpha = 0.05\n"
   ]
  },
  {
   "cell_type": "code",
   "execution_count": 39,
   "metadata": {},
   "outputs": [],
   "source": [
    "# Create challenge topic distribution tree map\n",
    "\n",
    "df_topics = pd.read_json(os.path.join(path_general, 'original.json'))\n",
    "df_topics = df_topics[df_topics['Challenge_topic'] > -1]\n",
    "df_topics['Challenge_comment_count'] = df_topics['Challenge_comment_count'].fillna(0)\n",
    "df_topics['Challenge_answer_count'] = df_topics['Challenge_answer_count'].fillna(0)\n",
    "df_topics['Challenge_participation_count'] = df_topics['Challenge_answer_count'] + \\\n",
    "    df_topics['Challenge_comment_count']\n",
    "\n",
    "fig = px.treemap(\n",
    "    df_topics,\n",
    "    path=['Tool', 'Platform'],\n",
    "    values='Challenge_participation_count',\n",
    "    color='Challenge_topic',\n",
    "    width=2000,\n",
    "    height=1000,\n",
    ")\n",
    "fig.write_image(os.path.join(\n",
    "    path_challenge, 'Challenge_topic_distribution.png'))"
   ]
  },
  {
   "cell_type": "code",
   "execution_count": 37,
   "metadata": {},
   "outputs": [
    {
     "name": "stdout",
     "output_type": "stream",
     "text": [
      "Topic 0: Environment Setup - Setting up software environments for development and execution\n",
      "Topic 1: Pipeline Automation - Automating the execution of data processing pipelines\n",
      "Topic 2: Docker - Containerization platform for building, shipping, and running applications\n",
      "Topic 3: Hyperparameter Tuning - Optimizing model performance by tuning hyperparameters\n",
      "Topic 4: Git Version Control - Tracking changes to code and collaborating with others\n",
      "Topic 5: GPU Acceleration - Using graphics processing units to speed up machine learning tasks\n",
      "Topic 6: Artifact Management - Managing and storing artifacts such as models, datasets, and code\n",
      "Topic 7: Model Deployment - Deploying machine learning models for use in production environments\n",
      "Topic 8: Data Labeling - Assigning labels to data for use in supervised learning tasks\n",
      "Topic 9: Data Visualization - Creating visual representations of data for analysis and communication\n",
      "Topic 10: Logging Metrics - Recording and tracking performance metrics during model training and evaluation\n",
      "Topic 11: Account Management - Managing user accounts and access to resources\n",
      "Topic 12: Apache Spark - Open-source distributed computing system for big data processing\n",
      "Topic 13: TensorFlow - Open-source machine learning framework for building and training models\n",
      "Topic 14: Text Processing - Analyzing and manipulating text data\n",
      "Topic 15: Pandas DataFrames - Data structure for manipulating and analyzing tabular data\n",
      "Topic 16: Model Export - Saving and exporting trained machine learning models\n",
      "Topic 17: Role-Based Access Control - Controlling access to resources based on user roles and permissions\n",
      "Topic 18: Batch Processing - Processing large amounts of data in batches\n",
      "Topic 19: Model Registry - Managing and versioning machine learning models\n",
      "Topic 20: Database Connectivity - Connecting to and interacting with databases\n",
      "Topic 21: Resource Limitations - Setting and managing limits on resource usage\n",
      "Topic 22: API Invocation - Calling APIs to perform tasks or retrieve data\n",
      "Topic 23: AutoML Forecasting - Using automated machine learning to generate forecasts\n",
      "Topic 24: Column Manipulation - Working with and manipulating columns in datasets\n",
      "Topic 25: Computer Vision - Using machine learning to analyze and interpret visual data\n",
      "Topic 26: Web Service Deployment - Deploying machine learning models as web services\n",
      "Topic 27: Kubernetes - Open-source container orchestration platform for managing containerized applications\n",
      "Topic 28: Random Forest - Ensemble learning method for classification and regression tasks\n",
      "Topic 29: CSV Files - File format for storing and exchanging tabular data\n",
      "Topic 30: TensorBoard Logging - Visualizing and tracking model training and evaluation using TensorBoard\n",
      "Topic 31: Feature Roadmap - Planning and implementing new features for a platform or product\n",
      "Topic 32: Dataset Versioning - Managing and versioning datasets\n",
      "Topic 33: CloudWatch Logging - Monitoring and logging AWS resources and applications\n",
      "Topic 34: Speech-to-Text - Converting audio speech to text\n",
      "Topic 35: YAML Configuration - Using YAML files to configure applications and services\n",
      "Topic 36: Data Storage - Storing and accessing data in cloud-based storage solutions\n",
      "Topic 37: VPC Endpoints - Connecting to AWS services privately through a VPC\n",
      "Topic 38: Model Accuracy - Evaluating and improving the accuracy of machine learning models\n",
      "Topic 39: Model Input - Preparing and querying input data for machine learning models\n",
      "Topic 40: Bucket Access - Managing access to cloud-based storage buckets\n",
      "Topic 41: Run Management - Managing and monitoring the execution of jobs and tasks\n",
      "Topic 42: Model Prediction - Using trained machine learning models to make predictions\n",
      "Topic 43: Notebook Instances - Creating and managing cloud-based notebook instances for data analysis and experimentation\n"
     ]
    }
   ],
   "source": [
    "prompt_topic = '''You will be given a list of keywords for each topic, I want you to provide a description of each topic in a two-word phrase but guarantee that each description is exclusive to the other. Also, for each description, you need to attach short comments on what these keywords are talking about in general.\n",
    "###\\n'''\n",
    "\n",
    "with open(os.path.join(path_challenge, 'Topic terms.pickle'), 'rb') as handle:\n",
    "    topic_terms = pickle.load(handle)\n",
    "\n",
    "topic_term_list = []\n",
    "for index, topic in enumerate(topic_terms):\n",
    "    terms = ', '.join([term[0] for term in topic])\n",
    "    topic_term = f'Topic {index}: {terms}'\n",
    "    topic_term_list.append(topic_term)\n",
    "\n",
    "completion = openai.ChatCompletion.create(\n",
    "    model=\"gpt-3.5-turbo\",\n",
    "    messages=[{\"role\": \"user\", \"content\": prompt_topic +\n",
    "               '\\n'.join(topic_term_list) + '\\n###\\n'}],\n",
    "    temperature=0,\n",
    "    max_tokens=1500,\n",
    "    top_p=1,\n",
    "    frequency_penalty=0,\n",
    "    presence_penalty=0,\n",
    "    timeout=100,\n",
    "    stream=False)\n",
    "\n",
    "topic_challenge = completion.choices[0].message.content\n",
    "print(topic_challenge)"
   ]
  },
  {
   "cell_type": "code",
   "execution_count": 24,
   "metadata": {},
   "outputs": [],
   "source": [
    "topic_mapping_challenge = {\n",
    "    0: ('Package Management', 'Installing and configuring software packages and dependencies'),\n",
    "    1: ('Pipeline Configuration', 'Automating the execution of data processing pipelines'),\n",
    "    2: ('Docker Configuration', 'Containerization platform for building, shipping, and running applications'),\n",
    "    3: ('Hyperparameter Tuning', 'Optimizing model performance by tuning hyperparameters'),\n",
    "    4: ('Code Versioning', 'Managing and tracking changes in a repository using Git'),\n",
    "    5: ('GPU Configuration', 'Using graphics processing units to speed up machine learning tasks'),\n",
    "    6: ('Artifact Management', 'Uploading, downloading, and storing artifacts'),\n",
    "    7: ('Endpoint Deployment', 'Deploying machine learning models for use in production environments'),\n",
    "    8: ('Data Labeling', 'Assigning labels to data for use in supervised learning tasks'),\n",
    "    9: ('Data Visualization', 'Creating visual representations of data for analysis and communication'),\n",
    "    10: ('Metrics Logging', 'Recording and tracking performance metrics during model training and evaluation'),\n",
    "    11: ('Account Management', 'Managing user accounts and access to resources'),\n",
    "    12: ('Apache Spark Configuration', 'Installing and configuring Apache Spark distributed computing system for big data processing'),\n",
    "    13: ('TensorFlow Configuration', 'Installing and configuring the TensorFlow machine learning framework'),\n",
    "    14: ('Text Processing', 'Analyzing and manipulating text data'),\n",
    "    15: ('Pandas Dataframe', 'Manipulating and analyzing tabular data using the Pandas library'),\n",
    "    16: ('Model Exporting', 'Saving and exporting trained machine learning models'),\n",
    "    17: ('Role-based Access Control', 'Controlling access to resources based on user roles and permissions'),\n",
    "    18: ('Batch Processing', 'Processing large amounts of data in batches'),\n",
    "    19: ('Model Registry', 'Registering, managing, and versioning models'),\n",
    "    20: ('Database Connectivity', 'Connecting to and interacting with databases'),\n",
    "    21: ('Resource Quota Control', 'Setting and managing limits on resource usage'),\n",
    "    22: ('API Invocation', 'Calling APIs to perform tasks or retrieve data'),\n",
    "    23: ('Forecasting', 'Using automated machine learning to generate forecasts'),\n",
    "    24: ('Columnar Manipulation', 'Working with and manipulating columns in datasets'),\n",
    "    25: ('Object Detection', 'Using machine learning to analyze and interpret visual data'),\n",
    "    26: ('Web Service', 'Deploying machine learning models as web services'),\n",
    "    27: ('Kubernetes Orchestration', 'Open-source container orchestration platform for managing containerized applications'),\n",
    "    28: ('Tree-based Model', 'Building, training, and cutting tree-like structure to make predictions'),\n",
    "    29: ('CSV Manipulation', 'Reading, writing, and manipulating CSV files'),\n",
    "    30: ('TensorBoard Logging', 'Visualizing and tracking model training and evaluation using TensorBoard'),\n",
    "    31: ('Feature Roadmap', 'Planning and implementing new features for a platform or product'),\n",
    "    32: ('Dataset Versioning', 'Managing and versioning datasets'),\n",
    "    33: ('CloudWatch Monitoring', 'Monitoring and logging AWS resources and applications'),\n",
    "    34: ('Speech-to-Text', 'Converting audio speech to text'),\n",
    "    35: ('YAML Configuration', 'Configuring and defining stages in a pipeline using YAML files'),\n",
    "    36: ('Data Storage', 'Storing and accessing data in cloud-based storage solutions'),\n",
    "    37: ('VPC Neworking', 'Connecting to AWS services privately through a VPC'),\n",
    "    38: ('Model Evaluation', 'Evaluating and improving the accuracy of machine learning models'),\n",
    "    39: ('Model Serving', 'Preparing and querying input data for machine learning models'),\n",
    "    40: ('Bucket Access Control', 'Managing access to cloud-based storage buckets'),\n",
    "    41: ('Run Management', 'Managing and monitoring the execution of jobs and tasks'),\n",
    "    42: ('Model Inference', 'Using trained machine learning models to make predictions'),\n",
    "    43: ('Jupyter Notebook', 'Creating and running interactive notebooks for data analysis and visualization'),\n",
    "}"
   ]
  },
  {
   "cell_type": "code",
   "execution_count": null,
   "metadata": {},
   "outputs": [
    {
     "name": "stdout",
     "output_type": "stream",
     "text": [
      "Topic 0: Git Tracking - Managing and tracking changes in a repository using Git.\n",
      "Topic 1: Access Control - Managing user roles and permissions for accessing resources.\n",
      "Topic 2: Environment Setup - Installing and configuring software packages and dependencies.\n",
      "Topic 3: Logging Metrics - Capturing and analyzing data related to system performance and behavior.\n",
      "Topic 4: Dataset Management - Organizing and manipulating data for use in machine learning models.\n",
      "Topic 5: Docker Deployment - Packaging and deploying applications in containers using Docker.\n",
      "Topic 6: Parameter Configuration - Setting and adjusting parameters for software programs.\n",
      "Topic 7: YAML Configuration - Configuring and defining stages in a pipeline using YAML files.\n",
      "Topic 8: Endpoint Deployment - Deploying and managing endpoints for accessing APIs and web services.\n",
      "Topic 9: Jupyter Notebooks - Creating and running interactive notebooks for data analysis and visualization.\n",
      "Topic 10: Pandas Dataframes - Manipulating and analyzing tabular data using the Pandas library.\n",
      "Topic 11: TensorFlow Usage - Installing and using the TensorFlow library for machine learning.\n",
      "Topic 12: Artifact Management - Storing and managing files and artifacts for software projects.\n",
      "Topic 13: Model Deployment - Deploying and managing machine learning models in the cloud.\n",
      "Topic 14: Random Forest - Using the random forest algorithm for machine learning tasks.\n",
      "Topic 15: Pipeline Modeling - Building and deploying machine learning pipelines for data processing and analysis.\n",
      "Topic 16: JSON Payloads - Formatting and transmitting data using the JSON data interchange format.\n",
      "Topic 17: Remote Configuration - Configuring and managing remote resources and connections.\n",
      "Topic 18: Spark Computing - Using the Apache Spark framework for distributed computing and data processing.\n",
      "Topic 19: Python Model Implementation - Implementing machine learning models using the Python programming language.\n",
      "Topic 20: Data Upload/Download - Uploading and downloading data files and objects.\n",
      "Topic 21: Cluster Computing - Using clusters of computers for parallel processing and data analysis.\n",
      "Topic 22: Pipeline Data Input - Defining and managing input data for machine learning pipelines.\n",
      "Topic 23: CSV Formatting - Formatting and manipulating data using the CSV file format.\n",
      "Topic 24: Model Registration - Registering and managing machine learning models for use in applications.\n",
      "Topic 25: Memory Management - Managing memory usage and resources for large-scale data processing.\n",
      "Topic 26: Neural Networks - Building and training neural networks for machine learning tasks.\n",
      "Topic 27: SDK Versioning - Managing and updating software development kits for programming languages and frameworks.\n",
      "Topic 28: Lambda Invocation - Invoking and managing AWS Lambda functions for serverless computing and API Gateway.\n"
     ]
    }
   ],
   "source": [
    "prompt_topic = '''You will be given a list of keywords for each topic, I want you to provide a description of each topic in a two-word phrase but guarantee that each description is exclusive to the other. Also, for each description, you need to attach short comments on what these keywords are talking about in general.\n",
    "###\\n'''\n",
    "\n",
    "with open(os.path.join(path_solution, 'Topic terms.pickle'), 'rb') as handle:\n",
    "    topic_terms = pickle.load(handle)\n",
    "\n",
    "topic_term_list = []\n",
    "for index, topic in enumerate(topic_terms):\n",
    "    terms = ', '.join([term[0] for term in topic])\n",
    "    topic_term = f'Topic {index}: {terms}'\n",
    "    topic_term_list.append(topic_term)\n",
    "\n",
    "completion = openai.ChatCompletion.create(\n",
    "    model=\"gpt-3.5-turbo\",\n",
    "    messages=[{\"role\": \"user\", \"content\": prompt_topic +\n",
    "               '\\n'.join(topic_term_list) + '\\n###\\n'}],\n",
    "    temperature=0,\n",
    "    max_tokens=1500,\n",
    "    top_p=1,\n",
    "    frequency_penalty=0,\n",
    "    presence_penalty=0,\n",
    "    timeout=100,\n",
    "    stream=False)\n",
    "\n",
    "topic_solution = completion.choices[0].message.content\n",
    "print(topic_solution)"
   ]
  },
  {
   "cell_type": "code",
   "execution_count": 23,
   "metadata": {},
   "outputs": [],
   "source": [
    "topic_mapping_solution = {\n",
    "    0: ('Code Versioning', 'Managing and tracking changes in a repository using Git'),\n",
    "    1: ('Role-based Access Control', 'Controlling access to resources based on user roles and permissions'),\n",
    "    2: ('Package Management', 'Installing and configuring software packages and dependencies'),\n",
    "    3: ('Metrics Logging', 'Recording and tracking performance metrics during model training and evaluation'),\n",
    "    4: ('Columnar Manipulation', 'Working with and manipulating columns in datasets'),\n",
    "    5: ('Docker Configuration', 'Containerization platform for building, shipping, and running applications'),\n",
    "    6: ('Hyperparameter Tuning', 'Optimizing model performance by tuning hyperparameters'),\n",
    "    7: ('YAML Configuration', 'Configuring and defining stages in a pipeline using YAML files'),\n",
    "    8: ('Endpoint Serving', 'Creating, deploying, and managing endpoints for REST and web services'),\n",
    "    9: ('Jupyter Notebook', 'Creating and running interactive notebooks for data analysis and visualization'),\n",
    "    10: ('Pandas Dataframe', 'Manipulating and analyzing tabular data using the Pandas library'),\n",
    "    11: ('TensorFlow Configuration', 'Installing and configuring the TensorFlow machine learning framework'),\n",
    "    12: ('Artifact Management', 'Uploading, downloading, and storing artifacts'),\n",
    "    13: ('Endpoint Deployment', 'Deploying machine learning models for use in production environments'),\n",
    "    14: ('Tree-based Model', 'Building, training, and cutting tree-like structure to make predictions'),\n",
    "    15: ('Pipeline Configuration (Model)', 'Building, inputting, and parameterizing pipelines for API and object use'),\n",
    "    16: ('JSON Payload', 'Formatting, serializing, and loading data'),\n",
    "    17: ('Remote Configuration', 'Adding, modifying, and running remote URLs and resources'),\n",
    "    18: ('Apache Spark Configuration', 'Installing and configuring Apache Spark distributed computing system for big data processing'),\n",
    "    19: ('Model Wrapper', 'Using PyFunc and PythonModel interfaces, importing models, and loading models'),\n",
    "    20: ('Data Transfer', 'Transferring data between cloud-based storage solutions'),\n",
    "    21: ('Cluster Configuration', 'Running and managing distributed computing jobs'),\n",
    "    22: ('Pipeline Configuration (Data)', 'Creating and managing data pipelines'),\n",
    "    23: ('CSV Manipulation', 'Reading, writing, and manipulating CSV files'),\n",
    "    24: ('Model Registry', 'Registering, managing, and versioning models'),\n",
    "    25: ('Memory Management', 'Managing memory and distributing training for large datasets'),\n",
    "    26: ('Model Application', 'Using neural networks for machine learning'),\n",
    "    27: ('SDK Management', 'Managing SDK versions'),\n",
    "    28: ('Serverless Serving', 'Invoking endpoints and APIs using Lambda functions and API gateways'),\n",
    "}\n"
   ]
  },
  {
   "cell_type": "code",
   "execution_count": 50,
   "metadata": {},
   "outputs": [],
   "source": [
    "topic_ensemble = [\n",
    "    'Account Management',\n",
    "    'Apache Spark Configuration',\n",
    "    'API Invocation',\n",
    "    'Artifact Management',\n",
    "    'Batch Processing',\n",
    "    'Bucket Access Control',\n",
    "    'CloudWatch Monitoring',\n",
    "    'Cluster Configuration',\n",
    "    'Code Versioning',\n",
    "    'Columnar Manipulation',\n",
    "    'CSV Manipulation',\n",
    "    'Data Labeling',\n",
    "    'Data Storage',\n",
    "    'Data Transfer',\n",
    "    'Data Visualization',\n",
    "    'Database Connectivity',\n",
    "    'Dataset Versioning',\n",
    "    'Docker Configuration',\n",
    "    'GPU Configuration',\n",
    "    'Hyperparameter Tuning',\n",
    "    'JSON Payload',\n",
    "    'Jupyter Notebook',\n",
    "    'Kubernetes Orchestration',\n",
    "    'Memory Management',\n",
    "    'Metrics Logging',\n",
    "    'Model Evaluation',\n",
    "    'Model Exporting',\n",
    "    'Model Inference',\n",
    "    'Model Registry',\n",
    "    'Model Serving',\n",
    "    'Endpoint Serving',\n",
    "    'Endpoint Deployment',\n",
    "    'Serverless Serving',\n",
    "    'Pandas Dataframe',\n",
    "    'Pipeline Configuration',\n",
    "    'Pipeline Configuration (Data)',\n",
    "    'Pipeline Configuration (Model)',\n",
    "    'Package Management',\n",
    "    'Remote Configuration',\n",
    "    'Resource Quota Control',\n",
    "    'Role-based Access Control',\n",
    "    'Run Management',\n",
    "    'SDK Management',\n",
    "    'TensorBoard Logging',\n",
    "    'TensorFlow Configuration',\n",
    "    'VPC Networking',\n",
    "    'Web Service',\n",
    "    'YAML Configuration',\n",
    "]\n",
    "\n",
    "topic_ensemble_high_level = [\n",
    "    # All of these words relate to the configuration and management of infrastructure aspects of computer systems and networks. Specifically, they involve setting up and optimizing different components such as processing power, memory, network connections, and software to ensure that they work together efficiently and effectively.\n",
    "    {'Infrastructure Management': ['Apache Spark Configuration', 'Cluster Configuration', 'Docker Configuration', 'GPU Configuration', 'VPC Networking', 'Memory Management',\n",
    "                                   'Remote Configuration', 'Resource Quota Control', 'TensorFlow Configuration', 'Jupyter Notebook', 'Package Management', 'SDK Management', 'YAML Configuration']},\n",
    "    # Code versioning refers to the practice of tracking changes to software code over time.\n",
    "    {'Code Management': ['Code Versioning']},\n",
    "    # These words are all related to data management and analysis. They refer to various tasks and techniques used to organize, manipulate, store, transfer, and analyze data.\n",
    "    {'Data Management': ['Artifact Management', 'Columnar Manipulation', 'CSV Manipulation', 'Data Labeling', 'Data Storage',\n",
    "                         'Data Transfer', 'Data Visualization', 'Database Connectivity', 'Dataset Versioning', 'Pandas Dataframe', 'Batch Processing']},\n",
    "    # All of these words are related to the development and management of machine learning models.\n",
    "    {'Model Management': ['Hyperparameter Tuning',\n",
    "                          'Model Evaluation', 'Model Exporting', 'Model Registry']},\n",
    "    # All of these words are related to the deployment and management of machine learning models or web services.\n",
    "    {'Deployment Management': ['Endpoint Serving', 'Endpoint Deployment', 'Model Serving', 'Model Inference',\n",
    "                               'JSON Payload', 'Web Service', 'Serverless Serving', 'API Invocation']},\n",
    "    # All of these words are related to controlling access to information or resources in a system.\n",
    "    {'Security Management': ['Account Management',\n",
    "                             'Bucket Access Control', 'Role-based Access Control']},\n",
    "    # All of these words are related to monitoring and logging data in various systems.\n",
    "    {'Report Management': ['CloudWatch Monitoring',\n",
    "                           'Metrics Logging', 'TensorBoard Logging', 'Metrics Logging']},\n",
    "    # These words are all related to the management and optimization of data pipelines in software development.\n",
    "    {'Lifecycle Management': ['Pipeline Configuration',\n",
    "                              'Pipeline Configuration (Data)', 'Pipeline Configuration (Model)', 'Run Management', 'Kubernetes Orchestration']},\n",
    "]\n",
    "\n",
    "topic_ensemble_inverse = {}\n",
    "for dictionary in topic_ensemble_high_level:\n",
    "    for key, values in dictionary.items():\n",
    "        for inner_value in values:\n",
    "            topic_ensemble_inverse[inner_value] = key\n",
    "\n",
    "colors = n_colors('rgb(5, 200, 200)', 'rgb(200, 10, 10)', len(topic_ensemble_high_level), colortype='rgb')"
   ]
  },
  {
   "cell_type": "code",
   "execution_count": 25,
   "metadata": {},
   "outputs": [],
   "source": [
    "# assign human-readable & high-level topics to challenges & solutions\n",
    "\n",
    "df_topics = pd.read_json(os.path.join(path_general, 'original.json'))\n",
    "\n",
    "for index, row in df_topics.iterrows():\n",
    "    if row['Challenge_topic'] in topic_mapping_challenge:\n",
    "        topic = topic_mapping_challenge[row['Challenge_topic']][0]\n",
    "        df_topics.at[index, 'Challenge_topic'] = topic\n",
    "        df_topics.at[index, 'Challenge_topic_higher_level'] = topic_ensemble_inverse[topic] if topic in topic_ensemble_inverse else np.nan\n",
    "    else:\n",
    "        df_topics.at[index, 'Challenge_topic'] = np.nan\n",
    "        df_topics.at[index, 'Challenge_topic_higher_level'] = np.nan\n",
    "    \n",
    "    if row['Solution_topic'] in topic_mapping_solution:\n",
    "        topic = topic_mapping_solution[row['Solution_topic']][0]\n",
    "        df_topics.at[index, 'Solution_topic'] = topic\n",
    "        df_topics.at[index, 'Solution_topic_higher_level'] = topic_ensemble_inverse[topic] if topic in topic_ensemble_inverse else np.nan\n",
    "    else:\n",
    "        df_topics.at[index, 'Solution_topic'] = np.nan\n",
    "        df_topics.at[index, 'Solution_topic_higher_level'] = np.nan\n",
    "\n",
    "df_topics.to_json(os.path.join(path_general, 'assigned.json'),\n",
    "                  indent=4, orient='records')\n"
   ]
  },
  {
   "cell_type": "code",
   "execution_count": 45,
   "metadata": {},
   "outputs": [],
   "source": [
    "df_topics = pd.read_json(os.path.join(path_general, 'assigned.json'))\n",
    "df_topics = df_topics[df_topics['Challenge_topic_higher_level'].notna(\n",
    ") & df_topics['Solution_topic_higher_level'].notna()]\n",
    "\n",
    "categories = ['Challenge_topic_higher_level', 'Solution_topic_higher_level']\n",
    "df_topics = df_topics.groupby(categories).size().reset_index(name='value')\n",
    "\n",
    "# we only visualize strong connection\n",
    "df_topics = df_topics[df_topics['value'] > 50]\n",
    "\n",
    "newDf = pd.DataFrame()\n",
    "for i in range(len(categories)-1):\n",
    "    tempDf = df_topics[[categories[i], categories[i+1], 'value']]\n",
    "    tempDf.columns = ['source', 'target', 'value']\n",
    "    newDf = pd.concat([newDf, tempDf])\n",
    "newDf = newDf.groupby(['source', 'target']).agg({'value': 'sum'}).reset_index()\n",
    "\n",
    "label = list(np.unique(df_topics[categories].values))\n",
    "source = newDf['source'].apply(lambda x: label.index(x))\n",
    "target = newDf['target'].apply(lambda x: label.index(x))\n",
    "value = newDf['value']\n",
    "\n",
    "link = dict(source=source, target=target, value=value)\n",
    "node = dict()\n",
    "data = go.Sankey(\n",
    "    link=link,\n",
    "    node=dict(\n",
    "        label=label,\n",
    "        thickness=100,\n",
    "        pad=30,\n",
    "    ))\n",
    "\n",
    "fig = go.Figure(data)\n",
    "fig.update_layout(\n",
    "    height=2000,\n",
    "    width=2000,\n",
    "    font=dict(size=20),\n",
    ")\n",
    "fig.write_image(os.path.join(path_general,\n",
    "                'Challenge solution sankey.png'))"
   ]
  },
  {
   "cell_type": "code",
   "execution_count": null,
   "metadata": {},
   "outputs": [],
   "source": [
    "# topic_all = set(['Topic: ' + topic[0] + ', Description: ' + topic[1] for topic in ] + ['Topic: ' + topic[0] + ', Description: ' + topic[1] for topic in topic_mapping_challenge.values()])\n",
    "# topic_all\n"
   ]
  },
  {
   "cell_type": "code",
   "execution_count": null,
   "metadata": {},
   "outputs": [],
   "source": [
    "# topic_all = list(set(list(topic_mapping_solution.values()) + list(topic_mapping_challenge.values())))\n",
    "# for item in topic_ensemble:\n",
    "#     for item2 in topic_all:\n",
    "#         if item == item2[0]:\n",
    "#             topic_all.remove(item2)\n",
    "#             break\n",
    "# topic_all\n"
   ]
  },
  {
   "cell_type": "code",
   "execution_count": null,
   "metadata": {},
   "outputs": [],
   "source": [
    "# prompt_classify = '''Please classify the following concepts as different categories based on their application scenarios and provide a short description for each category:\\n'''\n",
    "\n",
    "# completion = openai.ChatCompletion.create(\n",
    "#     model=\"gpt-3.5-turbo\",\n",
    "#     messages=[\n",
    "#         {\"role\": \"user\", \"content\": prompt_classify + ', '.join(topic_ensemble) + '\\n'},\n",
    "#         ],\n",
    "#     temperature=0,\n",
    "#     max_tokens=500,\n",
    "#     top_p=1,\n",
    "#     frequency_penalty=0,\n",
    "#     presence_penalty=0,\n",
    "#     timeout=50,\n",
    "#     stream=False\n",
    "# )\n",
    "# completion.choices[0].message.content\n"
   ]
  },
  {
   "cell_type": "code",
   "execution_count": null,
   "metadata": {},
   "outputs": [],
   "source": [
    "# # Collect general challenge statistics information\n",
    "\n",
    "# df_challenge = pd.read_json(os.path.join(path_general, 'original.json'))\n",
    "# df_challenge = df_challenge[df_challenge['Challenge_topic'] > -1]\n",
    "\n",
    "# # total_count = df_challenge['Challenge_topic'].count()\n",
    "# df_topics = []\n",
    "\n",
    "# for name, group in df_challenge.groupby('Challenge_topic'):\n",
    "#     count = group['Challenge_topic'].count()\n",
    "#     Solved_ratio = group['Challenge_closed_time'].notna().sum() / count\n",
    "#     Mean_score = group['Challenge_score'].mean()\n",
    "#     Mean_favorite_count = group['Challenge_follower_count'].mean()\n",
    "#     Mean_follower_count = group['Challenge_follower_count'].mean()\n",
    "#     Mean_link_count = group['Challenge_link_count'].mean()\n",
    "#     Mean_information_entropy = group['Challenge_information_entropy'].mean()\n",
    "#     Mean_readability = group['Challenge_readability'].mean()\n",
    "#     Mean_sentence_count = group['Challenge_sentence_count'].mean()\n",
    "#     Mean_word_count = group['Challenge_word_count'].mean()\n",
    "#     Mean_unique_word_count = group['Challenge_unique_word_count'].mean()\n",
    "#     Mean_view_count = group['Challenge_view_count'].mean()\n",
    "#     Mean_answer_count = group['Challenge_answer_count'].mean()\n",
    "#     Mean_comment_count = group['Challenge_comment_count'].mean()\n",
    "#     # Mean_participation_count = Mean_answer_count + Mean_comment_count\n",
    "#     # Score_participation_ratio = Mean_score / Mean_participation_count\n",
    "#     # Score_participation_weighted_product = (\n",
    "#     #     group['Challenge_score'] * group['Challenge_participation_count']).mean()\n",
    "#     # Mean_solved_time = group['Challenge_solved_time'].mean(\n",
    "#     # ) / pd.Timedelta(hours=1)\n",
    "#     # Median_solved_time = group['Challenge_solved_time'].median(\n",
    "#     # ) / pd.Timedelta(hours=1)\n",
    "#     # Mean_solved_time_edited = group['Challenge_solved_time_edited'].mean(\n",
    "#     # ) / pd.Timedelta(hours=1)\n",
    "#     # Median_solved_time_edited = group['Challenge_solved_time_edited'].median(\n",
    "#     # ) / pd.Timedelta(hours=1)\n",
    "#     topic_info = {\n",
    "#         'Topic': name,\n",
    "#         'Count': count,\n",
    "#         'Solved ratio': Solved_ratio,\n",
    "#         'Mean score': Mean_score,\n",
    "#         'Mean follower count': Mean_favorite_count,\n",
    "#         'Mean follower count': Mean_follower_count,\n",
    "#         'Mean link count': Mean_link_count,\n",
    "#         'Mean information entropy': Mean_information_entropy,\n",
    "#         'Mean readability': Mean_readability,\n",
    "#         'Mean sentence count': Mean_sentence_count,\n",
    "#         'Mean word count': Mean_word_count,\n",
    "#         'Mean unique word count': Mean_unique_word_count,\n",
    "#         'Mean view count': Mean_view_count,\n",
    "#         'Mean answer count': Mean_answer_count,\n",
    "#         'Mean comment count': Mean_comment_count,\n",
    "#         # 'Score participation ratio': Score_participation_ratio,\n",
    "#         # 'Score participation weighted product': Score_participation_weighted_product,\n",
    "#         # 'Mean solved time': Mean_solved_time,\n",
    "#         # 'Median solved time': Median_solved_time,\n",
    "#         # 'Mean solved time edited': Mean_solved_time_edited,\n",
    "#         # 'Median solved time edited': Median_solved_time_edited,\n",
    "#     }\n",
    "#     df_topics.append(topic_info)\n",
    "\n",
    "# df_topics = pd.DataFrame(df_topics)\n",
    "# df_topics.to_json(os.path.join(path_challenge_open_closed,\n",
    "#                   'general.json'), indent=4, orient='records')\n",
    "\n",
    "# # df_topics['Topic'] = df_topics['Topic'].astype(str)\n",
    "\n",
    "# # # plot count\n",
    "# # df_topics = df_topics.sort_values('Count', ascending=False)\n",
    "# # fig = go.Figure()\n",
    "# # fig.add_trace(go.Scatter(\n",
    "# #     x=df_topics['Topic'],\n",
    "# #     y=df_topics['Count'],\n",
    "# #     mode='lines+markers'\n",
    "# # ))\n",
    "# # fig.update_layout(\n",
    "# #     width=1000,\n",
    "# #     height=500,\n",
    "# #     margin=dict(l=0, r=0, t=0, b=0),\n",
    "# #     # title='Challenge count',\n",
    "# #     xaxis=dict(\n",
    "# #         tickmode='linear'\n",
    "# #     )\n",
    "# # )\n",
    "# # fig.write_image(os.path.join(path_challenge_open_closed, 'Challenge_count.png'))\n",
    "# # plt.close()\n",
    "\n",
    "# # # plot solved ratio\n",
    "# # df_topics = df_topics.sort_values('Solved ratio', ascending=False)\n",
    "# # fig = go.Figure()\n",
    "# # fig.add_trace(go.Scatter(\n",
    "# #     x=df_topics['Topic'],\n",
    "# #     y=df_topics['Solved ratio'],\n",
    "# #     mode='lines+markers'\n",
    "# # ))\n",
    "# # fig.update_layout(\n",
    "# #     width=1000,\n",
    "# #     height=500,\n",
    "# #     margin=dict(l=0, r=0, t=0, b=0),\n",
    "# #     # title='Challenge solved ratio',\n",
    "# #     xaxis=dict(\n",
    "# #         tickmode='linear'\n",
    "# #     )\n",
    "# # )\n",
    "# # fig.write_image(os.path.join(path_challenge_open_closed, 'Challenge_solved_ratio.png'))\n",
    "# # plt.close()\n",
    "\n",
    "# # # plot mean score\n",
    "# # df_topics = df_topics.sort_values('Mean score', ascending=False)\n",
    "# # fig = go.Figure()\n",
    "# # fig.add_trace(go.Scatter(\n",
    "# #     x=df_topics['Topic'],\n",
    "# #     y=df_topics['Mean score'],\n",
    "# #     mode='lines+markers'\n",
    "# # ))\n",
    "# # fig.update_layout(\n",
    "# #     width=1000,\n",
    "# #     height=500,\n",
    "# #     margin=dict(l=0, r=0, t=0, b=0),\n",
    "# #     # title='Challenge mean score',\n",
    "# #     xaxis=dict(\n",
    "# #         tickmode='linear'\n",
    "# #     )\n",
    "# # )\n",
    "# # fig.write_image(os.path.join(path_challenge_open_closed, 'Challenge_mean_score.png'))\n",
    "# # plt.close()\n",
    "\n",
    "# # # plot mean favorite count\n",
    "# # df_topics = df_topics.sort_values('Mean favorite count', ascending=False)\n",
    "# # fig = go.Figure()\n",
    "# # fig.add_trace(go.Scatter(\n",
    "# #     x=df_topics['Topic'],\n",
    "# #     y=df_topics['Mean favorite count'],\n",
    "# #     mode='lines+markers'\n",
    "# # ))\n",
    "# # fig.update_layout(\n",
    "# #     width=1000,\n",
    "# #     height=500,\n",
    "# #     margin=dict(l=0, r=0, t=0, b=0),\n",
    "# #     # title='Challenge mean favorite count',\n",
    "# #     xaxis=dict(\n",
    "# #         tickmode='linear'\n",
    "# #     )\n",
    "# # )\n",
    "# # fig.write_image(os.path.join(path_challenge_open_closed, 'Challenge_mean_favorite_count.png'))\n",
    "# # plt.close()\n",
    "\n",
    "# # # plot mean follower count\n",
    "# # df_topics = df_topics.sort_values('Mean follower count', ascending=False)\n",
    "# # fig = go.Figure()\n",
    "# # fig.add_trace(go.Scatter(\n",
    "# #     x=df_topics['Topic'],\n",
    "# #     y=df_topics['Mean follower count'],\n",
    "# #     mode='lines+markers'\n",
    "# # ))\n",
    "# # fig.update_layout(\n",
    "# #     width=1000,\n",
    "# #     height=500,\n",
    "# #     margin=dict(l=0, r=0, t=0, b=0),\n",
    "# #     # title='Challenge mean follower count',\n",
    "# #     xaxis=dict(\n",
    "# #         tickmode='linear'\n",
    "# #     )\n",
    "# # )\n",
    "# # fig.write_image(os.path.join(path_challenge_open_closed, 'Challenge_mean_follower_count.png'))\n",
    "# # plt.close()\n",
    "\n",
    "# # # plot mean link count\n",
    "# # df_topics = df_topics.sort_values('Mean link count', ascending=False)\n",
    "# # fig = go.Figure()\n",
    "# # fig.add_trace(go.Scatter(\n",
    "# #     x=df_topics['Topic'],\n",
    "# #     y=df_topics['Mean link count'],\n",
    "# #     mode='lines+markers'\n",
    "# # ))\n",
    "# # fig.update_layout(\n",
    "# #     width=1000,\n",
    "# #     height=500,\n",
    "# #     margin=dict(l=0, r=0, t=0, b=0),\n",
    "# #     # title='Challenge mean link count',\n",
    "# #     xaxis=dict(\n",
    "# #         tickmode='linear'\n",
    "# #     )\n",
    "# # )\n",
    "# # fig.write_image(os.path.join(path_challenge_open_closed, 'Challenge_mean_link_count.png'))\n",
    "# # plt.close()\n",
    "\n",
    "# # # plot mean information entropy\n",
    "# # df_topics = df_topics.sort_values('Mean information entropy', ascending=False)\n",
    "# # fig = go.Figure()\n",
    "# # fig.add_trace(go.Scatter(\n",
    "# #     x=df_topics['Topic'],\n",
    "# #     y=df_topics['Mean information entropy'],\n",
    "# #     mode='lines+markers'\n",
    "# # ))\n",
    "# # fig.update_layout(\n",
    "# #     width=1000,\n",
    "# #     height=500,\n",
    "# #     margin=dict(l=0, r=0, t=0, b=0),\n",
    "# #     # title='Challenge mean info entropy',\n",
    "# #     xaxis=dict(\n",
    "# #         tickmode='linear'\n",
    "# #     )\n",
    "# # )\n",
    "# # fig.write_image(os.path.join(path_challenge_open_closed, 'Challenge_mean_information_entropy.png'))\n",
    "# # plt.close()\n",
    "\n",
    "# # # plot mean readability\n",
    "# # df_topics = df_topics.sort_values('Mean readability', ascending=False)\n",
    "# # fig = go.Figure()\n",
    "# # fig.add_trace(go.Scatter(\n",
    "# #     x=df_topics['Topic'],\n",
    "# #     y=df_topics['Mean readability'],\n",
    "# #     mode='lines+markers'\n",
    "# # ))\n",
    "# # fig.update_layout(\n",
    "# #     width=1000,\n",
    "# #     height=500,\n",
    "# #     margin=dict(l=0, r=0, t=0, b=0),\n",
    "# #     # title='Challenge mean readability',\n",
    "# #     xaxis=dict(\n",
    "# #         tickmode='linear'\n",
    "# #     )\n",
    "# # )\n",
    "# # fig.write_image(os.path.join(path_challenge_open_closed, 'Challenge_mean_readability.png'))\n",
    "# # plt.close()\n",
    "\n",
    "# # # plot mean sentence count\n",
    "# # df_topics = df_topics.sort_values('Mean sentence count', ascending=False)\n",
    "# # fig = go.Figure()\n",
    "# # fig.add_trace(go.Scatter(\n",
    "# #     x=df_topics['Topic'],\n",
    "# #     y=df_topics['Mean sentence count'],\n",
    "# #     mode='lines+markers'\n",
    "# # ))\n",
    "# # fig.update_layout(\n",
    "# #     width=1000,\n",
    "# #     height=500,\n",
    "# #     margin=dict(l=0, r=0, t=0, b=0),\n",
    "# #     # title='Challenge mean readability',\n",
    "# #     xaxis=dict(\n",
    "# #         tickmode='linear'\n",
    "# #     )\n",
    "# # )\n",
    "# # fig.write_image(os.path.join(path_challenge_open_closed, 'Challenge_mean_sentence_count.png'))\n",
    "# # plt.close()\n",
    "\n",
    "# # # plot mean word count\n",
    "# # df_topics = df_topics.sort_values('Mean word count', ascending=False)\n",
    "# # fig = go.Figure()\n",
    "# # fig.add_trace(go.Scatter(\n",
    "# #     x=df_topics['Topic'],\n",
    "# #     y=df_topics['Mean word count'],\n",
    "# #     mode='lines+markers'\n",
    "# # ))\n",
    "# # fig.update_layout(\n",
    "# #     width=1000,\n",
    "# #     height=500,\n",
    "# #     margin=dict(l=0, r=0, t=0, b=0),\n",
    "# #     # title='Challenge mean word count',\n",
    "# #     xaxis=dict(\n",
    "# #         tickmode='linear'\n",
    "# #     )\n",
    "# # )\n",
    "# # fig.write_image(os.path.join(path_challenge_open_closed, 'Challenge_mean_word_count.png'))\n",
    "# # plt.close()\n",
    "\n",
    "# # # plot mean unique word count\n",
    "# # df_topics = df_topics.sort_values('Mean unique word count', ascending=False)\n",
    "# # fig = go.Figure()\n",
    "# # fig.add_trace(go.Scatter(\n",
    "# #     x=df_topics['Topic'],\n",
    "# #     y=df_topics['Mean unique word count'],\n",
    "# #     mode='lines+markers'\n",
    "# # ))\n",
    "# # fig.update_layout(\n",
    "# #     width=1000,\n",
    "# #     height=500,\n",
    "# #     margin=dict(l=0, r=0, t=0, b=0),\n",
    "# #     # title='Challenge mean unique word count',\n",
    "# #     xaxis=dict(\n",
    "# #         tickmode='linear'\n",
    "# #     )\n",
    "# # )\n",
    "# # fig.write_image(os.path.join(path_challenge_open_closed, 'Challenge_mean_unique_word_count.png'))\n",
    "# # plt.close()\n",
    "\n",
    "# # # plot mean view count\n",
    "# # df_topics = df_topics.sort_values('Mean view count', ascending=False)\n",
    "# # fig = go.Figure()\n",
    "# # fig.add_trace(go.Scatter(\n",
    "# #     x=df_topics['Topic'],\n",
    "# #     y=df_topics['Mean view count'],\n",
    "# #     mode='lines+markers'\n",
    "# # ))\n",
    "# # fig.update_layout(\n",
    "# #     width=1000,\n",
    "# #     height=500,\n",
    "# #     margin=dict(l=0, r=0, t=0, b=0),\n",
    "# #     # title='Challenge mean view count',\n",
    "# #     xaxis=dict(\n",
    "# #         tickmode='linear'\n",
    "# #     )\n",
    "# # )\n",
    "# # fig.write_image(os.path.join(path_challenge_open_closed, 'Challenge_mean_view_count.png'))\n",
    "# # plt.close()\n",
    "\n",
    "# # # plot mean answer count\n",
    "# # df_topics = df_topics.sort_values('Mean answer count', ascending=False)\n",
    "# # fig = go.Figure()\n",
    "# # fig.add_trace(go.Scatter(\n",
    "# #     x=df_topics['Topic'],\n",
    "# #     y=df_topics['Mean answer count'],\n",
    "# #     mode='lines+markers'\n",
    "# # ))\n",
    "# # fig.update_layout(\n",
    "# #     width=1000,\n",
    "# #     height=500,\n",
    "# #     margin=dict(l=0, r=0, t=0, b=0),\n",
    "# #     # title='Challenge mean answer count',\n",
    "# #     xaxis=dict(\n",
    "# #         tickmode='linear'\n",
    "# #     )\n",
    "# # )\n",
    "# # fig.write_image(os.path.join(path_challenge_open_closed, 'Challenge_mean_answer_count.png'))\n",
    "# # plt.close()\n",
    "\n",
    "# # # plot mean comment count\n",
    "# # df_topics = df_topics.sort_values('Mean comment count', ascending=False)\n",
    "# # fig = go.Figure()\n",
    "# # fig.add_trace(go.Scatter(\n",
    "# #     x=df_topics['Topic'],\n",
    "# #     y=df_topics['Mean comment count'],\n",
    "# #     mode='lines+markers'\n",
    "# # ))\n",
    "# # fig.update_layout(\n",
    "# #     width=1000,\n",
    "# #     height=500,\n",
    "# #     margin=dict(l=0, r=0, t=0, b=0),\n",
    "# #     # title='Challenge mean comment count',\n",
    "# #     xaxis=dict(\n",
    "# #         tickmode='linear'\n",
    "# #     )\n",
    "# # )\n",
    "# # fig.write_image(os.path.join(path_challenge_open_closed, 'Challenge_mean_comment_count.png'))\n",
    "# # plt.close()\n",
    "\n",
    "# # # plot score participation ratio\n",
    "# # df_topics = df_topics.sort_values('Score participation ratio', ascending=False)\n",
    "# # fig = go.Figure()\n",
    "# # fig.add_trace(go.Scatter(\n",
    "# #     x=df_topics['Topic'],\n",
    "# #     y=df_topics['Score participation ratio'],\n",
    "# #     mode='lines+markers'\n",
    "# # ))\n",
    "# # fig.update_layout(\n",
    "# #     width=1000,\n",
    "# #     height=500,\n",
    "# #     margin=dict(l=0, r=0, t=0, b=0),\n",
    "# #     # title='Challenge score participation ratio',\n",
    "# #     xaxis=dict(\n",
    "# #         tickmode='linear'\n",
    "# #     )\n",
    "# # )\n",
    "# # fig.write_image(os.path.join(path_challenge_open_closed, 'Challenge_score_participation_ratio.png'))\n",
    "# # plt.close()\n",
    "\n",
    "# # # plot score participation weighted product\n",
    "# # df_topics = df_topics.sort_values('Score participation weighted product', ascending=False)\n",
    "# # fig = go.Figure()\n",
    "# # fig.add_trace(go.Scatter(\n",
    "# #     x=df_topics['Topic'],\n",
    "# #     y=df_topics['Score participation weighted product'],\n",
    "# #     mode='lines+markers'\n",
    "# # ))\n",
    "# # fig.update_layout(\n",
    "# #     width=1000,\n",
    "# #     height=500,\n",
    "# #     margin=dict(l=0, r=0, t=0, b=0),\n",
    "# #     # title='Challenge score participation weighted product',\n",
    "# #     xaxis=dict(\n",
    "# #         tickmode='linear'\n",
    "# #     )\n",
    "# # )\n",
    "# # fig.write_image(os.path.join(path_challenge_open_closed, 'Challenge_score_participation_weighted_product.png'))\n",
    "# # plt.close()\n",
    "\n",
    "# # # plot mean solved time\n",
    "# # df_topics = df_topics.sort_values('Mean solved time', ascending=False)\n",
    "# # fig = go.Figure()\n",
    "# # fig.add_trace(go.Scatter(\n",
    "# #     x=df_topics['Topic'],\n",
    "# #     y=df_topics['Mean solved time'],\n",
    "# #     mode='lines+markers'\n",
    "# # ))\n",
    "# # fig.update_layout(\n",
    "# #     width=1000,\n",
    "# #     height=500,\n",
    "# #     margin=dict(l=0, r=0, t=0, b=0),\n",
    "# #     # title='Challenge mean solved time',\n",
    "# #     xaxis=dict(\n",
    "# #         tickmode='linear'\n",
    "# #     )\n",
    "# # )\n",
    "# # fig.write_image(os.path.join(path_challenge_open_closed, 'Challenge_mean_solved_time.png'))\n",
    "# # plt.close()\n",
    "\n",
    "# # # plot median solved time\n",
    "# # df_topics = df_topics.sort_values('Median solved time', ascending=False)\n",
    "# # fig = go.Figure()\n",
    "# # fig.add_trace(go.Scatter(\n",
    "# #     x=df_topics['Topic'],\n",
    "# #     y=df_topics['Median solved time'],\n",
    "# #     mode='lines+markers'\n",
    "# # ))\n",
    "# # fig.update_layout(\n",
    "# #     width=1000,\n",
    "# #     height=500,\n",
    "# #     margin=dict(l=0, r=0, t=0, b=0),\n",
    "# #     # title='Challenge median solved time',\n",
    "# #     xaxis=dict(\n",
    "# #         tickmode='linear'\n",
    "# #     )\n",
    "# # )\n",
    "# # fig.write_image(os.path.join(path_challenge_open_closed, 'Challenge_median_solved_time.png'))\n",
    "# # plt.close()\n",
    "\n",
    "# # # plot Mean solved time edited\n",
    "# # df_topics = df_topics.sort_values('Mean solved time edited', ascending=False)\n",
    "# # fig = go.Figure()\n",
    "# # fig.add_trace(go.Scatter(\n",
    "# #     x=df_topics['Topic'],\n",
    "# #     y=df_topics['Mean solved time edited'],\n",
    "# #     mode='lines+markers'\n",
    "# # ))\n",
    "# # fig.update_layout(\n",
    "# #     width=1000,\n",
    "# #     height=500,\n",
    "# #     margin=dict(l=0, r=0, t=0, b=0),\n",
    "# #     # title='Challenge Mean solved time edited',\n",
    "# #     xaxis=dict(\n",
    "# #         tickmode='linear'\n",
    "# #     )\n",
    "# # )\n",
    "# # fig.write_image(os.path.join(path_challenge_open_closed, 'Challenge_Mean_solved_time_edited.png'))\n",
    "# # plt.close()\n",
    "\n",
    "# # # plot Median solved time edited\n",
    "# # df_topics = df_topics.sort_values('Median solved time edited', ascending=False)\n",
    "# # fig = go.Figure()\n",
    "# # fig.add_trace(go.Scatter(\n",
    "# #     x=df_topics['Topic'],\n",
    "# #     y=df_topics['Median solved time edited'],\n",
    "# #     mode='lines+markers'\n",
    "# # ))\n",
    "# # fig.update_layout(\n",
    "# #     width=1000,\n",
    "# #     height=500,\n",
    "# #     margin=dict(l=0, r=0, t=0, b=0),\n",
    "# #     # title='Challenge Median solved time edited',\n",
    "# #     xaxis=dict(\n",
    "# #         tickmode='linear'\n",
    "# #     )\n",
    "# # )\n",
    "# # fig.write_image(os.path.join(path_challenge_open_closed, 'Challenge_Median_solved_time_edited.png'))\n",
    "# # plt.close()"
   ]
  },
  {
   "cell_type": "code",
   "execution_count": null,
   "metadata": {},
   "outputs": [],
   "source": [
    "# # Collect general solution statistics information\n",
    "\n",
    "# df_solution = pd.read_json(os.path.join(path_general, 'original.json'))\n",
    "# df_solution = df_solution[df_solution['Solution_topic'] > -1]\n",
    "# # df_solution['Solution_topic'] = df_solution['Solution_topic'].astype(str)\n",
    "\n",
    "# # total_count = df_solution['Solution_topic'].count()\n",
    "# df_topics = []\n",
    "\n",
    "# for name, group in df_solution.groupby('Solution_topic'):\n",
    "#     count = group['Solution_topic'].count()\n",
    "#     Mean_score = group['Solution_score'].mean()\n",
    "#     Mean_link_count = group['Solution_link_count'].mean()\n",
    "#     Mean_information_entropy = group['Solution_information_entropy'].mean()\n",
    "#     Mean_readability = group['Solution_readability'].mean()\n",
    "#     Mean_sentence_count = group['Solution_sentence_count'].mean()\n",
    "#     Mean_word_count = group['Solution_word_count'].mean()\n",
    "#     Mean_unique_word_count = group['Solution_unique_word_count'].mean()\n",
    "#     Mean_comment_count = group['Solution_comment_count'].mean()\n",
    "#     topic_info = {\n",
    "#         'Topic': name,\n",
    "#         'Count ratio': count,\n",
    "#         'Mean score': Mean_score,\n",
    "#         'Mean link count': Mean_link_count,\n",
    "#         'Mean information entropy': Mean_information_entropy,\n",
    "#         'Mean readability': Mean_readability,\n",
    "#         'Mean sentence count': Mean_sentence_count,\n",
    "#         'Mean word count': Mean_word_count,\n",
    "#         'Mean unique word count': Mean_unique_word_count,\n",
    "#         'Mean comment count': Mean_comment_count,\n",
    "#     }\n",
    "#     df_topics.append(topic_info)\n",
    "\n",
    "# df_topics = pd.DataFrame(df_topics)\n",
    "# df_topics.to_json(os.path.join(path_solution_information,\n",
    "#                   'general.json'), indent=4, orient='records')\n",
    "\n",
    "# # # plot count ratio\n",
    "# # df_topics = df_topics.sort_values('Count ratio', ascending=False)\n",
    "# # fig = go.Figure()\n",
    "# # fig.add_trace(go.Scatter(\n",
    "# #     x=df_topics['Topic'],\n",
    "# #     y=df_topics['Count ratio'],\n",
    "# #     mode='lines+markers'\n",
    "# # ))\n",
    "# # fig.update_layout(\n",
    "# #     width=1000,\n",
    "# #     height=500,\n",
    "# #     margin=dict(l=0, r=0, t=0, b=0),\n",
    "# #     # title='Challenge count ratio',\n",
    "# #     xaxis=dict(\n",
    "# #         tickmode='linear'\n",
    "# #     )\n",
    "# # )\n",
    "# # fig.write_image(os.path.join(path_solution_information, 'Solution_count_ratio.png'))\n",
    "# # plt.close()\n",
    "\n",
    "# # # plot solved ratio\n",
    "# # df_topics = df_topics.sort_values('Mean score', ascending=False)\n",
    "# # fig = go.Figure()\n",
    "# # fig.add_trace(go.Scatter(\n",
    "# #     x=df_topics['Topic'],\n",
    "# #     y=df_topics['Mean score'],\n",
    "# #     mode='lines+markers'\n",
    "# # ))\n",
    "# # fig.update_layout(\n",
    "# #     width=1000,\n",
    "# #     height=500,\n",
    "# #     margin=dict(l=0, r=0, t=0, b=0),\n",
    "# #     # title='Challenge solved ratio',\n",
    "# #     xaxis=dict(\n",
    "# #         tickmode='linear'\n",
    "# #     )\n",
    "# # )\n",
    "# # fig.write_image(os.path.join(path_solution_information, 'Solution_mean_score.png'))\n",
    "# # plt.close()\n",
    "\n",
    "# # # plot mean score\n",
    "# # df_topics = df_topics.sort_values('Mean link count', ascending=False)\n",
    "# # fig = go.Figure()\n",
    "# # fig.add_trace(go.Scatter(\n",
    "# #     x=df_topics['Topic'],\n",
    "# #     y=df_topics['Mean link count'],\n",
    "# #     mode='lines+markers'\n",
    "# # ))\n",
    "# # fig.update_layout(\n",
    "# #     width=1000,\n",
    "# #     height=500,\n",
    "# #     margin=dict(l=0, r=0, t=0, b=0),\n",
    "# #     # title='Challenge mean score',\n",
    "# #     xaxis=dict(\n",
    "# #         tickmode='linear'\n",
    "# #     )\n",
    "# # )\n",
    "# # fig.write_image(os.path.join(path_solution_information, 'Solution_mean_link_count.png'))\n",
    "# # plt.close()\n",
    "\n",
    "# # # plot mean favorite count\n",
    "# # df_topics = df_topics.sort_values('Mean information entropy', ascending=False)\n",
    "# # fig = go.Figure()\n",
    "# # fig.add_trace(go.Scatter(\n",
    "# #     x=df_topics['Topic'],\n",
    "# #     y=df_topics['Mean information entropy'],\n",
    "# #     mode='lines+markers'\n",
    "# # ))\n",
    "# # fig.update_layout(\n",
    "# #     width=1000,\n",
    "# #     height=500,\n",
    "# #     margin=dict(l=0, r=0, t=0, b=0),\n",
    "# #     # title='Challenge mean favorite count',\n",
    "# #     xaxis=dict(\n",
    "# #         tickmode='linear'\n",
    "# #     )\n",
    "# # )\n",
    "# # fig.write_image(os.path.join(path_solution_information, 'Solution_mean_information_entropy.png'))\n",
    "# # plt.close()\n",
    "\n",
    "# # # plot mean follower count\n",
    "# # df_topics = df_topics.sort_values('Mean readability', ascending=False)\n",
    "# # fig = go.Figure()\n",
    "# # fig.add_trace(go.Scatter(\n",
    "# #     x=df_topics['Topic'],\n",
    "# #     y=df_topics['Mean readability'],\n",
    "# #     mode='lines+markers'\n",
    "# # ))\n",
    "# # fig.update_layout(\n",
    "# #     width=1000,\n",
    "# #     height=500,\n",
    "# #     margin=dict(l=0, r=0, t=0, b=0),\n",
    "# #     # title='Challenge mean follower count',\n",
    "# #     xaxis=dict(\n",
    "# #         tickmode='linear'\n",
    "# #     )\n",
    "# # )\n",
    "# # fig.write_image(os.path.join(path_solution_information, 'Solution_mean_readability.png'))\n",
    "# # plt.close()\n",
    "\n",
    "# # # plot mean link count\n",
    "# # df_topics = df_topics.sort_values('Mean sentence count', ascending=False)\n",
    "# # fig = go.Figure()\n",
    "# # fig.add_trace(go.Scatter(\n",
    "# #     x=df_topics['Topic'],\n",
    "# #     y=df_topics['Mean sentence count'],\n",
    "# #     mode='lines+markers'\n",
    "# # ))\n",
    "# # fig.update_layout(\n",
    "# #     width=1000,\n",
    "# #     height=500,\n",
    "# #     margin=dict(l=0, r=0, t=0, b=0),\n",
    "# #     # title='Challenge mean link count',\n",
    "# #     xaxis=dict(\n",
    "# #         tickmode='linear'\n",
    "# #     )\n",
    "# # )\n",
    "# # fig.write_image(os.path.join(path_solution_information, 'Solution_mean_sentence_count.png'))\n",
    "# # plt.close()\n",
    "\n",
    "# # # plot mean information entropy\n",
    "# # df_topics = df_topics.sort_values('Mean word count', ascending=False)\n",
    "# # fig = go.Figure()\n",
    "# # fig.add_trace(go.Scatter(\n",
    "# #     x=df_topics['Topic'],\n",
    "# #     y=df_topics['Mean word count'],\n",
    "# #     mode='lines+markers'\n",
    "# # ))\n",
    "# # fig.update_layout(\n",
    "# #     width=1000,\n",
    "# #     height=500,\n",
    "# #     margin=dict(l=0, r=0, t=0, b=0),\n",
    "# #     # title='Challenge mean info entropy',\n",
    "# #     xaxis=dict(\n",
    "# #         tickmode='linear'\n",
    "# #     )\n",
    "# # )\n",
    "# # fig.write_image(os.path.join(path_solution_information, 'Solution_mean_word_count.png'))\n",
    "# # plt.close()\n",
    "\n",
    "# # # plot mean readability\n",
    "# # df_topics = df_topics.sort_values('Mean unique word count', ascending=False)\n",
    "# # fig = go.Figure()\n",
    "# # fig.add_trace(go.Scatter(\n",
    "# #     x=df_topics['Topic'],\n",
    "# #     y=df_topics['Mean unique word count'],\n",
    "# #     mode='lines+markers'\n",
    "# # ))\n",
    "# # fig.update_layout(\n",
    "# #     width=1000,\n",
    "# #     height=500,\n",
    "# #     margin=dict(l=0, r=0, t=0, b=0),\n",
    "# #     # title='Challenge mean readability',\n",
    "# #     xaxis=dict(\n",
    "# #         tickmode='linear'\n",
    "# #     )\n",
    "# # )\n",
    "# # fig.write_image(os.path.join(path_solution_information, 'Solution_mean_unique_word_count.png'))\n",
    "# # plt.close()\n",
    "\n",
    "# # # plot mean sentence count\n",
    "# # df_topics = df_topics.sort_values('Mean comment count', ascending=False)\n",
    "# # fig = go.Figure()\n",
    "# # fig.add_trace(go.Scatter(\n",
    "# #     x=df_topics['Topic'],\n",
    "# #     y=df_topics['Mean comment count'],\n",
    "# #     mode='lines+markers'\n",
    "# # ))\n",
    "# # fig.update_layout(\n",
    "# #     width=1000,\n",
    "# #     height=500,\n",
    "# #     margin=dict(l=0, r=0, t=0, b=0),\n",
    "# #     # title='Challenge mean readability',\n",
    "# #     xaxis=dict(\n",
    "# #         tickmode='linear'\n",
    "# #     )\n",
    "# # )\n",
    "# # fig.write_image(os.path.join(path_solution_information, 'Solution_mean_comment_count.png'))\n",
    "# # plt.close()"
   ]
  },
  {
   "cell_type": "code",
   "execution_count": null,
   "metadata": {},
   "outputs": [
    {
     "name": "stdout",
     "output_type": "stream",
     "text": [
      "p = 0.0, indicating challenge answer count: non-Gaussian\n",
      "p = 1.0, indicating challenge comment count: Gaussian\n",
      "p = 1.0, indicating challenge favorite count: Gaussian\n",
      "p = 1.0, indicating challenge follower count: Gaussian\n",
      "p = 0.0, indicating challenge link count: non-Gaussian\n",
      "p = 0.0, indicating challenge readability: non-Gaussian\n",
      "p = 1.0, indicating challenge score: Gaussian\n",
      "p = 1.0, indicating challenge view count: Gaussian\n",
      "p = 1.0, indicating challenge solved time: Gaussian\n",
      "p = 1.0, indicating challenge adjusted solved time: Gaussian\n"
     ]
    }
   ],
   "source": [
    "# test if the challenge sample comes from a normal distribution\n",
    "\n",
    "df = pd.read_json(os.path.join(path_general, 'assigned.json'))\n",
    "\n",
    "_, p = shapiro(df['Challenge_answer_count'])\n",
    "result = 'non-' if p < alpha else ''\n",
    "print(f'p = {p}, indicating challenge answer count: {result}Gaussian')\n",
    "\n",
    "_, p = shapiro(df['Challenge_comment_count'])\n",
    "result = 'non-' if p < alpha else ''\n",
    "print(f'p = {p}, indicating challenge comment count: {result}Gaussian')\n",
    "\n",
    "_, p = shapiro(df['Challenge_favorite_count'])\n",
    "result = 'non-' if p < alpha else ''\n",
    "print(f'p = {p}, indicating challenge favorite count: {result}Gaussian')\n",
    "\n",
    "_, p = shapiro(df['Challenge_follower_count'])\n",
    "result = 'non-' if p < alpha else ''\n",
    "print(f'p = {p}, indicating challenge follower count: {result}Gaussian')\n",
    "\n",
    "_, p = shapiro(df['Challenge_link_count'])\n",
    "result = 'non-' if p < alpha else ''\n",
    "print(f'p = {p}, indicating challenge link count: {result}Gaussian')\n",
    "\n",
    "_, p = shapiro(df['Challenge_readability'])\n",
    "result = 'non-' if p < alpha else ''\n",
    "print(f'p = {p}, indicating challenge readability: {result}Gaussian')\n",
    "\n",
    "_, p = shapiro(df['Challenge_score'])\n",
    "result = 'non-' if p < alpha else ''\n",
    "print(f'p = {p}, indicating challenge score: {result}Gaussian')\n",
    "\n",
    "_, p = shapiro(df['Challenge_view_count'])\n",
    "result = 'non-' if p < alpha else ''\n",
    "print(f'p = {p}, indicating challenge view count: {result}Gaussian')\n",
    "\n",
    "_, p = shapiro(df['Challenge_solved_time'])\n",
    "result = 'non-' if p < alpha else ''\n",
    "print(f'p = {p}, indicating challenge solved time: {result}Gaussian')\n",
    "\n",
    "_, p = shapiro(df['Challenge_adjusted_solved_time'])\n",
    "result = 'non-' if p < alpha else ''\n",
    "print(f'p = {p}, indicating challenge adjusted solved time: {result}Gaussian')"
   ]
  },
  {
   "cell_type": "code",
   "execution_count": null,
   "metadata": {},
   "outputs": [
    {
     "data": {
      "application/vnd.plotly.v1+json": {
       "config": {
        "plotlyServerURL": "https://plot.ly"
       },
       "data": [
        {
         "line": {
          "color": "rgb(5.0, 200.0, 200.0)"
         },
         "orientation": "h",
         "points": false,
         "side": "positive",
         "type": "violin",
         "width": 3,
         "x": [
          3.3138680893505117,
          1.0777663120371948,
          1.1613509734238143,
          0.6165541035310995,
          2.5549303550119484,
          -0.6120159711930127,
          3.4343344899037502,
          0.9283158247921672,
          2.008561821744369,
          1.4401523502098599,
          3.151630662732244,
          -0.370617983810384,
          1.3671055216737624,
          1.3054683710188544,
          2.823292168022707,
          0.5896314583732392,
          1.5170945181368343,
          0.8116643077658983,
          1.7317364724028628,
          2.2723379394030925,
          0.5889035484743488,
          2.834246435526884,
          2.5911134462800653,
          2.1920170645891384,
          2.590378674951682,
          1.0057948665129368,
          1.5666325001686219,
          0.7537532914282012,
          1.4216346460612541,
          2.219878192425456,
          0.997861973961961,
          1.2927691988312926,
          1.0023500255676705,
          0.8443170841885504,
          1.0182765948504509,
          1.6768581267683687,
          0.5722123770519922,
          1.9239384235043622,
          3.3493249027971403,
          2.431566886264606,
          1.4976871733256552,
          0.8018937616024338,
          0.9423644319364324,
          3.381977326715017,
          1.740330480463299,
          1.0525270791179167,
          1.8804382103547361,
          3.7897778621661122,
          1.8096816781688991,
          2.306725835394689,
          1.9896930456430975,
          1.3372728791937514,
          0.5470045276651299,
          1.3401800032743925,
          1.480628492312492,
          2.2761459168694675,
          2.5285061395617747,
          2.6206248069908273,
          1.9751100509415287,
          2.574663889957998,
          0.9351247846906172,
          2.942390880920558,
          2.202452546105279,
          1.3914298905845544,
          2.1780408722247673,
          1.6139510126662142,
          2.821152113138697,
          3.209339542109469,
          3.8750981322204314,
          0.29302639019913235,
          0.24540892025768057,
          1.1850568627408187,
          1.8495597951351006,
          2.565691646803495,
          2.0051576729288754,
          -0.332678490136733,
          1.3833187130588982,
          2.5174973682945163,
          1.9196174610516534,
          2.4515339059992947,
          1.4671945830769109,
          1.4887646567572725,
          1.8760841166755544,
          2.0995743728955265,
          1.8878224458140398,
          1.8085313714947289,
          1.0188604393982394,
          2.0670865120081894,
          1.811343996678707,
          2.81900663359919,
          2.888440605588777,
          1.874679143171214,
          1.3142377755971557,
          1.0507923182330476,
          2.113017079751383,
          1.7668627940358295,
          1.3456690501161943,
          1.7331195825215169,
          1.0695218817391408,
          2.387554759759489,
          1.2423941609012719,
          2.914030430492769,
          2.09301436747807,
          2.283101248924337,
          0.5946108799462282,
          1.8589051587459382,
          2.430079176783545,
          0.7358221238793354,
          1.423304219683648,
          1.7221372723806285,
          0.3164054054405143,
          2.004682117729562,
          2.5356833732723034,
          0.8300067848552837,
          2.0400687043513774,
          0.37723931444983827,
          1.650827216421219,
          0.0737503709839753,
          2.810940433922934,
          2.098423263624098,
          1.6649057698114917,
          0.9143611065181104,
          2.9632786558460467,
          3.6566244749420047,
          -0.16845913875948204,
          2.9256867561400903,
          3.3171734788361764,
          2.0275344222617457,
          0.49025469335208394,
          2.5528680432312916,
          1.5086024236091196,
          1.0856020978940126,
          0.45946459002030826,
          2.2400602216634855,
          2.482329591606618,
          1.0659919960074784,
          2.2100990627606407,
          0.5451813360641273,
          2.491383757558615,
          1.7360900241114157,
          1.5029529537799213,
          1.587776853158125,
          2.558408882693138,
          2.4399343655522783,
          2.2189880500399792,
          1.827223935684656,
          1.767343853599976,
          2.3079029876857944,
          1.922017284866008,
          2.372074132551755,
          1.37940595216921,
          -0.7453150384198688,
          2.7283473275466843,
          3.8765023726615278,
          2.130887169255852,
          1.5893674924037702,
          1.553077981791237,
          1.57046853791246,
          1.7069321339872747,
          0.5675039969403817,
          1.1724282677670421,
          0.6924958980370071,
          1.9383218870750405,
          1.3928815733164073,
          2.1847340496652303,
          1.514819565944769,
          2.675857913508512,
          1.9030566270227118,
          3.8802224546570034,
          -0.20683819720382246,
          1.042606037432362,
          2.591009617335981,
          4.217848432493668,
          1.44088794797181,
          1.7331917188656591,
          1.463208483173665,
          3.0209798382748616,
          1.4022148622112511,
          2.3695925655653745,
          1.369721126788599,
          0.41696397044127576,
          2.0030704461507023,
          2.192707539122596,
          2.9827486082195316,
          1.5790756992699537,
          1.0721606619749091,
          2.252283822306296,
          1.9302598179250023,
          1.9701878028099091,
          1.6164100219399922,
          2.8498612956810394,
          2.059015442062994,
          3.5941814340282514,
          2.8005794242477746,
          2.34857252178748,
          0.06208438507101266,
          2.291842005982899,
          2.1098049293343295,
          2.5004743984908258,
          2.7339648203945286
         ]
        },
        {
         "line": {
          "color": "rgb(22.727272727272727, 182.72727272727272, 182.72727272727272)"
         },
         "orientation": "h",
         "points": false,
         "side": "positive",
         "type": "violin",
         "width": 3,
         "x": [
          1.3959166333744986,
          2.732153517271954,
          1.219814190577957,
          3.9658325607904557,
          0.3802001154890571,
          -0.08751285965443589,
          0.032451461699763984,
          0.8617231144209112,
          0.612385135079079,
          3.9671425557300273,
          1.4770570265134904,
          0.3685010723688522,
          3.048928817267646,
          1.1933940002479542,
          0.48394370455362146,
          2.788698945488927,
          2.5132697625020906,
          1.3587400975567157,
          3.3687364792255767,
          1.9740763841013917,
          3.597183314079473,
          2.381682895689587,
          3.5337534323659012,
          1.9525866932447038,
          0.5026080458943829,
          4.505276823393033,
          1.2378482957087082,
          1.616324264901804,
          1.0691672008665045,
          1.6113534437283548,
          2.0979685965061945,
          2.053416674097696,
          2.5543513381609926,
          3.788319979663037,
          1.7018224006476832,
          0.4880156766572259,
          0.5434367045882729,
          1.1069606409270079,
          0.006842870650856314,
          2.7332708328958577,
          1.2897325913648787,
          1.4939819571774904,
          1.83117486132096,
          0.30965237940376555,
          0.8936204490249182,
          2.5692872342583883,
          2.508008258002011,
          1.3497780091071774,
          3.8083672943720073,
          0.4088089270812505,
          1.4568886133388046,
          1.5814131228146338,
          -1.2137635211974434,
          3.946906093816324,
          2.2328732220970275,
          0.6936862441539187,
          4.070882052988721,
          2.47214229733229,
          2.301812268077289,
          1.1710582263805502,
          1.9491176324553834,
          0.1688597703485739,
          2.700539491062249,
          1.4247601311334506,
          1.9794726933856437,
          3.1445708740893705,
          2.1438725998886636,
          2.1195664194678026,
          2.1348739024048005,
          1.03330563834935,
          2.7452434456179846,
          3.516902781658219,
          2.6610262899783432,
          2.798593367469564,
          0.8762039128698496,
          0.8865613267374088,
          0.26137354337132046,
          3.177514374411621,
          1.5559511688452894,
          3.3603407798507665,
          0.9802437342131815,
          1.3559557704221483,
          1.9373383922619722,
          2.8384565538637037,
          1.8995112380164259,
          2.0635562116981094,
          1.8512683705685447,
          2.026533991990739,
          0.6152710049063337,
          1.9215224072969042,
          1.6296975769499098,
          1.771247954359676,
          2.370332721802399,
          1.0906803251345432,
          1.7410477217937315,
          1.5088435159367783,
          2.288476848025905,
          2.689351734615789,
          0.7909561927365758,
          2.4724133128925447,
          4.086820101019328,
          0.22833983259955515,
          0.9275962295277489,
          0.872608188223323,
          1.5287680554606473,
          3.603619118184965,
          1.8478048531593385,
          1.0753907386490806,
          2.5115693927503155,
          1.178906081430585,
          3.0587788375318024,
          2.166256886501339,
          3.348270365911802,
          1.1117718500682163,
          5.139627874277361,
          2.732785160817099,
          2.547325736329728,
          1.7773963542995121,
          1.0416778035430432,
          0.8865815579185019,
          1.6848993959435938,
          0.9634894402426407,
          2.1416118014152405,
          0.932041098765342,
          2.510783061695882,
          2.87628015618936,
          1.0632304708871998,
          3.1343503710584475,
          1.5736652763236738,
          3.093552354695028,
          2.3112379487346777,
          3.057596466224701,
          0.7455803383845832,
          1.7167357661123548,
          3.416615672334348,
          1.1590162814916054,
          -0.3891630399620849,
          -0.2859499008300783,
          -0.9010605966841936,
          -0.473122344946846,
          1.3841773918477103,
          3.227996205698842,
          1.350806355857139,
          2.186177228345799,
          1.7132475806021201,
          1.842564419438082,
          1.6497486537863648,
          1.6432233760809742,
          2.336326406210074,
          0.5503481101173473,
          2.935195217873027,
          2.836894224323615,
          1.6204484707341626,
          2.7118493053975254,
          1.068135286681862,
          1.2471768165529586,
          2.0037079519843277,
          1.625724451597115,
          1.3437058978661027,
          1.09965861846795,
          1.2250622370140076,
          2.85778601808586,
          -0.28675087267578436,
          2.2177776037289636,
          1.575307076984615,
          2.627216660780217,
          2.395136784750817,
          -1.202253849386224,
          2.471034599483247,
          2.186992017269787,
          1.857088664373203,
          1.321957770295628,
          2.7640905392776425,
          1.3826608683685653,
          3.8347484353075307,
          2.4489286849562153,
          4.165414370714581,
          0.976292118685798,
          -0.08231694674614687,
          2.6130087671287625,
          2.763460909935458,
          1.8718129484766992,
          0.15455475633189875,
          1.3446253683630165,
          2.507404334148238,
          1.6323186691583327,
          1.7067090039016226,
          1.6418285131495975,
          0.8144223091880536,
          1.2517615777803104,
          0.2769960202127475,
          3.7619218771199017,
          1.3146497060846198,
          2.3542675863997538,
          0.7184536302628084,
          2.699996376709054,
          -0.21021004209427407,
          2.8375456986587344,
          1.7946551063674612,
          4.13571653743592
         ]
        },
        {
         "line": {
          "color": "rgb(40.45454545454545, 165.45454545454544, 165.45454545454544)"
         },
         "orientation": "h",
         "points": false,
         "side": "positive",
         "type": "violin",
         "width": 3,
         "x": [
          1.457882302335859,
          3.0922358649764896,
          3.4359692593779028,
          4.45903070668707,
          2.5022279795078735,
          3.1041532324984025,
          0.46996189042371794,
          2.0208593673064987,
          3.5356959663531664,
          4.30690131950986,
          2.66900697952852,
          5.432206370385864,
          5.082262565136809,
          2.9302878072358327,
          0.14964629612794988,
          0.9012077624717136,
          2.0826803205918476,
          4.320689334152807,
          3.3686534558050605,
          0.5269478783427388,
          2.7316084088504162,
          4.908667831089745,
          2.5590170307029276,
          2.1156402952802753,
          5.4301601459456545,
          3.0650883864586556,
          2.4356914534952407,
          3.415801939766756,
          3.022253610502713,
          2.49479987778277,
          4.430143685803837,
          4.32052470080591,
          3.9957135025910033,
          2.880374040382791,
          4.357395742350906,
          2.9432286130549,
          3.5534555224219653,
          4.223597959625473,
          3.95787499601096,
          5.117132650395293,
          3.5353036801080826,
          1.0117153142163275,
          1.630857900717918,
          4.597548810502648,
          2.6104515512311384,
          3.4587870144906248,
          1.9957022488878127,
          4.184827889137328,
          2.54716627616731,
          4.725186852235495,
          2.3729641819082166,
          4.323398402726975,
          3.7989816032125443,
          2.148232136571157,
          4.300781872580002,
          1.9363999905889742,
          2.029961346991947,
          3.8548995518301536,
          2.262927477600804,
          2.300153490759824,
          2.5955399139028716,
          1.8199498913021803,
          4.236961418038851,
          3.721121759360885,
          2.92003411051731,
          2.873868309037334,
          3.5339699944218195,
          5.088273143583147,
          4.031295973235077,
          2.4010641388260434,
          3.9207361764456277,
          2.8616020941205935,
          2.7667883530198427,
          5.207797831785847,
          2.50685960025919,
          2.4356585796373103,
          0.6949345034980605,
          1.34466994379781,
          3.5351133160196793,
          2.180697868841689,
          3.6110934268953474,
          1.6843931447190463,
          2.095147320941285,
          3.7991879511904307,
          4.728477201698791,
          3.7021631537435407,
          4.417586292276632,
          5.016488409137089,
          4.2311642966972665,
          1.916538888615123,
          2.8774697281880584,
          3.746744726506412,
          2.511694414174512,
          3.5360860688947806,
          1.1356924147762397,
          2.0226804134121283,
          3.627007724115814,
          0.3581385116549609,
          1.6928532493606825,
          2.98102819453044,
          0.9699563729648077,
          3.0694746565212623,
          2.0570482630612554,
          2.6573562301050786,
          2.695897379859979,
          3.2256781673572035,
          2.33567224755425,
          3.1079610516236693,
          2.2915099876567915,
          3.659145809424791,
          5.003742431401068,
          3.234632309356407,
          3.2027225992895563,
          1.6263222406882782,
          3.8214008369319714,
          2.1060702728577883,
          2.046057701684456,
          3.660760105438284,
          3.2159229044835462,
          4.310448103182227,
          4.707186213010791,
          2.3641625421849355,
          3.1536862858812698,
          5.08245869628599,
          4.144241684149494,
          3.844662356964472,
          4.545666101766138,
          2.2874372430481635,
          3.7542938722778993,
          4.667449303127164,
          4.917591635068128,
          2.049204149699798,
          2.7045348703143794,
          3.4542677755530384,
          2.660425710321735,
          2.5389124686510964,
          3.810333230821098,
          2.584301681399591,
          0.8889800624609441,
          3.4296057616891886,
          2.500294726840421,
          2.137431410015669,
          1.1515502103763562,
          4.200121849390806,
          0.36992582351059067,
          0.9936646737524404,
          2.675968132670166,
          4.454370080556886,
          4.54980227695829,
          1.6369885471440866,
          2.7920390658982295,
          1.2168832178662086,
          4.197030918340046,
          1.256939425991304,
          2.832736689779327,
          4.22276703627395,
          2.739115081979807,
          4.73943024930921,
          1.9737764882896012,
          3.438284034252368,
          4.01039242621593,
          2.836854161539341,
          4.640339427988076,
          3.649757533964836,
          1.0668003239598405,
          7.6803166750145655,
          3.7685468768950328,
          3.1288282811248505,
          1.3488256027274996,
          3.098602719739973,
          2.4583992247034323,
          3.763476902823716,
          3.4412147325837217,
          5.19188832532442,
          3.1700832832280748,
          3.6088381375016185,
          3.442144303846858,
          2.8264800757176882,
          2.7852223370460343,
          4.3031500824869955,
          3.923818275642625,
          2.2580824927243226,
          1.6860889940016195,
          2.922301631668871,
          4.3745789122212555,
          2.9694332955620886,
          5.065936766602757,
          2.0859758673374578,
          3.1693613874838324,
          0.02815437091926798,
          2.2979968928029924,
          2.6366428300293165,
          3.60580357646035,
          5.023659288671951,
          3.0432649940359373,
          4.720234257598301,
          3.7839547515204055,
          4.1676569650385025,
          2.4510577394481476,
          4.638775976372636
         ]
        },
        {
         "line": {
          "color": "rgb(58.18181818181818, 148.1818181818182, 148.1818181818182)"
         },
         "orientation": "h",
         "points": false,
         "side": "positive",
         "type": "violin",
         "width": 3,
         "x": [
          3.093655856957904,
          5.089448625936764,
          3.247531356237486,
          3.7997887813561277,
          2.5992785329445898,
          3.802076691586878,
          4.906122807241226,
          4.371720713218094,
          2.743909559177153,
          6.331097483834467,
          4.888437042256218,
          5.742239126505514,
          5.458626473035055,
          3.613051417359908,
          1.9837324461755839,
          3.294161197568735,
          6.018536019847746,
          3.1183699360632327,
          5.497847809912439,
          3.679819700426949,
          4.959567614223249,
          2.137894217431569,
          5.944615150227224,
          4.408759320657565,
          5.586661410365697,
          4.70088885635121,
          5.4749643147895615,
          4.32951507080087,
          5.405336903426731,
          2.5379724317603056,
          3.0837967849329893,
          5.382577308294679,
          4.409383521960638,
          4.168105084674273,
          4.230649291216451,
          5.097805987212026,
          3.7040819790096458,
          5.108729152993959,
          3.2936934946853147,
          3.94092597511095,
          5.71282161205172,
          5.822658938031131,
          3.062868480447718,
          5.526600071790659,
          3.136651074546484,
          5.392185415687916,
          2.0425768634572585,
          3.037469512213854,
          3.8114638580890827,
          4.247355541826958,
          6.27111966721689,
          5.609791160413577,
          6.464387731683027,
          5.9949295364543564,
          4.099238600510195,
          4.120285268003444,
          5.819756094483423,
          4.510628578438157,
          4.259436628508502,
          2.7598978369352083,
          4.323752056974765,
          0.9070695122532837,
          3.8787335051289435,
          3.2121137095667964,
          5.340705017640996,
          3.850027394425519,
          4.040453876156803,
          6.173744621262449,
          3.1240696269217585,
          4.862267169153921,
          2.0470888239844953,
          4.573447452065917,
          4.981403160368709,
          5.553627993968794,
          3.315468147458084,
          4.866082865065843,
          4.8641702840001475,
          4.434770131921186,
          4.650176566426293,
          5.04919953024939,
          4.965640025167808,
          3.191596534660216,
          2.9372411985415656,
          7.648676211178309,
          6.902618758044836,
          2.688000005794864,
          5.0322511560936185,
          5.257803044276684,
          5.415494147340614,
          4.6379318580693525,
          3.27959156177993,
          4.227075330856055,
          3.834178399948047,
          4.630267086641503,
          4.1176832791647175,
          4.2916595964074284,
          5.755586270477302,
          6.02541173889692,
          2.95602453724495,
          3.8738811696741666,
          3.4527740886952385,
          6.016711390540136,
          4.383687608438271,
          6.303415089701388,
          3.8514165784823526,
          4.492337658827199,
          2.7427240066671437,
          6.117019258118772,
          3.9977404638562133,
          2.5690476372676008,
          3.7052051214867454,
          1.5257275636107308,
          4.418752173701535,
          4.6024129747544285,
          4.825891696961098,
          6.365929899870768,
          4.076186197556839,
          5.486917924233977,
          4.8566414522438155,
          4.21320103289672,
          1.8160441837791108,
          5.66515733375813,
          3.817825367318866,
          4.482099710146504,
          2.842296678100296,
          4.819422891077636,
          4.5967405246248,
          4.496687363099154,
          4.28769186530544,
          5.794615490821448,
          5.688982400417887,
          5.383140933071951,
          8.686074264989552,
          3.695323609383415,
          3.976224464638696,
          3.167678423316234,
          5.014138279695428,
          3.5842628023325025,
          1.0249681768341192,
          2.9149982333543734,
          4.551203719698396,
          5.7444306379787085,
          2.477684774399048,
          3.679774957501741,
          4.2818899138351885,
          3.5320172251412862,
          5.1352734033533745,
          4.464338737832294,
          4.868130648297601,
          3.5362459425513495,
          6.414838447345032,
          4.458769473262089,
          6.1055826379805715,
          3.900522457924735,
          5.210206075159236,
          3.594576487867154,
          3.2489986194353815,
          3.5628008806519587,
          4.4008709748657475,
          4.180858718450185,
          6.418237496697349,
          2.997259555780248,
          3.071543424921142,
          6.623122580139757,
          5.234062323019408,
          2.064723835288649,
          5.092134700867605,
          4.761306556295848,
          1.7299543340274242,
          3.9888945794341732,
          4.437031363890316,
          5.390122688022808,
          5.6740594236516,
          4.5811062840038055,
          5.7745477794726625,
          4.273080771267365,
          3.367887162013015,
          3.2702880476753347,
          5.1498862229480356,
          1.9670315572830743,
          5.321910938561576,
          3.0508810350012343,
          4.002052453504511,
          5.102460087912801,
          6.0093533581562575,
          1.9892891661264969,
          3.4332017601046885,
          4.521688911065764,
          3.7005914222066094,
          5.555857977025166,
          1.8038405829189639,
          4.919721572408602,
          5.001326981776309,
          4.5217127171347995,
          5.862093507699524,
          2.8943340708045424,
          5.870213540032311,
          3.5646207897961464,
          5.382674689236567,
          4.046623205064274
         ]
        },
        {
         "line": {
          "color": "rgb(75.9090909090909, 130.9090909090909, 130.9090909090909)"
         },
         "orientation": "h",
         "points": false,
         "side": "positive",
         "type": "violin",
         "width": 3,
         "x": [
          5.627911318398113,
          5.5817205919564525,
          2.5210067237669533,
          4.3067736052715855,
          4.391399344274689,
          4.193068053026625,
          3.4869941898741716,
          7.042131453068001,
          4.802575246707107,
          6.637919770921973,
          3.741331614769619,
          3.0695387404984222,
          4.697781295358376,
          3.749393500307592,
          7.7767333636498215,
          4.852110936634742,
          6.089169508209493,
          4.211667362117535,
          4.072814361703938,
          4.475291481916666,
          5.00251240807142,
          5.675970931051609,
          4.350869758042737,
          3.589009450444146,
          3.0612480834406397,
          4.412880647687217,
          5.298756223136064,
          5.141916700890135,
          4.493146757212389,
          3.69907232514647,
          4.7175778650862465,
          5.297177340738201,
          4.467237519762723,
          4.67067317245715,
          4.31221024367169,
          5.765851507825814,
          3.9198975959150304,
          4.770446534513063,
          5.055299819575187,
          5.5067923580862495,
          6.557286277582955,
          5.438516791200777,
          5.334552372457658,
          2.5125746572568786,
          5.344357884518447,
          7.645240159136639,
          3.3856102528754786,
          3.1271890749145106,
          4.224733630159547,
          5.910054496057171,
          5.233012268145248,
          3.8668194971004892,
          4.468365894476136,
          5.931587481068544,
          5.434652162451595,
          7.829548373453641,
          5.888834342710329,
          4.999580527744073,
          5.355706518414281,
          4.041555881946552,
          3.1841165947409875,
          4.751930413423566,
          5.1863902929354495,
          2.614784744469587,
          3.8051391443736304,
          4.0139126397918945,
          4.879683054805422,
          4.162262425651333,
          5.124393474573995,
          4.651232841679566,
          5.963344563863407,
          2.184032970070725,
          6.777158830526296,
          6.450635250921434,
          4.586057623395672,
          5.404247798084596,
          5.344554870122254,
          3.512048468067853,
          4.741986686625769,
          5.57859002287626,
          4.939920813114336,
          5.951062643897876,
          4.646983565107526,
          4.627558399499152,
          3.470438306797906,
          4.020346074504164,
          3.890555668143122,
          6.843102757407,
          4.8454055315778,
          3.154589094979334,
          5.060986671596993,
          4.2556201923345185,
          0.3532192598864352,
          5.171787557495693,
          2.4001268924993484,
          5.3062585335444545,
          3.2066294163352467,
          2.5288191508407323,
          5.191545666352822,
          2.4799064623659177,
          3.908308137544415,
          4.796139862632983,
          5.3523059465514695,
          5.5331950556141045,
          4.467968930621803,
          3.3823588499831843,
          7.14082808679175,
          3.6911052506423996,
          6.976882935222076,
          3.900363905989544,
          6.1010148150247705,
          5.976487331763396,
          3.0917148958629044,
          5.001922288203528,
          5.547523454818927,
          5.473328126181276,
          4.246165073716993,
          4.929207113294321,
          3.9792302136556366,
          2.9195160797116846,
          5.859278283568089,
          3.7542414760333647,
          6.3989318581126025,
          5.338967371249047,
          3.3001979511320094,
          4.29762752472971,
          4.126918530383433,
          3.329869347305995,
          5.201211037595029,
          3.8647878597479632,
          6.74247729723703,
          5.6913860164019825,
          3.3171855997292425,
          4.491533612903238,
          4.208224971145601,
          2.3840236143615834,
          5.787337522424287,
          5.812637253937755,
          5.779490525971013,
          3.894278154658391,
          5.975151558129921,
          4.23141668489155,
          5.792644932637408,
          6.989072253809861,
          4.708502344065151,
          2.5822405370889143,
          4.0853054197472884,
          5.391515050990724,
          6.180908477327699,
          2.971363366749245,
          4.257604827293053,
          4.835633132640654,
          5.110622948098907,
          5.758930146381057,
          3.2241166107580375,
          3.9399730097056658,
          5.891943157195822,
          5.0524455665463615,
          5.128871575170061,
          6.051975458646289,
          4.659334400980155,
          5.23744808147481,
          4.088492694216914,
          2.683338841919976,
          2.751182662357187,
          4.61878962458044,
          4.245315163200193,
          3.624802730660972,
          4.951099273766627,
          3.303436753047421,
          4.669266960080901,
          4.490821744576479,
          3.372003985996514,
          1.3835263051888713,
          6.50361712383973,
          4.94922146370043,
          0.8845444069284798,
          3.9359498455129573,
          5.054426684898649,
          4.206342473148957,
          5.308802659472164,
          3.190260344218797,
          4.756308500310581,
          4.444511106738002,
          4.267813432792342,
          4.21604036712003,
          4.789842808457707,
          5.789336251860613,
          3.794552778376781,
          3.9621161095424,
          4.736395676480276,
          4.35360253915583,
          5.0432647227554765,
          5.496930781950955,
          6.2781555552644095,
          4.358655940097309,
          1.412037055930898,
          4.422500861210766,
          4.999993997126179,
          4.26250475610492
         ]
        },
        {
         "line": {
          "color": "rgb(93.63636363636363, 113.63636363636363, 113.63636363636363)"
         },
         "orientation": "h",
         "points": false,
         "side": "positive",
         "type": "violin",
         "width": 3,
         "x": [
          6.620384874741965,
          3.3050796370982973,
          7.582160145116468,
          6.371954086010452,
          4.6453442258065305,
          5.575750832810524,
          5.585339376998698,
          7.72872704799112,
          7.660201977709961,
          9.046547120922828,
          7.785709927949252,
          4.877238367759299,
          4.793514889716365,
          8.487965262081925,
          9.122090129815764,
          6.497458421828115,
          7.656078183763351,
          4.6543410609057165,
          4.015751279738771,
          5.135603035068144,
          6.323728345526074,
          6.084908185809679,
          6.508562472292255,
          6.129071026113574,
          7.831348229966335,
          8.91970576651569,
          6.89592469223655,
          9.795997455407496,
          5.920503349601958,
          6.079487082492005,
          7.407251528574752,
          6.3272029107513,
          8.555349845714668,
          5.910753378842623,
          8.767192361106666,
          7.1257102246486825,
          10.57484151835487,
          6.1681976109148895,
          6.5484463351923345,
          7.055131026092625,
          3.670869521556717,
          7.719295841004699,
          7.54268636569798,
          7.002282366629276,
          4.596879973477082,
          4.593730506448779,
          7.696537137095326,
          8.552624655577524,
          9.162495119962784,
          5.54081343883967,
          5.343931251481322,
          6.44772649231657,
          3.9694845400412446,
          5.986646672157742,
          8.082240582789103,
          9.220877475667793,
          7.2493181335081545,
          9.229533689756307,
          7.440907201674565,
          7.121621350241618,
          6.593904837344959,
          7.115182267526091,
          6.472578641321168,
          6.638312742926595,
          5.880522077400029,
          7.2200475126461034,
          6.864289713701788,
          4.691157423325208,
          6.493164016582118,
          5.598660902920282,
          3.8640731700529707,
          7.547104599990568,
          9.110456752981198,
          10.290154112315776,
          9.115884062029318,
          5.5766533971551,
          8.552721099433086,
          8.472217842484845,
          3.951885428011012,
          8.096057132427116,
          7.755531343336317,
          7.0800858377585225,
          7.263079969205815,
          6.928084575849129,
          9.21699870808323,
          6.25885371537499,
          6.552452901717691,
          6.85402144997582,
          7.244239764803294,
          4.278546854052307,
          8.862144833019865,
          7.172291665447781,
          7.671091431239231,
          7.130278916218157,
          6.5720865336266305,
          6.326558908589426,
          6.983076226169764,
          7.064440878669995,
          8.523654572465954,
          7.3466305591808965,
          6.649108500052555,
          9.732823089592134,
          4.982290337219884,
          4.893878672361733,
          7.359058640385484,
          6.534367240235014,
          4.262043308985249,
          6.389121602580917,
          5.80959271632205,
          8.48855180156677,
          5.939634898504651,
          8.371440599301039,
          7.512047219436184,
          6.543156147065182,
          6.874069224349587,
          7.4667774585979325,
          3.48612690839839,
          7.3190097028677235,
          6.291827130692878,
          9.458429279331352,
          5.837791718385498,
          8.50518499368351,
          3.185201656358421,
          8.0281829500167,
          7.244877843018862,
          6.483977123296665,
          6.667434840241245,
          6.46427661458886,
          7.458551233069772,
          6.648003197849999,
          4.2429280796136,
          6.573003500177256,
          10.093778182949933,
          6.9114137716516275,
          7.266238123084943,
          6.20610364460301,
          7.0964439699111574,
          7.102103739801896,
          6.463343772648263,
          8.098929690312156,
          5.500614990644165,
          6.653898989018933,
          7.577897477009876,
          6.454904121905859,
          5.063085254657379,
          7.655294518865207,
          5.414676080179671,
          6.192643783852822,
          5.6386955257657,
          6.682214325979773,
          6.218712421729715,
          6.1529613033785955,
          7.833788640678173,
          9.407068603009222,
          6.323253162375534,
          7.603499545091367,
          6.326308760232801,
          6.987189831541365,
          8.483639429967159,
          6.916427639533442,
          5.657023144650831,
          5.781562401257531,
          5.946188128132401,
          6.823922242683193,
          8.091290494899306,
          4.866842068436746,
          5.334489590977757,
          5.4984866204743925,
          4.298684132978866,
          8.771888649659163,
          6.790359446382688,
          9.608043756910572,
          4.771515764321732,
          8.725720838416533,
          5.822694154164696,
          6.250736113422266,
          5.4047800815427705,
          5.461653678057504,
          4.917825966434383,
          7.157939957487515,
          4.931708699091448,
          6.491562033206283,
          6.829889772958244,
          7.812889379721168,
          6.989298160802531,
          7.310656867803316,
          7.591508834499658,
          6.818181669661782,
          7.37177990069303,
          5.418226286119582,
          5.715316841379302,
          9.603289556787699,
          6.826205889128196,
          5.809818310523982,
          8.850371875233657,
          6.615139131108981,
          5.902923252899198,
          4.73564976673476,
          7.977080187933678,
          5.263199790460074
         ]
        },
        {
         "line": {
          "color": "rgb(111.36363636363636, 96.36363636363636, 96.36363636363636)"
         },
         "orientation": "h",
         "points": false,
         "side": "positive",
         "type": "violin",
         "width": 3,
         "x": [
          6.571088577517639,
          8.399566182551323,
          7.6879362704929735,
          7.270570123429447,
          7.073430538771698,
          9.175117566665284,
          10.850926247787564,
          6.556054010676737,
          8.283354341052803,
          10.385012127641332,
          9.071772558836097,
          6.342671870436549,
          6.738541595707048,
          6.480005726411873,
          5.992453658991229,
          6.4399218743334,
          7.8088555777291315,
          6.496912284127545,
          8.75826598891734,
          7.594624644888376,
          6.790399236770932,
          8.773550623323047,
          7.897095386389317,
          7.8134798046720695,
          9.011471085465528,
          8.290094621632758,
          7.235841297889812,
          8.853087321980578,
          7.882175531864901,
          11.912707016534316,
          9.10211206643961,
          9.186376616036812,
          9.399310502792634,
          7.527527418581048,
          9.433159109912731,
          7.44023615288353,
          6.119598214443892,
          6.532523492732908,
          8.220062512426166,
          4.991499097439725,
          7.726138897977903,
          6.2785069782208485,
          8.514109701507833,
          6.250961375623614,
          10.297698515610474,
          8.59076694598903,
          5.443175082461824,
          10.122221560405439,
          7.0529305049008,
          6.27985766798164,
          5.821903621408117,
          8.281593526107342,
          9.72930908603037,
          6.5102063345451535,
          5.862361263798888,
          5.642784246952485,
          9.716765318741663,
          9.98617499837458,
          6.8655926210006,
          8.23513769995725,
          7.3996486871227685,
          7.310437552207958,
          8.89399208733916,
          8.085616384054745,
          7.913350695270888,
          6.951971482901475,
          8.664612211647235,
          6.968311624731666,
          7.481291864562565,
          7.743331418837916,
          5.547807461247819,
          6.94190125255411,
          6.921025180066222,
          7.560543698500553,
          5.6858746063500725,
          5.57037720881541,
          9.913125815365193,
          9.191369956520605,
          8.778108843360945,
          10.224313416824039,
          8.052604295579743,
          7.263380883570236,
          8.149319630582134,
          4.4997863053074365,
          5.707101340079738,
          8.57657802585448,
          7.454544675154378,
          5.429610046968516,
          8.4218777299592,
          8.947896022356403,
          8.436316432384396,
          7.35731663296135,
          6.112062459285829,
          7.570422014718129,
          8.063931073006481,
          6.849956241156771,
          8.336103516835323,
          7.890079189711515,
          7.918952324640922,
          4.262941073006152,
          9.074919008581203,
          10.069107950201522,
          6.782143508668289,
          5.121658684807407,
          8.391575149379218,
          6.684482978332682,
          5.909665264172281,
          9.28606405117415,
          5.266189020069988,
          8.512892253424058,
          5.4758225597850645,
          9.664007629110701,
          8.202447285068633,
          7.006346661128959,
          7.634983409180704,
          8.30372852729559,
          8.686702966305777,
          8.683452954000236,
          8.249085703055808,
          6.666367268643584,
          8.430443683727272,
          5.377546701715752,
          8.955919181023637,
          8.753329767945335,
          9.558627812321998,
          6.4942068082881645,
          7.691920644274356,
          8.730580929821109,
          7.895373832524819,
          6.744744034943723,
          7.879105122984968,
          7.509279345672516,
          8.942954110637567,
          6.432878619654838,
          7.928801900700677,
          7.856850668145851,
          8.574555120553157,
          7.291487276766615,
          7.600897910705469,
          7.294489430883642,
          7.456786170586376,
          7.417057634537443,
          6.899170076322253,
          11.773602246549881,
          6.099912083462909,
          5.590687255035369,
          6.174534163238139,
          6.306784989104797,
          7.421813629334249,
          9.61558052512359,
          10.013459320359068,
          7.770912945491722,
          3.543264733692763,
          7.998148837754896,
          5.3785818724911785,
          6.630327403167912,
          5.627294619512295,
          8.061919278765663,
          6.435745604989525,
          8.597414793593323,
          8.14178808651788,
          7.0331223252942925,
          7.528641319388196,
          8.821969476533885,
          6.829025967558234,
          8.819186296947239,
          7.374286918122345,
          7.820480446428846,
          8.639329365667136,
          9.461961919443311,
          8.209030508541474,
          7.4943500218550545,
          8.517926282181048,
          5.015719852445288,
          9.937079587877452,
          5.3556524269290815,
          8.800780779794538,
          6.532249217614832,
          8.188073195473091,
          7.2239892730972715,
          7.8733231015639875,
          6.166558958218148,
          4.0649865581763915,
          8.032606750178164,
          6.476086768765624,
          6.4017018330734405,
          6.283184989794529,
          10.470956313098338,
          6.504386978626091,
          7.9092135325507815,
          5.610726719750384,
          9.758015668164582,
          6.544452067868919,
          3.3849652234647314,
          11.595334188113846,
          5.707000132687449,
          9.427034354165471,
          8.537069249296021,
          8.412052911080922,
          7.046389645157324
         ]
        },
        {
         "line": {
          "color": "rgb(129.0909090909091, 79.0909090909091, 79.0909090909091)"
         },
         "orientation": "h",
         "points": false,
         "side": "positive",
         "type": "violin",
         "width": 3,
         "x": [
          8.547458803726958,
          10.240665224422628,
          7.7454287651414155,
          8.649094789608887,
          9.756881197890543,
          8.374315307126466,
          7.5424337996702295,
          10.613335423442507,
          8.796987644350612,
          8.033032849598023,
          6.968214770604652,
          6.5923381193579305,
          9.700416655000318,
          9.791208623667783,
          4.685788204068864,
          7.230692708952834,
          9.816768706527093,
          12.204908041355093,
          11.756621622256079,
          9.779096405682093,
          10.485132136401342,
          7.3748108257035225,
          9.505280975606036,
          6.213409517398176,
          7.318426825027755,
          8.76308625518023,
          11.785394233549779,
          9.461800839656885,
          8.685941540013,
          7.959542289072681,
          6.0738632567258435,
          9.224363940846997,
          7.666616615422417,
          8.62902490995389,
          6.782592077873044,
          8.43627804316447,
          5.722722700293877,
          9.062434659414492,
          10.397412338512675,
          9.733416725088079,
          11.696845179299522,
          8.768948417715281,
          9.064819205033704,
          9.080366944504542,
          6.798302989011338,
          11.761333795897992,
          9.855534075227231,
          7.840508520146315,
          6.760499813006972,
          9.189421491499179,
          9.641120479342897,
          8.463490630047424,
          8.542346419653192,
          7.93003330058067,
          8.233365107731021,
          10.422637564280011,
          10.52978102296629,
          5.783025945930774,
          8.465117186345077,
          6.267513183099101,
          6.052177379779074,
          9.196692678681444,
          6.860747384051633,
          3.0778213822459906,
          9.293565187678107,
          10.335911113613866,
          11.574041620050805,
          7.589380914088835,
          10.603134986579718,
          3.9489327148727993,
          6.5304796712616735,
          9.08708345395409,
          9.009462375792353,
          10.398544703392503,
          9.803352738320172,
          8.104382632219469,
          10.74026644085187,
          9.361196075501308,
          11.047642409378053,
          6.92177122173881,
          8.729185043809832,
          7.534886107085355,
          9.5566280763854,
          7.878593663677253,
          7.82573906887666,
          6.067241422560235,
          8.742194883381813,
          10.063207094713755,
          9.887635482229953,
          3.3025357794888537,
          5.587531529033905,
          11.518999887998492,
          7.930835911285699,
          7.994138834867655,
          10.144773386240955,
          8.559644056140822,
          7.202713340466592,
          7.894474930423657,
          11.342305607371873,
          5.977402595631919,
          10.36713785338815,
          7.726673748608992,
          7.79403203963455,
          11.286264084006113,
          7.185885872690126,
          9.604319989513222,
          7.64377338125821,
          5.894478439769493,
          7.966191968512801,
          10.150649458731495,
          7.933673646449486,
          9.136914744889815,
          8.546402634835244,
          8.314493977463519,
          7.554682590811801,
          8.453504610678198,
          4.911307924740763,
          7.504243591535962,
          5.285953095678048,
          8.679186231883694,
          8.818214369388302,
          6.935208619748077,
          9.54909147821623,
          8.885583566235947,
          8.718251534419398,
          7.646472710773841,
          9.011522124951826,
          9.962926904508052,
          7.15713562495109,
          6.901206331151031,
          10.183514812290525,
          4.444068791797405,
          3.955022509923813,
          5.268307430175821,
          8.5352552586433,
          8.487200458171367,
          9.050323636235799,
          8.36218732143216,
          10.753573258845702,
          10.81641557578761,
          10.134423709788907,
          6.346551311033557,
          8.832806477815705,
          6.8204382777752555,
          7.41851661158739,
          6.5632681528528645,
          8.255390271585812,
          9.128245710247338,
          8.366629655025193,
          6.285075716510188,
          5.740712356768901,
          6.990812983066581,
          6.96536171594343,
          9.521216937824754,
          7.715401259152275,
          7.929134109804784,
          7.981058009313992,
          10.032703269959574,
          10.915140137002172,
          8.936683907025454,
          7.831542210070922,
          10.532863343753299,
          8.954983125678215,
          7.548793216087283,
          9.891526919227315,
          8.576964394213798,
          5.891265107909749,
          9.263707528691826,
          8.728483903645454,
          5.199720337101052,
          4.717972046770321,
          8.460898854982696,
          9.356080171870147,
          9.2337191100403,
          6.010803034351159,
          7.670026384012385,
          9.32864435005994,
          5.724811777262793,
          8.377414817033582,
          8.586945105209322,
          9.749461522845102,
          4.222401323834723,
          8.475112835833153,
          11.540242059115574,
          7.221339746355039,
          7.720378310069528,
          9.79893904109773,
          6.989082044423326,
          10.131059748264473,
          9.122369655504343,
          5.662104332339778,
          8.40246825694362,
          5.850435822398106,
          9.796575458173788,
          5.487666254387378,
          5.273172949381843,
          6.376817264110067,
          6.923741937943833,
          10.38958213486084,
          8.207984879546538
         ]
        },
        {
         "line": {
          "color": "rgb(146.8181818181818, 61.81818181818181, 61.81818181818181)"
         },
         "orientation": "h",
         "points": false,
         "side": "positive",
         "type": "violin",
         "width": 3,
         "x": [
          9.048661884172692,
          10.402662694838105,
          7.340709665314028,
          7.547091436135115,
          7.082236018337969,
          9.901762065565661,
          11.367131127533082,
          8.992936528435928,
          7.469443140031215,
          7.647212264114998,
          6.624747536994585,
          9.80890513113408,
          6.7100498123443195,
          8.10619692518325,
          6.526902624516069,
          5.265126866186784,
          4.158821978004943,
          7.008811429523862,
          8.92269871625449,
          7.997063514625576,
          8.159842869019364,
          6.69545242668317,
          6.9367495218026445,
          6.701804536897222,
          8.91087581662754,
          12.08287602968998,
          8.3104651577717,
          6.180896974709911,
          10.744185246859779,
          6.8212211399879354,
          9.509028600639208,
          7.781431057920843,
          8.686070484638435,
          14.47516360227071,
          7.254835937986343,
          7.532660551510047,
          9.194151635619194,
          8.508109628006183,
          7.844622481649809,
          7.356950100059902,
          9.565961625333454,
          10.406940836887586,
          6.901508823594055,
          6.583087772347815,
          11.706764813068924,
          6.084384286170634,
          9.781593632168443,
          9.304510410183584,
          6.6408884537544655,
          9.857870244342633,
          6.640462167424868,
          6.664065777278581,
          6.145885444538398,
          9.98705230187687,
          7.769874847033337,
          10.420542682535556,
          7.146684894421065,
          9.607707596113086,
          10.976999610851095,
          8.397448879281143,
          6.602053840191674,
          7.954304228811544,
          10.716746033418865,
          9.822634300861093,
          7.879310967619639,
          5.53301084584893,
          9.781944848812712,
          11.363037568035391,
          11.393589262257526,
          9.293564383083492,
          8.216058196751785,
          7.188171844209,
          7.556978171996377,
          5.696448967689401,
          12.232970367291164,
          8.499442820407692,
          12.66453564106835,
          8.41734032079742,
          5.750741247297514,
          11.761448305830408,
          7.0608619061254165,
          7.789630764687992,
          11.393515011888976,
          11.065716856856486,
          5.0462065927289865,
          8.5478395499779,
          6.664093574903102,
          9.477256421836621,
          11.676141741924319,
          7.65217161764406,
          11.125220693935383,
          6.941995744423135,
          12.298121292860898,
          7.1198882266529155,
          7.745706639270172,
          9.058944037113733,
          6.126809084923439,
          11.222614784716015,
          6.697806658400826,
          9.606479467125347,
          6.31933851553079,
          8.73564276336335,
          8.527836098896628,
          7.875419744369751,
          9.391032645657777,
          6.6169437757612215,
          11.174694907958603,
          8.895699472929799,
          3.724432518213397,
          12.010169487521257,
          9.327977567577554,
          11.229448511867474,
          8.240399984870919,
          4.637863929117792,
          7.821050444774387,
          6.428260468846143,
          8.479547967041034,
          7.712216730537888,
          8.907038885653897,
          5.498403717170778,
          8.638914554997882,
          7.752194508235199,
          9.640260269605042,
          5.622949635700443,
          7.811804171046004,
          11.410525625201162,
          6.505999942167639,
          9.820837676608086,
          10.844164600869497,
          8.528589892917104,
          10.253445147547804,
          10.344867952184355,
          11.25741355538126,
          7.9106711449918485,
          8.352046530591156,
          9.934957144568289,
          7.258087043375249,
          8.629014349775,
          7.339395621992269,
          4.523128463159007,
          9.124507468403301,
          11.486578664737554,
          7.903360498333904,
          8.691622258923427,
          7.763381849516495,
          7.266171901031034,
          8.78110720315329,
          10.39926229843648,
          12.373383436542966,
          9.973568091378404,
          6.885480197472233,
          6.081172497758297,
          10.803270504585791,
          9.093070841827,
          7.491581163223295,
          6.721720348104711,
          7.15086085942327,
          10.676478881595289,
          8.507396941129825,
          6.127024077772598,
          10.053199565978634,
          9.08164943157859,
          8.043153015979069,
          9.59570764925779,
          7.116381748425011,
          10.210943797478127,
          6.08489429903902,
          6.98552569273016,
          6.167765149250057,
          7.826506571205278,
          7.2376931623820155,
          7.919629269480102,
          8.554253020419283,
          9.503362970829876,
          8.79911852758169,
          8.981048071152614,
          11.317122667279333,
          8.085715796695132,
          6.027073779358806,
          10.189313532543741,
          11.71706507146553,
          8.869516328137788,
          9.99612224125457,
          7.413588851371055,
          8.866729649298273,
          9.646334134360409,
          9.199920943634812,
          7.613812637946515,
          11.362560042863988,
          8.844518183530155,
          10.152723666011775,
          9.246908651527693,
          10.055091331957753,
          10.158000641454194,
          8.172658780206463,
          9.986008351386378,
          12.27771393010804,
          11.998822062264296,
          9.865725581979662,
          11.460367605528274
         ]
        },
        {
         "line": {
          "color": "rgb(164.54545454545453, 44.54545454545453, 44.54545454545453)"
         },
         "orientation": "h",
         "points": false,
         "side": "positive",
         "type": "violin",
         "width": 3,
         "x": [
          8.013567196966733,
          13.068781106770835,
          10.52783527251647,
          7.142723451301107,
          10.692079797317536,
          12.16678109104847,
          9.12619205581679,
          13.91375433203582,
          12.84483814592382,
          8.07330806786405,
          12.226406481213711,
          10.595283617258033,
          9.388641923971598,
          9.816003017108965,
          9.582615089599043,
          8.18029505347864,
          9.576563991405106,
          11.651131297508918,
          12.984318780896258,
          13.043221161359789,
          9.349222859524113,
          10.178519317937877,
          8.829203609231845,
          12.264428710112911,
          7.3950552425232505,
          7.913012263545916,
          9.235612006203057,
          10.848921357211987,
          9.807791494440174,
          10.451813104954274,
          10.47812349847362,
          10.815841871002604,
          8.510855128718985,
          9.77467914802567,
          11.441901159576553,
          10.90120446856556,
          12.379527154568583,
          9.034925502876549,
          12.039444937116354,
          13.058287349578373,
          10.132441836664992,
          10.875206266115713,
          10.801132247809166,
          11.365643438845836,
          11.09700803071947,
          13.063492745094157,
          11.325087704742858,
          11.963518191850822,
          10.994472786356543,
          8.49756912722564,
          11.179624825636145,
          9.973595053362732,
          9.236992514269444,
          8.765568469429997,
          10.263702220764934,
          9.287216727386598,
          14.100191941276393,
          13.294918545485533,
          9.90636910244663,
          11.681073588851712,
          12.495265089188404,
          10.077443509272577,
          13.752121218115077,
          12.068261218429004,
          10.206771251334986,
          7.120243949898189,
          8.635414715932544,
          10.971137899592465,
          9.594853369044653,
          10.353963709812668,
          8.96021774550378,
          10.840647332971177,
          9.558420479982974,
          7.568595322224799,
          9.770527364903057,
          9.35164984505872,
          7.570501205097404,
          12.97929179694756,
          10.253422428800656,
          9.7973949514179,
          11.75601475179616,
          10.24152375097039,
          11.786776233605105,
          7.699597604936588,
          8.506868062606523,
          11.383019805418611,
          13.104237568892088,
          10.446263323940121,
          10.785213756990286,
          8.894526177821875,
          10.337268045745711,
          9.102721069736027,
          10.100354884010367,
          11.704933501145648,
          6.757580650585556,
          10.779016415254993,
          8.928894030258087,
          9.216092884752737,
          12.461101947775397,
          10.928859939370964,
          12.08920532764414,
          7.184833793171091,
          9.645848150406772,
          9.566847595040711,
          9.320006601353242,
          11.1921232843193,
          12.020645060302444,
          8.379371694752612,
          8.641401341118902,
          8.115410671978298,
          12.478254502913023,
          9.455815236231036,
          10.207368219626682,
          9.787677495609039,
          8.639594031080641,
          11.070353228446974,
          11.08810940318654,
          12.103197975536236,
          9.981842217522386,
          9.851537965039096,
          9.327111918577597,
          13.097408852306303,
          12.22363688617003,
          10.318269262021408,
          11.571648923664437,
          9.326526462948683,
          14.127105570873997,
          9.316121912233935,
          9.701353357354806,
          9.717094152910152,
          13.484851395160849,
          10.660064978149451,
          12.363367028051401,
          10.19152062486678,
          8.186287874215918,
          11.801660865213474,
          9.25268501030062,
          7.994383255619715,
          9.635195923336742,
          11.540164369065936,
          13.599487928741727,
          7.869009759091738,
          6.393409656411984,
          12.082891453431074,
          10.937244656263143,
          9.367200711676189,
          11.152354942961798,
          11.71795704686614,
          13.868185542786339,
          10.154711581297063,
          12.718606315683697,
          9.570322473455095,
          9.465026475239352,
          11.162194058527083,
          8.36448326872707,
          8.02449868359896,
          12.142957089337841,
          6.822469516448711,
          10.597784649397603,
          9.801256432644406,
          9.713478381236971,
          7.969323651779931,
          6.690056121797092,
          9.190045138064214,
          8.273118727209734,
          9.618207776709873,
          10.551762542036856,
          9.04304194635064,
          8.441650909098968,
          10.919044847910719,
          9.006542929848987,
          8.647093598364464,
          9.847781874790074,
          10.910772251194935,
          14.225784967261848,
          13.325445187432141,
          8.094640656234443,
          7.983971063300132,
          10.509364862150806,
          11.404422258487072,
          10.152232253492908,
          14.341392905910576,
          12.531824585846609,
          13.373619399353569,
          9.631932153115427,
          8.761006755598677,
          8.44571820072602,
          10.184821341239347,
          8.103787972204376,
          9.239347724179463,
          9.60847920473295,
          12.108578238535781,
          9.531923169028797,
          7.833398529996124,
          9.578109144119553,
          10.734574935223813,
          11.411547928015885,
          8.715953177239266,
          11.568742577903267,
          12.9131979926117
         ]
        },
        {
         "line": {
          "color": "rgb(182.27272727272725, 27.272727272727252, 27.272727272727252)"
         },
         "orientation": "h",
         "points": false,
         "side": "positive",
         "type": "violin",
         "width": 3,
         "x": [
          11.448961222450322,
          10.970312497632543,
          9.658943321637471,
          9.34836630965085,
          6.639079819371359,
          11.675054797622531,
          9.838403446474775,
          10.805721432593401,
          11.471408754166694,
          9.01311511648849,
          12.455966715009088,
          10.730367880484602,
          13.37232951516934,
          10.836946862814338,
          11.122713006154187,
          9.992527687242546,
          13.33303802870133,
          6.4986705498306945,
          9.497204843858581,
          9.932053690278824,
          7.592717184433188,
          8.997269889003542,
          6.367649776928246,
          10.877896040794852,
          7.831722367306758,
          11.220526764918507,
          10.014664440980763,
          8.924703699772316,
          7.548117241457803,
          9.210810884771771,
          11.107438608227353,
          10.274939399525273,
          11.786349477362187,
          9.009435347909433,
          13.58041712898646,
          10.060154792938265,
          8.900874586875176,
          13.015642575017882,
          13.10614731847257,
          10.342288073372538,
          9.589852728725385,
          12.251844716693123,
          8.807440739504068,
          12.299795167602259,
          7.866175776981767,
          10.35522415772774,
          10.536871828821234,
          12.820801195447958,
          7.022282923384379,
          10.961990511572857,
          10.283982242152703,
          10.519981681481443,
          8.826591636739847,
          8.028993911424845,
          9.630258742655627,
          10.053071362536409,
          13.330688864587392,
          10.727067180012407,
          10.506265737989997,
          11.847636055534386,
          7.437252455173856,
          11.893874532377053,
          12.261965766675727,
          12.246249607692999,
          9.878713559826952,
          8.156224959221694,
          8.634111440771763,
          10.986841428532463,
          11.53916238326903,
          12.951479068342914,
          13.418985401025498,
          12.177721669513717,
          10.579202657472315,
          11.020185777899112,
          10.065196791011418,
          12.528269269234299,
          11.6489479092759,
          10.926525235049885,
          8.117373924285344,
          12.512601231826347,
          7.599464617079821,
          12.866013672815217,
          12.394176731771585,
          7.484570840378666,
          10.42190667355234,
          8.144495000679381,
          10.238338068058898,
          11.57429944635246,
          10.253574942921242,
          7.91068144990426,
          11.012372480631882,
          11.009815118533714,
          10.462435767655055,
          8.519164181393363,
          9.846664505756253,
          11.027072272978353,
          10.218425292603735,
          14.547617179219007,
          11.00330842295157,
          10.119703313704568,
          11.435752858907575,
          8.404058640744882,
          11.317689423899147,
          13.601036658542553,
          8.827229706903255,
          11.08493271512847,
          11.978918135574297,
          7.28167287240562,
          13.643217455552017,
          8.51943295414032,
          9.874780841418918,
          11.241167290579678,
          10.070369445479553,
          12.047308588674701,
          10.80255983840532,
          11.602136507006733,
          10.657560578522428,
          13.324614397445554,
          6.666660570647178,
          11.2095185131695,
          9.940527889287312,
          8.683549046307363,
          8.964992203995124,
          9.422467720382494,
          11.618667794305896,
          8.803635027709078,
          10.202897214762386,
          11.03990461258251,
          8.307918162990084,
          12.63800419729959,
          15.137463622606024,
          9.227669183149084,
          12.26973775806896,
          9.923223216105635,
          11.532676459176557,
          10.167537760069465,
          14.730965335961756,
          9.895250576183862,
          12.030114823452282,
          11.673946697358868,
          8.445051053763493,
          6.390278799267335,
          11.619959636066069,
          12.126691972462776,
          9.489810062147574,
          9.305259677062297,
          12.379235712070988,
          12.1425660353768,
          12.339284914602736,
          11.013469746574602,
          9.009538071127986,
          8.18920759021722,
          6.709350636872566,
          10.404309777271356,
          14.178297127330925,
          11.426773649343732,
          10.362198122876398,
          7.61118671969864,
          9.239290278907903,
          10.523858068551862,
          10.090192316067082,
          12.248532541775479,
          10.211634754382674,
          11.84183185145477,
          10.296376454837919,
          10.152146724605268,
          12.918229871597362,
          9.078836213413295,
          9.97405583996595,
          8.046476273714669,
          10.699113719318861,
          12.556204135244146,
          11.815287688980158,
          11.915724770388461,
          12.524783123859287,
          11.7080278538445,
          11.962015685555382,
          11.285175462236904,
          8.652324092107456,
          11.518792868998892,
          12.320212576116564,
          8.811692882398466,
          10.964955824332016,
          12.581618088088128,
          9.801428991165077,
          7.992316947200251,
          10.63190344319074,
          13.55692011053922,
          8.771533696468694,
          10.31323027158716,
          9.080643143202792,
          9.829128299161638,
          10.962629215276824,
          13.333800931556897,
          9.146290901876407,
          9.161542689743738,
          8.848743019802363,
          8.426284100975614,
          7.5845475637746835,
          8.889292571523175
         ]
        },
        {
         "line": {
          "color": "rgb(200.0, 10.0, 10.0)"
         },
         "orientation": "h",
         "points": false,
         "side": "positive",
         "type": "violin",
         "width": 3,
         "x": [
          12.421278801701732,
          12.714636113711764,
          14.97780371569644,
          10.989704371509363,
          11.07302909267047,
          11.119230859609239,
          13.024397178764563,
          12.315960507334932,
          14.187322930877396,
          11.05462372702282,
          14.45942304584301,
          14.517931626682833,
          12.107969936518405,
          11.387830433436903,
          12.995243519612595,
          11.049837809695788,
          16.617314812009873,
          12.914679946877298,
          14.217786877782384,
          10.09869073965055,
          9.131390171074633,
          14.007437751022263,
          13.664678778566788,
          11.111695826828509,
          11.499354041049648,
          11.273017739102048,
          13.08855917037618,
          14.48060959666595,
          9.5431849207734,
          13.590395602988846,
          10.884569898912071,
          11.571041412050528,
          12.3120349245029,
          9.909997260358242,
          18.320782480133552,
          17.482860289721835,
          14.137445058703118,
          13.944935703492023,
          10.545684955483026,
          17.38760309242232,
          12.669539870397765,
          12.386114320657022,
          15.040892498820874,
          13.15450547182658,
          11.079698118237904,
          12.195062479659937,
          11.880733782149177,
          12.762216727394296,
          13.741820418403844,
          13.698423148340623,
          15.235309124227452,
          12.624699212224419,
          14.549042377187074,
          16.046229023619237,
          10.1808601250594,
          14.058046467635974,
          10.488241120269949,
          9.618754159238655,
          15.802229419829823,
          14.903873278247,
          13.679651228480562,
          11.679042545366247,
          15.640027788875546,
          9.898569890577276,
          12.767691180292742,
          13.603260447980047,
          15.207159207061187,
          9.580049941907827,
          6.504622628444753,
          12.863645967227486,
          13.267759651343686,
          12.98026588600912,
          10.87841161803173,
          12.544583740974609,
          9.552747197971996,
          13.47409212402518,
          14.418082132315856,
          11.16884157144458,
          8.62502180500476,
          12.37334192014468,
          12.235904701853554,
          12.471691352002468,
          15.240056243570159,
          12.910096298892018,
          16.801151036036757,
          13.39439224727473,
          10.458437999320434,
          14.900132257211872,
          12.452216605432277,
          11.655363625991543,
          13.191708043098286,
          12.86247296345622,
          9.515716955020746,
          10.933867787825333,
          14.936918480684255,
          12.984761125574641,
          13.910877248041373,
          14.673210629685657,
          16.21813148391997,
          11.354712340261369,
          11.22611522360298,
          10.783886151558294,
          11.432004257543344,
          10.80773180639586,
          12.602903875659324,
          12.416439802812826,
          13.795381884096772,
          10.251602873533201,
          11.325256294028426,
          13.35182747195753,
          14.030201295823776,
          7.99967071981851,
          11.42876409594444,
          12.125664561466998,
          8.550596981980545,
          13.530306054201278,
          15.041160393172571,
          8.74670651604911,
          9.503047804709706,
          14.537269594135779,
          14.903583796893024,
          10.087354065724645,
          10.65766391524683,
          13.951742954126315,
          12.146857877267847,
          11.590272479106908,
          15.821180099921838,
          13.228503417576894,
          8.994007656246017,
          13.13953315210054,
          9.822390020634955,
          14.117018500087008,
          14.596892656093273,
          13.510029336833036,
          14.488545046534117,
          16.56146425516637,
          14.086265272725917,
          11.888985458977444,
          10.446297523116954,
          13.081806810042496,
          10.562829000113444,
          9.755414794474003,
          11.709206330772862,
          9.076269090391612,
          10.031957774802995,
          13.635218122650159,
          11.68239479392571,
          12.019636579249747,
          12.581073143338635,
          8.724521709204053,
          13.005352831691381,
          12.625245454521998,
          12.542492401234318,
          13.31859796184552,
          8.303050201842549,
          16.45656436473739,
          12.026203111100818,
          9.764477906676738,
          12.85596509773458,
          10.09056989447615,
          12.765690740346335,
          13.714109804837031,
          9.995111685788514,
          14.323758198902715,
          12.895089740004897,
          13.331072709084262,
          13.441041550950391,
          13.657773634266313,
          14.873628939805222,
          14.353814236212143,
          13.606726047602521,
          11.104226088115759,
          13.205567545593368,
          11.517237431843245,
          9.735400793311811,
          12.550151590232902,
          10.807285147153433,
          14.903188112228031,
          12.5574869522541,
          12.723430478096375,
          14.183317577841075,
          11.796657496821359,
          12.119715623834097,
          14.962247665252825,
          9.865548137519117,
          10.89899490379066,
          12.365517596176264,
          14.202483722775591,
          13.132490288552752,
          10.317871665205832,
          10.793357399606005,
          16.021825380250828,
          13.26544390343574,
          11.396022895827258,
          11.6643502995091,
          20.113403148064133,
          15.313449161313565,
          9.359957318764431,
          11.715355389570846,
          14.07855070745546
         ]
        }
       ],
       "layout": {
        "template": {
         "data": {
          "bar": [
           {
            "error_x": {
             "color": "#2a3f5f"
            },
            "error_y": {
             "color": "#2a3f5f"
            },
            "marker": {
             "line": {
              "color": "#E5ECF6",
              "width": 0.5
             },
             "pattern": {
              "fillmode": "overlay",
              "size": 10,
              "solidity": 0.2
             }
            },
            "type": "bar"
           }
          ],
          "barpolar": [
           {
            "marker": {
             "line": {
              "color": "#E5ECF6",
              "width": 0.5
             },
             "pattern": {
              "fillmode": "overlay",
              "size": 10,
              "solidity": 0.2
             }
            },
            "type": "barpolar"
           }
          ],
          "carpet": [
           {
            "aaxis": {
             "endlinecolor": "#2a3f5f",
             "gridcolor": "white",
             "linecolor": "white",
             "minorgridcolor": "white",
             "startlinecolor": "#2a3f5f"
            },
            "baxis": {
             "endlinecolor": "#2a3f5f",
             "gridcolor": "white",
             "linecolor": "white",
             "minorgridcolor": "white",
             "startlinecolor": "#2a3f5f"
            },
            "type": "carpet"
           }
          ],
          "choropleth": [
           {
            "colorbar": {
             "outlinewidth": 0,
             "ticks": ""
            },
            "type": "choropleth"
           }
          ],
          "contour": [
           {
            "colorbar": {
             "outlinewidth": 0,
             "ticks": ""
            },
            "colorscale": [
             [
              0,
              "#0d0887"
             ],
             [
              0.1111111111111111,
              "#46039f"
             ],
             [
              0.2222222222222222,
              "#7201a8"
             ],
             [
              0.3333333333333333,
              "#9c179e"
             ],
             [
              0.4444444444444444,
              "#bd3786"
             ],
             [
              0.5555555555555556,
              "#d8576b"
             ],
             [
              0.6666666666666666,
              "#ed7953"
             ],
             [
              0.7777777777777778,
              "#fb9f3a"
             ],
             [
              0.8888888888888888,
              "#fdca26"
             ],
             [
              1,
              "#f0f921"
             ]
            ],
            "type": "contour"
           }
          ],
          "contourcarpet": [
           {
            "colorbar": {
             "outlinewidth": 0,
             "ticks": ""
            },
            "type": "contourcarpet"
           }
          ],
          "heatmap": [
           {
            "colorbar": {
             "outlinewidth": 0,
             "ticks": ""
            },
            "colorscale": [
             [
              0,
              "#0d0887"
             ],
             [
              0.1111111111111111,
              "#46039f"
             ],
             [
              0.2222222222222222,
              "#7201a8"
             ],
             [
              0.3333333333333333,
              "#9c179e"
             ],
             [
              0.4444444444444444,
              "#bd3786"
             ],
             [
              0.5555555555555556,
              "#d8576b"
             ],
             [
              0.6666666666666666,
              "#ed7953"
             ],
             [
              0.7777777777777778,
              "#fb9f3a"
             ],
             [
              0.8888888888888888,
              "#fdca26"
             ],
             [
              1,
              "#f0f921"
             ]
            ],
            "type": "heatmap"
           }
          ],
          "heatmapgl": [
           {
            "colorbar": {
             "outlinewidth": 0,
             "ticks": ""
            },
            "colorscale": [
             [
              0,
              "#0d0887"
             ],
             [
              0.1111111111111111,
              "#46039f"
             ],
             [
              0.2222222222222222,
              "#7201a8"
             ],
             [
              0.3333333333333333,
              "#9c179e"
             ],
             [
              0.4444444444444444,
              "#bd3786"
             ],
             [
              0.5555555555555556,
              "#d8576b"
             ],
             [
              0.6666666666666666,
              "#ed7953"
             ],
             [
              0.7777777777777778,
              "#fb9f3a"
             ],
             [
              0.8888888888888888,
              "#fdca26"
             ],
             [
              1,
              "#f0f921"
             ]
            ],
            "type": "heatmapgl"
           }
          ],
          "histogram": [
           {
            "marker": {
             "pattern": {
              "fillmode": "overlay",
              "size": 10,
              "solidity": 0.2
             }
            },
            "type": "histogram"
           }
          ],
          "histogram2d": [
           {
            "colorbar": {
             "outlinewidth": 0,
             "ticks": ""
            },
            "colorscale": [
             [
              0,
              "#0d0887"
             ],
             [
              0.1111111111111111,
              "#46039f"
             ],
             [
              0.2222222222222222,
              "#7201a8"
             ],
             [
              0.3333333333333333,
              "#9c179e"
             ],
             [
              0.4444444444444444,
              "#bd3786"
             ],
             [
              0.5555555555555556,
              "#d8576b"
             ],
             [
              0.6666666666666666,
              "#ed7953"
             ],
             [
              0.7777777777777778,
              "#fb9f3a"
             ],
             [
              0.8888888888888888,
              "#fdca26"
             ],
             [
              1,
              "#f0f921"
             ]
            ],
            "type": "histogram2d"
           }
          ],
          "histogram2dcontour": [
           {
            "colorbar": {
             "outlinewidth": 0,
             "ticks": ""
            },
            "colorscale": [
             [
              0,
              "#0d0887"
             ],
             [
              0.1111111111111111,
              "#46039f"
             ],
             [
              0.2222222222222222,
              "#7201a8"
             ],
             [
              0.3333333333333333,
              "#9c179e"
             ],
             [
              0.4444444444444444,
              "#bd3786"
             ],
             [
              0.5555555555555556,
              "#d8576b"
             ],
             [
              0.6666666666666666,
              "#ed7953"
             ],
             [
              0.7777777777777778,
              "#fb9f3a"
             ],
             [
              0.8888888888888888,
              "#fdca26"
             ],
             [
              1,
              "#f0f921"
             ]
            ],
            "type": "histogram2dcontour"
           }
          ],
          "mesh3d": [
           {
            "colorbar": {
             "outlinewidth": 0,
             "ticks": ""
            },
            "type": "mesh3d"
           }
          ],
          "parcoords": [
           {
            "line": {
             "colorbar": {
              "outlinewidth": 0,
              "ticks": ""
             }
            },
            "type": "parcoords"
           }
          ],
          "pie": [
           {
            "automargin": true,
            "type": "pie"
           }
          ],
          "scatter": [
           {
            "fillpattern": {
             "fillmode": "overlay",
             "size": 10,
             "solidity": 0.2
            },
            "type": "scatter"
           }
          ],
          "scatter3d": [
           {
            "line": {
             "colorbar": {
              "outlinewidth": 0,
              "ticks": ""
             }
            },
            "marker": {
             "colorbar": {
              "outlinewidth": 0,
              "ticks": ""
             }
            },
            "type": "scatter3d"
           }
          ],
          "scattercarpet": [
           {
            "marker": {
             "colorbar": {
              "outlinewidth": 0,
              "ticks": ""
             }
            },
            "type": "scattercarpet"
           }
          ],
          "scattergeo": [
           {
            "marker": {
             "colorbar": {
              "outlinewidth": 0,
              "ticks": ""
             }
            },
            "type": "scattergeo"
           }
          ],
          "scattergl": [
           {
            "marker": {
             "colorbar": {
              "outlinewidth": 0,
              "ticks": ""
             }
            },
            "type": "scattergl"
           }
          ],
          "scattermapbox": [
           {
            "marker": {
             "colorbar": {
              "outlinewidth": 0,
              "ticks": ""
             }
            },
            "type": "scattermapbox"
           }
          ],
          "scatterpolar": [
           {
            "marker": {
             "colorbar": {
              "outlinewidth": 0,
              "ticks": ""
             }
            },
            "type": "scatterpolar"
           }
          ],
          "scatterpolargl": [
           {
            "marker": {
             "colorbar": {
              "outlinewidth": 0,
              "ticks": ""
             }
            },
            "type": "scatterpolargl"
           }
          ],
          "scatterternary": [
           {
            "marker": {
             "colorbar": {
              "outlinewidth": 0,
              "ticks": ""
             }
            },
            "type": "scatterternary"
           }
          ],
          "surface": [
           {
            "colorbar": {
             "outlinewidth": 0,
             "ticks": ""
            },
            "colorscale": [
             [
              0,
              "#0d0887"
             ],
             [
              0.1111111111111111,
              "#46039f"
             ],
             [
              0.2222222222222222,
              "#7201a8"
             ],
             [
              0.3333333333333333,
              "#9c179e"
             ],
             [
              0.4444444444444444,
              "#bd3786"
             ],
             [
              0.5555555555555556,
              "#d8576b"
             ],
             [
              0.6666666666666666,
              "#ed7953"
             ],
             [
              0.7777777777777778,
              "#fb9f3a"
             ],
             [
              0.8888888888888888,
              "#fdca26"
             ],
             [
              1,
              "#f0f921"
             ]
            ],
            "type": "surface"
           }
          ],
          "table": [
           {
            "cells": {
             "fill": {
              "color": "#EBF0F8"
             },
             "line": {
              "color": "white"
             }
            },
            "header": {
             "fill": {
              "color": "#C8D4E3"
             },
             "line": {
              "color": "white"
             }
            },
            "type": "table"
           }
          ]
         },
         "layout": {
          "annotationdefaults": {
           "arrowcolor": "#2a3f5f",
           "arrowhead": 0,
           "arrowwidth": 1
          },
          "autotypenumbers": "strict",
          "coloraxis": {
           "colorbar": {
            "outlinewidth": 0,
            "ticks": ""
           }
          },
          "colorscale": {
           "diverging": [
            [
             0,
             "#8e0152"
            ],
            [
             0.1,
             "#c51b7d"
            ],
            [
             0.2,
             "#de77ae"
            ],
            [
             0.3,
             "#f1b6da"
            ],
            [
             0.4,
             "#fde0ef"
            ],
            [
             0.5,
             "#f7f7f7"
            ],
            [
             0.6,
             "#e6f5d0"
            ],
            [
             0.7,
             "#b8e186"
            ],
            [
             0.8,
             "#7fbc41"
            ],
            [
             0.9,
             "#4d9221"
            ],
            [
             1,
             "#276419"
            ]
           ],
           "sequential": [
            [
             0,
             "#0d0887"
            ],
            [
             0.1111111111111111,
             "#46039f"
            ],
            [
             0.2222222222222222,
             "#7201a8"
            ],
            [
             0.3333333333333333,
             "#9c179e"
            ],
            [
             0.4444444444444444,
             "#bd3786"
            ],
            [
             0.5555555555555556,
             "#d8576b"
            ],
            [
             0.6666666666666666,
             "#ed7953"
            ],
            [
             0.7777777777777778,
             "#fb9f3a"
            ],
            [
             0.8888888888888888,
             "#fdca26"
            ],
            [
             1,
             "#f0f921"
            ]
           ],
           "sequentialminus": [
            [
             0,
             "#0d0887"
            ],
            [
             0.1111111111111111,
             "#46039f"
            ],
            [
             0.2222222222222222,
             "#7201a8"
            ],
            [
             0.3333333333333333,
             "#9c179e"
            ],
            [
             0.4444444444444444,
             "#bd3786"
            ],
            [
             0.5555555555555556,
             "#d8576b"
            ],
            [
             0.6666666666666666,
             "#ed7953"
            ],
            [
             0.7777777777777778,
             "#fb9f3a"
            ],
            [
             0.8888888888888888,
             "#fdca26"
            ],
            [
             1,
             "#f0f921"
            ]
           ]
          },
          "colorway": [
           "#636efa",
           "#EF553B",
           "#00cc96",
           "#ab63fa",
           "#FFA15A",
           "#19d3f3",
           "#FF6692",
           "#B6E880",
           "#FF97FF",
           "#FECB52"
          ],
          "font": {
           "color": "#2a3f5f"
          },
          "geo": {
           "bgcolor": "white",
           "lakecolor": "white",
           "landcolor": "#E5ECF6",
           "showlakes": true,
           "showland": true,
           "subunitcolor": "white"
          },
          "hoverlabel": {
           "align": "left"
          },
          "hovermode": "closest",
          "mapbox": {
           "style": "light"
          },
          "paper_bgcolor": "white",
          "plot_bgcolor": "#E5ECF6",
          "polar": {
           "angularaxis": {
            "gridcolor": "white",
            "linecolor": "white",
            "ticks": ""
           },
           "bgcolor": "#E5ECF6",
           "radialaxis": {
            "gridcolor": "white",
            "linecolor": "white",
            "ticks": ""
           }
          },
          "scene": {
           "xaxis": {
            "backgroundcolor": "#E5ECF6",
            "gridcolor": "white",
            "gridwidth": 2,
            "linecolor": "white",
            "showbackground": true,
            "ticks": "",
            "zerolinecolor": "white"
           },
           "yaxis": {
            "backgroundcolor": "#E5ECF6",
            "gridcolor": "white",
            "gridwidth": 2,
            "linecolor": "white",
            "showbackground": true,
            "ticks": "",
            "zerolinecolor": "white"
           },
           "zaxis": {
            "backgroundcolor": "#E5ECF6",
            "gridcolor": "white",
            "gridwidth": 2,
            "linecolor": "white",
            "showbackground": true,
            "ticks": "",
            "zerolinecolor": "white"
           }
          },
          "shapedefaults": {
           "line": {
            "color": "#2a3f5f"
           }
          },
          "ternary": {
           "aaxis": {
            "gridcolor": "white",
            "linecolor": "white",
            "ticks": ""
           },
           "baxis": {
            "gridcolor": "white",
            "linecolor": "white",
            "ticks": ""
           },
           "bgcolor": "#E5ECF6",
           "caxis": {
            "gridcolor": "white",
            "linecolor": "white",
            "ticks": ""
           }
          },
          "title": {
           "x": 0.05
          },
          "xaxis": {
           "automargin": true,
           "gridcolor": "white",
           "linecolor": "white",
           "ticks": "",
           "title": {
            "standoff": 15
           },
           "zerolinecolor": "white",
           "zerolinewidth": 2
          },
          "yaxis": {
           "automargin": true,
           "gridcolor": "white",
           "linecolor": "white",
           "ticks": "",
           "title": {
            "standoff": 15
           },
           "zerolinecolor": "white",
           "zerolinewidth": 2
          }
         }
        },
        "xaxis": {
         "showgrid": false,
         "zeroline": false
        }
       }
      }
     },
     "metadata": {},
     "output_type": "display_data"
    }
   ],
   "source": [
    "import plotly.graph_objects as go\n",
    "import numpy as np\n",
    "np.random.seed(1)\n",
    "\n",
    "# 12 sets of normal distributed random data, with increasing mean and standard deviation\n",
    "data = (np.linspace(1, 2, 12)[:, np.newaxis] * np.random.randn(12, 200) +\n",
    "            (np.arange(12) + 2 * np.random.random(12))[:, np.newaxis])\n",
    "\n",
    "colors = n_colors('rgb(5, 200, 200)', 'rgb(200, 10, 10)', 12, colortype='rgb')\n",
    "\n",
    "fig = go.Figure()\n",
    "for data_line, color in zip(data, colors):\n",
    "    fig.add_trace(go.Violin(x=data_line, line_color=color))\n",
    "\n",
    "fig.update_traces(orientation='h', side='positive', width=3, points=False)\n",
    "fig.update_layout(xaxis_showgrid=False, xaxis_zeroline=False)\n",
    "fig.show()"
   ]
  },
  {
   "cell_type": "code",
   "execution_count": 56,
   "metadata": {},
   "outputs": [
    {
     "name": "stdout",
     "output_type": "stream",
     "text": [
      "p = 2.9525342278607865e-08, indicating different distribution of Q&A fora vs Git repos challenge regarding higher level topic Code Management in challenge score\n",
      "p = 3.413022979620236e-06, indicating different distribution of Q&A fora vs Git repos challenge regarding higher level topic Code Management in challenge readability\n",
      "p = 0.013828080380161572, indicating different distribution of Q&A fora vs Git repos challenge regarding higher level topic Code Management in challenge answer count\n",
      "p = 1.3297136900178895e-05, indicating different distribution of Q&A fora vs Git repos challenge regarding higher level topic Data Management in challenge score\n",
      "p = 6.799266444675269e-07, indicating different distribution of Q&A fora vs Git repos challenge regarding higher level topic Data Management in challenge readability\n",
      "p = 0.01339206263312274, indicating different distribution of Q&A fora vs Git repos challenge regarding higher level topic Deployment Management in challenge score\n",
      "p = 0.014976023050720533, indicating different distribution of Q&A fora vs Git repos challenge regarding higher level topic Deployment Management in challenge link count\n",
      "p = 0.00679474968064427, indicating different distribution of Q&A fora vs Git repos challenge regarding higher level topic Deployment Management in challenge readability\n",
      "p = 0.008026678119967122, indicating different distribution of Q&A fora vs Git repos challenge regarding higher level topic Deployment Management in challenge answer count\n",
      "p = 9.90219594254615e-13, indicating different distribution of Q&A fora vs Git repos challenge regarding higher level topic Infrastructure Management in challenge score\n",
      "p = 3.986759560494863e-05, indicating different distribution of Q&A fora vs Git repos challenge regarding higher level topic Infrastructure Management in challenge link count\n",
      "p = 2.0500094074583752e-16, indicating different distribution of Q&A fora vs Git repos challenge regarding higher level topic Infrastructure Management in challenge readability\n",
      "p = 4.1142989986712826e-05, indicating different distribution of Q&A fora vs Git repos challenge regarding higher level topic Infrastructure Management in challenge answer count\n",
      "p = 5.467811246324229e-09, indicating different distribution of Q&A fora vs Git repos challenge regarding higher level topic Lifecycle Management in challenge score\n",
      "p = 0.0020626369127927187, indicating different distribution of Q&A fora vs Git repos challenge regarding higher level topic Lifecycle Management in challenge link count\n",
      "p = 2.4343932692642946e-06, indicating different distribution of Q&A fora vs Git repos challenge regarding higher level topic Lifecycle Management in challenge readability\n",
      "p = 0.016021928471680446, indicating different distribution of Q&A fora vs Git repos challenge regarding higher level topic Lifecycle Management in challenge answer count\n",
      "p = 1.6396709451056327e-05, indicating different distribution of Q&A fora vs Git repos challenge regarding higher level topic Model Management in challenge score\n",
      "p = 2.5104525172121535e-05, indicating different distribution of Q&A fora vs Git repos challenge regarding higher level topic Model Management in challenge readability\n",
      "p = 0.002685621805030144, indicating different distribution of Q&A fora vs Git repos challenge regarding higher level topic Model Management in challenge answer count\n",
      "p = 4.8133264117529145e-05, indicating different distribution of Q&A fora vs Git repos challenge regarding higher level topic Report Management in challenge score\n",
      "p = 1.0935687949816374e-07, indicating different distribution of Q&A fora vs Git repos challenge regarding higher level topic Report Management in challenge readability\n",
      "p = 0.00524648566375604, indicating different distribution of Q&A fora vs Git repos challenge regarding higher level topic Security Management in challenge score\n",
      "p = 0.0001554001554001554, indicating different distribution of Q&A fora vs Git repos in higher level mean challenge solved time\n",
      "p = 0.00040993253186482205, indicating different distribution of Q&A fora vs Git repos in higher level median challenge solved time\n",
      "p = 0.0001554001554001554, indicating different distribution of Q&A fora vs Git repos in higher level adjusted mean challenge solved time\n",
      "p = 0.00040993253186482205, indicating different distribution of Q&A fora vs Git repos in higher level adjusted median challenge solved time\n"
     ]
    }
   ],
   "source": [
    "# Collect and compared Q&A forum and Git repo challenges across different topics\n",
    "\n",
    "df = pd.read_json(os.path.join(path_general, 'assigned.json'))\n",
    "\n",
    "df_challenge = df[df['Challenge_topic'].notna()]\n",
    "df_challenge = df_challenge[df_challenge['Challenge_topic'].isin(\n",
    "    topic_ensemble)]\n",
    "df_challenge['Challenge_topic_higher_level'] = df_challenge['Challenge_topic'].map(\n",
    "    topic_ensemble_inverse)\n",
    "\n",
    "df_qa = df_challenge[df_challenge['Platform'].isin(\n",
    "    ['Stack Overflow', 'Tool-specific'])]\n",
    "df_git = df_challenge[df_challenge['Platform'].isin(['Github', 'Gitlab'])]\n",
    "\n",
    "# Challenge topic count\n",
    "fig_challenge_count = go.Figure()\n",
    "fig_challenge_count.add_trace(\n",
    "    go.Violin(\n",
    "        x=np.full(len(df_qa), 'Challenge topic count (higher level)'),\n",
    "        y=df_qa['Challenge_topic_higher_level'],\n",
    "        opacity=0.5,\n",
    "        name='QA',\n",
    "    ))\n",
    "fig_challenge_count.add_trace(\n",
    "    go.Violin(\n",
    "        x=np.full(len(df_git), 'Challenge topic count (higher level)'),\n",
    "        y=df_git['Challenge_topic_higher_level'],\n",
    "        opacity=0.5,\n",
    "        name='Git',\n",
    "    ))\n",
    "fig_challenge_count.update_layout(\n",
    "    height=1000,\n",
    "    width=2000,\n",
    "    font=dict(size=20),\n",
    "    margin=dict(l=0, r=0, t=0, b=0),\n",
    "    violingap=0,\n",
    "    violinmode='overlay',\n",
    ")\n",
    "fig_challenge_count.write_image(os.path.join(\n",
    "    path_challenge_git_qa, 'Challenge count.png'))\n",
    "\n",
    "# Challenge score\n",
    "fig_challenge_score = go.Figure()\n",
    "fig_challenge_score.add_trace(\n",
    "    go.Violin(\n",
    "        x=df_qa['Challenge_topic_higher_level'],\n",
    "        y=df_qa['Challenge_score'],\n",
    "        meanline_visible=True,\n",
    "        line_color='blue',\n",
    "        side='positive',\n",
    "        opacity=0.5,\n",
    "        legendgroup='QA',\n",
    "        scalegroup='QA',\n",
    "        name='QA',\n",
    "    ))\n",
    "fig_challenge_score.add_trace(\n",
    "    go.Violin(\n",
    "        x=df_git['Challenge_topic_higher_level'],\n",
    "        y=df_git['Challenge_score'],\n",
    "        meanline_visible=True,\n",
    "        line_color='orange',\n",
    "        side='negative',\n",
    "        opacity=0.5,\n",
    "        legendgroup='Git',\n",
    "        scalegroup='Git',\n",
    "        name='Git',\n",
    "    ))\n",
    "fig_challenge_score.update_layout(\n",
    "    height=1000,\n",
    "    width=2000,\n",
    "    font=dict(size=20),\n",
    "    margin=dict(l=0, r=0, t=0, b=0),\n",
    "    violingap=0,\n",
    "    violinmode='overlay',\n",
    ")\n",
    "fig_challenge_score.write_image(os.path.join(\n",
    "    path_challenge_git_qa, 'Challenge score.png'))\n",
    "\n",
    "# Challenge favorite count\n",
    "fig_challenge_favorite_count = go.Figure()\n",
    "fig_challenge_favorite_count.add_trace(\n",
    "    go.Violin(\n",
    "        x=df_qa['Challenge_topic_higher_level'],\n",
    "        y=df_qa['Challenge_favorite_count'],\n",
    "        meanline_visible=True,\n",
    "        line_color='blue',\n",
    "        side='positive',\n",
    "        opacity=0.5,\n",
    "        legendgroup='QA',\n",
    "        scalegroup='QA',\n",
    "        name='QA',\n",
    "    ))\n",
    "fig_challenge_favorite_count.add_trace(\n",
    "    go.Violin(\n",
    "        x=df_git['Challenge_topic_higher_level'],\n",
    "        y=df_git['Challenge_favorite_count'],\n",
    "        meanline_visible=True,\n",
    "        line_color='orange',\n",
    "        side='negative',\n",
    "        opacity=0.5,\n",
    "        legendgroup='Git',\n",
    "        scalegroup='Git',\n",
    "        name='Git',\n",
    "    ))\n",
    "fig_challenge_favorite_count.update_layout(\n",
    "    height=1000,\n",
    "    width=2000,\n",
    "    font=dict(size=20),\n",
    "    margin=dict(l=0, r=0, t=0, b=0),\n",
    "    violingap=0,\n",
    "    violinmode='overlay',\n",
    ")\n",
    "fig_challenge_favorite_count.write_image(os.path.join(\n",
    "    path_challenge_git_qa, 'Challenge favorite count.png'))\n",
    "\n",
    "# Challenge follower count\n",
    "fig_challenge_follower_count = go.Figure()\n",
    "fig_challenge_follower_count.add_trace(\n",
    "    go.Violin(\n",
    "        x=df_qa['Challenge_topic_higher_level'],\n",
    "        y=df_qa['Challenge_follower_count'],\n",
    "        meanline_visible=True,\n",
    "        line_color='blue',\n",
    "        side='positive',\n",
    "        opacity=0.5,\n",
    "        legendgroup='QA',\n",
    "        scalegroup='QA',\n",
    "        name='QA',\n",
    "    ))\n",
    "fig_challenge_follower_count.add_trace(\n",
    "    go.Violin(\n",
    "        x=df_git['Challenge_topic_higher_level'],\n",
    "        y=df_git['Challenge_follower_count'],\n",
    "        meanline_visible=True,\n",
    "        line_color='orange',\n",
    "        side='negative',\n",
    "        opacity=0.5,\n",
    "        legendgroup='Git',\n",
    "        scalegroup='Git',\n",
    "        name='Git',\n",
    "    ))\n",
    "fig_challenge_follower_count.update_layout(\n",
    "    height=1000,\n",
    "    width=2000,\n",
    "    font=dict(size=20),\n",
    "    margin=dict(l=0, r=0, t=0, b=0),\n",
    "    violingap=0,\n",
    "    violinmode='overlay',\n",
    ")\n",
    "fig_challenge_follower_count.write_image(os.path.join(\n",
    "    path_challenge_git_qa, 'Challenge follower count.png'))\n",
    "\n",
    "# Challenge link count\n",
    "fig_challenge_link_count = go.Figure()\n",
    "fig_challenge_link_count.add_trace(\n",
    "    go.Violin(\n",
    "        x=df_qa['Challenge_topic_higher_level'],\n",
    "        y=df_qa['Challenge_link_count'],\n",
    "        meanline_visible=True,\n",
    "        line_color='blue',\n",
    "        side='positive',\n",
    "        opacity=0.5,\n",
    "        legendgroup='QA',\n",
    "        scalegroup='QA',\n",
    "        name='QA',\n",
    "    ))\n",
    "fig_challenge_link_count.add_trace(\n",
    "    go.Violin(\n",
    "        x=df_git['Challenge_topic_higher_level'],\n",
    "        y=df_git['Challenge_link_count'],\n",
    "        meanline_visible=True,\n",
    "        line_color='orange',\n",
    "        side='negative',\n",
    "        opacity=0.5,\n",
    "        legendgroup='Git',\n",
    "        scalegroup='Git',\n",
    "        name='Git',\n",
    "    ))\n",
    "fig_challenge_link_count.update_layout(\n",
    "    height=1000,\n",
    "    width=2000,\n",
    "    font=dict(size=20),\n",
    "    margin=dict(l=0, r=0, t=0, b=0),\n",
    "    violingap=0,\n",
    "    violinmode='overlay',\n",
    ")\n",
    "fig_challenge_link_count.write_image(os.path.join(\n",
    "    path_challenge_git_qa, 'Challenge link count.png'))\n",
    "\n",
    "# Challenge readability\n",
    "fig_challenge_readability = go.Figure()\n",
    "fig_challenge_readability.add_trace(\n",
    "    go.Violin(\n",
    "        x=df_qa['Challenge_topic_higher_level'],\n",
    "        y=df_qa['Challenge_readability'],\n",
    "        meanline_visible=True,\n",
    "        line_color='blue',\n",
    "        side='positive',\n",
    "        opacity=0.5,\n",
    "        legendgroup='QA',\n",
    "        scalegroup='QA',\n",
    "        name='QA',\n",
    "    ))\n",
    "fig_challenge_readability.add_trace(\n",
    "    go.Violin(\n",
    "        x=df_git['Challenge_topic_higher_level'],\n",
    "        y=df_git['Challenge_readability'],\n",
    "        meanline_visible=True,\n",
    "        line_color='orange',\n",
    "        side='negative',\n",
    "        opacity=0.5,\n",
    "        legendgroup='Git',\n",
    "        scalegroup='Git',\n",
    "        name='Git',\n",
    "    ))\n",
    "fig_challenge_readability.update_layout(\n",
    "    height=1000,\n",
    "    width=2000,\n",
    "    font=dict(size=20),\n",
    "    margin=dict(l=0, r=0, t=0, b=0),\n",
    "    violingap=0,\n",
    "    violinmode='overlay',\n",
    ")\n",
    "fig_challenge_readability.write_image(os.path.join(\n",
    "    path_challenge_git_qa, 'Challenge readability.png'))\n",
    "\n",
    "# Challenge view count\n",
    "fig_challenge_view_count = go.Figure()\n",
    "fig_challenge_view_count.add_trace(\n",
    "    go.Violin(\n",
    "        x=df_qa['Challenge_topic_higher_level'],\n",
    "        y=df_qa['Challenge_view_count'],\n",
    "        meanline_visible=True,\n",
    "        line_color='blue',\n",
    "        side='positive',\n",
    "        opacity=0.5,\n",
    "        legendgroup='QA',\n",
    "        scalegroup='QA',\n",
    "        name='QA',\n",
    "    ))\n",
    "fig_challenge_view_count.add_trace(\n",
    "    go.Violin(\n",
    "        x=df_git['Challenge_topic_higher_level'],\n",
    "        y=df_git['Challenge_view_count'],\n",
    "        meanline_visible=True,\n",
    "        line_color='orange',\n",
    "        side='negative',\n",
    "        opacity=0.5,\n",
    "        legendgroup='Git',\n",
    "        scalegroup='Git',\n",
    "        name='Git',\n",
    "    ))\n",
    "fig_challenge_view_count.update_layout(\n",
    "    height=1000,\n",
    "    width=2000,\n",
    "    font=dict(size=20),\n",
    "    margin=dict(l=0, r=0, t=0, b=0),\n",
    "    violingap=0,\n",
    "    violinmode='overlay',\n",
    ")\n",
    "fig_challenge_view_count.write_image(os.path.join(\n",
    "    path_challenge_git_qa, 'Challenge view count.png'))\n",
    "\n",
    "# Challenge answer count\n",
    "fig_challenge_answer_count = go.Figure()\n",
    "fig_challenge_answer_count.add_trace(\n",
    "    go.Violin(\n",
    "        x=df_qa['Challenge_topic_higher_level'],\n",
    "        y=df_qa['Challenge_answer_count'],\n",
    "        meanline_visible=True,\n",
    "        line_color='blue',\n",
    "        side='positive',\n",
    "        opacity=0.5,\n",
    "        legendgroup='QA',\n",
    "        scalegroup='QA',\n",
    "        name='QA',\n",
    "    ))\n",
    "fig_challenge_answer_count.add_trace(\n",
    "    go.Violin(\n",
    "        x=df_git['Challenge_topic_higher_level'],\n",
    "        y=df_git['Challenge_answer_count'],\n",
    "        meanline_visible=True,\n",
    "        line_color='orange',\n",
    "        side='negative',\n",
    "        opacity=0.5,\n",
    "        legendgroup='Git',\n",
    "        scalegroup='Git',\n",
    "        name='Git',\n",
    "    ))\n",
    "fig_challenge_answer_count.update_layout(\n",
    "    height=1000,\n",
    "    width=2000,\n",
    "    font=dict(size=20),\n",
    "    margin=dict(l=0, r=0, t=0, b=0),\n",
    "    violingap=0,\n",
    "    violinmode='overlay',\n",
    ")\n",
    "fig_challenge_answer_count.write_image(os.path.join(\n",
    "    path_challenge_git_qa, 'Challenge answer count.png'))\n",
    "\n",
    "# Challenge comment count\n",
    "fig_challenge_comment_count = go.Figure()\n",
    "fig_challenge_comment_count.add_trace(\n",
    "    go.Violin(\n",
    "        x=df_qa['Challenge_topic_higher_level'],\n",
    "        y=df_qa['Challenge_comment_count'],\n",
    "        meanline_visible=True,\n",
    "        line_color='blue',\n",
    "        side='positive',\n",
    "        opacity=0.5,\n",
    "        legendgroup='QA',\n",
    "        scalegroup='QA',\n",
    "        name='QA',\n",
    "    ))\n",
    "fig_challenge_comment_count.add_trace(\n",
    "    go.Violin(\n",
    "        x=df_git['Challenge_topic_higher_level'],\n",
    "        y=df_git['Challenge_comment_count'],\n",
    "        meanline_visible=True,\n",
    "        line_color='orange',\n",
    "        side='negative',\n",
    "        opacity=0.5,\n",
    "        legendgroup='Git',\n",
    "        scalegroup='Git',\n",
    "        name='Git',\n",
    "    ))\n",
    "fig_challenge_comment_count.update_layout(\n",
    "    height=1000,\n",
    "    width=2000,\n",
    "    font=dict(size=20),\n",
    "    margin=dict(l=0, r=0, t=0, b=0),\n",
    "    violingap=0,\n",
    "    violinmode='overlay',\n",
    ")\n",
    "fig_challenge_comment_count.write_image(os.path.join(\n",
    "    path_challenge_git_qa, 'Challenge comment count.png'))\n",
    "\n",
    "fig_challenge_solved_time_git = go.Figure()\n",
    "fig_challenge_solved_time_qa = go.Figure()\n",
    "fig_challenge_adjusted_solved_time_git = go.Figure()\n",
    "fig_challenge_adjusted_solved_time_qa = go.Figure()\n",
    "\n",
    "for name_group, color in zip(df_challenge.groupby('Challenge_topic_higher_level'), colors):\n",
    "    name, group = name_group\n",
    "    qa = group[group['Platform'].isin(['Stack Overflow', 'Tool-specific'])]\n",
    "    git = group[group['Platform'].isin(['Github', 'Gitlab'])]\n",
    "\n",
    "    fig_challenge_solved_time_git.add_trace(go.Violin(x=git['Challenge_solved_time'], y=git['Challenge_topic_higher_level'], line_color=color))\n",
    "    fig_challenge_solved_time_qa.add_trace(go.Violin(x=qa['Challenge_solved_time'], y=qa['Challenge_topic_higher_level'], line_color=color))\n",
    "    fig_challenge_adjusted_solved_time_git.add_trace(go.Violin(x=git['Challenge_adjusted_solved_time'], y=git['Challenge_topic_higher_level'], line_color=color))\n",
    "    fig_challenge_adjusted_solved_time_qa.add_trace(go.Violin(x=qa['Challenge_adjusted_solved_time'], y=qa['Challenge_topic_higher_level'], line_color=color))\n",
    "\n",
    "    # Challenge score\n",
    "    challenge_score_qa = qa[qa['Challenge_score'].notna(\n",
    "    )]['Challenge_score']\n",
    "    challenge_score_git = git[git['Challenge_score'].notna(\n",
    "    )]['Challenge_score']\n",
    "    if len(challenge_score_qa) * len(challenge_score_git) > 0:\n",
    "        _, p = mannwhitneyu(challenge_score_qa, challenge_score_git)\n",
    "        if p < alpha:\n",
    "            print(\n",
    "                f'p = {p}, indicating different distribution of Q&A fora vs Git repos challenge regarding higher level topic {name} in challenge score')\n",
    "\n",
    "    # Challenge favorite count\n",
    "    challenge_favorite_count_qa = qa[qa['Challenge_favorite_count'].notna(\n",
    "    )]['Challenge_favorite_count']\n",
    "    challenge_favorite_count_git = git[git['Challenge_favorite_count'].notna(\n",
    "    )]['Challenge_favorite_count']\n",
    "    if len(challenge_favorite_count_qa) * len(challenge_favorite_count_git) > 0:\n",
    "        _, p = mannwhitneyu(challenge_favorite_count_qa,\n",
    "                            challenge_favorite_count_git)\n",
    "        if p < alpha:\n",
    "            print(\n",
    "                f'p = {p}, indicating different distribution of Q&A fora vs Git repos challenge regarding higher level topic {name} in challenge favorite count')\n",
    "\n",
    "    # Challenge follower count\n",
    "    challenge_follower_count_qa = qa[qa['Challenge_follower_count'].notna(\n",
    "    )]['Challenge_follower_count']\n",
    "    challenge_follower_count_git = git[git['Challenge_follower_count'].notna(\n",
    "    )]['Challenge_follower_count']\n",
    "    if len(challenge_follower_count_qa) * len(challenge_follower_count_git) > 0:\n",
    "        _, p = mannwhitneyu(challenge_follower_count_qa,\n",
    "                            challenge_follower_count_git)\n",
    "        if p < alpha:\n",
    "            print(\n",
    "                f'p = {p}, indicating different distribution of Q&A fora vs Git repos challenge regarding higher level topic {name} in challenge follower count')\n",
    "\n",
    "    # Challenge link count\n",
    "    challenge_link_count_qa = qa[qa['Challenge_link_count'].notna(\n",
    "    )]['Challenge_link_count']\n",
    "    challenge_link_count_git = git[git['Challenge_link_count'].notna(\n",
    "    )]['Challenge_link_count']\n",
    "    if len(challenge_link_count_qa) * len(challenge_link_count_git) > 0:\n",
    "        _, p = mannwhitneyu(challenge_link_count_qa, challenge_link_count_git)\n",
    "        if p < alpha:\n",
    "            print(\n",
    "                f'p = {p}, indicating different distribution of Q&A fora vs Git repos challenge regarding higher level topic {name} in challenge link count')\n",
    "\n",
    "    # Challenge readability\n",
    "    challenge_readability_qa = qa[qa['Challenge_readability'].notna(\n",
    "    )]['Challenge_readability']\n",
    "    challenge_readability_git = git[git['Challenge_readability'].notna(\n",
    "    )]['Challenge_readability']\n",
    "    if len(challenge_readability_qa) * len(challenge_readability_git) > 0:\n",
    "        _, p = mannwhitneyu(challenge_readability_qa,\n",
    "                            challenge_readability_git)\n",
    "        if p < alpha:\n",
    "            print(\n",
    "                f'p = {p}, indicating different distribution of Q&A fora vs Git repos challenge regarding higher level topic {name} in challenge readability')\n",
    "\n",
    "    # Challenge view count\n",
    "    challenge_view_count_qa = qa[qa['Challenge_view_count'].notna(\n",
    "    )]['Challenge_view_count']\n",
    "    challenge_view_count_git = git[git['Challenge_view_count'].notna(\n",
    "    )]['Challenge_view_count']\n",
    "    if len(challenge_view_count_qa) * len(challenge_view_count_git) > 0:\n",
    "        _, p = mannwhitneyu(challenge_view_count_qa,\n",
    "                            challenge_view_count_git)\n",
    "        if p < alpha:\n",
    "            print(\n",
    "                f'p = {p}, indicating different distribution of Q&A fora vs Git repos challenge regarding higher level topic {name} in challenge answer count')\n",
    "\n",
    "    # Challenge answer count\n",
    "    challenge_answer_count_qa = qa[qa['Challenge_answer_count'].notna(\n",
    "    )]['Challenge_answer_count']\n",
    "    challenge_answer_count_git = git[git['Challenge_answer_count'].notna(\n",
    "    )]['Challenge_answer_count']\n",
    "    if len(challenge_answer_count_qa) * len(challenge_answer_count_git) > 0:\n",
    "        _, p = mannwhitneyu(challenge_answer_count_qa,\n",
    "                            challenge_answer_count_git)\n",
    "        if p < alpha:\n",
    "            print(\n",
    "                f'p = {p}, indicating different distribution of Q&A fora vs Git repos challenge regarding higher level topic {name} in challenge answer count')\n",
    "\n",
    "    # Challenge comment count\n",
    "    challenge_comment_count_qa = qa[qa['Challenge_comment_count'].notna(\n",
    "    )]['Challenge_comment_count']\n",
    "    challenge_comment_count_git = git[git['Challenge_comment_count'].notna(\n",
    "    )]['Challenge_comment_count']\n",
    "    if len(challenge_comment_count_qa) * len(challenge_comment_count_git) > 0:\n",
    "        _, p = mannwhitneyu(challenge_comment_count_qa,\n",
    "                            challenge_comment_count_git)\n",
    "        if p < alpha:\n",
    "            print(\n",
    "                f'p = {p}, indicating different distribution of Q&A fora vs Git repos challenge regarding higher level topic {name} in challenge comment count')\n",
    "\n",
    "fig_challenge_solved_time_git.update_traces(orientation='h', meanline_visible=True, side='positive', width=3, points=False)\n",
    "fig_challenge_solved_time_git.update_layout(\n",
    "    height=1000,\n",
    "    width=2000,\n",
    "    font=dict(size=20),\n",
    "    margin=dict(l=0, r=0, t=0, b=0),\n",
    "    violingap=0,\n",
    "    violinmode='overlay',\n",
    "    xaxis_showgrid=False, \n",
    "    xaxis_zeroline=False, \n",
    "    showlegend=False, \n",
    "    xaxis_title='Challenge solved time (hours) - Git',\n",
    ")\n",
    "fig_challenge_solved_time_git.write_image(os.path.join(\n",
    "    path_challenge_git_qa, 'Challenge solved time (Git).png'))\n",
    "\n",
    "fig_challenge_solved_time_qa.update_traces(orientation='h', meanline_visible=True, side='positive', width=3, points=False)\n",
    "fig_challenge_solved_time_qa.update_layout(\n",
    "    height=1000,\n",
    "    width=2000,\n",
    "    font=dict(size=20),\n",
    "    margin=dict(l=0, r=0, t=0, b=0),\n",
    "    violingap=0,\n",
    "    violinmode='overlay',\n",
    "    xaxis_showgrid=False, \n",
    "    xaxis_zeroline=False, \n",
    "    showlegend=False, \n",
    "    xaxis_title='Challenge solved time (hours) - QA',\n",
    ")\n",
    "fig_challenge_solved_time_qa.write_image(os.path.join(\n",
    "    path_challenge_git_qa, 'Challenge solved time (QA).png'))\n",
    "\n",
    "fig_challenge_adjusted_solved_time_git.update_traces(orientation='h', meanline_visible=True, side='positive', width=3, points=False)\n",
    "fig_challenge_adjusted_solved_time_git.update_layout(\n",
    "    height=1000,\n",
    "    width=2000,\n",
    "    font=dict(size=20),\n",
    "    margin=dict(l=0, r=0, t=0, b=0),\n",
    "    violingap=0,\n",
    "    violinmode='overlay',\n",
    "    xaxis_showgrid=False, \n",
    "    xaxis_zeroline=False, \n",
    "    showlegend=False, \n",
    "    xaxis_title='Challenge adjusted solved time (hours) - Git',\n",
    ")\n",
    "fig_challenge_adjusted_solved_time_git.write_image(os.path.join(\n",
    "    path_challenge_git_qa, 'Challenge adjusted solved time (Git).png'))\n",
    "\n",
    "fig_challenge_adjusted_solved_time_qa.update_traces(orientation='h', meanline_visible=True, side='positive', width=3, points=False)\n",
    "fig_challenge_adjusted_solved_time_qa.update_layout(\n",
    "    height=1000,\n",
    "    width=2000,\n",
    "    font=dict(size=20),\n",
    "    margin=dict(l=0, r=0, t=0, b=0),\n",
    "    violingap=0,\n",
    "    violinmode='overlay',\n",
    "    xaxis_showgrid=False, \n",
    "    xaxis_zeroline=False, \n",
    "    showlegend=False, \n",
    "    xaxis_title='Challenge adjusted solved time (hours) - QA',\n",
    ")\n",
    "fig_challenge_adjusted_solved_time_qa.write_image(os.path.join(\n",
    "    path_challenge_git_qa, 'Challenge adjusted solved time (QA).png'))\n",
    "\n",
    "# Challenge hgher level mean solved time\n",
    "challenge_mean_solved_time_qa = df_qa[['Challenge_topic_higher_level', 'Challenge_solved_time']].groupby(\n",
    "    'Challenge_topic_higher_level').mean()['Challenge_solved_time']\n",
    "challenge_mean_solved_time_git = df_git[['Challenge_topic_higher_level', 'Challenge_solved_time']].groupby(\n",
    "    'Challenge_topic_higher_level').mean()['Challenge_solved_time']\n",
    "_, p = mannwhitneyu(challenge_mean_solved_time_qa,\n",
    "                    challenge_mean_solved_time_git)\n",
    "if p < alpha:\n",
    "    print(f'p = {p}, indicating different distribution of Q&A fora vs Git repos in higher level mean challenge solved time')\n",
    "\n",
    "# Challenge hgher level median solved time\n",
    "challenge_median_solved_time_qa = df_qa[['Challenge_topic_higher_level', 'Challenge_solved_time']].groupby(\n",
    "    'Challenge_topic_higher_level').median()['Challenge_solved_time']\n",
    "challenge_median_solved_time_git = df_git[['Challenge_topic_higher_level', 'Challenge_solved_time']].groupby(\n",
    "    'Challenge_topic_higher_level').median()['Challenge_solved_time']\n",
    "_, p = mannwhitneyu(challenge_median_solved_time_qa,\n",
    "                    challenge_median_solved_time_git)\n",
    "if p < alpha:\n",
    "    print(f'p = {p}, indicating different distribution of Q&A fora vs Git repos in higher level median challenge solved time')\n",
    "\n",
    "# Challenge hgher level adjusted mean solved time\n",
    "challenge_adjusted_mean_solved_time_qa = df_qa[['Challenge_topic_higher_level', 'Challenge_adjusted_solved_time']].groupby(\n",
    "    'Challenge_topic_higher_level').mean()['Challenge_adjusted_solved_time']\n",
    "challenge_adjusted_mean_solved_time_git = df_git[['Challenge_topic_higher_level', 'Challenge_adjusted_solved_time']].groupby(\n",
    "    'Challenge_topic_higher_level').mean()['Challenge_adjusted_solved_time']\n",
    "_, p = mannwhitneyu(challenge_adjusted_mean_solved_time_qa,\n",
    "                    challenge_adjusted_mean_solved_time_git)\n",
    "if p < alpha:\n",
    "    print(f'p = {p}, indicating different distribution of Q&A fora vs Git repos in higher level adjusted mean challenge solved time')\n",
    "\n",
    "# Challenge hgher level adjusted median solved time\n",
    "challenge_adjusted_median_solved_time_qa = df_qa[['Challenge_topic_higher_level', 'Challenge_adjusted_solved_time']].groupby(\n",
    "    'Challenge_topic_higher_level').median()['Challenge_adjusted_solved_time']\n",
    "challenge_adjusted_median_solved_time_git = df_git[['Challenge_topic_higher_level', 'Challenge_adjusted_solved_time']].groupby(\n",
    "    'Challenge_topic_higher_level').median()['Challenge_adjusted_solved_time']\n",
    "_, p = mannwhitneyu(challenge_adjusted_median_solved_time_qa,\n",
    "                    challenge_adjusted_median_solved_time_git)\n",
    "if p < alpha:\n",
    "    print(f'p = {p}, indicating different distribution of Q&A fora vs Git repos in higher level adjusted median challenge solved time')\n"
   ]
  },
  {
   "cell_type": "code",
   "execution_count": 58,
   "metadata": {},
   "outputs": [
    {
     "name": "stdout",
     "output_type": "stream",
     "text": [
      "p = 0.003619997129911227, indicating different distribution of open and closed challenge regarding higher level topic Code Management in challenge readability\n",
      "p = 0.0008067213000916159, indicating different distribution of open and closed challenge regarding higher level topic Code Management in challenge answer count\n",
      "p = 0.0031505139398174107, indicating different distribution of open and closed challenge regarding higher level topic Code Management in challenge comment count\n",
      "p = 0.0014299391886427608, indicating different distribution of open and closed challenge regarding higher level topic Data Management in challenge score\n",
      "p = 0.029040710211535332, indicating different distribution of open and closed challenge regarding higher level topic Data Management in challenge favorite count\n",
      "p = 1.135883397836137e-11, indicating different distribution of open and closed challenge regarding higher level topic Data Management in challenge answer count\n",
      "p = 0.0010072633160112027, indicating different distribution of open and closed challenge regarding higher level topic Data Management in challenge answer count\n",
      "p = 2.3183725369993917e-06, indicating different distribution of open and closed challenge regarding higher level topic Deployment Management in challenge score\n",
      "p = 0.001498509849542922, indicating different distribution of open and closed challenge regarding higher level topic Deployment Management in challenge link count\n",
      "p = 1.591384398668735e-14, indicating different distribution of open and closed challenge regarding higher level topic Deployment Management in challenge answer count\n",
      "p = 2.4002662592456124e-15, indicating different distribution of open and closed challenge regarding higher level topic Deployment Management in challenge answer count\n",
      "p = 0.007752724555683789, indicating different distribution of open and closed challenge regarding higher level topic Deployment Management in challenge comment count\n",
      "p = 0.01929386566974055, indicating different distribution of open and closed challenge regarding higher level topic Infrastructure Management in challenge score\n",
      "p = 3.313663791720272e-20, indicating different distribution of open and closed challenge regarding higher level topic Infrastructure Management in challenge answer count\n",
      "p = 1.8962484022234327e-20, indicating different distribution of open and closed challenge regarding higher level topic Infrastructure Management in challenge answer count\n",
      "p = 0.002661574038929767, indicating different distribution of open and closed challenge regarding higher level topic Infrastructure Management in challenge comment count\n",
      "p = 0.019040250608462768, indicating different distribution of open and closed challenge regarding higher level topic Lifecycle Management in challenge score\n",
      "p = 0.022635224367393528, indicating different distribution of open and closed challenge regarding higher level topic Lifecycle Management in challenge link count\n",
      "p = 6.904899711851609e-05, indicating different distribution of open and closed challenge regarding higher level topic Lifecycle Management in challenge answer count\n",
      "p = 5.221836834649739e-08, indicating different distribution of open and closed challenge regarding higher level topic Lifecycle Management in challenge answer count\n",
      "p = 2.0718089021120765e-06, indicating different distribution of open and closed challenge regarding higher level topic Model Management in challenge score\n",
      "p = 6.057730379403783e-13, indicating different distribution of open and closed challenge regarding higher level topic Model Management in challenge answer count\n",
      "p = 1.528901741899079e-06, indicating different distribution of open and closed challenge regarding higher level topic Model Management in challenge answer count\n",
      "p = 0.032759189251552204, indicating different distribution of open and closed challenge regarding higher level topic Report Management in challenge readability\n",
      "p = 0.0047033344921890655, indicating different distribution of open and closed challenge regarding higher level topic Security Management in challenge answer count\n",
      "p = 0.04835164986356231, indicating different distribution of open and closed challenge regarding higher level topic Security Management in challenge answer count\n"
     ]
    }
   ],
   "source": [
    "# Collect and compared open vs closed challenges across different topics\n",
    "\n",
    "df = pd.read_json(os.path.join(path_general, 'assigned.json'))\n",
    "\n",
    "df_challenge = df[df['Challenge_topic'].notna()]\n",
    "df_challenge = df_challenge[df_challenge['Challenge_topic'].isin(\n",
    "    topic_ensemble)]\n",
    "df_challenge['Challenge_topic_higher_level'] = df_challenge['Challenge_topic'].map(\n",
    "    topic_ensemble_inverse)\n",
    "\n",
    "df_open = df_challenge[df_challenge['Challenge_closed_time'].isna()]\n",
    "df_closed = df_challenge[df_challenge['Challenge_closed_time'].notna()]\n",
    "\n",
    "# Challenge topic count\n",
    "fig_challenge_count = go.Figure()\n",
    "fig_challenge_count.add_trace(\n",
    "    go.Violin(\n",
    "        x=np.full(len(df_open), 'Challenge topic count (higher level)'),\n",
    "        y=df_open['Challenge_topic_higher_level'],\n",
    "        opacity=0.5,\n",
    "        name='Open',\n",
    "    ))\n",
    "fig_challenge_count.add_trace(\n",
    "    go.Violin(\n",
    "        x=np.full(len(df_closed), 'Challenge topic count (higher level)'),\n",
    "        y=df_closed['Challenge_topic_higher_level'],\n",
    "        opacity=0.5,\n",
    "        name='Closed',\n",
    "    ))\n",
    "fig_challenge_count.update_layout(\n",
    "    height=1000,\n",
    "    width=2000,\n",
    "    font=dict(size=20),\n",
    "    margin=dict(l=0, r=0, t=0, b=0),\n",
    "    violingap=0,\n",
    "    violinmode='overlay',\n",
    ")\n",
    "fig_challenge_count.write_image(os.path.join(\n",
    "    path_challenge_open_closed, 'Challenge count.png'))\n",
    "\n",
    "# Challenge score\n",
    "fig_challenge_score = go.Figure()\n",
    "fig_challenge_score.add_trace(\n",
    "    go.Violin(\n",
    "        x=df_open['Challenge_topic_higher_level'],\n",
    "        y=df_open['Challenge_score'],\n",
    "        meanline_visible=True,\n",
    "        line_color='blue',\n",
    "        side='positive',\n",
    "        opacity=0.5,\n",
    "        legendgroup='Open',\n",
    "        scalegroup='Open',\n",
    "        name='Open',\n",
    "    ))\n",
    "fig_challenge_score.add_trace(\n",
    "    go.Violin(\n",
    "        x=df_closed['Challenge_topic_higher_level'],\n",
    "        y=df_closed['Challenge_score'],\n",
    "        meanline_visible=True,\n",
    "        line_color='orange',\n",
    "        side='negative',\n",
    "        opacity=0.5,\n",
    "        legendgroup='Closed',\n",
    "        scalegroup='Closed',\n",
    "        name='Closed',\n",
    "    ))\n",
    "fig_challenge_score.update_layout(\n",
    "    height=1000,\n",
    "    width=2000,\n",
    "    font=dict(size=20),\n",
    "    margin=dict(l=0, r=0, t=0, b=0),\n",
    "    violingap=0,\n",
    "    violinmode='overlay',\n",
    ")\n",
    "fig_challenge_score.write_image(os.path.join(\n",
    "    path_challenge_open_closed, 'Challenge score.png'))\n",
    "\n",
    "# Challenge favorite count\n",
    "fig_challenge_favorite_count = go.Figure()\n",
    "fig_challenge_favorite_count.add_trace(\n",
    "    go.Violin(\n",
    "        x=df_open['Challenge_topic_higher_level'],\n",
    "        y=df_open['Challenge_favorite_count'],\n",
    "        meanline_visible=True,\n",
    "        line_color='blue',\n",
    "        side='positive',\n",
    "        opacity=0.5,\n",
    "        legendgroup='Open',\n",
    "        scalegroup='Open',\n",
    "        name='Open',\n",
    "    ))\n",
    "fig_challenge_favorite_count.add_trace(\n",
    "    go.Violin(\n",
    "        x=df_closed['Challenge_topic_higher_level'],\n",
    "        y=df_closed['Challenge_favorite_count'],\n",
    "        meanline_visible=True,\n",
    "        line_color='orange',\n",
    "        side='negative',\n",
    "        opacity=0.5,\n",
    "        legendgroup='Closed',\n",
    "        scalegroup='Closed',\n",
    "        name='Closed',\n",
    "    ))\n",
    "fig_challenge_favorite_count.update_layout(\n",
    "    height=1000,\n",
    "    width=2000,\n",
    "    font=dict(size=20),\n",
    "    margin=dict(l=0, r=0, t=0, b=0),\n",
    "    violingap=0,\n",
    "    violinmode='overlay',\n",
    ")\n",
    "fig_challenge_favorite_count.write_image(os.path.join(\n",
    "    path_challenge_open_closed, 'Challenge favorite count.png'))\n",
    "\n",
    "# Challenge follower count\n",
    "fig_challenge_follower_count = go.Figure()\n",
    "fig_challenge_follower_count.add_trace(\n",
    "    go.Violin(\n",
    "        x=df_open['Challenge_topic_higher_level'],\n",
    "        y=df_open['Challenge_follower_count'],\n",
    "        meanline_visible=True,\n",
    "        line_color='blue',\n",
    "        side='positive',\n",
    "        opacity=0.5,\n",
    "        legendgroup='Open',\n",
    "        scalegroup='Open',\n",
    "        name='Open',\n",
    "    ))\n",
    "fig_challenge_follower_count.add_trace(\n",
    "    go.Violin(\n",
    "        x=df_closed['Challenge_topic_higher_level'],\n",
    "        y=df_closed['Challenge_follower_count'],\n",
    "        meanline_visible=True,\n",
    "        line_color='orange',\n",
    "        side='negative',\n",
    "        opacity=0.5,\n",
    "        legendgroup='Closed',\n",
    "        scalegroup='Closed',\n",
    "        name='Closed',\n",
    "    ))\n",
    "fig_challenge_follower_count.update_layout(\n",
    "    height=1000,\n",
    "    width=2000,\n",
    "    font=dict(size=20),\n",
    "    margin=dict(l=0, r=0, t=0, b=0),\n",
    "    violingap=0,\n",
    "    violinmode='overlay',\n",
    ")\n",
    "fig_challenge_follower_count.write_image(os.path.join(\n",
    "    path_challenge_open_closed, 'Challenge follower count.png'))\n",
    "\n",
    "# Challenge link count\n",
    "fig_challenge_link_count = go.Figure()\n",
    "fig_challenge_link_count.add_trace(\n",
    "    go.Violin(\n",
    "        x=df_open['Challenge_topic_higher_level'],\n",
    "        y=df_open['Challenge_link_count'],\n",
    "        meanline_visible=True,\n",
    "        line_color='blue',\n",
    "        side='positive',\n",
    "        opacity=0.5,\n",
    "        legendgroup='Open',\n",
    "        scalegroup='Open',\n",
    "        name='Open',\n",
    "    ))\n",
    "fig_challenge_link_count.add_trace(\n",
    "    go.Violin(\n",
    "        x=df_closed['Challenge_topic_higher_level'],\n",
    "        y=df_closed['Challenge_link_count'],\n",
    "        meanline_visible=True,\n",
    "        line_color='orange',\n",
    "        side='negative',\n",
    "        opacity=0.5,\n",
    "        legendgroup='Closed',\n",
    "        scalegroup='Closed',\n",
    "        name='Closed',\n",
    "    ))\n",
    "fig_challenge_link_count.update_layout(\n",
    "    height=1000,\n",
    "    width=2000,\n",
    "    font=dict(size=20),\n",
    "    margin=dict(l=0, r=0, t=0, b=0),\n",
    "    violingap=0,\n",
    "    violinmode='overlay',\n",
    ")\n",
    "fig_challenge_link_count.write_image(os.path.join(\n",
    "    path_challenge_open_closed, 'Challenge link count.png'))\n",
    "\n",
    "# Challenge readability\n",
    "fig_challenge_readability = go.Figure()\n",
    "fig_challenge_readability.add_trace(\n",
    "    go.Violin(\n",
    "        x=df_open['Challenge_topic_higher_level'],\n",
    "        y=df_open['Challenge_readability'],\n",
    "        meanline_visible=True,\n",
    "        line_color='blue',\n",
    "        side='positive',\n",
    "        opacity=0.5,\n",
    "        legendgroup='Open',\n",
    "        scalegroup='Open',\n",
    "        name='Open',\n",
    "    ))\n",
    "fig_challenge_readability.add_trace(\n",
    "    go.Violin(\n",
    "        x=df_closed['Challenge_topic_higher_level'],\n",
    "        y=df_closed['Challenge_readability'],\n",
    "        meanline_visible=True,\n",
    "        line_color='orange',\n",
    "        side='negative',\n",
    "        opacity=0.5,\n",
    "        legendgroup='Closed',\n",
    "        scalegroup='Closed',\n",
    "        name='Closed',\n",
    "    ))\n",
    "fig_challenge_readability.update_layout(\n",
    "    height=1000,\n",
    "    width=2000,\n",
    "    font=dict(size=20),\n",
    "    margin=dict(l=0, r=0, t=0, b=0),\n",
    "    violingap=0,\n",
    "    violinmode='overlay',\n",
    ")\n",
    "fig_challenge_readability.write_image(os.path.join(\n",
    "    path_challenge_open_closed, 'Challenge readability.png'))\n",
    "\n",
    "# Challenge view count\n",
    "fig_challenge_view_count = go.Figure()\n",
    "fig_challenge_view_count.add_trace(\n",
    "    go.Violin(\n",
    "        x=df_open['Challenge_topic_higher_level'],\n",
    "        y=df_open['Challenge_view_count'],\n",
    "        meanline_visible=True,\n",
    "        line_color='blue',\n",
    "        side='positive',\n",
    "        opacity=0.5,\n",
    "        legendgroup='Open',\n",
    "        scalegroup='Open',\n",
    "        name='Open',\n",
    "    ))\n",
    "fig_challenge_view_count.add_trace(\n",
    "    go.Violin(\n",
    "        x=df_closed['Challenge_topic_higher_level'],\n",
    "        y=df_closed['Challenge_view_count'],\n",
    "        meanline_visible=True,\n",
    "        line_color='orange',\n",
    "        side='negative',\n",
    "        opacity=0.5,\n",
    "        legendgroup='Closed',\n",
    "        scalegroup='Closed',\n",
    "        name='Closed',\n",
    "    ))\n",
    "fig_challenge_view_count.update_layout(\n",
    "    height=1000,\n",
    "    width=2000,\n",
    "    font=dict(size=20),\n",
    "    margin=dict(l=0, r=0, t=0, b=0),\n",
    "    violingap=0,\n",
    "    violinmode='overlay',\n",
    ")\n",
    "fig_challenge_view_count.write_image(os.path.join(\n",
    "    path_challenge_open_closed, 'Challenge view count.png'))\n",
    "\n",
    "# Challenge answer count\n",
    "fig_challenge_answer_count = go.Figure()\n",
    "fig_challenge_answer_count.add_trace(\n",
    "    go.Violin(\n",
    "        x=df_open['Challenge_topic_higher_level'],\n",
    "        y=df_open['Challenge_answer_count'],\n",
    "        meanline_visible=True,\n",
    "        line_color='blue',\n",
    "        side='positive',\n",
    "        opacity=0.5,\n",
    "        legendgroup='Open',\n",
    "        scalegroup='Open',\n",
    "        name='Open',\n",
    "    ))\n",
    "fig_challenge_answer_count.add_trace(\n",
    "    go.Violin(\n",
    "        x=df_closed['Challenge_topic_higher_level'],\n",
    "        y=df_closed['Challenge_answer_count'],\n",
    "        meanline_visible=True,\n",
    "        line_color='orange',\n",
    "        side='negative',\n",
    "        opacity=0.5,\n",
    "        legendgroup='Closed',\n",
    "        scalegroup='Closed',\n",
    "        name='Closed',\n",
    "    ))\n",
    "fig_challenge_answer_count.update_layout(\n",
    "    height=1000,\n",
    "    width=2000,\n",
    "    font=dict(size=20),\n",
    "    margin=dict(l=0, r=0, t=0, b=0),\n",
    "    violingap=0,\n",
    "    violinmode='overlay',\n",
    ")\n",
    "fig_challenge_answer_count.write_image(os.path.join(\n",
    "    path_challenge_open_closed, 'Challenge answer count.png'))\n",
    "\n",
    "# Challenge comment count\n",
    "fig_challenge_comment_count = go.Figure()\n",
    "fig_challenge_comment_count.add_trace(\n",
    "    go.Violin(\n",
    "        x=df_open['Challenge_topic_higher_level'],\n",
    "        y=df_open['Challenge_comment_count'],\n",
    "        meanline_visible=True,\n",
    "        line_color='blue',\n",
    "        side='positive',\n",
    "        opacity=0.5,\n",
    "        legendgroup='Open',\n",
    "        scalegroup='Open',\n",
    "        name='Open',\n",
    "    ))\n",
    "fig_challenge_comment_count.add_trace(\n",
    "    go.Violin(\n",
    "        x=df_closed['Challenge_topic_higher_level'],\n",
    "        y=df_closed['Challenge_comment_count'],\n",
    "        meanline_visible=True,\n",
    "        line_color='orange',\n",
    "        side='negative',\n",
    "        opacity=0.5,\n",
    "        legendgroup='Closed',\n",
    "        scalegroup='Closed',\n",
    "        name='Closed',\n",
    "    ))\n",
    "fig_challenge_comment_count.update_layout(\n",
    "    height=1000,\n",
    "    width=2000,\n",
    "    font=dict(size=20),\n",
    "    margin=dict(l=0, r=0, t=0, b=0),\n",
    "    violingap=0,\n",
    "    violinmode='overlay',\n",
    ")\n",
    "fig_challenge_comment_count.write_image(os.path.join(\n",
    "    path_challenge_open_closed, 'Challenge comment count.png'))\n",
    "\n",
    "fig_challenge_solved_time_closed = go.Figure()\n",
    "fig_challenge_adjusted_solved_time_closed = go.Figure()\n",
    "\n",
    "for name_group, color in zip(df_challenge.groupby('Challenge_topic_higher_level'), colors):\n",
    "    name, group = name_group\n",
    "    open = group[group['Challenge_closed_time'].isna()]\n",
    "    closed = group[group['Challenge_closed_time'].notna()]\n",
    "\n",
    "    fig_challenge_solved_time_closed.add_trace(go.Violin(x=closed['Challenge_solved_time'], y=closed['Challenge_topic_higher_level'], line_color=color))\n",
    "    fig_challenge_adjusted_solved_time_closed.add_trace(go.Violin(x=closed['Challenge_adjusted_solved_time'], y=closed['Challenge_topic_higher_level'], line_color=color))\n",
    "\n",
    "    # Challenge score\n",
    "    challenge_score_open = open[open['Challenge_score'].notna(\n",
    "    )]['Challenge_score']\n",
    "    challenge_score_closed = closed[closed['Challenge_score'].notna(\n",
    "    )]['Challenge_score']\n",
    "    if len(challenge_score_open) * len(challenge_score_closed) > 0:\n",
    "        _, p = mannwhitneyu(challenge_score_open, challenge_score_closed)\n",
    "        if p < alpha:\n",
    "            print(\n",
    "                f'p = {p}, indicating different distribution of open vs closed challenge regarding higher level topic {name} in challenge score')\n",
    "\n",
    "    # Challenge favorite count\n",
    "    challenge_favorite_count_open = open[open['Challenge_favorite_count'].notna(\n",
    "    )]['Challenge_favorite_count']\n",
    "    challenge_favorite_count_closed = closed[closed['Challenge_favorite_count'].notna(\n",
    "    )]['Challenge_favorite_count']\n",
    "    if len(challenge_favorite_count_open) * len(challenge_favorite_count_closed) > 0:\n",
    "        _, p = mannwhitneyu(challenge_favorite_count_open,\n",
    "                            challenge_favorite_count_closed)\n",
    "        if p < alpha:\n",
    "            print(\n",
    "                f'p = {p}, indicating different distribution of open vs closed challenge regarding higher level topic {name} in challenge favorite count')\n",
    "\n",
    "    # Challenge follower count\n",
    "    challenge_follower_count_open = open[open['Challenge_follower_count'].notna(\n",
    "    )]['Challenge_follower_count']\n",
    "    challenge_follower_count_closed = closed[closed['Challenge_follower_count'].notna(\n",
    "    )]['Challenge_follower_count']\n",
    "    if len(challenge_follower_count_open) * len(challenge_follower_count_closed) > 0:\n",
    "        _, p = mannwhitneyu(challenge_follower_count_open,\n",
    "                            challenge_follower_count_closed)\n",
    "        if p < alpha:\n",
    "            print(\n",
    "                f'p = {p}, indicating different distribution of open vs closed challenge regarding higher level topic {name} in challenge follower count')\n",
    "\n",
    "    # Challenge link count\n",
    "    challenge_link_count_open = open[open['Challenge_link_count'].notna(\n",
    "    )]['Challenge_link_count']\n",
    "    challenge_link_count_closed = closed[closed['Challenge_link_count'].notna(\n",
    "    )]['Challenge_link_count']\n",
    "    if len(challenge_link_count_open) * len(challenge_link_count_closed) > 0:\n",
    "        _, p = mannwhitneyu(challenge_link_count_open, challenge_link_count_closed)\n",
    "        if p < alpha:\n",
    "            print(\n",
    "                f'p = {p}, indicating different distribution of open vs closed challenge regarding higher level topic {name} in challenge link count')\n",
    "\n",
    "    # Challenge readability\n",
    "    challenge_readability_open = open[open['Challenge_readability'].notna(\n",
    "    )]['Challenge_readability']\n",
    "    challenge_readability_closed = closed[closed['Challenge_readability'].notna(\n",
    "    )]['Challenge_readability']\n",
    "    if len(challenge_readability_open) * len(challenge_readability_closed) > 0:\n",
    "        _, p = mannwhitneyu(challenge_readability_open,\n",
    "                            challenge_readability_closed)\n",
    "        if p < alpha:\n",
    "            print(\n",
    "                f'p = {p}, indicating different distribution of open vs closed challenge regarding higher level topic {name} in challenge readability')\n",
    "\n",
    "    # Challenge view count\n",
    "    challenge_view_count_open = open[open['Challenge_view_count'].notna(\n",
    "    )]['Challenge_view_count']\n",
    "    challenge_view_count_closed = closed[closed['Challenge_view_count'].notna(\n",
    "    )]['Challenge_view_count']\n",
    "    if len(challenge_view_count_open) * len(challenge_view_count_closed) > 0:\n",
    "        _, p = mannwhitneyu(challenge_view_count_open,\n",
    "                            challenge_view_count_closed)\n",
    "        if p < alpha:\n",
    "            print(\n",
    "                f'p = {p}, indicating different distribution of open vs closed challenge regarding higher level topic {name} in challenge answer count')\n",
    "\n",
    "    # Challenge answer count\n",
    "    challenge_answer_count_open = open[open['Challenge_answer_count'].notna(\n",
    "    )]['Challenge_answer_count']\n",
    "    challenge_answer_count_closed = closed[closed['Challenge_answer_count'].notna(\n",
    "    )]['Challenge_answer_count']\n",
    "    if len(challenge_answer_count_open) * len(challenge_answer_count_closed) > 0:\n",
    "        _, p = mannwhitneyu(challenge_answer_count_open,\n",
    "                            challenge_answer_count_closed)\n",
    "        if p < alpha:\n",
    "            print(\n",
    "                f'p = {p}, indicating different distribution of open vs closed challenge regarding higher level topic {name} in challenge answer count')\n",
    "\n",
    "    # Challenge comment count\n",
    "    challenge_comment_count_open = open[open['Challenge_comment_count'].notna(\n",
    "    )]['Challenge_comment_count']\n",
    "    challenge_comment_count_closed = closed[closed['Challenge_comment_count'].notna(\n",
    "    )]['Challenge_comment_count']\n",
    "    if len(challenge_comment_count_open) * len(challenge_comment_count_closed) > 0:\n",
    "        _, p = mannwhitneyu(challenge_comment_count_open,\n",
    "                            challenge_comment_count_closed)\n",
    "        if p < alpha:\n",
    "            print(\n",
    "                f'p = {p}, indicating different distribution of open vs closed challenge regarding higher level topic {name} in challenge comment count')\n",
    "\n",
    "fig_challenge_solved_time_closed.update_traces(orientation='h', meanline_visible=True, side='positive', width=3, points=False)\n",
    "fig_challenge_solved_time_closed.update_layout(\n",
    "    height=1000,\n",
    "    width=2000,\n",
    "    font=dict(size=20),\n",
    "    margin=dict(l=0, r=0, t=0, b=0),\n",
    "    violingap=0,\n",
    "    violinmode='overlay',\n",
    "    xaxis_showgrid=False, \n",
    "    xaxis_zeroline=False, \n",
    "    showlegend=False, \n",
    "    xaxis_title='Challenge solved time (hours) - Closed',\n",
    ")\n",
    "fig_challenge_solved_time_closed.write_image(os.path.join(\n",
    "    path_challenge_open_closed, 'Challenge solved time (Closed).png'))\n",
    "\n",
    "fig_challenge_adjusted_solved_time_closed.update_traces(orientation='h', meanline_visible=True, side='positive', width=3, points=False)\n",
    "fig_challenge_adjusted_solved_time_closed.update_layout(\n",
    "    height=1000,\n",
    "    width=2000,\n",
    "    font=dict(size=20),\n",
    "    margin=dict(l=0, r=0, t=0, b=0),\n",
    "    violingap=0,\n",
    "    violinmode='overlay',\n",
    "    xaxis_showgrid=False, \n",
    "    xaxis_zeroline=False, \n",
    "    showlegend=False, \n",
    "    xaxis_title='Challenge adjusted solved time (hours) - Closed',\n",
    ")\n",
    "fig_challenge_adjusted_solved_time_closed.write_image(os.path.join(\n",
    "    path_challenge_open_closed, 'Challenge adjusted solved time (Closed).png'))\n"
   ]
  },
  {
   "cell_type": "code",
   "execution_count": 61,
   "metadata": {},
   "outputs": [
    {
     "name": "stdout",
     "output_type": "stream",
     "text": [
      "p = 0.0004776617304235873, indicating different distribution of Stack Overflow vs tool-specific fora challenge regarding higher level topic Code Management in challenge score\n",
      "p = 0.026554652338517958, indicating different distribution of Stack Overflow vs tool-specific fora challenge regarding higher level topic Code Management in challenge link count\n",
      "p = 1.476590063394374e-17, indicating different distribution of Stack Overflow vs tool-specific fora challenge regarding higher level topic Code Management in challenge answer count\n",
      "p = 1.3870752530871918e-16, indicating different distribution of Stack Overflow vs tool-specific fora challenge regarding higher level topic Code Management in challenge comment count\n",
      "p = 8.44174508118179e-31, indicating different distribution of Stack Overflow vs tool-specific fora challenge regarding higher level topic Data Management in challenge score\n",
      "p = 1.423483460088152e-12, indicating different distribution of Stack Overflow vs tool-specific fora challenge regarding higher level topic Data Management in challenge link count\n",
      "p = 0.005097058762472404, indicating different distribution of Stack Overflow vs tool-specific fora challenge regarding higher level topic Data Management in challenge readability\n",
      "p = 2.6281959023498418e-18, indicating different distribution of Stack Overflow vs tool-specific fora challenge regarding higher level topic Data Management in challenge answer count\n",
      "p = 5.842506385390665e-49, indicating different distribution of Stack Overflow vs tool-specific fora challenge regarding higher level topic Data Management in challenge answer count\n",
      "p = 7.373319266163207e-17, indicating different distribution of Stack Overflow vs tool-specific fora challenge regarding higher level topic Data Management in challenge comment count\n",
      "p = 1.2143417957246479e-30, indicating different distribution of Stack Overflow vs tool-specific fora challenge regarding higher level topic Deployment Management in challenge score\n",
      "p = 2.3630523915977046e-17, indicating different distribution of Stack Overflow vs tool-specific fora challenge regarding higher level topic Deployment Management in challenge link count\n",
      "p = 3.2357288928590575e-05, indicating different distribution of Stack Overflow vs tool-specific fora challenge regarding higher level topic Deployment Management in challenge readability\n",
      "p = 5.385366415124723e-32, indicating different distribution of Stack Overflow vs tool-specific fora challenge regarding higher level topic Deployment Management in challenge answer count\n",
      "p = 0.017049630585087787, indicating different distribution of Stack Overflow vs tool-specific fora challenge regarding higher level topic Deployment Management in challenge answer count\n",
      "p = 2.6222376896828216e-37, indicating different distribution of Stack Overflow vs tool-specific fora challenge regarding higher level topic Infrastructure Management in challenge score\n",
      "p = 7.024124189612467e-21, indicating different distribution of Stack Overflow vs tool-specific fora challenge regarding higher level topic Infrastructure Management in challenge link count\n",
      "p = 0.02376605975370001, indicating different distribution of Stack Overflow vs tool-specific fora challenge regarding higher level topic Infrastructure Management in challenge readability\n",
      "p = 2.3508686970014487e-30, indicating different distribution of Stack Overflow vs tool-specific fora challenge regarding higher level topic Infrastructure Management in challenge answer count\n",
      "p = 1.4790257130149417e-26, indicating different distribution of Stack Overflow vs tool-specific fora challenge regarding higher level topic Infrastructure Management in challenge answer count\n",
      "p = 1.7712324746510838e-12, indicating different distribution of Stack Overflow vs tool-specific fora challenge regarding higher level topic Infrastructure Management in challenge comment count\n",
      "p = 1.7323001663508978e-15, indicating different distribution of Stack Overflow vs tool-specific fora challenge regarding higher level topic Lifecycle Management in challenge score\n",
      "p = 6.338304011764274e-13, indicating different distribution of Stack Overflow vs tool-specific fora challenge regarding higher level topic Lifecycle Management in challenge link count\n",
      "p = 0.0032656251070953954, indicating different distribution of Stack Overflow vs tool-specific fora challenge regarding higher level topic Lifecycle Management in challenge answer count\n",
      "p = 4.3807715293812626e-14, indicating different distribution of Stack Overflow vs tool-specific fora challenge regarding higher level topic Lifecycle Management in challenge answer count\n",
      "p = 0.0020566718876762545, indicating different distribution of Stack Overflow vs tool-specific fora challenge regarding higher level topic Lifecycle Management in challenge comment count\n",
      "p = 2.6305643262189813e-18, indicating different distribution of Stack Overflow vs tool-specific fora challenge regarding higher level topic Model Management in challenge score\n",
      "p = 5.239346505010061e-06, indicating different distribution of Stack Overflow vs tool-specific fora challenge regarding higher level topic Model Management in challenge link count\n",
      "p = 7.002952714500962e-17, indicating different distribution of Stack Overflow vs tool-specific fora challenge regarding higher level topic Model Management in challenge answer count\n",
      "p = 8.922952584626194e-25, indicating different distribution of Stack Overflow vs tool-specific fora challenge regarding higher level topic Model Management in challenge answer count\n",
      "p = 2.1510225185093134e-08, indicating different distribution of Stack Overflow vs tool-specific fora challenge regarding higher level topic Model Management in challenge comment count\n",
      "p = 3.075966143093631e-08, indicating different distribution of Stack Overflow vs tool-specific fora challenge regarding higher level topic Report Management in challenge score\n",
      "p = 0.005289333399660496, indicating different distribution of Stack Overflow vs tool-specific fora challenge regarding higher level topic Report Management in challenge link count\n",
      "p = 1.196049925378619e-07, indicating different distribution of Stack Overflow vs tool-specific fora challenge regarding higher level topic Report Management in challenge answer count\n",
      "p = 1.8949843194599278e-29, indicating different distribution of Stack Overflow vs tool-specific fora challenge regarding higher level topic Report Management in challenge answer count\n",
      "p = 1.8164188284992762e-08, indicating different distribution of Stack Overflow vs tool-specific fora challenge regarding higher level topic Report Management in challenge comment count\n",
      "p = 8.897873267156996e-13, indicating different distribution of Stack Overflow vs tool-specific fora challenge regarding higher level topic Security Management in challenge score\n",
      "p = 1.6438047776943785e-07, indicating different distribution of Stack Overflow vs tool-specific fora challenge regarding higher level topic Security Management in challenge link count\n",
      "p = 0.013785087456580865, indicating different distribution of Stack Overflow vs tool-specific fora challenge regarding higher level topic Security Management in challenge readability\n",
      "p = 1.5243426219326848e-09, indicating different distribution of Stack Overflow vs tool-specific fora challenge regarding higher level topic Security Management in challenge answer count\n",
      "p = 7.415012950901645e-09, indicating different distribution of Stack Overflow vs tool-specific fora challenge regarding higher level topic Security Management in challenge answer count\n",
      "p = 0.0005434023498382829, indicating different distribution of Stack Overflow vs tool-specific fora challenge regarding higher level topic Security Management in challenge comment count\n"
     ]
    }
   ],
   "source": [
    "# Collect and compared Stack Overflow vs tool-specific fora challenges across different topics\n",
    "\n",
    "df = pd.read_json(os.path.join(path_general, 'assigned.json'))\n",
    "\n",
    "df_challenge = df[df['Challenge_topic'].notna()]\n",
    "df_challenge = df_challenge[df_challenge['Challenge_topic'].isin(\n",
    "    topic_ensemble)]\n",
    "df_challenge['Challenge_topic_higher_level'] = df_challenge['Challenge_topic'].map(\n",
    "    topic_ensemble_inverse)\n",
    "\n",
    "df_so = df_challenge[df_challenge['Platform'] == 'Stack Overflow']\n",
    "df_to = df_challenge[df_challenge['Platform'] == 'Tool-specific']\n",
    "\n",
    "# Challenge topic count\n",
    "fig_challenge_count = go.Figure()\n",
    "fig_challenge_count.add_trace(\n",
    "    go.Violin(\n",
    "        x=np.full(len(df_so), 'Challenge topic count (higher level)'),\n",
    "        y=df_so['Challenge_topic_higher_level'],\n",
    "        opacity=0.5,\n",
    "        name='Stack Overflow',\n",
    "    ))\n",
    "fig_challenge_count.add_trace(\n",
    "    go.Violin(\n",
    "        x=np.full(len(df_to), 'Challenge topic count (higher level)'),\n",
    "        y=df_to['Challenge_topic_higher_level'],\n",
    "        opacity=0.5,\n",
    "        name='Tool-specific',\n",
    "    ))\n",
    "fig_challenge_count.update_layout(\n",
    "    height=1000,\n",
    "    width=2000,\n",
    "    font=dict(size=20),\n",
    "    margin=dict(l=0, r=0, t=0, b=0),\n",
    "    violingap=0,\n",
    "    violinmode='overlay',\n",
    ")\n",
    "fig_challenge_count.write_image(os.path.join(\n",
    "    path_challenge_so_to, 'Challenge count.png'))\n",
    "\n",
    "# Challenge score\n",
    "fig_challenge_score = go.Figure()\n",
    "fig_challenge_score.add_trace(\n",
    "    go.Violin(\n",
    "        x=df_so['Challenge_topic_higher_level'],\n",
    "        y=df_so['Challenge_score'],\n",
    "        meanline_visible=True,\n",
    "        line_color='blue',\n",
    "        side='positive',\n",
    "        opacity=0.5,\n",
    "        legendgroup='Stack Overflow',\n",
    "        scalegroup='Stack Overflow',\n",
    "        name='Stack Overflow',\n",
    "    ))\n",
    "fig_challenge_score.add_trace(\n",
    "    go.Violin(\n",
    "        x=df_to['Challenge_topic_higher_level'],\n",
    "        y=df_to['Challenge_score'],\n",
    "        meanline_visible=True,\n",
    "        line_color='orange',\n",
    "        side='negative',\n",
    "        opacity=0.5,\n",
    "        legendgroup='Tool-specific',\n",
    "        scalegroup='Tool-specific',\n",
    "        name='Tool-specific',\n",
    "    ))\n",
    "fig_challenge_score.update_layout(\n",
    "    height=1000,\n",
    "    width=2000,\n",
    "    font=dict(size=20),\n",
    "    margin=dict(l=0, r=0, t=0, b=0),\n",
    "    violingap=0,\n",
    "    violinmode='overlay',\n",
    ")\n",
    "fig_challenge_score.write_image(os.path.join(\n",
    "    path_challenge_so_to, 'Challenge score.png'))\n",
    "\n",
    "# Challenge favorite count\n",
    "fig_challenge_favorite_count = go.Figure()\n",
    "fig_challenge_favorite_count.add_trace(\n",
    "    go.Violin(\n",
    "        x=df_so['Challenge_topic_higher_level'],\n",
    "        y=df_so['Challenge_favorite_count'],\n",
    "        meanline_visible=True,\n",
    "        line_color='blue',\n",
    "        side='positive',\n",
    "        opacity=0.5,\n",
    "        legendgroup='Stack Overflow',\n",
    "        scalegroup='Stack Overflow',\n",
    "        name='Stack Overflow',\n",
    "    ))\n",
    "fig_challenge_favorite_count.add_trace(\n",
    "    go.Violin(\n",
    "        x=df_to['Challenge_topic_higher_level'],\n",
    "        y=df_to['Challenge_favorite_count'],\n",
    "        meanline_visible=True,\n",
    "        line_color='orange',\n",
    "        side='negative',\n",
    "        opacity=0.5,\n",
    "        legendgroup='Tool-specific',\n",
    "        scalegroup='Tool-specific',\n",
    "        name='Tool-specific',\n",
    "    ))\n",
    "fig_challenge_favorite_count.update_layout(\n",
    "    height=1000,\n",
    "    width=2000,\n",
    "    font=dict(size=20),\n",
    "    margin=dict(l=0, r=0, t=0, b=0),\n",
    "    violingap=0,\n",
    "    violinmode='overlay',\n",
    ")\n",
    "fig_challenge_favorite_count.write_image(os.path.join(\n",
    "    path_challenge_so_to, 'Challenge favorite count.png'))\n",
    "\n",
    "# Challenge follower count\n",
    "fig_challenge_follower_count = go.Figure()\n",
    "fig_challenge_follower_count.add_trace(\n",
    "    go.Violin(\n",
    "        x=df_so['Challenge_topic_higher_level'],\n",
    "        y=df_so['Challenge_follower_count'],\n",
    "        meanline_visible=True,\n",
    "        line_color='blue',\n",
    "        side='positive',\n",
    "        opacity=0.5,\n",
    "        legendgroup='Stack Overflow',\n",
    "        scalegroup='Stack Overflow',\n",
    "        name='Stack Overflow',\n",
    "    ))\n",
    "fig_challenge_follower_count.add_trace(\n",
    "    go.Violin(\n",
    "        x=df_to['Challenge_topic_higher_level'],\n",
    "        y=df_to['Challenge_follower_count'],\n",
    "        meanline_visible=True,\n",
    "        line_color='orange',\n",
    "        side='negative',\n",
    "        opacity=0.5,\n",
    "        legendgroup='Tool-specific',\n",
    "        scalegroup='Tool-specific',\n",
    "        name='Tool-specific',\n",
    "    ))\n",
    "fig_challenge_follower_count.update_layout(\n",
    "    height=1000,\n",
    "    width=2000,\n",
    "    font=dict(size=20),\n",
    "    margin=dict(l=0, r=0, t=0, b=0),\n",
    "    violingap=0,\n",
    "    violinmode='overlay',\n",
    ")\n",
    "fig_challenge_follower_count.write_image(os.path.join(\n",
    "    path_challenge_so_to, 'Challenge follower count.png'))\n",
    "\n",
    "# Challenge link count\n",
    "fig_challenge_link_count = go.Figure()\n",
    "fig_challenge_link_count.add_trace(\n",
    "    go.Violin(\n",
    "        x=df_so['Challenge_topic_higher_level'],\n",
    "        y=df_so['Challenge_link_count'],\n",
    "        meanline_visible=True,\n",
    "        line_color='blue',\n",
    "        side='positive',\n",
    "        opacity=0.5,\n",
    "        legendgroup='Stack Overflow',\n",
    "        scalegroup='Stack Overflow',\n",
    "        name='Stack Overflow',\n",
    "    ))\n",
    "fig_challenge_link_count.add_trace(\n",
    "    go.Violin(\n",
    "        x=df_to['Challenge_topic_higher_level'],\n",
    "        y=df_to['Challenge_link_count'],\n",
    "        meanline_visible=True,\n",
    "        line_color='orange',\n",
    "        side='negative',\n",
    "        opacity=0.5,\n",
    "        legendgroup='Tool-specific',\n",
    "        scalegroup='Tool-specific',\n",
    "        name='Tool-specific',\n",
    "    ))\n",
    "fig_challenge_link_count.update_layout(\n",
    "    height=1000,\n",
    "    width=2000,\n",
    "    font=dict(size=20),\n",
    "    margin=dict(l=0, r=0, t=0, b=0),\n",
    "    violingap=0,\n",
    "    violinmode='overlay',\n",
    ")\n",
    "fig_challenge_link_count.write_image(os.path.join(\n",
    "    path_challenge_so_to, 'Challenge link count.png'))\n",
    "\n",
    "# Challenge readability\n",
    "fig_challenge_readability = go.Figure()\n",
    "fig_challenge_readability.add_trace(\n",
    "    go.Violin(\n",
    "        x=df_so['Challenge_topic_higher_level'],\n",
    "        y=df_so['Challenge_readability'],\n",
    "        meanline_visible=True,\n",
    "        line_color='blue',\n",
    "        side='positive',\n",
    "        opacity=0.5,\n",
    "        legendgroup='Stack Overflow',\n",
    "        scalegroup='Stack Overflow',\n",
    "        name='Stack Overflow',\n",
    "    ))\n",
    "fig_challenge_readability.add_trace(\n",
    "    go.Violin(\n",
    "        x=df_to['Challenge_topic_higher_level'],\n",
    "        y=df_to['Challenge_readability'],\n",
    "        meanline_visible=True,\n",
    "        line_color='orange',\n",
    "        side='negative',\n",
    "        opacity=0.5,\n",
    "        legendgroup='Tool-specific',\n",
    "        scalegroup='Tool-specific',\n",
    "        name='Tool-specific',\n",
    "    ))\n",
    "fig_challenge_readability.update_layout(\n",
    "    height=1000,\n",
    "    width=2000,\n",
    "    font=dict(size=20),\n",
    "    margin=dict(l=0, r=0, t=0, b=0),\n",
    "    violingap=0,\n",
    "    violinmode='overlay',\n",
    ")\n",
    "fig_challenge_readability.write_image(os.path.join(\n",
    "    path_challenge_so_to, 'Challenge readability.png'))\n",
    "\n",
    "# Challenge view count\n",
    "fig_challenge_view_count = go.Figure()\n",
    "fig_challenge_view_count.add_trace(\n",
    "    go.Violin(\n",
    "        x=df_so['Challenge_topic_higher_level'],\n",
    "        y=df_so['Challenge_view_count'],\n",
    "        meanline_visible=True,\n",
    "        line_color='blue',\n",
    "        side='positive',\n",
    "        opacity=0.5,\n",
    "        legendgroup='Stack Overflow',\n",
    "        scalegroup='Stack Overflow',\n",
    "        name='Stack Overflow',\n",
    "    ))\n",
    "fig_challenge_view_count.add_trace(\n",
    "    go.Violin(\n",
    "        x=df_to['Challenge_topic_higher_level'],\n",
    "        y=df_to['Challenge_view_count'],\n",
    "        meanline_visible=True,\n",
    "        line_color='orange',\n",
    "        side='negative',\n",
    "        opacity=0.5,\n",
    "        legendgroup='Tool-specific',\n",
    "        scalegroup='Tool-specific',\n",
    "        name='Tool-specific',\n",
    "    ))\n",
    "fig_challenge_view_count.update_layout(\n",
    "    height=1000,\n",
    "    width=2000,\n",
    "    font=dict(size=20),\n",
    "    margin=dict(l=0, r=0, t=0, b=0),\n",
    "    violingap=0,\n",
    "    violinmode='overlay',\n",
    ")\n",
    "fig_challenge_view_count.write_image(os.path.join(\n",
    "    path_challenge_so_to, 'Challenge view count.png'))\n",
    "\n",
    "# Challenge answer count\n",
    "fig_challenge_answer_count = go.Figure()\n",
    "fig_challenge_answer_count.add_trace(\n",
    "    go.Violin(\n",
    "        x=df_so['Challenge_topic_higher_level'],\n",
    "        y=df_so['Challenge_answer_count'],\n",
    "        meanline_visible=True,\n",
    "        line_color='blue',\n",
    "        side='positive',\n",
    "        opacity=0.5,\n",
    "        legendgroup='Stack Overflow',\n",
    "        scalegroup='Stack Overflow',\n",
    "        name='Stack Overflow',\n",
    "    ))\n",
    "fig_challenge_answer_count.add_trace(\n",
    "    go.Violin(\n",
    "        x=df_to['Challenge_topic_higher_level'],\n",
    "        y=df_to['Challenge_answer_count'],\n",
    "        meanline_visible=True,\n",
    "        line_color='orange',\n",
    "        side='negative',\n",
    "        opacity=0.5,\n",
    "        legendgroup='Tool-specific',\n",
    "        scalegroup='Tool-specific',\n",
    "        name='Tool-specific',\n",
    "    ))\n",
    "fig_challenge_answer_count.update_layout(\n",
    "    height=1000,\n",
    "    width=2000,\n",
    "    font=dict(size=20),\n",
    "    margin=dict(l=0, r=0, t=0, b=0),\n",
    "    violingap=0,\n",
    "    violinmode='overlay',\n",
    ")\n",
    "fig_challenge_answer_count.write_image(os.path.join(\n",
    "    path_challenge_so_to, 'Challenge answer count.png'))\n",
    "\n",
    "# Challenge comment count\n",
    "fig_challenge_comment_count = go.Figure()\n",
    "fig_challenge_comment_count.add_trace(\n",
    "    go.Violin(\n",
    "        x=df_so['Challenge_topic_higher_level'],\n",
    "        y=df_so['Challenge_comment_count'],\n",
    "        meanline_visible=True,\n",
    "        line_color='blue',\n",
    "        side='positive',\n",
    "        opacity=0.5,\n",
    "        legendgroup='Stack Overflow',\n",
    "        scalegroup='Stack Overflow',\n",
    "        name='Stack Overflow',\n",
    "    ))\n",
    "fig_challenge_comment_count.add_trace(\n",
    "    go.Violin(\n",
    "        x=df_to['Challenge_topic_higher_level'],\n",
    "        y=df_to['Challenge_comment_count'],\n",
    "        meanline_visible=True,\n",
    "        line_color='orange',\n",
    "        side='negative',\n",
    "        opacity=0.5,\n",
    "        legendgroup='Tool-specific',\n",
    "        scalegroup='Tool-specific',\n",
    "        name='Tool-specific',\n",
    "    ))\n",
    "fig_challenge_comment_count.update_layout(\n",
    "    height=1000,\n",
    "    width=2000,\n",
    "    font=dict(size=20),\n",
    "    margin=dict(l=0, r=0, t=0, b=0),\n",
    "    violingap=0,\n",
    "    violinmode='overlay',\n",
    ")\n",
    "fig_challenge_comment_count.write_image(os.path.join(\n",
    "    path_challenge_so_to, 'Challenge comment count.png'))\n",
    "\n",
    "fig_challenge_solved_time_to = go.Figure()\n",
    "fig_challenge_solved_time_so = go.Figure()\n",
    "fig_challenge_adjusted_solved_time_to = go.Figure()\n",
    "fig_challenge_adjusted_solved_time_so = go.Figure()\n",
    "\n",
    "for name_group, color in zip(df_challenge.groupby('Challenge_topic_higher_level'), colors):\n",
    "    name, group = name_group\n",
    "    so = group[group['Platform'] == 'Stack Overflow']\n",
    "    to = group[group['Platform'] == 'Tool-specific']\n",
    "\n",
    "    fig_challenge_solved_time_to.add_trace(go.Violin(x=to['Challenge_solved_time'], y=to['Challenge_topic_higher_level'], line_color=color))\n",
    "    fig_challenge_solved_time_so.add_trace(go.Violin(x=so['Challenge_solved_time'], y=so['Challenge_topic_higher_level'], line_color=color))\n",
    "    fig_challenge_adjusted_solved_time_to.add_trace(go.Violin(x=to['Challenge_adjusted_solved_time'], y=to['Challenge_topic_higher_level'], line_color=color))\n",
    "    fig_challenge_adjusted_solved_time_so.add_trace(go.Violin(x=so['Challenge_adjusted_solved_time'], y=so['Challenge_topic_higher_level'], line_color=color))\n",
    "\n",
    "    # Challenge score\n",
    "    challenge_score_so = so[so['Challenge_score'].notna(\n",
    "    )]['Challenge_score']\n",
    "    challenge_score_to = to[to['Challenge_score'].notna(\n",
    "    )]['Challenge_score']\n",
    "    if len(challenge_score_so) * len(challenge_score_to) > 0:\n",
    "        _, p = mannwhitneyu(challenge_score_so, challenge_score_to)\n",
    "        if p < alpha:\n",
    "            print(\n",
    "                f'p = {p}, indicating different distribution of Stack Overflow vs tool-specific fora challenge regarding higher level topic {name} in challenge score')\n",
    "\n",
    "    # Challenge favorite count\n",
    "    challenge_favorite_count_so = so[so['Challenge_favorite_count'].notna(\n",
    "    )]['Challenge_favorite_count']\n",
    "    challenge_favorite_count_to = to[to['Challenge_favorite_count'].notna(\n",
    "    )]['Challenge_favorite_count']\n",
    "    if len(challenge_favorite_count_so) * len(challenge_favorite_count_to) > 0:\n",
    "        _, p = mannwhitneyu(challenge_favorite_count_so,\n",
    "                            challenge_favorite_count_to)\n",
    "        if p < alpha:\n",
    "            print(\n",
    "                f'p = {p}, indicating different distribution of Stack Overflow vs tool-specific fora challenge regarding higher level topic {name} in challenge favorite count')\n",
    "\n",
    "    # Challenge follower count\n",
    "    challenge_follower_count_so = so[so['Challenge_follower_count'].notna(\n",
    "    )]['Challenge_follower_count']\n",
    "    challenge_follower_count_to = to[to['Challenge_follower_count'].notna(\n",
    "    )]['Challenge_follower_count']\n",
    "    if len(challenge_follower_count_so) * len(challenge_follower_count_to) > 0:\n",
    "        _, p = mannwhitneyu(challenge_follower_count_so,\n",
    "                            challenge_follower_count_to)\n",
    "        if p < alpha:\n",
    "            print(\n",
    "                f'p = {p}, indicating different distribution of Stack Overflow vs tool-specific fora challenge regarding higher level topic {name} in challenge follower count')\n",
    "\n",
    "    # Challenge link count\n",
    "    challenge_link_count_so = so[so['Challenge_link_count'].notna(\n",
    "    )]['Challenge_link_count']\n",
    "    challenge_link_count_to = to[to['Challenge_link_count'].notna(\n",
    "    )]['Challenge_link_count']\n",
    "    if len(challenge_link_count_so) * len(challenge_link_count_to) > 0:\n",
    "        _, p = mannwhitneyu(challenge_link_count_so, challenge_link_count_to)\n",
    "        if p < alpha:\n",
    "            print(\n",
    "                f'p = {p}, indicating different distribution of Stack Overflow vs tool-specific fora challenge regarding higher level topic {name} in challenge link count')\n",
    "\n",
    "    # Challenge readability\n",
    "    challenge_readability_so = so[so['Challenge_readability'].notna(\n",
    "    )]['Challenge_readability']\n",
    "    challenge_readability_to = to[to['Challenge_readability'].notna(\n",
    "    )]['Challenge_readability']\n",
    "    if len(challenge_readability_so) * len(challenge_readability_to) > 0:\n",
    "        _, p = mannwhitneyu(challenge_readability_so,\n",
    "                            challenge_readability_to)\n",
    "        if p < alpha:\n",
    "            print(\n",
    "                f'p = {p}, indicating different distribution of Stack Overflow vs tool-specific fora challenge regarding higher level topic {name} in challenge readability')\n",
    "\n",
    "    # Challenge view count\n",
    "    challenge_view_count_so = so[so['Challenge_view_count'].notna(\n",
    "    )]['Challenge_view_count']\n",
    "    challenge_view_count_to = to[to['Challenge_view_count'].notna(\n",
    "    )]['Challenge_view_count']\n",
    "    if len(challenge_view_count_so) * len(challenge_view_count_to) > 0:\n",
    "        _, p = mannwhitneyu(challenge_view_count_so,\n",
    "                            challenge_view_count_to)\n",
    "        if p < alpha:\n",
    "            print(\n",
    "                f'p = {p}, indicating different distribution of Stack Overflow vs tool-specific fora challenge regarding higher level topic {name} in challenge answer count')\n",
    "\n",
    "    # Challenge answer count\n",
    "    challenge_answer_count_so = so[so['Challenge_answer_count'].notna(\n",
    "    )]['Challenge_answer_count']\n",
    "    challenge_answer_count_to = to[to['Challenge_answer_count'].notna(\n",
    "    )]['Challenge_answer_count']\n",
    "    if len(challenge_answer_count_so) * len(challenge_answer_count_to) > 0:\n",
    "        _, p = mannwhitneyu(challenge_answer_count_so,\n",
    "                            challenge_answer_count_to)\n",
    "        if p < alpha:\n",
    "            print(\n",
    "                f'p = {p}, indicating different distribution of Stack Overflow vs tool-specific fora challenge regarding higher level topic {name} in challenge answer count')\n",
    "\n",
    "    # Challenge comment count\n",
    "    challenge_comment_count_so = so[so['Challenge_comment_count'].notna(\n",
    "    )]['Challenge_comment_count']\n",
    "    challenge_comment_count_to = to[to['Challenge_comment_count'].notna(\n",
    "    )]['Challenge_comment_count']\n",
    "    if len(challenge_comment_count_so) * len(challenge_comment_count_to) > 0:\n",
    "        _, p = mannwhitneyu(challenge_comment_count_so,\n",
    "                            challenge_comment_count_to)\n",
    "        if p < alpha:\n",
    "            print(\n",
    "                f'p = {p}, indicating different distribution of Stack Overflow vs tool-specific fora challenge regarding higher level topic {name} in challenge comment count')\n",
    "\n",
    "fig_challenge_solved_time_to.update_traces(orientation='h', meanline_visible=True, side='positive', width=3, points=False)\n",
    "fig_challenge_solved_time_to.update_layout(\n",
    "    height=1000,\n",
    "    width=2000,\n",
    "    font=dict(size=20),\n",
    "    margin=dict(l=0, r=0, t=0, b=0),\n",
    "    violingap=0,\n",
    "    violinmode='overlay',\n",
    "    xaxis_showgrid=False, \n",
    "    xaxis_zeroline=False, \n",
    "    showlegend=False, \n",
    "    xaxis_title='Challenge solved time (hours) - Tool-specific',\n",
    ")\n",
    "fig_challenge_solved_time_to.write_image(os.path.join(\n",
    "    path_challenge_so_to, 'Challenge solved time (Tool-specific).png'))\n",
    "\n",
    "fig_challenge_solved_time_so.update_traces(orientation='h', meanline_visible=True, side='positive', width=3, points=False)\n",
    "fig_challenge_solved_time_so.update_layout(\n",
    "    height=1000,\n",
    "    width=2000,\n",
    "    font=dict(size=20),\n",
    "    margin=dict(l=0, r=0, t=0, b=0),\n",
    "    violingap=0,\n",
    "    violinmode='overlay',\n",
    "    xaxis_showgrid=False, \n",
    "    xaxis_zeroline=False, \n",
    "    showlegend=False, \n",
    "    xaxis_title='Challenge solved time (hours) - Stack Overflow',\n",
    ")\n",
    "fig_challenge_solved_time_so.write_image(os.path.join(\n",
    "    path_challenge_so_to, 'Challenge solved time (Stack Overflow).png'))\n",
    "\n",
    "fig_challenge_adjusted_solved_time_to.update_traces(orientation='h', meanline_visible=True, side='positive', width=3, points=False)\n",
    "fig_challenge_adjusted_solved_time_to.update_layout(\n",
    "    height=1000,\n",
    "    width=2000,\n",
    "    font=dict(size=20),\n",
    "    margin=dict(l=0, r=0, t=0, b=0),\n",
    "    violingap=0,\n",
    "    violinmode='overlay',\n",
    "    xaxis_showgrid=False, \n",
    "    xaxis_zeroline=False, \n",
    "    showlegend=False, \n",
    "    xaxis_title='Challenge adjusted solved time (hours) - Tool-specific',\n",
    ")\n",
    "fig_challenge_adjusted_solved_time_to.write_image(os.path.join(\n",
    "    path_challenge_so_to, 'Challenge adjusted solved time (Tool-specific).png'))\n",
    "\n",
    "fig_challenge_adjusted_solved_time_so.update_traces(orientation='h', meanline_visible=True, side='positive', width=3, points=False)\n",
    "fig_challenge_adjusted_solved_time_so.update_layout(\n",
    "    height=1000,\n",
    "    width=2000,\n",
    "    font=dict(size=20),\n",
    "    margin=dict(l=0, r=0, t=0, b=0),\n",
    "    violingap=0,\n",
    "    violinmode='overlay',\n",
    "    xaxis_showgrid=False, \n",
    "    xaxis_zeroline=False, \n",
    "    showlegend=False, \n",
    "    xaxis_title='Challenge adjusted solved time (hours) - Stack Overflow',\n",
    ")\n",
    "fig_challenge_adjusted_solved_time_so.write_image(os.path.join(\n",
    "    path_challenge_so_to, 'Challenge adjusted solved time (Stack Overflow).png'))\n"
   ]
  },
  {
   "cell_type": "code",
   "execution_count": 62,
   "metadata": {},
   "outputs": [
    {
     "name": "stdout",
     "output_type": "stream",
     "text": [
      "p = 0.0422680677963813, indicating different distribution of SageMaker vs AzureML challenge regarding higher level topic Code Management in challenge comment count\n",
      "p = 0.04173684390482671, indicating different distribution of SageMaker vs AzureML challenge regarding higher level topic Data Management in challenge link count\n",
      "p = 7.298861022444564e-07, indicating different distribution of SageMaker vs AzureML challenge regarding higher level topic Data Management in challenge comment count\n",
      "p = 0.004391090520645429, indicating different distribution of SageMaker vs AzureML challenge regarding higher level topic Deployment Management in challenge score\n",
      "p = 0.029168849670553245, indicating different distribution of SageMaker vs AzureML challenge regarding higher level topic Deployment Management in challenge link count\n",
      "p = 4.1922522268918286e-07, indicating different distribution of SageMaker vs AzureML challenge regarding higher level topic Deployment Management in challenge readability\n",
      "p = 3.1525200667896725e-11, indicating different distribution of SageMaker vs AzureML challenge regarding higher level topic Deployment Management in challenge comment count\n",
      "p = 0.0025674832220584907, indicating different distribution of SageMaker vs AzureML challenge regarding higher level topic Infrastructure Management in challenge score\n",
      "p = 0.024603328096834225, indicating different distribution of SageMaker vs AzureML challenge regarding higher level topic Infrastructure Management in challenge readability\n",
      "p = 4.711394140596308e-10, indicating different distribution of SageMaker vs AzureML challenge regarding higher level topic Infrastructure Management in challenge comment count\n",
      "p = 1.2223132222435554e-05, indicating different distribution of SageMaker vs AzureML challenge regarding higher level topic Lifecycle Management in challenge comment count\n",
      "p = 0.006955091539141926, indicating different distribution of SageMaker vs AzureML challenge regarding higher level topic Model Management in challenge score\n",
      "p = 0.03686478273016086, indicating different distribution of SageMaker vs AzureML challenge regarding higher level topic Model Management in challenge favorite count\n",
      "p = 0.01039496112569728, indicating different distribution of SageMaker vs AzureML challenge regarding higher level topic Model Management in challenge readability\n",
      "p = 0.00010229288543958916, indicating different distribution of SageMaker vs AzureML challenge regarding higher level topic Model Management in challenge comment count\n",
      "p = 0.016562931880661293, indicating different distribution of SageMaker vs AzureML challenge regarding higher level topic Security Management in challenge score\n",
      "p = 0.025270769596524436, indicating different distribution of SageMaker vs AzureML challenge regarding higher level topic Security Management in challenge link count\n",
      "p = 0.010212833775552642, indicating different distribution of SageMaker vs AzureML challenge regarding higher level topic Security Management in challenge readability\n",
      "p = 0.014763014763014764, indicating different distribution of SageMaker vs AzureML in higher level adjusted mean challenge solved time\n"
     ]
    }
   ],
   "source": [
    "# Collect and compared SageMaker and AzureML challenges across different topics\n",
    "\n",
    "df = pd.read_json(os.path.join(path_general, 'assigned.json'))\n",
    "\n",
    "df_challenge = df[df['Challenge_topic'].notna()]\n",
    "df_challenge = df_challenge[df_challenge['Challenge_topic'].isin(\n",
    "    topic_ensemble)]\n",
    "df_challenge['Challenge_topic_higher_level'] = df_challenge['Challenge_topic'].map(\n",
    "    topic_ensemble_inverse)\n",
    "\n",
    "df_sagemaker = df_challenge[df_challenge['Tool'] == 'Amazon SageMaker']\n",
    "df_azureml = df_challenge[df_challenge['Tool'] == 'Azure Machine Learning']\n",
    "\n",
    "# Challenge topic count\n",
    "fig_challenge_count = go.Figure()\n",
    "fig_challenge_count.add_trace(\n",
    "    go.Violin(\n",
    "        x=np.full(len(df_azureml), 'Challenge topic count (higher level)'),\n",
    "        y=df_azureml['Challenge_topic_higher_level'],\n",
    "        opacity=0.5,\n",
    "        name='SageMaker',\n",
    "    ))\n",
    "fig_challenge_count.add_trace(\n",
    "    go.Violin(\n",
    "        x=np.full(len(df_sagemaker), 'Challenge topic count (higher level)'),\n",
    "        y=df_sagemaker['Challenge_topic_higher_level'],\n",
    "        opacity=0.5,\n",
    "        name='AzureML',\n",
    "    ))\n",
    "fig_challenge_count.update_layout(\n",
    "    height=1000,\n",
    "    width=2000,\n",
    "    font=dict(size=20),\n",
    "    margin=dict(l=0, r=0, t=0, b=0),\n",
    "    violingap=0,\n",
    "    violinmode='overlay',\n",
    ")\n",
    "fig_challenge_count.write_image(os.path.join(\n",
    "    path_challenge_azureml_sagemaker, 'Challenge count.png'))\n",
    "\n",
    "# Challenge score\n",
    "fig_challenge_score = go.Figure()\n",
    "fig_challenge_score.add_trace(\n",
    "    go.Violin(\n",
    "        x=df_azureml['Challenge_topic_higher_level'],\n",
    "        y=df_azureml['Challenge_score'],\n",
    "        meanline_visible=True,\n",
    "        line_color='blue',\n",
    "        side='positive',\n",
    "        opacity=0.5,\n",
    "        legendgroup='SageMaker',\n",
    "        scalegroup='SageMaker',\n",
    "        name='SageMaker',\n",
    "    ))\n",
    "fig_challenge_score.add_trace(\n",
    "    go.Violin(\n",
    "        x=df_sagemaker['Challenge_topic_higher_level'],\n",
    "        y=df_sagemaker['Challenge_score'],\n",
    "        meanline_visible=True,\n",
    "        line_color='orange',\n",
    "        side='negative',\n",
    "        opacity=0.5,\n",
    "        legendgroup='AzureML',\n",
    "        scalegroup='AzureML',\n",
    "        name='AzureML',\n",
    "    ))\n",
    "fig_challenge_score.update_layout(\n",
    "    height=1000,\n",
    "    width=2000,\n",
    "    font=dict(size=20),\n",
    "    margin=dict(l=0, r=0, t=0, b=0),\n",
    "    violingap=0,\n",
    "    violinmode='overlay',\n",
    ")\n",
    "fig_challenge_score.write_image(os.path.join(\n",
    "    path_challenge_azureml_sagemaker, 'Challenge score.png'))\n",
    "\n",
    "# Challenge favorite count\n",
    "fig_challenge_favorite_count = go.Figure()\n",
    "fig_challenge_favorite_count.add_trace(\n",
    "    go.Violin(\n",
    "        x=df_azureml['Challenge_topic_higher_level'],\n",
    "        y=df_azureml['Challenge_favorite_count'],\n",
    "        meanline_visible=True,\n",
    "        line_color='blue',\n",
    "        side='positive',\n",
    "        opacity=0.5,\n",
    "        legendgroup='SageMaker',\n",
    "        scalegroup='SageMaker',\n",
    "        name='SageMaker',\n",
    "    ))\n",
    "fig_challenge_favorite_count.add_trace(\n",
    "    go.Violin(\n",
    "        x=df_sagemaker['Challenge_topic_higher_level'],\n",
    "        y=df_sagemaker['Challenge_favorite_count'],\n",
    "        meanline_visible=True,\n",
    "        line_color='orange',\n",
    "        side='negative',\n",
    "        opacity=0.5,\n",
    "        legendgroup='AzureML',\n",
    "        scalegroup='AzureML',\n",
    "        name='AzureML',\n",
    "    ))\n",
    "fig_challenge_favorite_count.update_layout(\n",
    "    height=1000,\n",
    "    width=2000,\n",
    "    font=dict(size=20),\n",
    "    margin=dict(l=0, r=0, t=0, b=0),\n",
    "    violingap=0,\n",
    "    violinmode='overlay',\n",
    ")\n",
    "fig_challenge_favorite_count.write_image(os.path.join(\n",
    "    path_challenge_azureml_sagemaker, 'Challenge favorite count.png'))\n",
    "\n",
    "# Challenge follower count\n",
    "fig_challenge_follower_count = go.Figure()\n",
    "fig_challenge_follower_count.add_trace(\n",
    "    go.Violin(\n",
    "        x=df_azureml['Challenge_topic_higher_level'],\n",
    "        y=df_azureml['Challenge_follower_count'],\n",
    "        meanline_visible=True,\n",
    "        line_color='blue',\n",
    "        side='positive',\n",
    "        opacity=0.5,\n",
    "        legendgroup='SageMaker',\n",
    "        scalegroup='SageMaker',\n",
    "        name='SageMaker',\n",
    "    ))\n",
    "fig_challenge_follower_count.add_trace(\n",
    "    go.Violin(\n",
    "        x=df_sagemaker['Challenge_topic_higher_level'],\n",
    "        y=df_sagemaker['Challenge_follower_count'],\n",
    "        meanline_visible=True,\n",
    "        line_color='orange',\n",
    "        side='negative',\n",
    "        opacity=0.5,\n",
    "        legendgroup='AzureML',\n",
    "        scalegroup='AzureML',\n",
    "        name='AzureML',\n",
    "    ))\n",
    "fig_challenge_follower_count.update_layout(\n",
    "    height=1000,\n",
    "    width=2000,\n",
    "    font=dict(size=20),\n",
    "    margin=dict(l=0, r=0, t=0, b=0),\n",
    "    violingap=0,\n",
    "    violinmode='overlay',\n",
    ")\n",
    "fig_challenge_follower_count.write_image(os.path.join(\n",
    "    path_challenge_azureml_sagemaker, 'Challenge follower count.png'))\n",
    "\n",
    "# Challenge link count\n",
    "fig_challenge_link_count = go.Figure()\n",
    "fig_challenge_link_count.add_trace(\n",
    "    go.Violin(\n",
    "        x=df_azureml['Challenge_topic_higher_level'],\n",
    "        y=df_azureml['Challenge_link_count'],\n",
    "        meanline_visible=True,\n",
    "        line_color='blue',\n",
    "        side='positive',\n",
    "        opacity=0.5,\n",
    "        legendgroup='SageMaker',\n",
    "        scalegroup='SageMaker',\n",
    "        name='SageMaker',\n",
    "    ))\n",
    "fig_challenge_link_count.add_trace(\n",
    "    go.Violin(\n",
    "        x=df_sagemaker['Challenge_topic_higher_level'],\n",
    "        y=df_sagemaker['Challenge_link_count'],\n",
    "        meanline_visible=True,\n",
    "        line_color='orange',\n",
    "        side='negative',\n",
    "        opacity=0.5,\n",
    "        legendgroup='AzureML',\n",
    "        scalegroup='AzureML',\n",
    "        name='AzureML',\n",
    "    ))\n",
    "fig_challenge_link_count.update_layout(\n",
    "    height=1000,\n",
    "    width=2000,\n",
    "    font=dict(size=20),\n",
    "    margin=dict(l=0, r=0, t=0, b=0),\n",
    "    violingap=0,\n",
    "    violinmode='overlay',\n",
    ")\n",
    "fig_challenge_link_count.write_image(os.path.join(\n",
    "    path_challenge_azureml_sagemaker, 'Challenge link count.png'))\n",
    "\n",
    "# Challenge readability\n",
    "fig_challenge_readability = go.Figure()\n",
    "fig_challenge_readability.add_trace(\n",
    "    go.Violin(\n",
    "        x=df_azureml['Challenge_topic_higher_level'],\n",
    "        y=df_azureml['Challenge_readability'],\n",
    "        meanline_visible=True,\n",
    "        line_color='blue',\n",
    "        side='positive',\n",
    "        opacity=0.5,\n",
    "        legendgroup='SageMaker',\n",
    "        scalegroup='SageMaker',\n",
    "        name='SageMaker',\n",
    "    ))\n",
    "fig_challenge_readability.add_trace(\n",
    "    go.Violin(\n",
    "        x=df_sagemaker['Challenge_topic_higher_level'],\n",
    "        y=df_sagemaker['Challenge_readability'],\n",
    "        meanline_visible=True,\n",
    "        line_color='orange',\n",
    "        side='negative',\n",
    "        opacity=0.5,\n",
    "        legendgroup='AzureML',\n",
    "        scalegroup='AzureML',\n",
    "        name='AzureML',\n",
    "    ))\n",
    "fig_challenge_readability.update_layout(\n",
    "    height=1000,\n",
    "    width=2000,\n",
    "    font=dict(size=20),\n",
    "    margin=dict(l=0, r=0, t=0, b=0),\n",
    "    violingap=0,\n",
    "    violinmode='overlay',\n",
    ")\n",
    "fig_challenge_readability.write_image(os.path.join(\n",
    "    path_challenge_azureml_sagemaker, 'Challenge readability.png'))\n",
    "\n",
    "# Challenge view count\n",
    "fig_challenge_view_count = go.Figure()\n",
    "fig_challenge_view_count.add_trace(\n",
    "    go.Violin(\n",
    "        x=df_azureml['Challenge_topic_higher_level'],\n",
    "        y=df_azureml['Challenge_view_count'],\n",
    "        meanline_visible=True,\n",
    "        line_color='blue',\n",
    "        side='positive',\n",
    "        opacity=0.5,\n",
    "        legendgroup='SageMaker',\n",
    "        scalegroup='SageMaker',\n",
    "        name='SageMaker',\n",
    "    ))\n",
    "fig_challenge_view_count.add_trace(\n",
    "    go.Violin(\n",
    "        x=df_sagemaker['Challenge_topic_higher_level'],\n",
    "        y=df_sagemaker['Challenge_view_count'],\n",
    "        meanline_visible=True,\n",
    "        line_color='orange',\n",
    "        side='negative',\n",
    "        opacity=0.5,\n",
    "        legendgroup='AzureML',\n",
    "        scalegroup='AzureML',\n",
    "        name='AzureML',\n",
    "    ))\n",
    "fig_challenge_view_count.update_layout(\n",
    "    height=1000,\n",
    "    width=2000,\n",
    "    font=dict(size=20),\n",
    "    margin=dict(l=0, r=0, t=0, b=0),\n",
    "    violingap=0,\n",
    "    violinmode='overlay',\n",
    ")\n",
    "fig_challenge_view_count.write_image(os.path.join(\n",
    "    path_challenge_azureml_sagemaker, 'Challenge view count.png'))\n",
    "\n",
    "# Challenge answer count\n",
    "fig_challenge_answer_count = go.Figure()\n",
    "fig_challenge_answer_count.add_trace(\n",
    "    go.Violin(\n",
    "        x=df_azureml['Challenge_topic_higher_level'],\n",
    "        y=df_azureml['Challenge_answer_count'],\n",
    "        meanline_visible=True,\n",
    "        line_color='blue',\n",
    "        side='positive',\n",
    "        opacity=0.5,\n",
    "        legendgroup='SageMaker',\n",
    "        scalegroup='SageMaker',\n",
    "        name='SageMaker',\n",
    "    ))\n",
    "fig_challenge_answer_count.add_trace(\n",
    "    go.Violin(\n",
    "        x=df_sagemaker['Challenge_topic_higher_level'],\n",
    "        y=df_sagemaker['Challenge_answer_count'],\n",
    "        meanline_visible=True,\n",
    "        line_color='orange',\n",
    "        side='negative',\n",
    "        opacity=0.5,\n",
    "        legendgroup='AzureML',\n",
    "        scalegroup='AzureML',\n",
    "        name='AzureML',\n",
    "    ))\n",
    "fig_challenge_answer_count.update_layout(\n",
    "    height=1000,\n",
    "    width=2000,\n",
    "    font=dict(size=20),\n",
    "    margin=dict(l=0, r=0, t=0, b=0),\n",
    "    violingap=0,\n",
    "    violinmode='overlay',\n",
    ")\n",
    "fig_challenge_answer_count.write_image(os.path.join(\n",
    "    path_challenge_azureml_sagemaker, 'Challenge answer count.png'))\n",
    "\n",
    "# Challenge comment count\n",
    "fig_challenge_comment_count = go.Figure()\n",
    "fig_challenge_comment_count.add_trace(\n",
    "    go.Violin(\n",
    "        x=df_azureml['Challenge_topic_higher_level'],\n",
    "        y=df_azureml['Challenge_comment_count'],\n",
    "        meanline_visible=True,\n",
    "        line_color='blue',\n",
    "        side='positive',\n",
    "        opacity=0.5,\n",
    "        legendgroup='SageMaker',\n",
    "        scalegroup='SageMaker',\n",
    "        name='SageMaker',\n",
    "    ))\n",
    "fig_challenge_comment_count.add_trace(\n",
    "    go.Violin(\n",
    "        x=df_sagemaker['Challenge_topic_higher_level'],\n",
    "        y=df_sagemaker['Challenge_comment_count'],\n",
    "        meanline_visible=True,\n",
    "        line_color='orange',\n",
    "        side='negative',\n",
    "        opacity=0.5,\n",
    "        legendgroup='AzureML',\n",
    "        scalegroup='AzureML',\n",
    "        name='AzureML',\n",
    "    ))\n",
    "fig_challenge_comment_count.update_layout(\n",
    "    height=1000,\n",
    "    width=2000,\n",
    "    font=dict(size=20),\n",
    "    margin=dict(l=0, r=0, t=0, b=0),\n",
    "    violingap=0,\n",
    "    violinmode='overlay',\n",
    ")\n",
    "fig_challenge_comment_count.write_image(os.path.join(\n",
    "    path_challenge_azureml_sagemaker, 'Challenge comment count.png'))\n",
    "\n",
    "fig_challenge_solved_time_sagemaker = go.Figure()\n",
    "fig_challenge_solved_time_azureml = go.Figure()\n",
    "fig_challenge_adjusted_solved_time_sagemaker = go.Figure()\n",
    "fig_challenge_adjusted_solved_time_azureml = go.Figure()\n",
    "\n",
    "for name_group, color in zip(df_challenge.groupby('Challenge_topic_higher_level'), colors):\n",
    "    name, group = name_group\n",
    "    sagemaker = group[group['Tool'] == 'Amazon SageMaker']\n",
    "    azureml = group[group['Tool'] == 'Azure Machine Learning']\n",
    "\n",
    "    fig_challenge_solved_time_sagemaker.add_trace(go.Violin(x=sagemaker['Challenge_solved_time'], y=sagemaker['Challenge_topic_higher_level'], line_color=color))\n",
    "    fig_challenge_solved_time_azureml.add_trace(go.Violin(x=azureml['Challenge_solved_time'], y=azureml['Challenge_topic_higher_level'], line_color=color))\n",
    "    fig_challenge_adjusted_solved_time_sagemaker.add_trace(go.Violin(x=sagemaker['Challenge_adjusted_solved_time'], y=sagemaker['Challenge_topic_higher_level'], line_color=color))\n",
    "    fig_challenge_adjusted_solved_time_azureml.add_trace(go.Violin(x=azureml['Challenge_adjusted_solved_time'], y=azureml['Challenge_topic_higher_level'], line_color=color))\n",
    "\n",
    "    # Challenge score\n",
    "    challenge_score_azureml = azureml[azureml['Challenge_score'].notna(\n",
    "    )]['Challenge_score']\n",
    "    challenge_score_sagemaker = sagemaker[sagemaker['Challenge_score'].notna(\n",
    "    )]['Challenge_score']\n",
    "    if len(challenge_score_azureml) * len(challenge_score_sagemaker) > 0:\n",
    "        _, p = mannwhitneyu(challenge_score_azureml, challenge_score_sagemaker)\n",
    "        if p < alpha:\n",
    "            print(\n",
    "                f'p = {p}, indicating different distribution of SageMaker vs AzureML challenge regarding higher level topic {name} in challenge score')\n",
    "\n",
    "    # Challenge favorite count\n",
    "    challenge_favorite_count_azureml = azureml[azureml['Challenge_favorite_count'].notna(\n",
    "    )]['Challenge_favorite_count']\n",
    "    challenge_favorite_count_sagemaker = sagemaker[sagemaker['Challenge_favorite_count'].notna(\n",
    "    )]['Challenge_favorite_count']\n",
    "    if len(challenge_favorite_count_azureml) * len(challenge_favorite_count_sagemaker) > 0:\n",
    "        _, p = mannwhitneyu(challenge_favorite_count_azureml,\n",
    "                            challenge_favorite_count_sagemaker)\n",
    "        if p < alpha:\n",
    "            print(\n",
    "                f'p = {p}, indicating different distribution of SageMaker vs AzureML challenge regarding higher level topic {name} in challenge favorite count')\n",
    "\n",
    "    # Challenge follower count\n",
    "    challenge_follower_count_azureml = azureml[azureml['Challenge_follower_count'].notna(\n",
    "    )]['Challenge_follower_count']\n",
    "    challenge_follower_count_sagemaker = sagemaker[sagemaker['Challenge_follower_count'].notna(\n",
    "    )]['Challenge_follower_count']\n",
    "    if len(challenge_follower_count_azureml) * len(challenge_follower_count_sagemaker) > 0:\n",
    "        _, p = mannwhitneyu(challenge_follower_count_azureml,\n",
    "                            challenge_follower_count_sagemaker)\n",
    "        if p < alpha:\n",
    "            print(\n",
    "                f'p = {p}, indicating different distribution of SageMaker vs AzureML challenge regarding higher level topic {name} in challenge follower count')\n",
    "\n",
    "    # Challenge link count\n",
    "    challenge_link_count_azureml = azureml[azureml['Challenge_link_count'].notna(\n",
    "    )]['Challenge_link_count']\n",
    "    challenge_link_count_sagemaker = sagemaker[sagemaker['Challenge_link_count'].notna(\n",
    "    )]['Challenge_link_count']\n",
    "    if len(challenge_link_count_azureml) * len(challenge_link_count_sagemaker) > 0:\n",
    "        _, p = mannwhitneyu(challenge_link_count_azureml, challenge_link_count_sagemaker)\n",
    "        if p < alpha:\n",
    "            print(\n",
    "                f'p = {p}, indicating different distribution of SageMaker vs AzureML challenge regarding higher level topic {name} in challenge link count')\n",
    "\n",
    "    # Challenge readability\n",
    "    challenge_readability_azureml = azureml[azureml['Challenge_readability'].notna(\n",
    "    )]['Challenge_readability']\n",
    "    challenge_readability_sagemaker = sagemaker[sagemaker['Challenge_readability'].notna(\n",
    "    )]['Challenge_readability']\n",
    "    if len(challenge_readability_azureml) * len(challenge_readability_sagemaker) > 0:\n",
    "        _, p = mannwhitneyu(challenge_readability_azureml,\n",
    "                            challenge_readability_sagemaker)\n",
    "        if p < alpha:\n",
    "            print(\n",
    "                f'p = {p}, indicating different distribution of SageMaker vs AzureML challenge regarding higher level topic {name} in challenge readability')\n",
    "\n",
    "    # Challenge view count\n",
    "    challenge_view_count_azureml = azureml[azureml['Challenge_view_count'].notna(\n",
    "    )]['Challenge_view_count']\n",
    "    challenge_view_count_sagemaker = sagemaker[sagemaker['Challenge_view_count'].notna(\n",
    "    )]['Challenge_view_count']\n",
    "    if len(challenge_view_count_azureml) * len(challenge_view_count_sagemaker) > 0:\n",
    "        _, p = mannwhitneyu(challenge_view_count_azureml,\n",
    "                            challenge_view_count_sagemaker)\n",
    "        if p < alpha:\n",
    "            print(\n",
    "                f'p = {p}, indicating different distribution of SageMaker vs AzureML challenge regarding higher level topic {name} in challenge answer count')\n",
    "\n",
    "    # Challenge answer count\n",
    "    challenge_answer_count_azureml = azureml[azureml['Challenge_answer_count'].notna(\n",
    "    )]['Challenge_answer_count']\n",
    "    challenge_answer_count_sagemaker = sagemaker[sagemaker['Challenge_answer_count'].notna(\n",
    "    )]['Challenge_answer_count']\n",
    "    if len(challenge_answer_count_azureml) * len(challenge_answer_count_sagemaker) > 0:\n",
    "        _, p = mannwhitneyu(challenge_answer_count_azureml,\n",
    "                            challenge_answer_count_sagemaker)\n",
    "        if p < alpha:\n",
    "            print(\n",
    "                f'p = {p}, indicating different distribution of SageMaker vs AzureML challenge regarding higher level topic {name} in challenge answer count')\n",
    "\n",
    "    # Challenge comment count\n",
    "    challenge_comment_count_azureml = azureml[azureml['Challenge_comment_count'].notna(\n",
    "    )]['Challenge_comment_count']\n",
    "    challenge_comment_count_sagemaker = sagemaker[sagemaker['Challenge_comment_count'].notna(\n",
    "    )]['Challenge_comment_count']\n",
    "    if len(challenge_comment_count_azureml) * len(challenge_comment_count_sagemaker) > 0:\n",
    "        _, p = mannwhitneyu(challenge_comment_count_azureml,\n",
    "                            challenge_comment_count_sagemaker)\n",
    "        if p < alpha:\n",
    "            print(\n",
    "                f'p = {p}, indicating different distribution of SageMaker vs AzureML challenge regarding higher level topic {name} in challenge comment count')\n",
    "\n",
    "fig_challenge_solved_time_sagemaker.update_traces(orientation='h', meanline_visible=True, side='positive', width=3, points=False)\n",
    "fig_challenge_solved_time_sagemaker.update_layout(\n",
    "    height=1000,\n",
    "    width=2000,\n",
    "    font=dict(size=20),\n",
    "    margin=dict(l=0, r=0, t=0, b=0),\n",
    "    violingap=0,\n",
    "    violinmode='overlay',\n",
    "    xaxis_showgrid=False, \n",
    "    xaxis_zeroline=False, \n",
    "    showlegend=False, \n",
    "    xaxis_title='Challenge solved time (hours) - AzureML',\n",
    ")\n",
    "fig_challenge_solved_time_sagemaker.write_image(os.path.join(\n",
    "    path_challenge_azureml_sagemaker, 'Challenge solved time (AzureML).png'))\n",
    "\n",
    "fig_challenge_solved_time_azureml.update_traces(orientation='h', meanline_visible=True, side='positive', width=3, points=False)\n",
    "fig_challenge_solved_time_azureml.update_layout(\n",
    "    height=1000,\n",
    "    width=2000,\n",
    "    font=dict(size=20),\n",
    "    margin=dict(l=0, r=0, t=0, b=0),\n",
    "    violingap=0,\n",
    "    violinmode='overlay',\n",
    "    xaxis_showgrid=False, \n",
    "    xaxis_zeroline=False, \n",
    "    showlegend=False, \n",
    "    xaxis_title='Challenge solved time (hours) - SageMaker',\n",
    ")\n",
    "fig_challenge_solved_time_azureml.write_image(os.path.join(\n",
    "    path_challenge_azureml_sagemaker, 'Challenge solved time (SageMaker).png'))\n",
    "\n",
    "fig_challenge_adjusted_solved_time_sagemaker.update_traces(orientation='h', meanline_visible=True, side='positive', width=3, points=False)\n",
    "fig_challenge_adjusted_solved_time_sagemaker.update_layout(\n",
    "    height=1000,\n",
    "    width=2000,\n",
    "    font=dict(size=20),\n",
    "    margin=dict(l=0, r=0, t=0, b=0),\n",
    "    violingap=0,\n",
    "    violinmode='overlay',\n",
    "    xaxis_showgrid=False, \n",
    "    xaxis_zeroline=False, \n",
    "    showlegend=False, \n",
    "    xaxis_title='Challenge adjusted solved time (hours) - AzureML',\n",
    ")\n",
    "fig_challenge_adjusted_solved_time_sagemaker.write_image(os.path.join(\n",
    "    path_challenge_azureml_sagemaker, 'Challenge adjusted solved time (AzureML).png'))\n",
    "\n",
    "fig_challenge_adjusted_solved_time_azureml.update_traces(orientation='h', meanline_visible=True, side='positive', width=3, points=False)\n",
    "fig_challenge_adjusted_solved_time_azureml.update_layout(\n",
    "    height=1000,\n",
    "    width=2000,\n",
    "    font=dict(size=20),\n",
    "    margin=dict(l=0, r=0, t=0, b=0),\n",
    "    violingap=0,\n",
    "    violinmode='overlay',\n",
    "    xaxis_showgrid=False, \n",
    "    xaxis_zeroline=False, \n",
    "    showlegend=False, \n",
    "    xaxis_title='Challenge adjusted solved time (hours) - SageMaker',\n",
    ")\n",
    "fig_challenge_adjusted_solved_time_azureml.write_image(os.path.join(\n",
    "    path_challenge_azureml_sagemaker, 'Challenge adjusted solved time (SageMaker).png'))\n",
    "\n",
    "# Challenge hgher level mean solved time\n",
    "challenge_mean_solved_time_azureml = df_azureml[['Challenge_topic_higher_level', 'Challenge_solved_time']].groupby(\n",
    "    'Challenge_topic_higher_level').mean()['Challenge_solved_time']\n",
    "challenge_mean_solved_time_sagemaker = df_sagemaker[['Challenge_topic_higher_level', 'Challenge_solved_time']].groupby(\n",
    "    'Challenge_topic_higher_level').mean()['Challenge_solved_time']\n",
    "_, p = mannwhitneyu(challenge_mean_solved_time_azureml,\n",
    "                    challenge_mean_solved_time_sagemaker)\n",
    "if p < alpha:\n",
    "    print(f'p = {p}, indicating different distribution of SageMaker vs AzureML in higher level mean challenge solved time')\n",
    "\n",
    "# Challenge hgher level median solved time\n",
    "challenge_median_solved_time_azureml = df_azureml[['Challenge_topic_higher_level', 'Challenge_solved_time']].groupby(\n",
    "    'Challenge_topic_higher_level').median()['Challenge_solved_time']\n",
    "challenge_median_solved_time_sagemaker = df_sagemaker[['Challenge_topic_higher_level', 'Challenge_solved_time']].groupby(\n",
    "    'Challenge_topic_higher_level').median()['Challenge_solved_time']\n",
    "_, p = mannwhitneyu(challenge_median_solved_time_azureml,\n",
    "                    challenge_median_solved_time_sagemaker)\n",
    "if p < alpha:\n",
    "    print(f'p = {p}, indicating different distribution of SageMaker vs AzureML in higher level median challenge solved time')\n",
    "\n",
    "# Challenge hgher level adjusted mean solved time\n",
    "challenge_adjusted_mean_solved_time_azureml = df_azureml[['Challenge_topic_higher_level', 'Challenge_adjusted_solved_time']].groupby(\n",
    "    'Challenge_topic_higher_level').mean()['Challenge_adjusted_solved_time']\n",
    "challenge_adjusted_mean_solved_time_sagemaker = df_sagemaker[['Challenge_topic_higher_level', 'Challenge_adjusted_solved_time']].groupby(\n",
    "    'Challenge_topic_higher_level').mean()['Challenge_adjusted_solved_time']\n",
    "_, p = mannwhitneyu(challenge_adjusted_mean_solved_time_azureml,\n",
    "                    challenge_adjusted_mean_solved_time_sagemaker)\n",
    "if p < alpha:\n",
    "    print(f'p = {p}, indicating different distribution of SageMaker vs AzureML in higher level adjusted mean challenge solved time')\n",
    "\n",
    "# Challenge hgher level adjusted median solved time\n",
    "challenge_adjusted_median_solved_time_azureml = df_azureml[['Challenge_topic_higher_level', 'Challenge_adjusted_solved_time']].groupby(\n",
    "    'Challenge_topic_higher_level').median()['Challenge_adjusted_solved_time']\n",
    "challenge_adjusted_median_solved_time_sagemaker = df_sagemaker[['Challenge_topic_higher_level', 'Challenge_adjusted_solved_time']].groupby(\n",
    "    'Challenge_topic_higher_level').median()['Challenge_adjusted_solved_time']\n",
    "_, p = mannwhitneyu(challenge_adjusted_median_solved_time_azureml,\n",
    "                    challenge_adjusted_median_solved_time_sagemaker)\n",
    "if p < alpha:\n",
    "    print(f'p = {p}, indicating different distribution of SageMaker vs AzureML in higher level adjusted median challenge solved time')\n"
   ]
  },
  {
   "cell_type": "code",
   "execution_count": null,
   "metadata": {},
   "outputs": [
    {
     "name": "stdout",
     "output_type": "stream",
     "text": [
      "p = 0.0005924311311671464, indicating there is a linear dependence between challenge median solved time vs mean solved time\n",
      "p = 0.03621067065285101, indicating there is a linear dependence between challenge adjusted median solved time vs mean solved time\n"
     ]
    },
    {
     "data": {
      "application/vnd.plotly.v1+json": {
       "config": {
        "plotlyServerURL": "https://plot.ly"
       },
       "data": [
        {
         "hovertemplate": "<b>%{hovertext}</b><br><br>Challenge topic=API Invocation<br>Challenge mean solved time=%{x}<br>Challenge median solved time=%{y}<br>Challenge count=%{marker.size}<extra></extra>",
         "hovertext": [
          "API Invocation"
         ],
         "legendgroup": "API Invocation",
         "marker": {
          "color": "#636efa",
          "size": [
           147
          ],
          "sizemode": "area",
          "sizeref": 1.96,
          "symbol": "circle"
         },
         "mode": "markers",
         "name": "API Invocation",
         "orientation": "v",
         "showlegend": true,
         "type": "scatter",
         "x": [
          318.4791367800572
         ],
         "xaxis": "x",
         "y": [
          43.2314219444
         ],
         "yaxis": "y"
        },
        {
         "hovertemplate": "Challenge topic=API Invocation<extra></extra>",
         "legendgroup": "API Invocation",
         "marker": {
          "color": "#636efa",
          "symbol": "circle"
         },
         "mode": "lines",
         "name": "API Invocation",
         "showlegend": false,
         "type": "scatter",
         "xaxis": "x",
         "yaxis": "y"
        },
        {
         "hovertemplate": "<b>%{hovertext}</b><br><br>Challenge topic=Account Management<br>Challenge mean solved time=%{x}<br>Challenge median solved time=%{y}<br>Challenge count=%{marker.size}<extra></extra>",
         "hovertext": [
          "Account Management"
         ],
         "legendgroup": "Account Management",
         "marker": {
          "color": "#EF553B",
          "size": [
           229
          ],
          "sizemode": "area",
          "sizeref": 1.96,
          "symbol": "circle"
         },
         "mode": "markers",
         "name": "Account Management",
         "orientation": "v",
         "showlegend": true,
         "type": "scatter",
         "x": [
          338.7636674576424
         ],
         "xaxis": "x",
         "y": [
          13.2357005556
         ],
         "yaxis": "y"
        },
        {
         "hovertemplate": "Challenge topic=Account Management<extra></extra>",
         "legendgroup": "Account Management",
         "marker": {
          "color": "#EF553B",
          "symbol": "circle"
         },
         "mode": "lines",
         "name": "Account Management",
         "showlegend": false,
         "type": "scatter",
         "xaxis": "x",
         "yaxis": "y"
        },
        {
         "hovertemplate": "<b>%{hovertext}</b><br><br>Challenge topic=Apache Spark Configuration<br>Challenge mean solved time=%{x}<br>Challenge median solved time=%{y}<br>Challenge count=%{marker.size}<extra></extra>",
         "hovertext": [
          "Apache Spark Configuration"
         ],
         "legendgroup": "Apache Spark Configuration",
         "marker": {
          "color": "#00cc96",
          "size": [
           120
          ],
          "sizemode": "area",
          "sizeref": 1.96,
          "symbol": "circle"
         },
         "mode": "markers",
         "name": "Apache Spark Configuration",
         "orientation": "v",
         "showlegend": true,
         "type": "scatter",
         "x": [
          197.3053580651552
         ],
         "xaxis": "x",
         "y": [
          18.5982666667
         ],
         "yaxis": "y"
        },
        {
         "hovertemplate": "Challenge topic=Apache Spark Configuration<extra></extra>",
         "legendgroup": "Apache Spark Configuration",
         "marker": {
          "color": "#00cc96",
          "symbol": "circle"
         },
         "mode": "lines",
         "name": "Apache Spark Configuration",
         "showlegend": false,
         "type": "scatter",
         "xaxis": "x",
         "yaxis": "y"
        },
        {
         "hovertemplate": "<b>%{hovertext}</b><br><br>Challenge topic=Artifact Management<br>Challenge mean solved time=%{x}<br>Challenge median solved time=%{y}<br>Challenge count=%{marker.size}<extra></extra>",
         "hovertext": [
          "Artifact Management"
         ],
         "legendgroup": "Artifact Management",
         "marker": {
          "color": "#ab63fa",
          "size": [
           171
          ],
          "sizemode": "area",
          "sizeref": 1.96,
          "symbol": "circle"
         },
         "mode": "markers",
         "name": "Artifact Management",
         "orientation": "v",
         "showlegend": true,
         "type": "scatter",
         "x": [
          462.0911602430626
         ],
         "xaxis": "x",
         "y": [
          47.28220680555
         ],
         "yaxis": "y"
        },
        {
         "hovertemplate": "Challenge topic=Artifact Management<extra></extra>",
         "legendgroup": "Artifact Management",
         "marker": {
          "color": "#ab63fa",
          "symbol": "circle"
         },
         "mode": "lines",
         "name": "Artifact Management",
         "showlegend": false,
         "type": "scatter",
         "xaxis": "x",
         "yaxis": "y"
        },
        {
         "hovertemplate": "<b>%{hovertext}</b><br><br>Challenge topic=Batch Processing<br>Challenge mean solved time=%{x}<br>Challenge median solved time=%{y}<br>Challenge count=%{marker.size}<extra></extra>",
         "hovertext": [
          "Batch Processing"
         ],
         "legendgroup": "Batch Processing",
         "marker": {
          "color": "#FFA15A",
          "size": [
           176
          ],
          "sizemode": "area",
          "sizeref": 1.96,
          "symbol": "circle"
         },
         "mode": "markers",
         "name": "Batch Processing",
         "orientation": "v",
         "showlegend": true,
         "type": "scatter",
         "x": [
          171.80602148345318
         ],
         "xaxis": "x",
         "y": [
          10.7241647222
         ],
         "yaxis": "y"
        },
        {
         "hovertemplate": "Challenge topic=Batch Processing<extra></extra>",
         "legendgroup": "Batch Processing",
         "marker": {
          "color": "#FFA15A",
          "symbol": "circle"
         },
         "mode": "lines",
         "name": "Batch Processing",
         "showlegend": false,
         "type": "scatter",
         "xaxis": "x",
         "yaxis": "y"
        },
        {
         "hovertemplate": "<b>%{hovertext}</b><br><br>Challenge topic=Bucket Access Control<br>Challenge mean solved time=%{x}<br>Challenge median solved time=%{y}<br>Challenge count=%{marker.size}<extra></extra>",
         "hovertext": [
          "Bucket Access Control"
         ],
         "legendgroup": "Bucket Access Control",
         "marker": {
          "color": "#19d3f3",
          "size": [
           94
          ],
          "sizemode": "area",
          "sizeref": 1.96,
          "symbol": "circle"
         },
         "mode": "markers",
         "name": "Bucket Access Control",
         "orientation": "v",
         "showlegend": true,
         "type": "scatter",
         "x": [
          777.0313674074184
         ],
         "xaxis": "x",
         "y": [
          11.5363191667
         ],
         "yaxis": "y"
        },
        {
         "hovertemplate": "Challenge topic=Bucket Access Control<extra></extra>",
         "legendgroup": "Bucket Access Control",
         "marker": {
          "color": "#19d3f3",
          "symbol": "circle"
         },
         "mode": "lines",
         "name": "Bucket Access Control",
         "showlegend": false,
         "type": "scatter",
         "xaxis": "x",
         "yaxis": "y"
        },
        {
         "hovertemplate": "<b>%{hovertext}</b><br><br>Challenge topic=CSV Manipulation<br>Challenge mean solved time=%{x}<br>Challenge median solved time=%{y}<br>Challenge count=%{marker.size}<extra></extra>",
         "hovertext": [
          "CSV Manipulation"
         ],
         "legendgroup": "CSV Manipulation",
         "marker": {
          "color": "#FF6692",
          "size": [
           129
          ],
          "sizemode": "area",
          "sizeref": 1.96,
          "symbol": "circle"
         },
         "mode": "markers",
         "name": "CSV Manipulation",
         "orientation": "v",
         "showlegend": true,
         "type": "scatter",
         "x": [
          146.30750101474692
         ],
         "xaxis": "x",
         "y": [
          6.8781394444
         ],
         "yaxis": "y"
        },
        {
         "hovertemplate": "Challenge topic=CSV Manipulation<extra></extra>",
         "legendgroup": "CSV Manipulation",
         "marker": {
          "color": "#FF6692",
          "symbol": "circle"
         },
         "mode": "lines",
         "name": "CSV Manipulation",
         "showlegend": false,
         "type": "scatter",
         "xaxis": "x",
         "yaxis": "y"
        },
        {
         "hovertemplate": "<b>%{hovertext}</b><br><br>Challenge topic=CloudWatch Monitoring<br>Challenge mean solved time=%{x}<br>Challenge median solved time=%{y}<br>Challenge count=%{marker.size}<extra></extra>",
         "hovertext": [
          "CloudWatch Monitoring"
         ],
         "legendgroup": "CloudWatch Monitoring",
         "marker": {
          "color": "#B6E880",
          "size": [
           113
          ],
          "sizemode": "area",
          "sizeref": 1.96,
          "symbol": "circle"
         },
         "mode": "markers",
         "name": "CloudWatch Monitoring",
         "orientation": "v",
         "showlegend": true,
         "type": "scatter",
         "x": [
          390.4885579514
         ],
         "xaxis": "x",
         "y": [
          28.38799125005
         ],
         "yaxis": "y"
        },
        {
         "hovertemplate": "Challenge topic=CloudWatch Monitoring<extra></extra>",
         "legendgroup": "CloudWatch Monitoring",
         "marker": {
          "color": "#B6E880",
          "symbol": "circle"
         },
         "mode": "lines",
         "name": "CloudWatch Monitoring",
         "showlegend": false,
         "type": "scatter",
         "xaxis": "x",
         "yaxis": "y"
        },
        {
         "hovertemplate": "<b>%{hovertext}</b><br><br>Challenge topic=Code Versioning<br>Challenge mean solved time=%{x}<br>Challenge median solved time=%{y}<br>Challenge count=%{marker.size}<extra></extra>",
         "hovertext": [
          "Code Versioning"
         ],
         "legendgroup": "Code Versioning",
         "marker": {
          "color": "#FF97FF",
          "size": [
           342
          ],
          "sizemode": "area",
          "sizeref": 1.96,
          "symbol": "circle"
         },
         "mode": "markers",
         "name": "Code Versioning",
         "orientation": "v",
         "showlegend": true,
         "type": "scatter",
         "x": [
          276.53434951659995
         ],
         "xaxis": "x",
         "y": [
          14.9208969444
         ],
         "yaxis": "y"
        },
        {
         "hovertemplate": "Challenge topic=Code Versioning<extra></extra>",
         "legendgroup": "Code Versioning",
         "marker": {
          "color": "#FF97FF",
          "symbol": "circle"
         },
         "mode": "lines",
         "name": "Code Versioning",
         "showlegend": false,
         "type": "scatter",
         "xaxis": "x",
         "yaxis": "y"
        },
        {
         "hovertemplate": "<b>%{hovertext}</b><br><br>Challenge topic=Columnar Manipulation<br>Challenge mean solved time=%{x}<br>Challenge median solved time=%{y}<br>Challenge count=%{marker.size}<extra></extra>",
         "hovertext": [
          "Columnar Manipulation"
         ],
         "legendgroup": "Columnar Manipulation",
         "marker": {
          "color": "#FECB52",
          "size": [
           225
          ],
          "sizemode": "area",
          "sizeref": 1.96,
          "symbol": "circle"
         },
         "mode": "markers",
         "name": "Columnar Manipulation",
         "orientation": "v",
         "showlegend": true,
         "type": "scatter",
         "x": [
          178.50525533565835
         ],
         "xaxis": "x",
         "y": [
          32.977505555600004
         ],
         "yaxis": "y"
        },
        {
         "hovertemplate": "Challenge topic=Columnar Manipulation<extra></extra>",
         "legendgroup": "Columnar Manipulation",
         "marker": {
          "color": "#FECB52",
          "symbol": "circle"
         },
         "mode": "lines",
         "name": "Columnar Manipulation",
         "showlegend": false,
         "type": "scatter",
         "xaxis": "x",
         "yaxis": "y"
        },
        {
         "hovertemplate": "<b>%{hovertext}</b><br><br>Challenge topic=Data Labeling<br>Challenge mean solved time=%{x}<br>Challenge median solved time=%{y}<br>Challenge count=%{marker.size}<extra></extra>",
         "hovertext": [
          "Data Labeling"
         ],
         "legendgroup": "Data Labeling",
         "marker": {
          "color": "#636efa",
          "size": [
           159
          ],
          "sizemode": "area",
          "sizeref": 1.96,
          "symbol": "circle"
         },
         "mode": "markers",
         "name": "Data Labeling",
         "orientation": "v",
         "showlegend": true,
         "type": "scatter",
         "x": [
          383.5106586192941
         ],
         "xaxis": "x",
         "y": [
          27.680217916700002
         ],
         "yaxis": "y"
        },
        {
         "hovertemplate": "Challenge topic=Data Labeling<extra></extra>",
         "legendgroup": "Data Labeling",
         "marker": {
          "color": "#636efa",
          "symbol": "circle"
         },
         "mode": "lines",
         "name": "Data Labeling",
         "showlegend": false,
         "type": "scatter",
         "xaxis": "x",
         "yaxis": "y"
        },
        {
         "hovertemplate": "<b>%{hovertext}</b><br><br>Challenge topic=Data Storage<br>Challenge mean solved time=%{x}<br>Challenge median solved time=%{y}<br>Challenge count=%{marker.size}<extra></extra>",
         "hovertext": [
          "Data Storage"
         ],
         "legendgroup": "Data Storage",
         "marker": {
          "color": "#EF553B",
          "size": [
           387
          ],
          "sizemode": "area",
          "sizeref": 1.96,
          "symbol": "circle"
         },
         "mode": "markers",
         "name": "Data Storage",
         "orientation": "v",
         "showlegend": true,
         "type": "scatter",
         "x": [
          246.71964790199348
         ],
         "xaxis": "x",
         "y": [
          18.4475338889
         ],
         "yaxis": "y"
        },
        {
         "hovertemplate": "Challenge topic=Data Storage<extra></extra>",
         "legendgroup": "Data Storage",
         "marker": {
          "color": "#EF553B",
          "symbol": "circle"
         },
         "mode": "lines",
         "name": "Data Storage",
         "showlegend": false,
         "type": "scatter",
         "xaxis": "x",
         "yaxis": "y"
        },
        {
         "hovertemplate": "<b>%{hovertext}</b><br><br>Challenge topic=Data Visualization<br>Challenge mean solved time=%{x}<br>Challenge median solved time=%{y}<br>Challenge count=%{marker.size}<extra></extra>",
         "hovertext": [
          "Data Visualization"
         ],
         "legendgroup": "Data Visualization",
         "marker": {
          "color": "#00cc96",
          "size": [
           159
          ],
          "sizemode": "area",
          "sizeref": 1.96,
          "symbol": "circle"
         },
         "mode": "markers",
         "name": "Data Visualization",
         "orientation": "v",
         "showlegend": true,
         "type": "scatter",
         "x": [
          319.97869340972994
         ],
         "xaxis": "x",
         "y": [
          37.609466111100005
         ],
         "yaxis": "y"
        },
        {
         "hovertemplate": "Challenge topic=Data Visualization<extra></extra>",
         "legendgroup": "Data Visualization",
         "marker": {
          "color": "#00cc96",
          "symbol": "circle"
         },
         "mode": "lines",
         "name": "Data Visualization",
         "showlegend": false,
         "type": "scatter",
         "xaxis": "x",
         "yaxis": "y"
        },
        {
         "hovertemplate": "<b>%{hovertext}</b><br><br>Challenge topic=Database Connectivity<br>Challenge mean solved time=%{x}<br>Challenge median solved time=%{y}<br>Challenge count=%{marker.size}<extra></extra>",
         "hovertext": [
          "Database Connectivity"
         ],
         "legendgroup": "Database Connectivity",
         "marker": {
          "color": "#ab63fa",
          "size": [
           119
          ],
          "sizemode": "area",
          "sizeref": 1.96,
          "symbol": "circle"
         },
         "mode": "markers",
         "name": "Database Connectivity",
         "orientation": "v",
         "showlegend": true,
         "type": "scatter",
         "x": [
          437.73477371528753
         ],
         "xaxis": "x",
         "y": [
          26.061258194449998
         ],
         "yaxis": "y"
        },
        {
         "hovertemplate": "Challenge topic=Database Connectivity<extra></extra>",
         "legendgroup": "Database Connectivity",
         "marker": {
          "color": "#ab63fa",
          "symbol": "circle"
         },
         "mode": "lines",
         "name": "Database Connectivity",
         "showlegend": false,
         "type": "scatter",
         "xaxis": "x",
         "yaxis": "y"
        },
        {
         "hovertemplate": "<b>%{hovertext}</b><br><br>Challenge topic=Dataset Versioning<br>Challenge mean solved time=%{x}<br>Challenge median solved time=%{y}<br>Challenge count=%{marker.size}<extra></extra>",
         "hovertext": [
          "Dataset Versioning"
         ],
         "legendgroup": "Dataset Versioning",
         "marker": {
          "color": "#FFA15A",
          "size": [
           99
          ],
          "sizemode": "area",
          "sizeref": 1.96,
          "symbol": "circle"
         },
         "mode": "markers",
         "name": "Dataset Versioning",
         "orientation": "v",
         "showlegend": true,
         "type": "scatter",
         "x": [
          199.73695939393636
         ],
         "xaxis": "x",
         "y": [
          8.46906444445
         ],
         "yaxis": "y"
        },
        {
         "hovertemplate": "Challenge topic=Dataset Versioning<extra></extra>",
         "legendgroup": "Dataset Versioning",
         "marker": {
          "color": "#FFA15A",
          "symbol": "circle"
         },
         "mode": "lines",
         "name": "Dataset Versioning",
         "showlegend": false,
         "type": "scatter",
         "xaxis": "x",
         "yaxis": "y"
        },
        {
         "hovertemplate": "<b>%{hovertext}</b><br><br>Challenge topic=Docker Configuration<br>Challenge mean solved time=%{x}<br>Challenge median solved time=%{y}<br>Challenge count=%{marker.size}<extra></extra>",
         "hovertext": [
          "Docker Configuration"
         ],
         "legendgroup": "Docker Configuration",
         "marker": {
          "color": "#19d3f3",
          "size": [
           312
          ],
          "sizemode": "area",
          "sizeref": 1.96,
          "symbol": "circle"
         },
         "mode": "markers",
         "name": "Docker Configuration",
         "orientation": "v",
         "showlegend": true,
         "type": "scatter",
         "x": [
          623.6921893492181
         ],
         "xaxis": "x",
         "y": [
          44.3762386111
         ],
         "yaxis": "y"
        },
        {
         "hovertemplate": "Challenge topic=Docker Configuration<extra></extra>",
         "legendgroup": "Docker Configuration",
         "marker": {
          "color": "#19d3f3",
          "symbol": "circle"
         },
         "mode": "lines",
         "name": "Docker Configuration",
         "showlegend": false,
         "type": "scatter",
         "xaxis": "x",
         "yaxis": "y"
        },
        {
         "hovertemplate": "<b>%{hovertext}</b><br><br>Challenge topic=GPU Configuration<br>Challenge mean solved time=%{x}<br>Challenge median solved time=%{y}<br>Challenge count=%{marker.size}<extra></extra>",
         "hovertext": [
          "GPU Configuration"
         ],
         "legendgroup": "GPU Configuration",
         "marker": {
          "color": "#FF6692",
          "size": [
           257
          ],
          "sizemode": "area",
          "sizeref": 1.96,
          "symbol": "circle"
         },
         "mode": "markers",
         "name": "GPU Configuration",
         "orientation": "v",
         "showlegend": true,
         "type": "scatter",
         "x": [
          578.406389545456
         ],
         "xaxis": "x",
         "y": [
          58.57324625
         ],
         "yaxis": "y"
        },
        {
         "hovertemplate": "Challenge topic=GPU Configuration<extra></extra>",
         "legendgroup": "GPU Configuration",
         "marker": {
          "color": "#FF6692",
          "symbol": "circle"
         },
         "mode": "lines",
         "name": "GPU Configuration",
         "showlegend": false,
         "type": "scatter",
         "xaxis": "x",
         "yaxis": "y"
        },
        {
         "hovertemplate": "<b>%{hovertext}</b><br><br>Challenge topic=Hyperparameter Tuning<br>Challenge mean solved time=%{x}<br>Challenge median solved time=%{y}<br>Challenge count=%{marker.size}<extra></extra>",
         "hovertext": [
          "Hyperparameter Tuning"
         ],
         "legendgroup": "Hyperparameter Tuning",
         "marker": {
          "color": "#B6E880",
          "size": [
           374
          ],
          "sizemode": "area",
          "sizeref": 1.96,
          "symbol": "circle"
         },
         "mode": "markers",
         "name": "Hyperparameter Tuning",
         "orientation": "v",
         "showlegend": true,
         "type": "scatter",
         "x": [
          260.7483791776762
         ],
         "xaxis": "x",
         "y": [
          29.9698797222
         ],
         "yaxis": "y"
        },
        {
         "hovertemplate": "Challenge topic=Hyperparameter Tuning<extra></extra>",
         "legendgroup": "Hyperparameter Tuning",
         "marker": {
          "color": "#B6E880",
          "symbol": "circle"
         },
         "mode": "lines",
         "name": "Hyperparameter Tuning",
         "showlegend": false,
         "type": "scatter",
         "xaxis": "x",
         "yaxis": "y"
        },
        {
         "hovertemplate": "<b>%{hovertext}</b><br><br>Challenge topic=Jupyter Notebook<br>Challenge mean solved time=%{x}<br>Challenge median solved time=%{y}<br>Challenge count=%{marker.size}<extra></extra>",
         "hovertext": [
          "Jupyter Notebook"
         ],
         "legendgroup": "Jupyter Notebook",
         "marker": {
          "color": "#FF97FF",
          "size": [
           147
          ],
          "sizemode": "area",
          "sizeref": 1.96,
          "symbol": "circle"
         },
         "mode": "markers",
         "name": "Jupyter Notebook",
         "orientation": "v",
         "showlegend": true,
         "type": "scatter",
         "x": [
          406.93995642512607
         ],
         "xaxis": "x",
         "y": [
          14.4911426389
         ],
         "yaxis": "y"
        },
        {
         "hovertemplate": "Challenge topic=Jupyter Notebook<extra></extra>",
         "legendgroup": "Jupyter Notebook",
         "marker": {
          "color": "#FF97FF",
          "symbol": "circle"
         },
         "mode": "lines",
         "name": "Jupyter Notebook",
         "showlegend": false,
         "type": "scatter",
         "xaxis": "x",
         "yaxis": "y"
        },
        {
         "hovertemplate": "<b>%{hovertext}</b><br><br>Challenge topic=Kubernetes Orchestration<br>Challenge mean solved time=%{x}<br>Challenge median solved time=%{y}<br>Challenge count=%{marker.size}<extra></extra>",
         "hovertext": [
          "Kubernetes Orchestration"
         ],
         "legendgroup": "Kubernetes Orchestration",
         "marker": {
          "color": "#FECB52",
          "size": [
           100
          ],
          "sizemode": "area",
          "sizeref": 1.96,
          "symbol": "circle"
         },
         "mode": "markers",
         "name": "Kubernetes Orchestration",
         "orientation": "v",
         "showlegend": true,
         "type": "scatter",
         "x": [
          389.3961056837615
         ],
         "xaxis": "x",
         "y": [
          27.14448402775
         ],
         "yaxis": "y"
        },
        {
         "hovertemplate": "Challenge topic=Kubernetes Orchestration<extra></extra>",
         "legendgroup": "Kubernetes Orchestration",
         "marker": {
          "color": "#FECB52",
          "symbol": "circle"
         },
         "mode": "lines",
         "name": "Kubernetes Orchestration",
         "showlegend": false,
         "type": "scatter",
         "xaxis": "x",
         "yaxis": "y"
        },
        {
         "hovertemplate": "<b>%{hovertext}</b><br><br>Challenge topic=Metrics Logging<br>Challenge mean solved time=%{x}<br>Challenge median solved time=%{y}<br>Challenge count=%{marker.size}<extra></extra>",
         "hovertext": [
          "Metrics Logging"
         ],
         "legendgroup": "Metrics Logging",
         "marker": {
          "color": "#636efa",
          "size": [
           348
          ],
          "sizemode": "area",
          "sizeref": 1.96,
          "symbol": "circle"
         },
         "mode": "markers",
         "name": "Metrics Logging",
         "orientation": "v",
         "showlegend": true,
         "type": "scatter",
         "x": [
          463.23355782206664
         ],
         "xaxis": "x",
         "y": [
          47.8624777778
         ],
         "yaxis": "y"
        },
        {
         "hovertemplate": "Challenge topic=Metrics Logging<extra></extra>",
         "legendgroup": "Metrics Logging",
         "marker": {
          "color": "#636efa",
          "symbol": "circle"
         },
         "mode": "lines",
         "name": "Metrics Logging",
         "showlegend": false,
         "type": "scatter",
         "xaxis": "x",
         "yaxis": "y"
        },
        {
         "hovertemplate": "<b>%{hovertext}</b><br><br>Challenge topic=Model Evaluation<br>Challenge mean solved time=%{x}<br>Challenge median solved time=%{y}<br>Challenge count=%{marker.size}<extra></extra>",
         "hovertext": [
          "Model Evaluation"
         ],
         "legendgroup": "Model Evaluation",
         "marker": {
          "color": "#EF553B",
          "size": [
           313
          ],
          "sizemode": "area",
          "sizeref": 1.96,
          "symbol": "circle"
         },
         "mode": "markers",
         "name": "Model Evaluation",
         "orientation": "v",
         "showlegend": true,
         "type": "scatter",
         "x": [
          353.10459148257206
         ],
         "xaxis": "x",
         "y": [
          19.77049000005
         ],
         "yaxis": "y"
        },
        {
         "hovertemplate": "Challenge topic=Model Evaluation<extra></extra>",
         "legendgroup": "Model Evaluation",
         "marker": {
          "color": "#EF553B",
          "symbol": "circle"
         },
         "mode": "lines",
         "name": "Model Evaluation",
         "showlegend": false,
         "type": "scatter",
         "xaxis": "x",
         "yaxis": "y"
        },
        {
         "hovertemplate": "<b>%{hovertext}</b><br><br>Challenge topic=Model Exporting<br>Challenge mean solved time=%{x}<br>Challenge median solved time=%{y}<br>Challenge count=%{marker.size}<extra></extra>",
         "hovertext": [
          "Model Exporting"
         ],
         "legendgroup": "Model Exporting",
         "marker": {
          "color": "#00cc96",
          "size": [
           271
          ],
          "sizemode": "area",
          "sizeref": 1.96,
          "symbol": "circle"
         },
         "mode": "markers",
         "name": "Model Exporting",
         "orientation": "v",
         "showlegend": true,
         "type": "scatter",
         "x": [
          226.49451610521066
         ],
         "xaxis": "x",
         "y": [
          24.78255694445
         ],
         "yaxis": "y"
        },
        {
         "hovertemplate": "Challenge topic=Model Exporting<extra></extra>",
         "legendgroup": "Model Exporting",
         "marker": {
          "color": "#00cc96",
          "symbol": "circle"
         },
         "mode": "lines",
         "name": "Model Exporting",
         "showlegend": false,
         "type": "scatter",
         "xaxis": "x",
         "yaxis": "y"
        },
        {
         "hovertemplate": "<b>%{hovertext}</b><br><br>Challenge topic=Model Inference<br>Challenge mean solved time=%{x}<br>Challenge median solved time=%{y}<br>Challenge count=%{marker.size}<extra></extra>",
         "hovertext": [
          "Model Inference"
         ],
         "legendgroup": "Model Inference",
         "marker": {
          "color": "#ab63fa",
          "size": [
           200
          ],
          "sizemode": "area",
          "sizeref": 1.96,
          "symbol": "circle"
         },
         "mode": "markers",
         "name": "Model Inference",
         "orientation": "v",
         "showlegend": true,
         "type": "scatter",
         "x": [
          125.93344374765422
         ],
         "xaxis": "x",
         "y": [
          27.4099408334
         ],
         "yaxis": "y"
        },
        {
         "hovertemplate": "Challenge topic=Model Inference<extra></extra>",
         "legendgroup": "Model Inference",
         "marker": {
          "color": "#ab63fa",
          "symbol": "circle"
         },
         "mode": "lines",
         "name": "Model Inference",
         "showlegend": false,
         "type": "scatter",
         "xaxis": "x",
         "yaxis": "y"
        },
        {
         "hovertemplate": "<b>%{hovertext}</b><br><br>Challenge topic=Model Registry<br>Challenge mean solved time=%{x}<br>Challenge median solved time=%{y}<br>Challenge count=%{marker.size}<extra></extra>",
         "hovertext": [
          "Model Registry"
         ],
         "legendgroup": "Model Registry",
         "marker": {
          "color": "#FFA15A",
          "size": [
           135
          ],
          "sizemode": "area",
          "sizeref": 1.96,
          "symbol": "circle"
         },
         "mode": "markers",
         "name": "Model Registry",
         "orientation": "v",
         "showlegend": true,
         "type": "scatter",
         "x": [
          351.96795953086445
         ],
         "xaxis": "x",
         "y": [
          39.9339302778
         ],
         "yaxis": "y"
        },
        {
         "hovertemplate": "Challenge topic=Model Registry<extra></extra>",
         "legendgroup": "Model Registry",
         "marker": {
          "color": "#FFA15A",
          "symbol": "circle"
         },
         "mode": "lines",
         "name": "Model Registry",
         "showlegend": false,
         "type": "scatter",
         "xaxis": "x",
         "yaxis": "y"
        },
        {
         "hovertemplate": "<b>%{hovertext}</b><br><br>Challenge topic=Package Management<br>Challenge mean solved time=%{x}<br>Challenge median solved time=%{y}<br>Challenge count=%{marker.size}<extra></extra>",
         "hovertext": [
          "Package Management"
         ],
         "legendgroup": "Package Management",
         "marker": {
          "color": "#19d3f3",
          "size": [
           784
          ],
          "sizemode": "area",
          "sizeref": 1.96,
          "symbol": "circle"
         },
         "mode": "markers",
         "name": "Package Management",
         "orientation": "v",
         "showlegend": true,
         "type": "scatter",
         "x": [
          578.4124317796856
         ],
         "xaxis": "x",
         "y": [
          24.1450022222
         ],
         "yaxis": "y"
        },
        {
         "hovertemplate": "Challenge topic=Package Management<extra></extra>",
         "legendgroup": "Package Management",
         "marker": {
          "color": "#19d3f3",
          "symbol": "circle"
         },
         "mode": "lines",
         "name": "Package Management",
         "showlegend": false,
         "type": "scatter",
         "xaxis": "x",
         "yaxis": "y"
        },
        {
         "hovertemplate": "<b>%{hovertext}</b><br><br>Challenge topic=Pandas Dataframe<br>Challenge mean solved time=%{x}<br>Challenge median solved time=%{y}<br>Challenge count=%{marker.size}<extra></extra>",
         "hovertext": [
          "Pandas Dataframe"
         ],
         "legendgroup": "Pandas Dataframe",
         "marker": {
          "color": "#FF6692",
          "size": [
           207
          ],
          "sizemode": "area",
          "sizeref": 1.96,
          "symbol": "circle"
         },
         "mode": "markers",
         "name": "Pandas Dataframe",
         "orientation": "v",
         "showlegend": true,
         "type": "scatter",
         "x": [
          146.10429583821409
         ],
         "xaxis": "x",
         "y": [
          17.6541272222
         ],
         "yaxis": "y"
        },
        {
         "hovertemplate": "Challenge topic=Pandas Dataframe<extra></extra>",
         "legendgroup": "Pandas Dataframe",
         "marker": {
          "color": "#FF6692",
          "symbol": "circle"
         },
         "mode": "lines",
         "name": "Pandas Dataframe",
         "showlegend": false,
         "type": "scatter",
         "xaxis": "x",
         "yaxis": "y"
        },
        {
         "hovertemplate": "<b>%{hovertext}</b><br><br>Challenge topic=Resource Quota Control<br>Challenge mean solved time=%{x}<br>Challenge median solved time=%{y}<br>Challenge count=%{marker.size}<extra></extra>",
         "hovertext": [
          "Resource Quota Control"
         ],
         "legendgroup": "Resource Quota Control",
         "marker": {
          "color": "#B6E880",
          "size": [
           136
          ],
          "sizemode": "area",
          "sizeref": 1.96,
          "symbol": "circle"
         },
         "mode": "markers",
         "name": "Resource Quota Control",
         "orientation": "v",
         "showlegend": true,
         "type": "scatter",
         "x": [
          211.27317269571816
         ],
         "xaxis": "x",
         "y": [
          12.1208140278
         ],
         "yaxis": "y"
        },
        {
         "hovertemplate": "Challenge topic=Resource Quota Control<extra></extra>",
         "legendgroup": "Resource Quota Control",
         "marker": {
          "color": "#B6E880",
          "symbol": "circle"
         },
         "mode": "lines",
         "name": "Resource Quota Control",
         "showlegend": false,
         "type": "scatter",
         "xaxis": "x",
         "yaxis": "y"
        },
        {
         "hovertemplate": "<b>%{hovertext}</b><br><br>Challenge topic=Role-based Access Control<br>Challenge mean solved time=%{x}<br>Challenge median solved time=%{y}<br>Challenge count=%{marker.size}<extra></extra>",
         "hovertext": [
          "Role-based Access Control"
         ],
         "legendgroup": "Role-based Access Control",
         "marker": {
          "color": "#FF97FF",
          "size": [
           131
          ],
          "sizemode": "area",
          "sizeref": 1.96,
          "symbol": "circle"
         },
         "mode": "markers",
         "name": "Role-based Access Control",
         "orientation": "v",
         "showlegend": true,
         "type": "scatter",
         "x": [
          101.34073384921906
         ],
         "xaxis": "x",
         "y": [
          24.80243722225
         ],
         "yaxis": "y"
        },
        {
         "hovertemplate": "Challenge topic=Role-based Access Control<extra></extra>",
         "legendgroup": "Role-based Access Control",
         "marker": {
          "color": "#FF97FF",
          "symbol": "circle"
         },
         "mode": "lines",
         "name": "Role-based Access Control",
         "showlegend": false,
         "type": "scatter",
         "xaxis": "x",
         "yaxis": "y"
        },
        {
         "hovertemplate": "<b>%{hovertext}</b><br><br>Challenge topic=Run Management<br>Challenge mean solved time=%{x}<br>Challenge median solved time=%{y}<br>Challenge count=%{marker.size}<extra></extra>",
         "hovertext": [
          "Run Management"
         ],
         "legendgroup": "Run Management",
         "marker": {
          "color": "#FECB52",
          "size": [
           299
          ],
          "sizemode": "area",
          "sizeref": 1.96,
          "symbol": "circle"
         },
         "mode": "markers",
         "name": "Run Management",
         "orientation": "v",
         "showlegend": true,
         "type": "scatter",
         "x": [
          262.6949156726976
         ],
         "xaxis": "x",
         "y": [
          24.0739286111
         ],
         "yaxis": "y"
        },
        {
         "hovertemplate": "Challenge topic=Run Management<extra></extra>",
         "legendgroup": "Run Management",
         "marker": {
          "color": "#FECB52",
          "symbol": "circle"
         },
         "mode": "lines",
         "name": "Run Management",
         "showlegend": false,
         "type": "scatter",
         "xaxis": "x",
         "yaxis": "y"
        },
        {
         "hovertemplate": "<b>%{hovertext}</b><br><br>Challenge topic=TensorBoard Logging<br>Challenge mean solved time=%{x}<br>Challenge median solved time=%{y}<br>Challenge count=%{marker.size}<extra></extra>",
         "hovertext": [
          "TensorBoard Logging"
         ],
         "legendgroup": "TensorBoard Logging",
         "marker": {
          "color": "#636efa",
          "size": [
           99
          ],
          "sizemode": "area",
          "sizeref": 1.96,
          "symbol": "circle"
         },
         "mode": "markers",
         "name": "TensorBoard Logging",
         "orientation": "v",
         "showlegend": true,
         "type": "scatter",
         "x": [
          690.4933746367539
         ],
         "xaxis": "x",
         "y": [
          90.27576611115
         ],
         "yaxis": "y"
        },
        {
         "hovertemplate": "Challenge topic=TensorBoard Logging<extra></extra>",
         "legendgroup": "TensorBoard Logging",
         "marker": {
          "color": "#636efa",
          "symbol": "circle"
         },
         "mode": "lines",
         "name": "TensorBoard Logging",
         "showlegend": false,
         "type": "scatter",
         "xaxis": "x",
         "yaxis": "y"
        },
        {
         "hovertemplate": "<b>%{hovertext}</b><br><br>Challenge topic=TensorFlow Configuration<br>Challenge mean solved time=%{x}<br>Challenge median solved time=%{y}<br>Challenge count=%{marker.size}<extra></extra>",
         "hovertext": [
          "TensorFlow Configuration"
         ],
         "legendgroup": "TensorFlow Configuration",
         "marker": {
          "color": "#EF553B",
          "size": [
           250
          ],
          "sizemode": "area",
          "sizeref": 1.96,
          "symbol": "circle"
         },
         "mode": "markers",
         "name": "TensorFlow Configuration",
         "orientation": "v",
         "showlegend": true,
         "type": "scatter",
         "x": [
          582.4283534763221
         ],
         "xaxis": "x",
         "y": [
          91.97248236109999
         ],
         "yaxis": "y"
        },
        {
         "hovertemplate": "Challenge topic=TensorFlow Configuration<extra></extra>",
         "legendgroup": "TensorFlow Configuration",
         "marker": {
          "color": "#EF553B",
          "symbol": "circle"
         },
         "mode": "lines",
         "name": "TensorFlow Configuration",
         "showlegend": false,
         "type": "scatter",
         "xaxis": "x",
         "yaxis": "y"
        },
        {
         "hovertemplate": "<b>%{hovertext}</b><br><br>Challenge topic=Web Service<br>Challenge mean solved time=%{x}<br>Challenge median solved time=%{y}<br>Challenge count=%{marker.size}<extra></extra>",
         "hovertext": [
          "Web Service"
         ],
         "legendgroup": "Web Service",
         "marker": {
          "color": "#00cc96",
          "size": [
           225
          ],
          "sizemode": "area",
          "sizeref": 1.96,
          "symbol": "circle"
         },
         "mode": "markers",
         "name": "Web Service",
         "orientation": "v",
         "showlegend": true,
         "type": "scatter",
         "x": [
          273.4520006415476
         ],
         "xaxis": "x",
         "y": [
          18.0198879167
         ],
         "yaxis": "y"
        },
        {
         "hovertemplate": "Challenge topic=Web Service<extra></extra>",
         "legendgroup": "Web Service",
         "marker": {
          "color": "#00cc96",
          "symbol": "circle"
         },
         "mode": "lines",
         "name": "Web Service",
         "showlegend": false,
         "type": "scatter",
         "xaxis": "x",
         "yaxis": "y"
        },
        {
         "hovertemplate": "<b>%{hovertext}</b><br><br>Challenge topic=YAML Configuration<br>Challenge mean solved time=%{x}<br>Challenge median solved time=%{y}<br>Challenge count=%{marker.size}<extra></extra>",
         "hovertext": [
          "YAML Configuration"
         ],
         "legendgroup": "YAML Configuration",
         "marker": {
          "color": "#ab63fa",
          "size": [
           82
          ],
          "sizemode": "area",
          "sizeref": 1.96,
          "symbol": "circle"
         },
         "mode": "markers",
         "name": "YAML Configuration",
         "orientation": "v",
         "showlegend": true,
         "type": "scatter",
         "x": [
          246.92535697421428
         ],
         "xaxis": "x",
         "y": [
          24.0506027778
         ],
         "yaxis": "y"
        },
        {
         "hovertemplate": "Challenge topic=YAML Configuration<extra></extra>",
         "legendgroup": "YAML Configuration",
         "marker": {
          "color": "#ab63fa",
          "symbol": "circle"
         },
         "mode": "lines",
         "name": "YAML Configuration",
         "showlegend": false,
         "type": "scatter",
         "xaxis": "x",
         "yaxis": "y"
        }
       ],
       "layout": {
        "height": 500,
        "legend": {
         "itemsizing": "constant",
         "title": {
          "text": "Challenge topic"
         },
         "tracegroupgap": 0
        },
        "margin": {
         "b": 0,
         "l": 0,
         "r": 0,
         "t": 0
        },
        "template": {
         "data": {
          "bar": [
           {
            "error_x": {
             "color": "#2a3f5f"
            },
            "error_y": {
             "color": "#2a3f5f"
            },
            "marker": {
             "line": {
              "color": "#E5ECF6",
              "width": 0.5
             },
             "pattern": {
              "fillmode": "overlay",
              "size": 10,
              "solidity": 0.2
             }
            },
            "type": "bar"
           }
          ],
          "barpolar": [
           {
            "marker": {
             "line": {
              "color": "#E5ECF6",
              "width": 0.5
             },
             "pattern": {
              "fillmode": "overlay",
              "size": 10,
              "solidity": 0.2
             }
            },
            "type": "barpolar"
           }
          ],
          "carpet": [
           {
            "aaxis": {
             "endlinecolor": "#2a3f5f",
             "gridcolor": "white",
             "linecolor": "white",
             "minorgridcolor": "white",
             "startlinecolor": "#2a3f5f"
            },
            "baxis": {
             "endlinecolor": "#2a3f5f",
             "gridcolor": "white",
             "linecolor": "white",
             "minorgridcolor": "white",
             "startlinecolor": "#2a3f5f"
            },
            "type": "carpet"
           }
          ],
          "choropleth": [
           {
            "colorbar": {
             "outlinewidth": 0,
             "ticks": ""
            },
            "type": "choropleth"
           }
          ],
          "contour": [
           {
            "colorbar": {
             "outlinewidth": 0,
             "ticks": ""
            },
            "colorscale": [
             [
              0,
              "#0d0887"
             ],
             [
              0.1111111111111111,
              "#46039f"
             ],
             [
              0.2222222222222222,
              "#7201a8"
             ],
             [
              0.3333333333333333,
              "#9c179e"
             ],
             [
              0.4444444444444444,
              "#bd3786"
             ],
             [
              0.5555555555555556,
              "#d8576b"
             ],
             [
              0.6666666666666666,
              "#ed7953"
             ],
             [
              0.7777777777777778,
              "#fb9f3a"
             ],
             [
              0.8888888888888888,
              "#fdca26"
             ],
             [
              1,
              "#f0f921"
             ]
            ],
            "type": "contour"
           }
          ],
          "contourcarpet": [
           {
            "colorbar": {
             "outlinewidth": 0,
             "ticks": ""
            },
            "type": "contourcarpet"
           }
          ],
          "heatmap": [
           {
            "colorbar": {
             "outlinewidth": 0,
             "ticks": ""
            },
            "colorscale": [
             [
              0,
              "#0d0887"
             ],
             [
              0.1111111111111111,
              "#46039f"
             ],
             [
              0.2222222222222222,
              "#7201a8"
             ],
             [
              0.3333333333333333,
              "#9c179e"
             ],
             [
              0.4444444444444444,
              "#bd3786"
             ],
             [
              0.5555555555555556,
              "#d8576b"
             ],
             [
              0.6666666666666666,
              "#ed7953"
             ],
             [
              0.7777777777777778,
              "#fb9f3a"
             ],
             [
              0.8888888888888888,
              "#fdca26"
             ],
             [
              1,
              "#f0f921"
             ]
            ],
            "type": "heatmap"
           }
          ],
          "heatmapgl": [
           {
            "colorbar": {
             "outlinewidth": 0,
             "ticks": ""
            },
            "colorscale": [
             [
              0,
              "#0d0887"
             ],
             [
              0.1111111111111111,
              "#46039f"
             ],
             [
              0.2222222222222222,
              "#7201a8"
             ],
             [
              0.3333333333333333,
              "#9c179e"
             ],
             [
              0.4444444444444444,
              "#bd3786"
             ],
             [
              0.5555555555555556,
              "#d8576b"
             ],
             [
              0.6666666666666666,
              "#ed7953"
             ],
             [
              0.7777777777777778,
              "#fb9f3a"
             ],
             [
              0.8888888888888888,
              "#fdca26"
             ],
             [
              1,
              "#f0f921"
             ]
            ],
            "type": "heatmapgl"
           }
          ],
          "histogram": [
           {
            "marker": {
             "pattern": {
              "fillmode": "overlay",
              "size": 10,
              "solidity": 0.2
             }
            },
            "type": "histogram"
           }
          ],
          "histogram2d": [
           {
            "colorbar": {
             "outlinewidth": 0,
             "ticks": ""
            },
            "colorscale": [
             [
              0,
              "#0d0887"
             ],
             [
              0.1111111111111111,
              "#46039f"
             ],
             [
              0.2222222222222222,
              "#7201a8"
             ],
             [
              0.3333333333333333,
              "#9c179e"
             ],
             [
              0.4444444444444444,
              "#bd3786"
             ],
             [
              0.5555555555555556,
              "#d8576b"
             ],
             [
              0.6666666666666666,
              "#ed7953"
             ],
             [
              0.7777777777777778,
              "#fb9f3a"
             ],
             [
              0.8888888888888888,
              "#fdca26"
             ],
             [
              1,
              "#f0f921"
             ]
            ],
            "type": "histogram2d"
           }
          ],
          "histogram2dcontour": [
           {
            "colorbar": {
             "outlinewidth": 0,
             "ticks": ""
            },
            "colorscale": [
             [
              0,
              "#0d0887"
             ],
             [
              0.1111111111111111,
              "#46039f"
             ],
             [
              0.2222222222222222,
              "#7201a8"
             ],
             [
              0.3333333333333333,
              "#9c179e"
             ],
             [
              0.4444444444444444,
              "#bd3786"
             ],
             [
              0.5555555555555556,
              "#d8576b"
             ],
             [
              0.6666666666666666,
              "#ed7953"
             ],
             [
              0.7777777777777778,
              "#fb9f3a"
             ],
             [
              0.8888888888888888,
              "#fdca26"
             ],
             [
              1,
              "#f0f921"
             ]
            ],
            "type": "histogram2dcontour"
           }
          ],
          "mesh3d": [
           {
            "colorbar": {
             "outlinewidth": 0,
             "ticks": ""
            },
            "type": "mesh3d"
           }
          ],
          "parcoords": [
           {
            "line": {
             "colorbar": {
              "outlinewidth": 0,
              "ticks": ""
             }
            },
            "type": "parcoords"
           }
          ],
          "pie": [
           {
            "automargin": true,
            "type": "pie"
           }
          ],
          "scatter": [
           {
            "fillpattern": {
             "fillmode": "overlay",
             "size": 10,
             "solidity": 0.2
            },
            "type": "scatter"
           }
          ],
          "scatter3d": [
           {
            "line": {
             "colorbar": {
              "outlinewidth": 0,
              "ticks": ""
             }
            },
            "marker": {
             "colorbar": {
              "outlinewidth": 0,
              "ticks": ""
             }
            },
            "type": "scatter3d"
           }
          ],
          "scattercarpet": [
           {
            "marker": {
             "colorbar": {
              "outlinewidth": 0,
              "ticks": ""
             }
            },
            "type": "scattercarpet"
           }
          ],
          "scattergeo": [
           {
            "marker": {
             "colorbar": {
              "outlinewidth": 0,
              "ticks": ""
             }
            },
            "type": "scattergeo"
           }
          ],
          "scattergl": [
           {
            "marker": {
             "colorbar": {
              "outlinewidth": 0,
              "ticks": ""
             }
            },
            "type": "scattergl"
           }
          ],
          "scattermapbox": [
           {
            "marker": {
             "colorbar": {
              "outlinewidth": 0,
              "ticks": ""
             }
            },
            "type": "scattermapbox"
           }
          ],
          "scatterpolar": [
           {
            "marker": {
             "colorbar": {
              "outlinewidth": 0,
              "ticks": ""
             }
            },
            "type": "scatterpolar"
           }
          ],
          "scatterpolargl": [
           {
            "marker": {
             "colorbar": {
              "outlinewidth": 0,
              "ticks": ""
             }
            },
            "type": "scatterpolargl"
           }
          ],
          "scatterternary": [
           {
            "marker": {
             "colorbar": {
              "outlinewidth": 0,
              "ticks": ""
             }
            },
            "type": "scatterternary"
           }
          ],
          "surface": [
           {
            "colorbar": {
             "outlinewidth": 0,
             "ticks": ""
            },
            "colorscale": [
             [
              0,
              "#0d0887"
             ],
             [
              0.1111111111111111,
              "#46039f"
             ],
             [
              0.2222222222222222,
              "#7201a8"
             ],
             [
              0.3333333333333333,
              "#9c179e"
             ],
             [
              0.4444444444444444,
              "#bd3786"
             ],
             [
              0.5555555555555556,
              "#d8576b"
             ],
             [
              0.6666666666666666,
              "#ed7953"
             ],
             [
              0.7777777777777778,
              "#fb9f3a"
             ],
             [
              0.8888888888888888,
              "#fdca26"
             ],
             [
              1,
              "#f0f921"
             ]
            ],
            "type": "surface"
           }
          ],
          "table": [
           {
            "cells": {
             "fill": {
              "color": "#EBF0F8"
             },
             "line": {
              "color": "white"
             }
            },
            "header": {
             "fill": {
              "color": "#C8D4E3"
             },
             "line": {
              "color": "white"
             }
            },
            "type": "table"
           }
          ]
         },
         "layout": {
          "annotationdefaults": {
           "arrowcolor": "#2a3f5f",
           "arrowhead": 0,
           "arrowwidth": 1
          },
          "autotypenumbers": "strict",
          "coloraxis": {
           "colorbar": {
            "outlinewidth": 0,
            "ticks": ""
           }
          },
          "colorscale": {
           "diverging": [
            [
             0,
             "#8e0152"
            ],
            [
             0.1,
             "#c51b7d"
            ],
            [
             0.2,
             "#de77ae"
            ],
            [
             0.3,
             "#f1b6da"
            ],
            [
             0.4,
             "#fde0ef"
            ],
            [
             0.5,
             "#f7f7f7"
            ],
            [
             0.6,
             "#e6f5d0"
            ],
            [
             0.7,
             "#b8e186"
            ],
            [
             0.8,
             "#7fbc41"
            ],
            [
             0.9,
             "#4d9221"
            ],
            [
             1,
             "#276419"
            ]
           ],
           "sequential": [
            [
             0,
             "#0d0887"
            ],
            [
             0.1111111111111111,
             "#46039f"
            ],
            [
             0.2222222222222222,
             "#7201a8"
            ],
            [
             0.3333333333333333,
             "#9c179e"
            ],
            [
             0.4444444444444444,
             "#bd3786"
            ],
            [
             0.5555555555555556,
             "#d8576b"
            ],
            [
             0.6666666666666666,
             "#ed7953"
            ],
            [
             0.7777777777777778,
             "#fb9f3a"
            ],
            [
             0.8888888888888888,
             "#fdca26"
            ],
            [
             1,
             "#f0f921"
            ]
           ],
           "sequentialminus": [
            [
             0,
             "#0d0887"
            ],
            [
             0.1111111111111111,
             "#46039f"
            ],
            [
             0.2222222222222222,
             "#7201a8"
            ],
            [
             0.3333333333333333,
             "#9c179e"
            ],
            [
             0.4444444444444444,
             "#bd3786"
            ],
            [
             0.5555555555555556,
             "#d8576b"
            ],
            [
             0.6666666666666666,
             "#ed7953"
            ],
            [
             0.7777777777777778,
             "#fb9f3a"
            ],
            [
             0.8888888888888888,
             "#fdca26"
            ],
            [
             1,
             "#f0f921"
            ]
           ]
          },
          "colorway": [
           "#636efa",
           "#EF553B",
           "#00cc96",
           "#ab63fa",
           "#FFA15A",
           "#19d3f3",
           "#FF6692",
           "#B6E880",
           "#FF97FF",
           "#FECB52"
          ],
          "font": {
           "color": "#2a3f5f"
          },
          "geo": {
           "bgcolor": "white",
           "lakecolor": "white",
           "landcolor": "#E5ECF6",
           "showlakes": true,
           "showland": true,
           "subunitcolor": "white"
          },
          "hoverlabel": {
           "align": "left"
          },
          "hovermode": "closest",
          "mapbox": {
           "style": "light"
          },
          "paper_bgcolor": "white",
          "plot_bgcolor": "#E5ECF6",
          "polar": {
           "angularaxis": {
            "gridcolor": "white",
            "linecolor": "white",
            "ticks": ""
           },
           "bgcolor": "#E5ECF6",
           "radialaxis": {
            "gridcolor": "white",
            "linecolor": "white",
            "ticks": ""
           }
          },
          "scene": {
           "xaxis": {
            "backgroundcolor": "#E5ECF6",
            "gridcolor": "white",
            "gridwidth": 2,
            "linecolor": "white",
            "showbackground": true,
            "ticks": "",
            "zerolinecolor": "white"
           },
           "yaxis": {
            "backgroundcolor": "#E5ECF6",
            "gridcolor": "white",
            "gridwidth": 2,
            "linecolor": "white",
            "showbackground": true,
            "ticks": "",
            "zerolinecolor": "white"
           },
           "zaxis": {
            "backgroundcolor": "#E5ECF6",
            "gridcolor": "white",
            "gridwidth": 2,
            "linecolor": "white",
            "showbackground": true,
            "ticks": "",
            "zerolinecolor": "white"
           }
          },
          "shapedefaults": {
           "line": {
            "color": "#2a3f5f"
           }
          },
          "ternary": {
           "aaxis": {
            "gridcolor": "white",
            "linecolor": "white",
            "ticks": ""
           },
           "baxis": {
            "gridcolor": "white",
            "linecolor": "white",
            "ticks": ""
           },
           "bgcolor": "#E5ECF6",
           "caxis": {
            "gridcolor": "white",
            "linecolor": "white",
            "ticks": ""
           }
          },
          "title": {
           "x": 0.05
          },
          "xaxis": {
           "automargin": true,
           "gridcolor": "white",
           "linecolor": "white",
           "ticks": "",
           "title": {
            "standoff": 15
           },
           "zerolinecolor": "white",
           "zerolinewidth": 2
          },
          "yaxis": {
           "automargin": true,
           "gridcolor": "white",
           "linecolor": "white",
           "ticks": "",
           "title": {
            "standoff": 15
           },
           "zerolinecolor": "white",
           "zerolinewidth": 2
          }
         }
        },
        "width": 1000,
        "xaxis": {
         "anchor": "y",
         "domain": [
          0,
          1
         ],
         "title": {
          "text": "Challenge mean solved time"
         }
        },
        "yaxis": {
         "anchor": "x",
         "domain": [
          0,
          1
         ],
         "title": {
          "text": "Challenge median solved time"
         }
        }
       }
      }
     },
     "metadata": {},
     "output_type": "display_data"
    }
   ],
   "source": [
    "df = pd.read_json(os.path.join(path_general, 'assigned.json'))\n",
    "\n",
    "df_challenge = df[df['Challenge_topic'].notna()]\n",
    "df_challenge = df_challenge[df_challenge['Challenge_topic'].isin(\n",
    "    topic_ensemble)]\n",
    "\n",
    "df_topics = []\n",
    "\n",
    "for name, group in df_challenge.groupby('Challenge_topic'):\n",
    "    Challenge_count = group['Challenge_topic'].count()\n",
    "    Challenge_solved_ratio = group['Challenge_closed_time'].notna(\n",
    "    ).sum() / Challenge_count\n",
    "    Challenge_mean_score = group['Challenge_score'].mean()\n",
    "    Challenge_mean_favorite_count = group['Challenge_follower_count'].mean()\n",
    "    Challenge_mean_follower_count = group['Challenge_follower_count'].mean()\n",
    "    Challenge_mean_link_count = group['Challenge_link_count'].mean()\n",
    "    Challenge_mean_information_entropy = group['Challenge_information_entropy'].mean(\n",
    "    )\n",
    "    Challenge_mean_readability = group['Challenge_readability'].mean()\n",
    "    Challenge_mean_sentence_count = group['Challenge_sentence_count'].mean()\n",
    "    Challenge_mean_word_count = group['Challenge_word_count'].mean()\n",
    "    Challenge_mean_unique_word_count = group['Challenge_unique_word_count'].mean(\n",
    "    )\n",
    "    Challenge_mean_view_count = group['Challenge_view_count'].mean()\n",
    "    Challenge_mean_answer_count = group['Challenge_answer_count'].mean()\n",
    "    Challenge_mean_comment_count = group['Challenge_comment_count'].mean()\n",
    "\n",
    "    Solution_mean_score = group['Solution_score'].mean()\n",
    "    Solution_mean_link_count = group['Solution_link_count'].mean()\n",
    "    Solution_mean_information_entropy = group['Solution_information_entropy'].mean(\n",
    "    )\n",
    "    Solution_mean_readability = group['Solution_readability'].mean()\n",
    "    Solution_mean_sentence_count = group['Solution_sentence_count'].mean()\n",
    "    Solution_mean_word_count = group['Solution_word_count'].mean()\n",
    "    Solution_mean_unique_word_count = group['Solution_unique_word_count'].mean(\n",
    "    )\n",
    "    Solution_mean_comment_count = group['Solution_comment_count'].mean()\n",
    "\n",
    "    Challenge_mean_solved_time = group['Challenge_solved_time'].mean()\n",
    "    Challenge_median_solved_time = group['Challenge_solved_time'].median()\n",
    "    Challenge_adjusted_mean_solved_time = group['Challenge_adjusted_solved_time'].mean(\n",
    "    )\n",
    "    Challenge_adjusted_meadian_solved_time = group['Challenge_adjusted_solved_time'].median(\n",
    "    )\n",
    "\n",
    "    topic_info = {\n",
    "        'Challenge topic': name,\n",
    "        'Challenge count': Challenge_count,\n",
    "        'Challenge solved ratio': Challenge_solved_ratio,\n",
    "        'Challenge mean score': Challenge_mean_score,\n",
    "        'Challenge mean favorite count': Challenge_mean_favorite_count,\n",
    "        'Challenge mean follower count': Challenge_mean_follower_count,\n",
    "        'Challenge mean link count': Challenge_mean_link_count,\n",
    "        'Challenge mean information entropy': Challenge_mean_information_entropy,\n",
    "        'Challenge mean readability': Challenge_mean_readability,\n",
    "        'Challenge mean sentence count': Challenge_mean_sentence_count,\n",
    "        'Challenge mean word count': Challenge_mean_word_count,\n",
    "        'Challenge mean unique word count': Challenge_mean_unique_word_count,\n",
    "        'Challenge mean view count': Challenge_mean_view_count,\n",
    "        'Challenge mean answer count': Challenge_mean_answer_count,\n",
    "        'Challenge mean comment count': Challenge_mean_comment_count,\n",
    "\n",
    "        'Solution mean score': Solution_mean_score,\n",
    "        'Solution mean link count': Solution_mean_link_count,\n",
    "        'Solution mean information entropy': Solution_mean_information_entropy,\n",
    "        'Solution mean readability': Solution_mean_readability,\n",
    "        'Solution mean sentence count': Solution_mean_sentence_count,\n",
    "        'Solution mean word count': Solution_mean_word_count,\n",
    "        'Solution mean unique word count': Solution_mean_unique_word_count,\n",
    "        'Solution mean comment count': Solution_mean_comment_count,\n",
    "\n",
    "        'Challenge mean solved time': Challenge_mean_solved_time,\n",
    "        'Challenge median solved time': Challenge_median_solved_time,\n",
    "        'Challenge adjusted mean solved time': Challenge_adjusted_mean_solved_time,\n",
    "        'Challenge adjusted median solved time': Challenge_adjusted_meadian_solved_time,\n",
    "    }\n",
    "    df_topics.append(topic_info)\n",
    "\n",
    "df_topics = pd.DataFrame(df_topics)\n",
    "df_topics.to_json(os.path.join(path_challenge, 'general.json'),\n",
    "                  indent=4, orient='records')\n",
    "\n",
    "_, p = pearsonr(df_topics['Challenge mean solved time'],\n",
    "                df_topics['Challenge median solved time'])\n",
    "if p < alpha:\n",
    "    print(f'p = {p}, indicating there is a linear dependence between challenge median solved time vs mean solved time')\n",
    "\n",
    "_, p = pearsonr(df_topics['Challenge adjusted mean solved time'],\n",
    "                df_topics['Challenge adjusted median solved time'])\n",
    "if p < alpha:\n",
    "    print(f'p = {p}, indicating there is a linear dependence between challenge adjusted median solved time vs mean solved time')\n",
    "\n",
    "# Plot median solved time against mean solved time for each topic using count ratio as size\n",
    "fig = px.scatter(df_topics, y=\"Challenge median solved time\", x=\"Challenge mean solved time\",\n",
    "                 color=\"Challenge topic\", hover_name=\"Challenge topic\", size=\"Challenge count\", trendline=\"ols\")\n",
    "# fig.update_xaxes(title_text=\"Challenge mean solved time (log scale)\")\n",
    "fig.update_layout(\n",
    "    width=1000,\n",
    "    height=500,\n",
    "    margin=dict(l=0, r=0, t=0, b=0))\n",
    "fig.show()\n"
   ]
  },
  {
   "cell_type": "code",
   "execution_count": null,
   "metadata": {},
   "outputs": [
    {
     "data": {
      "application/vnd.plotly.v1+json": {
       "config": {
        "plotlyServerURL": "https://plot.ly"
       },
       "data": [
        {
         "hovertemplate": "<b>%{hovertext}</b><br><br>Mean solved time=%{x}<br>Median solved time=%{y}<br>Count ratio=%{marker.size}<br>Topic=%{marker.color}<extra></extra>",
         "hovertext": [
          0,
          1,
          10,
          11,
          12,
          13,
          14,
          15,
          16,
          17,
          18,
          19,
          2,
          20,
          21,
          22,
          23,
          24,
          25,
          26,
          27,
          28,
          29,
          3,
          30,
          31,
          32,
          33,
          34,
          35,
          36,
          37,
          38,
          39,
          4,
          40,
          41,
          42,
          43,
          5,
          6,
          7,
          8,
          9
         ],
         "legendgroup": "",
         "marker": {
          "color": [
           0,
           1,
           10,
           11,
           12,
           13,
           14,
           15,
           16,
           17,
           18,
           19,
           2,
           20,
           21,
           22,
           23,
           24,
           25,
           26,
           27,
           28,
           29,
           3,
           30,
           31,
           32,
           33,
           34,
           35,
           36,
           37,
           38,
           39,
           4,
           40,
           41,
           42,
           43,
           5,
           6,
           7,
           8,
           9
          ],
          "coloraxis": "coloraxis",
          "size": [
           8.4619535888,
           5.9039395575,
           3.7560712358,
           2.4716675661,
           1.2951969778999999,
           2.6983270372,
           1.5110631409000002,
           2.2342147868,
           2.9249865084,
           1.4139233675,
           1.8996222342,
           1.4570966001,
           3.3675121425,
           1.2844036697,
           1.4678899083,
           1.5866162979,
           0.9390178090000001,
           2.4284943334999998,
           0.9282245008000001,
           2.4284943334999998,
           1.0793308149,
           0.7663248786,
           1.3923367512,
           4.0366972477,
           1.0685375067,
           1.5866162979,
           1.0685375067,
           1.2196438208,
           0.5396654074,
           0.8850512682,
           4.1770102536,
           1.7269293038,
           3.3783054506,
           2.8386400432,
           3.6913113869,
           1.014570966,
           3.2271991365,
           2.1586616298,
           1.5866162979,
           2.7738801943,
           1.8456556935,
           4.0474905559,
           1.7161359957,
           1.7161359957
          ],
          "sizemode": "area",
          "sizeref": 0.021154883972,
          "symbol": "circle"
         },
         "mode": "markers",
         "name": "",
         "orientation": "v",
         "showlegend": false,
         "type": "scatter",
         "x": [
          578.4124317797,
          293.9108446995,
          463.2335578221,
          338.7636674576,
          197.3053580651,
          582.4283534763,
          118.6823469765,
          146.1042958382,
          226.4945161052,
          101.3407338492,
          171.8060214835,
          351.9679595309,
          623.6921893492,
          437.7347737153,
          211.2731726957,
          318.4791367801,
          979.6206781482,
          178.5052553357,
          137.2475566389,
          273.4520006415,
          389.3961056838,
          142.2223923333,
          146.3075010147,
          260.7483791777,
          690.4933746368,
          238.3664082937,
          199.7369593939,
          390.4885579514,
          130.6095485185,
          246.9253569742,
          246.719647902,
          449.0519050143,
          353.1045914826,
          504.1765208371,
          276.5343495166,
          777.0313674074,
          262.6949156727,
          125.9334437477,
          406.9399564251,
          578.4063895455,
          462.0911602431,
          369.3205178813,
          383.5106586193,
          319.9786934097
         ],
         "xaxis": "x",
         "y": [
          24.1450022222,
          23.4367558333,
          47.8624777778,
          13.2357005556,
          18.5982666667,
          91.9724823611,
          31.3555654167,
          17.6541272222,
          24.7825569445,
          24.8024372222,
          10.7241647222,
          39.9339302778,
          44.3762386111,
          26.0612581944,
          12.1208140278,
          43.2314219444,
          39.2214844445,
          32.9775055556,
          42.4155234722,
          18.0198879167,
          27.1444840278,
          58.5243405556,
          6.8781394444,
          29.9698797222,
          90.2757661111,
          6.9030891667,
          8.4690644444,
          28.38799125,
          67.1714023611,
          24.0506027778,
          18.4475338889,
          14.6736786111,
          19.77049,
          37.6439279167,
          14.9208969444,
          11.5363191667,
          24.0739286111,
          27.4099408334,
          14.4911426389,
          58.57324625,
          47.2822068056,
          19.931705,
          27.6802179167,
          37.6094661111
         ],
         "yaxis": "y"
        },
        {
         "hovertemplate": "<b>OLS trendline</b><br>Median solved time = 21.897 * log10(Mean solved time) + -23.4575<br>R<sup>2</sup>=0.072302<br><br>Mean solved time=%{x}<br>Median solved time=%{y} <b>(trend)</b><extra></extra>",
         "legendgroup": "",
         "marker": {
          "symbol": "circle"
         },
         "mode": "lines",
         "name": "",
         "showlegend": false,
         "type": "scatter",
         "x": [
          101.3407338492,
          118.6823469765,
          125.9334437477,
          130.6095485185,
          137.2475566389,
          142.2223923333,
          146.1042958382,
          146.3075010147,
          171.8060214835,
          178.5052553357,
          197.3053580651,
          199.7369593939,
          211.2731726957,
          226.4945161052,
          238.3664082937,
          246.719647902,
          246.9253569742,
          260.7483791777,
          262.6949156727,
          273.4520006415,
          276.5343495166,
          293.9108446995,
          318.4791367801,
          319.9786934097,
          338.7636674576,
          351.9679595309,
          353.1045914826,
          369.3205178813,
          383.5106586193,
          389.3961056838,
          390.4885579514,
          406.9399564251,
          437.7347737153,
          449.0519050143,
          462.0911602431,
          463.2335578221,
          504.1765208371,
          578.4063895455,
          578.4124317797,
          582.4283534763,
          623.6921893492,
          690.4933746368,
          777.0313674074,
          979.6206781482
         ],
         "xaxis": "x",
         "y": [
          20.463219291933658,
          21.965400888538905,
          22.529357793249055,
          22.876071996915893,
          23.347508266361693,
          23.686109828803243,
          23.94219568245689,
          23.955412880597123,
          25.483207590337038,
          25.84697469578415,
          26.799229799204483,
          26.915712238786853,
          27.449691375144997,
          28.111273622584385,
          28.597110862420575,
          28.924661564158473,
          28.932587274145785,
          29.450581742078143,
          29.52131022854687,
          29.90296309206123,
          30.00955736747453,
          30.589095599510795,
          31.35254367682698,
          31.397215214847133,
          31.939730804903284,
          32.303359497252266,
          32.33402046667186,
          32.76101404182055,
          33.119556012202864,
          33.264386567899955,
          33.29102887485099,
          33.68346785632322,
          34.377181297243865,
          34.61992067047557,
          34.89212518009535,
          34.915606515081784,
          35.721036168142064,
          37.027203984794866,
          37.02730332651184,
          37.0931014887207,
          37.74405183732226,
          38.71166415598501,
          39.834522550805914,
          42.037788074826494
         ],
         "yaxis": "y"
        }
       ],
       "layout": {
        "coloraxis": {
         "colorbar": {
          "title": {
           "text": "Challenge topic"
          }
         },
         "colorscale": [
          [
           0,
           "#0d0887"
          ],
          [
           0.1111111111111111,
           "#46039f"
          ],
          [
           0.2222222222222222,
           "#7201a8"
          ],
          [
           0.3333333333333333,
           "#9c179e"
          ],
          [
           0.4444444444444444,
           "#bd3786"
          ],
          [
           0.5555555555555556,
           "#d8576b"
          ],
          [
           0.6666666666666666,
           "#ed7953"
          ],
          [
           0.7777777777777778,
           "#fb9f3a"
          ],
          [
           0.8888888888888888,
           "#fdca26"
          ],
          [
           1,
           "#f0f921"
          ]
         ]
        },
        "height": 500,
        "legend": {
         "itemsizing": "constant",
         "tracegroupgap": 0
        },
        "margin": {
         "b": 0,
         "l": 0,
         "r": 0,
         "t": 0
        },
        "template": {
         "data": {
          "bar": [
           {
            "error_x": {
             "color": "#2a3f5f"
            },
            "error_y": {
             "color": "#2a3f5f"
            },
            "marker": {
             "line": {
              "color": "#E5ECF6",
              "width": 0.5
             },
             "pattern": {
              "fillmode": "overlay",
              "size": 10,
              "solidity": 0.2
             }
            },
            "type": "bar"
           }
          ],
          "barpolar": [
           {
            "marker": {
             "line": {
              "color": "#E5ECF6",
              "width": 0.5
             },
             "pattern": {
              "fillmode": "overlay",
              "size": 10,
              "solidity": 0.2
             }
            },
            "type": "barpolar"
           }
          ],
          "carpet": [
           {
            "aaxis": {
             "endlinecolor": "#2a3f5f",
             "gridcolor": "white",
             "linecolor": "white",
             "minorgridcolor": "white",
             "startlinecolor": "#2a3f5f"
            },
            "baxis": {
             "endlinecolor": "#2a3f5f",
             "gridcolor": "white",
             "linecolor": "white",
             "minorgridcolor": "white",
             "startlinecolor": "#2a3f5f"
            },
            "type": "carpet"
           }
          ],
          "choropleth": [
           {
            "colorbar": {
             "outlinewidth": 0,
             "ticks": ""
            },
            "type": "choropleth"
           }
          ],
          "contour": [
           {
            "colorbar": {
             "outlinewidth": 0,
             "ticks": ""
            },
            "colorscale": [
             [
              0,
              "#0d0887"
             ],
             [
              0.1111111111111111,
              "#46039f"
             ],
             [
              0.2222222222222222,
              "#7201a8"
             ],
             [
              0.3333333333333333,
              "#9c179e"
             ],
             [
              0.4444444444444444,
              "#bd3786"
             ],
             [
              0.5555555555555556,
              "#d8576b"
             ],
             [
              0.6666666666666666,
              "#ed7953"
             ],
             [
              0.7777777777777778,
              "#fb9f3a"
             ],
             [
              0.8888888888888888,
              "#fdca26"
             ],
             [
              1,
              "#f0f921"
             ]
            ],
            "type": "contour"
           }
          ],
          "contourcarpet": [
           {
            "colorbar": {
             "outlinewidth": 0,
             "ticks": ""
            },
            "type": "contourcarpet"
           }
          ],
          "heatmap": [
           {
            "colorbar": {
             "outlinewidth": 0,
             "ticks": ""
            },
            "colorscale": [
             [
              0,
              "#0d0887"
             ],
             [
              0.1111111111111111,
              "#46039f"
             ],
             [
              0.2222222222222222,
              "#7201a8"
             ],
             [
              0.3333333333333333,
              "#9c179e"
             ],
             [
              0.4444444444444444,
              "#bd3786"
             ],
             [
              0.5555555555555556,
              "#d8576b"
             ],
             [
              0.6666666666666666,
              "#ed7953"
             ],
             [
              0.7777777777777778,
              "#fb9f3a"
             ],
             [
              0.8888888888888888,
              "#fdca26"
             ],
             [
              1,
              "#f0f921"
             ]
            ],
            "type": "heatmap"
           }
          ],
          "heatmapgl": [
           {
            "colorbar": {
             "outlinewidth": 0,
             "ticks": ""
            },
            "colorscale": [
             [
              0,
              "#0d0887"
             ],
             [
              0.1111111111111111,
              "#46039f"
             ],
             [
              0.2222222222222222,
              "#7201a8"
             ],
             [
              0.3333333333333333,
              "#9c179e"
             ],
             [
              0.4444444444444444,
              "#bd3786"
             ],
             [
              0.5555555555555556,
              "#d8576b"
             ],
             [
              0.6666666666666666,
              "#ed7953"
             ],
             [
              0.7777777777777778,
              "#fb9f3a"
             ],
             [
              0.8888888888888888,
              "#fdca26"
             ],
             [
              1,
              "#f0f921"
             ]
            ],
            "type": "heatmapgl"
           }
          ],
          "histogram": [
           {
            "marker": {
             "pattern": {
              "fillmode": "overlay",
              "size": 10,
              "solidity": 0.2
             }
            },
            "type": "histogram"
           }
          ],
          "histogram2d": [
           {
            "colorbar": {
             "outlinewidth": 0,
             "ticks": ""
            },
            "colorscale": [
             [
              0,
              "#0d0887"
             ],
             [
              0.1111111111111111,
              "#46039f"
             ],
             [
              0.2222222222222222,
              "#7201a8"
             ],
             [
              0.3333333333333333,
              "#9c179e"
             ],
             [
              0.4444444444444444,
              "#bd3786"
             ],
             [
              0.5555555555555556,
              "#d8576b"
             ],
             [
              0.6666666666666666,
              "#ed7953"
             ],
             [
              0.7777777777777778,
              "#fb9f3a"
             ],
             [
              0.8888888888888888,
              "#fdca26"
             ],
             [
              1,
              "#f0f921"
             ]
            ],
            "type": "histogram2d"
           }
          ],
          "histogram2dcontour": [
           {
            "colorbar": {
             "outlinewidth": 0,
             "ticks": ""
            },
            "colorscale": [
             [
              0,
              "#0d0887"
             ],
             [
              0.1111111111111111,
              "#46039f"
             ],
             [
              0.2222222222222222,
              "#7201a8"
             ],
             [
              0.3333333333333333,
              "#9c179e"
             ],
             [
              0.4444444444444444,
              "#bd3786"
             ],
             [
              0.5555555555555556,
              "#d8576b"
             ],
             [
              0.6666666666666666,
              "#ed7953"
             ],
             [
              0.7777777777777778,
              "#fb9f3a"
             ],
             [
              0.8888888888888888,
              "#fdca26"
             ],
             [
              1,
              "#f0f921"
             ]
            ],
            "type": "histogram2dcontour"
           }
          ],
          "mesh3d": [
           {
            "colorbar": {
             "outlinewidth": 0,
             "ticks": ""
            },
            "type": "mesh3d"
           }
          ],
          "parcoords": [
           {
            "line": {
             "colorbar": {
              "outlinewidth": 0,
              "ticks": ""
             }
            },
            "type": "parcoords"
           }
          ],
          "pie": [
           {
            "automargin": true,
            "type": "pie"
           }
          ],
          "scatter": [
           {
            "fillpattern": {
             "fillmode": "overlay",
             "size": 10,
             "solidity": 0.2
            },
            "type": "scatter"
           }
          ],
          "scatter3d": [
           {
            "line": {
             "colorbar": {
              "outlinewidth": 0,
              "ticks": ""
             }
            },
            "marker": {
             "colorbar": {
              "outlinewidth": 0,
              "ticks": ""
             }
            },
            "type": "scatter3d"
           }
          ],
          "scattercarpet": [
           {
            "marker": {
             "colorbar": {
              "outlinewidth": 0,
              "ticks": ""
             }
            },
            "type": "scattercarpet"
           }
          ],
          "scattergeo": [
           {
            "marker": {
             "colorbar": {
              "outlinewidth": 0,
              "ticks": ""
             }
            },
            "type": "scattergeo"
           }
          ],
          "scattergl": [
           {
            "marker": {
             "colorbar": {
              "outlinewidth": 0,
              "ticks": ""
             }
            },
            "type": "scattergl"
           }
          ],
          "scattermapbox": [
           {
            "marker": {
             "colorbar": {
              "outlinewidth": 0,
              "ticks": ""
             }
            },
            "type": "scattermapbox"
           }
          ],
          "scatterpolar": [
           {
            "marker": {
             "colorbar": {
              "outlinewidth": 0,
              "ticks": ""
             }
            },
            "type": "scatterpolar"
           }
          ],
          "scatterpolargl": [
           {
            "marker": {
             "colorbar": {
              "outlinewidth": 0,
              "ticks": ""
             }
            },
            "type": "scatterpolargl"
           }
          ],
          "scatterternary": [
           {
            "marker": {
             "colorbar": {
              "outlinewidth": 0,
              "ticks": ""
             }
            },
            "type": "scatterternary"
           }
          ],
          "surface": [
           {
            "colorbar": {
             "outlinewidth": 0,
             "ticks": ""
            },
            "colorscale": [
             [
              0,
              "#0d0887"
             ],
             [
              0.1111111111111111,
              "#46039f"
             ],
             [
              0.2222222222222222,
              "#7201a8"
             ],
             [
              0.3333333333333333,
              "#9c179e"
             ],
             [
              0.4444444444444444,
              "#bd3786"
             ],
             [
              0.5555555555555556,
              "#d8576b"
             ],
             [
              0.6666666666666666,
              "#ed7953"
             ],
             [
              0.7777777777777778,
              "#fb9f3a"
             ],
             [
              0.8888888888888888,
              "#fdca26"
             ],
             [
              1,
              "#f0f921"
             ]
            ],
            "type": "surface"
           }
          ],
          "table": [
           {
            "cells": {
             "fill": {
              "color": "#EBF0F8"
             },
             "line": {
              "color": "white"
             }
            },
            "header": {
             "fill": {
              "color": "#C8D4E3"
             },
             "line": {
              "color": "white"
             }
            },
            "type": "table"
           }
          ]
         },
         "layout": {
          "annotationdefaults": {
           "arrowcolor": "#2a3f5f",
           "arrowhead": 0,
           "arrowwidth": 1
          },
          "autotypenumbers": "strict",
          "coloraxis": {
           "colorbar": {
            "outlinewidth": 0,
            "ticks": ""
           }
          },
          "colorscale": {
           "diverging": [
            [
             0,
             "#8e0152"
            ],
            [
             0.1,
             "#c51b7d"
            ],
            [
             0.2,
             "#de77ae"
            ],
            [
             0.3,
             "#f1b6da"
            ],
            [
             0.4,
             "#fde0ef"
            ],
            [
             0.5,
             "#f7f7f7"
            ],
            [
             0.6,
             "#e6f5d0"
            ],
            [
             0.7,
             "#b8e186"
            ],
            [
             0.8,
             "#7fbc41"
            ],
            [
             0.9,
             "#4d9221"
            ],
            [
             1,
             "#276419"
            ]
           ],
           "sequential": [
            [
             0,
             "#0d0887"
            ],
            [
             0.1111111111111111,
             "#46039f"
            ],
            [
             0.2222222222222222,
             "#7201a8"
            ],
            [
             0.3333333333333333,
             "#9c179e"
            ],
            [
             0.4444444444444444,
             "#bd3786"
            ],
            [
             0.5555555555555556,
             "#d8576b"
            ],
            [
             0.6666666666666666,
             "#ed7953"
            ],
            [
             0.7777777777777778,
             "#fb9f3a"
            ],
            [
             0.8888888888888888,
             "#fdca26"
            ],
            [
             1,
             "#f0f921"
            ]
           ],
           "sequentialminus": [
            [
             0,
             "#0d0887"
            ],
            [
             0.1111111111111111,
             "#46039f"
            ],
            [
             0.2222222222222222,
             "#7201a8"
            ],
            [
             0.3333333333333333,
             "#9c179e"
            ],
            [
             0.4444444444444444,
             "#bd3786"
            ],
            [
             0.5555555555555556,
             "#d8576b"
            ],
            [
             0.6666666666666666,
             "#ed7953"
            ],
            [
             0.7777777777777778,
             "#fb9f3a"
            ],
            [
             0.8888888888888888,
             "#fdca26"
            ],
            [
             1,
             "#f0f921"
            ]
           ]
          },
          "colorway": [
           "#636efa",
           "#EF553B",
           "#00cc96",
           "#ab63fa",
           "#FFA15A",
           "#19d3f3",
           "#FF6692",
           "#B6E880",
           "#FF97FF",
           "#FECB52"
          ],
          "font": {
           "color": "#2a3f5f"
          },
          "geo": {
           "bgcolor": "white",
           "lakecolor": "white",
           "landcolor": "#E5ECF6",
           "showlakes": true,
           "showland": true,
           "subunitcolor": "white"
          },
          "hoverlabel": {
           "align": "left"
          },
          "hovermode": "closest",
          "mapbox": {
           "style": "light"
          },
          "paper_bgcolor": "white",
          "plot_bgcolor": "#E5ECF6",
          "polar": {
           "angularaxis": {
            "gridcolor": "white",
            "linecolor": "white",
            "ticks": ""
           },
           "bgcolor": "#E5ECF6",
           "radialaxis": {
            "gridcolor": "white",
            "linecolor": "white",
            "ticks": ""
           }
          },
          "scene": {
           "xaxis": {
            "backgroundcolor": "#E5ECF6",
            "gridcolor": "white",
            "gridwidth": 2,
            "linecolor": "white",
            "showbackground": true,
            "ticks": "",
            "zerolinecolor": "white"
           },
           "yaxis": {
            "backgroundcolor": "#E5ECF6",
            "gridcolor": "white",
            "gridwidth": 2,
            "linecolor": "white",
            "showbackground": true,
            "ticks": "",
            "zerolinecolor": "white"
           },
           "zaxis": {
            "backgroundcolor": "#E5ECF6",
            "gridcolor": "white",
            "gridwidth": 2,
            "linecolor": "white",
            "showbackground": true,
            "ticks": "",
            "zerolinecolor": "white"
           }
          },
          "shapedefaults": {
           "line": {
            "color": "#2a3f5f"
           }
          },
          "ternary": {
           "aaxis": {
            "gridcolor": "white",
            "linecolor": "white",
            "ticks": ""
           },
           "baxis": {
            "gridcolor": "white",
            "linecolor": "white",
            "ticks": ""
           },
           "bgcolor": "#E5ECF6",
           "caxis": {
            "gridcolor": "white",
            "linecolor": "white",
            "ticks": ""
           }
          },
          "title": {
           "x": 0.05
          },
          "xaxis": {
           "automargin": true,
           "gridcolor": "white",
           "linecolor": "white",
           "ticks": "",
           "title": {
            "standoff": 15
           },
           "zerolinecolor": "white",
           "zerolinewidth": 2
          },
          "yaxis": {
           "automargin": true,
           "gridcolor": "white",
           "linecolor": "white",
           "ticks": "",
           "title": {
            "standoff": 15
           },
           "zerolinecolor": "white",
           "zerolinewidth": 2
          }
         }
        },
        "width": 1000,
        "xaxis": {
         "anchor": "y",
         "domain": [
          0,
          1
         ],
         "title": {
          "text": "Mean solved time (log scale)"
         },
         "type": "log"
        },
        "yaxis": {
         "anchor": "x",
         "domain": [
          0,
          1
         ],
         "title": {
          "text": "Median solved time"
         }
        }
       }
      }
     },
     "metadata": {},
     "output_type": "display_data"
    },
    {
     "data": {
      "application/vnd.plotly.v1+json": {
       "config": {
        "plotlyServerURL": "https://plot.ly"
       },
       "data": [
        {
         "hovertemplate": "<b>%{hovertext}</b><br><br>Median solved time=%{x}<br>Mean score=%{y}<br>Mean view count=%{marker.size}<br>Topic=%{marker.color}<extra></extra>",
         "hovertext": [
          0,
          1,
          10,
          11,
          12,
          13,
          14,
          15,
          16,
          17,
          18,
          19,
          2,
          20,
          21,
          22,
          23,
          24,
          25,
          26,
          27,
          28,
          29,
          3,
          30,
          31,
          32,
          33,
          34,
          35,
          36,
          37,
          38,
          39,
          4,
          40,
          41,
          42,
          43,
          5,
          6,
          7,
          8,
          9
         ],
         "legendgroup": "",
         "marker": {
          "color": [
           0,
           1,
           10,
           11,
           12,
           13,
           14,
           15,
           16,
           17,
           18,
           19,
           2,
           20,
           21,
           22,
           23,
           24,
           25,
           26,
           27,
           28,
           29,
           3,
           30,
           31,
           32,
           33,
           34,
           35,
           36,
           37,
           38,
           39,
           4,
           40,
           41,
           42,
           43,
           5,
           6,
           7,
           8,
           9
          ],
          "coloraxis": "coloraxis",
          "size": [
           850.9036918138,
           440.6915167095,
           375.0769230769,
           450.1294964029,
           534.2201834862,
           505.3318777293,
           240.7459016393,
           1307.4624277457,
           971.3347826087,
           1096,
           632.641025641,
           420.7053571429,
           616.724137931,
           767.5104166667,
           492.1538461538,
           949.8623188406,
           302.3220338983,
           1230.9529411765,
           370.8356164384,
           467.9366197183,
           536.1774193548,
           710.4761904762,
           947.3981481481,
           450.9410029499,
           558.8214285714,
           182.6697247706,
           698.7804878049,
           682.1619047619,
           181.2391304348,
           474.3275862069,
           721.3729372937,
           659.1052631579,
           414.1294642857,
           488.2,
           700.0841750842,
           1122.6590909091,
           492.6807511737,
           416.3921568627,
           830.6571428571,
           510.4095238095,
           759.0197368421,
           434.7630662021,
           350.96,
           272.7847222222
          ],
          "sizemode": "area",
          "sizeref": 3.2686560693642503,
          "symbol": "circle"
         },
         "mode": "markers",
         "name": "",
         "orientation": "v",
         "showlegend": false,
         "type": "scatter",
         "x": [
          24.1450022222,
          23.4367558333,
          47.8624777778,
          13.2357005556,
          18.5982666667,
          91.9724823611,
          31.3555654167,
          17.6541272222,
          24.7825569445,
          24.8024372222,
          10.7241647222,
          39.9339302778,
          44.3762386111,
          26.0612581944,
          12.1208140278,
          43.2314219444,
          39.2214844445,
          32.9775055556,
          42.4155234722,
          18.0198879167,
          27.1444840278,
          58.5243405556,
          6.8781394444,
          29.9698797222,
          90.2757661111,
          6.9030891667,
          8.4690644444,
          28.38799125,
          67.1714023611,
          24.0506027778,
          18.4475338889,
          14.6736786111,
          19.77049,
          37.6439279167,
          14.9208969444,
          11.5363191667,
          24.0739286111,
          27.4099408334,
          14.4911426389,
          58.57324625,
          47.2822068056,
          19.931705,
          27.6802179167,
          37.6094661111
         ],
         "xaxis": "x",
         "y": [
          0.873221216,
          0.8796296296,
          0.7433628319000001,
          0.6026785714,
          1.019047619,
          0.8987854251,
          0.9716981132,
          1.0922330097,
          1.2,
          0.8914728682,
          0.7413793103,
          0.7258064516,
          0.9671052632,
          0.8878504673000001,
          0.6222222222,
          0.925170068,
          0.44827586210000003,
          0.8153153153,
          0.6352941176,
          0.599078341,
          0.5384615385,
          0.9577464789000001,
          0.8449612403000001,
          0.8069705094,
          1.1473684211,
          0.4789915966,
          1.3775510203999999,
          0.9279279279,
          0.14,
          0.7439024390000001,
          0.8198433420000001,
          0.7806451613000001,
          0.5792880259000001,
          0.8862745098,
          1.318452381,
          0.9247311828,
          0.6394557823,
          0.7286432161,
          0.9166666667000001,
          0.7401574803000001,
          1.2565789474,
          0.5961002786,
          0.641509434,
          0.5471698113
         ],
         "yaxis": "y"
        }
       ],
       "layout": {
        "coloraxis": {
         "colorbar": {
          "title": {
           "text": "Challenge topic"
          }
         },
         "colorscale": [
          [
           0,
           "#0d0887"
          ],
          [
           0.1111111111111111,
           "#46039f"
          ],
          [
           0.2222222222222222,
           "#7201a8"
          ],
          [
           0.3333333333333333,
           "#9c179e"
          ],
          [
           0.4444444444444444,
           "#bd3786"
          ],
          [
           0.5555555555555556,
           "#d8576b"
          ],
          [
           0.6666666666666666,
           "#ed7953"
          ],
          [
           0.7777777777777778,
           "#fb9f3a"
          ],
          [
           0.8888888888888888,
           "#fdca26"
          ],
          [
           1,
           "#f0f921"
          ]
         ]
        },
        "height": 500,
        "legend": {
         "itemsizing": "constant",
         "tracegroupgap": 0
        },
        "margin": {
         "b": 0,
         "l": 0,
         "r": 0,
         "t": 0
        },
        "template": {
         "data": {
          "bar": [
           {
            "error_x": {
             "color": "#2a3f5f"
            },
            "error_y": {
             "color": "#2a3f5f"
            },
            "marker": {
             "line": {
              "color": "#E5ECF6",
              "width": 0.5
             },
             "pattern": {
              "fillmode": "overlay",
              "size": 10,
              "solidity": 0.2
             }
            },
            "type": "bar"
           }
          ],
          "barpolar": [
           {
            "marker": {
             "line": {
              "color": "#E5ECF6",
              "width": 0.5
             },
             "pattern": {
              "fillmode": "overlay",
              "size": 10,
              "solidity": 0.2
             }
            },
            "type": "barpolar"
           }
          ],
          "carpet": [
           {
            "aaxis": {
             "endlinecolor": "#2a3f5f",
             "gridcolor": "white",
             "linecolor": "white",
             "minorgridcolor": "white",
             "startlinecolor": "#2a3f5f"
            },
            "baxis": {
             "endlinecolor": "#2a3f5f",
             "gridcolor": "white",
             "linecolor": "white",
             "minorgridcolor": "white",
             "startlinecolor": "#2a3f5f"
            },
            "type": "carpet"
           }
          ],
          "choropleth": [
           {
            "colorbar": {
             "outlinewidth": 0,
             "ticks": ""
            },
            "type": "choropleth"
           }
          ],
          "contour": [
           {
            "colorbar": {
             "outlinewidth": 0,
             "ticks": ""
            },
            "colorscale": [
             [
              0,
              "#0d0887"
             ],
             [
              0.1111111111111111,
              "#46039f"
             ],
             [
              0.2222222222222222,
              "#7201a8"
             ],
             [
              0.3333333333333333,
              "#9c179e"
             ],
             [
              0.4444444444444444,
              "#bd3786"
             ],
             [
              0.5555555555555556,
              "#d8576b"
             ],
             [
              0.6666666666666666,
              "#ed7953"
             ],
             [
              0.7777777777777778,
              "#fb9f3a"
             ],
             [
              0.8888888888888888,
              "#fdca26"
             ],
             [
              1,
              "#f0f921"
             ]
            ],
            "type": "contour"
           }
          ],
          "contourcarpet": [
           {
            "colorbar": {
             "outlinewidth": 0,
             "ticks": ""
            },
            "type": "contourcarpet"
           }
          ],
          "heatmap": [
           {
            "colorbar": {
             "outlinewidth": 0,
             "ticks": ""
            },
            "colorscale": [
             [
              0,
              "#0d0887"
             ],
             [
              0.1111111111111111,
              "#46039f"
             ],
             [
              0.2222222222222222,
              "#7201a8"
             ],
             [
              0.3333333333333333,
              "#9c179e"
             ],
             [
              0.4444444444444444,
              "#bd3786"
             ],
             [
              0.5555555555555556,
              "#d8576b"
             ],
             [
              0.6666666666666666,
              "#ed7953"
             ],
             [
              0.7777777777777778,
              "#fb9f3a"
             ],
             [
              0.8888888888888888,
              "#fdca26"
             ],
             [
              1,
              "#f0f921"
             ]
            ],
            "type": "heatmap"
           }
          ],
          "heatmapgl": [
           {
            "colorbar": {
             "outlinewidth": 0,
             "ticks": ""
            },
            "colorscale": [
             [
              0,
              "#0d0887"
             ],
             [
              0.1111111111111111,
              "#46039f"
             ],
             [
              0.2222222222222222,
              "#7201a8"
             ],
             [
              0.3333333333333333,
              "#9c179e"
             ],
             [
              0.4444444444444444,
              "#bd3786"
             ],
             [
              0.5555555555555556,
              "#d8576b"
             ],
             [
              0.6666666666666666,
              "#ed7953"
             ],
             [
              0.7777777777777778,
              "#fb9f3a"
             ],
             [
              0.8888888888888888,
              "#fdca26"
             ],
             [
              1,
              "#f0f921"
             ]
            ],
            "type": "heatmapgl"
           }
          ],
          "histogram": [
           {
            "marker": {
             "pattern": {
              "fillmode": "overlay",
              "size": 10,
              "solidity": 0.2
             }
            },
            "type": "histogram"
           }
          ],
          "histogram2d": [
           {
            "colorbar": {
             "outlinewidth": 0,
             "ticks": ""
            },
            "colorscale": [
             [
              0,
              "#0d0887"
             ],
             [
              0.1111111111111111,
              "#46039f"
             ],
             [
              0.2222222222222222,
              "#7201a8"
             ],
             [
              0.3333333333333333,
              "#9c179e"
             ],
             [
              0.4444444444444444,
              "#bd3786"
             ],
             [
              0.5555555555555556,
              "#d8576b"
             ],
             [
              0.6666666666666666,
              "#ed7953"
             ],
             [
              0.7777777777777778,
              "#fb9f3a"
             ],
             [
              0.8888888888888888,
              "#fdca26"
             ],
             [
              1,
              "#f0f921"
             ]
            ],
            "type": "histogram2d"
           }
          ],
          "histogram2dcontour": [
           {
            "colorbar": {
             "outlinewidth": 0,
             "ticks": ""
            },
            "colorscale": [
             [
              0,
              "#0d0887"
             ],
             [
              0.1111111111111111,
              "#46039f"
             ],
             [
              0.2222222222222222,
              "#7201a8"
             ],
             [
              0.3333333333333333,
              "#9c179e"
             ],
             [
              0.4444444444444444,
              "#bd3786"
             ],
             [
              0.5555555555555556,
              "#d8576b"
             ],
             [
              0.6666666666666666,
              "#ed7953"
             ],
             [
              0.7777777777777778,
              "#fb9f3a"
             ],
             [
              0.8888888888888888,
              "#fdca26"
             ],
             [
              1,
              "#f0f921"
             ]
            ],
            "type": "histogram2dcontour"
           }
          ],
          "mesh3d": [
           {
            "colorbar": {
             "outlinewidth": 0,
             "ticks": ""
            },
            "type": "mesh3d"
           }
          ],
          "parcoords": [
           {
            "line": {
             "colorbar": {
              "outlinewidth": 0,
              "ticks": ""
             }
            },
            "type": "parcoords"
           }
          ],
          "pie": [
           {
            "automargin": true,
            "type": "pie"
           }
          ],
          "scatter": [
           {
            "fillpattern": {
             "fillmode": "overlay",
             "size": 10,
             "solidity": 0.2
            },
            "type": "scatter"
           }
          ],
          "scatter3d": [
           {
            "line": {
             "colorbar": {
              "outlinewidth": 0,
              "ticks": ""
             }
            },
            "marker": {
             "colorbar": {
              "outlinewidth": 0,
              "ticks": ""
             }
            },
            "type": "scatter3d"
           }
          ],
          "scattercarpet": [
           {
            "marker": {
             "colorbar": {
              "outlinewidth": 0,
              "ticks": ""
             }
            },
            "type": "scattercarpet"
           }
          ],
          "scattergeo": [
           {
            "marker": {
             "colorbar": {
              "outlinewidth": 0,
              "ticks": ""
             }
            },
            "type": "scattergeo"
           }
          ],
          "scattergl": [
           {
            "marker": {
             "colorbar": {
              "outlinewidth": 0,
              "ticks": ""
             }
            },
            "type": "scattergl"
           }
          ],
          "scattermapbox": [
           {
            "marker": {
             "colorbar": {
              "outlinewidth": 0,
              "ticks": ""
             }
            },
            "type": "scattermapbox"
           }
          ],
          "scatterpolar": [
           {
            "marker": {
             "colorbar": {
              "outlinewidth": 0,
              "ticks": ""
             }
            },
            "type": "scatterpolar"
           }
          ],
          "scatterpolargl": [
           {
            "marker": {
             "colorbar": {
              "outlinewidth": 0,
              "ticks": ""
             }
            },
            "type": "scatterpolargl"
           }
          ],
          "scatterternary": [
           {
            "marker": {
             "colorbar": {
              "outlinewidth": 0,
              "ticks": ""
             }
            },
            "type": "scatterternary"
           }
          ],
          "surface": [
           {
            "colorbar": {
             "outlinewidth": 0,
             "ticks": ""
            },
            "colorscale": [
             [
              0,
              "#0d0887"
             ],
             [
              0.1111111111111111,
              "#46039f"
             ],
             [
              0.2222222222222222,
              "#7201a8"
             ],
             [
              0.3333333333333333,
              "#9c179e"
             ],
             [
              0.4444444444444444,
              "#bd3786"
             ],
             [
              0.5555555555555556,
              "#d8576b"
             ],
             [
              0.6666666666666666,
              "#ed7953"
             ],
             [
              0.7777777777777778,
              "#fb9f3a"
             ],
             [
              0.8888888888888888,
              "#fdca26"
             ],
             [
              1,
              "#f0f921"
             ]
            ],
            "type": "surface"
           }
          ],
          "table": [
           {
            "cells": {
             "fill": {
              "color": "#EBF0F8"
             },
             "line": {
              "color": "white"
             }
            },
            "header": {
             "fill": {
              "color": "#C8D4E3"
             },
             "line": {
              "color": "white"
             }
            },
            "type": "table"
           }
          ]
         },
         "layout": {
          "annotationdefaults": {
           "arrowcolor": "#2a3f5f",
           "arrowhead": 0,
           "arrowwidth": 1
          },
          "autotypenumbers": "strict",
          "coloraxis": {
           "colorbar": {
            "outlinewidth": 0,
            "ticks": ""
           }
          },
          "colorscale": {
           "diverging": [
            [
             0,
             "#8e0152"
            ],
            [
             0.1,
             "#c51b7d"
            ],
            [
             0.2,
             "#de77ae"
            ],
            [
             0.3,
             "#f1b6da"
            ],
            [
             0.4,
             "#fde0ef"
            ],
            [
             0.5,
             "#f7f7f7"
            ],
            [
             0.6,
             "#e6f5d0"
            ],
            [
             0.7,
             "#b8e186"
            ],
            [
             0.8,
             "#7fbc41"
            ],
            [
             0.9,
             "#4d9221"
            ],
            [
             1,
             "#276419"
            ]
           ],
           "sequential": [
            [
             0,
             "#0d0887"
            ],
            [
             0.1111111111111111,
             "#46039f"
            ],
            [
             0.2222222222222222,
             "#7201a8"
            ],
            [
             0.3333333333333333,
             "#9c179e"
            ],
            [
             0.4444444444444444,
             "#bd3786"
            ],
            [
             0.5555555555555556,
             "#d8576b"
            ],
            [
             0.6666666666666666,
             "#ed7953"
            ],
            [
             0.7777777777777778,
             "#fb9f3a"
            ],
            [
             0.8888888888888888,
             "#fdca26"
            ],
            [
             1,
             "#f0f921"
            ]
           ],
           "sequentialminus": [
            [
             0,
             "#0d0887"
            ],
            [
             0.1111111111111111,
             "#46039f"
            ],
            [
             0.2222222222222222,
             "#7201a8"
            ],
            [
             0.3333333333333333,
             "#9c179e"
            ],
            [
             0.4444444444444444,
             "#bd3786"
            ],
            [
             0.5555555555555556,
             "#d8576b"
            ],
            [
             0.6666666666666666,
             "#ed7953"
            ],
            [
             0.7777777777777778,
             "#fb9f3a"
            ],
            [
             0.8888888888888888,
             "#fdca26"
            ],
            [
             1,
             "#f0f921"
            ]
           ]
          },
          "colorway": [
           "#636efa",
           "#EF553B",
           "#00cc96",
           "#ab63fa",
           "#FFA15A",
           "#19d3f3",
           "#FF6692",
           "#B6E880",
           "#FF97FF",
           "#FECB52"
          ],
          "font": {
           "color": "#2a3f5f"
          },
          "geo": {
           "bgcolor": "white",
           "lakecolor": "white",
           "landcolor": "#E5ECF6",
           "showlakes": true,
           "showland": true,
           "subunitcolor": "white"
          },
          "hoverlabel": {
           "align": "left"
          },
          "hovermode": "closest",
          "mapbox": {
           "style": "light"
          },
          "paper_bgcolor": "white",
          "plot_bgcolor": "#E5ECF6",
          "polar": {
           "angularaxis": {
            "gridcolor": "white",
            "linecolor": "white",
            "ticks": ""
           },
           "bgcolor": "#E5ECF6",
           "radialaxis": {
            "gridcolor": "white",
            "linecolor": "white",
            "ticks": ""
           }
          },
          "scene": {
           "xaxis": {
            "backgroundcolor": "#E5ECF6",
            "gridcolor": "white",
            "gridwidth": 2,
            "linecolor": "white",
            "showbackground": true,
            "ticks": "",
            "zerolinecolor": "white"
           },
           "yaxis": {
            "backgroundcolor": "#E5ECF6",
            "gridcolor": "white",
            "gridwidth": 2,
            "linecolor": "white",
            "showbackground": true,
            "ticks": "",
            "zerolinecolor": "white"
           },
           "zaxis": {
            "backgroundcolor": "#E5ECF6",
            "gridcolor": "white",
            "gridwidth": 2,
            "linecolor": "white",
            "showbackground": true,
            "ticks": "",
            "zerolinecolor": "white"
           }
          },
          "shapedefaults": {
           "line": {
            "color": "#2a3f5f"
           }
          },
          "ternary": {
           "aaxis": {
            "gridcolor": "white",
            "linecolor": "white",
            "ticks": ""
           },
           "baxis": {
            "gridcolor": "white",
            "linecolor": "white",
            "ticks": ""
           },
           "bgcolor": "#E5ECF6",
           "caxis": {
            "gridcolor": "white",
            "linecolor": "white",
            "ticks": ""
           }
          },
          "title": {
           "x": 0.05
          },
          "xaxis": {
           "automargin": true,
           "gridcolor": "white",
           "linecolor": "white",
           "ticks": "",
           "title": {
            "standoff": 15
           },
           "zerolinecolor": "white",
           "zerolinewidth": 2
          },
          "yaxis": {
           "automargin": true,
           "gridcolor": "white",
           "linecolor": "white",
           "ticks": "",
           "title": {
            "standoff": 15
           },
           "zerolinecolor": "white",
           "zerolinewidth": 2
          }
         }
        },
        "width": 1000,
        "xaxis": {
         "anchor": "y",
         "domain": [
          0,
          1
         ],
         "title": {
          "text": "Median solved time"
         }
        },
        "yaxis": {
         "anchor": "x",
         "domain": [
          0,
          1
         ],
         "title": {
          "text": "Mean score"
         }
        }
       }
      }
     },
     "metadata": {},
     "output_type": "display_data"
    },
    {
     "data": {
      "application/vnd.plotly.v1+json": {
       "config": {
        "plotlyServerURL": "https://plot.ly"
       },
       "data": [
        {
         "hovertemplate": "<b>%{hovertext}</b><br><br>Median solved time=%{x}<br>Mean favorite count=%{y}<br>Mean answer count=%{marker.size}<br>Topic=%{marker.color}<extra></extra>",
         "hovertext": [
          0,
          1,
          10,
          11,
          12,
          13,
          14,
          15,
          16,
          17,
          18,
          19,
          2,
          20,
          21,
          22,
          23,
          24,
          25,
          26,
          27,
          28,
          29,
          3,
          30,
          31,
          32,
          33,
          34,
          35,
          36,
          37,
          38,
          39,
          4,
          40,
          41,
          42,
          43,
          5,
          6,
          7,
          8,
          9
         ],
         "legendgroup": "",
         "marker": {
          "color": [
           0,
           1,
           10,
           11,
           12,
           13,
           14,
           15,
           16,
           17,
           18,
           19,
           2,
           20,
           21,
           22,
           23,
           24,
           25,
           26,
           27,
           28,
           29,
           3,
           30,
           31,
           32,
           33,
           34,
           35,
           36,
           37,
           38,
           39,
           4,
           40,
           41,
           42,
           43,
           5,
           6,
           7,
           8,
           9
          ],
          "coloraxis": "coloraxis",
          "size": [
           1.4221938776,
           1.4844606947,
           2.3965517241,
           1.9694323144,
           1.05,
           1.148,
           1.0714285714,
           1.4106280193,
           1.2915129151,
           1.1984732824,
           1.1022727273,
           1.4444444444,
           1.2211538462,
           1.3445378151,
           1.3529411765,
           1.306122449,
           1.2528735632,
           1.2533333333,
           1.3604651162999999,
           1.2222222222,
           1.19,
           1.0845070423,
           1.1627906977,
           1.9385026738,
           1.8282828282999999,
           1.1496598639,
           2.3636363636,
           1.3185840708,
           1.26,
           1.9268292683000001,
           1.4289405685,
           1.21875,
           1.4089456869,
           1.1368821293,
           2.7748538012,
           1.4148936170000002,
           1.8695652174,
           1.085,
           1.462585034,
           1.8832684825000001,
           1.8771929825,
           1.0906666667,
           1.2201257862000001,
           3.4716981132
          ],
          "sizemode": "area",
          "sizeref": 0.008679245283,
          "symbol": "circle"
         },
         "mode": "markers",
         "name": "",
         "orientation": "v",
         "showlegend": false,
         "type": "scatter",
         "x": [
          24.1450022222,
          23.4367558333,
          47.8624777778,
          13.2357005556,
          18.5982666667,
          91.9724823611,
          31.3555654167,
          17.6541272222,
          24.7825569445,
          24.8024372222,
          10.7241647222,
          39.9339302778,
          44.3762386111,
          26.0612581944,
          12.1208140278,
          43.2314219444,
          39.2214844445,
          32.9775055556,
          42.4155234722,
          18.0198879167,
          27.1444840278,
          58.5243405556,
          6.8781394444,
          29.9698797222,
          90.2757661111,
          6.9030891667,
          8.4690644444,
          28.38799125,
          67.1714023611,
          24.0506027778,
          18.4475338889,
          14.6736786111,
          19.77049,
          37.6439279167,
          14.9208969444,
          11.5363191667,
          24.0739286111,
          27.4099408334,
          14.4911426389,
          58.57324625,
          47.2822068056,
          19.931705,
          27.6802179167,
          37.6094661111
         ],
         "xaxis": "x",
         "y": [
          1.1842105263,
          1.2448979592,
          1.2105263158,
          1.4,
          1.2941176471,
          1.1428571429,
          2,
          1.8,
          1.75,
          1.3571428571,
          1.3529411765,
          0.875,
          1.2894736842,
          1.0625,
          0.875,
          1.3599999999999999,
          1,
          1.15,
          1.3333333333000001,
          0.85,
          1,
          1.3333333333000001,
          0.9473684211000001,
          1.2,
          1.2666666667,
          1.25,
          1.25,
          0.9166666667000001,
          1,
          1,
          1.3703703704,
          1.2307692308,
          0.9583333333,
          1.2702702703,
          1.5555555556,
          1.1666666667,
          0.9230769231,
          1,
          1.1818181818,
          1.1875,
          1.2857142857000001,
          1,
          1.0909090909,
          0.8571428571
         ],
         "yaxis": "y"
        }
       ],
       "layout": {
        "coloraxis": {
         "colorbar": {
          "title": {
           "text": "Challenge topic"
          }
         },
         "colorscale": [
          [
           0,
           "#0d0887"
          ],
          [
           0.1111111111111111,
           "#46039f"
          ],
          [
           0.2222222222222222,
           "#7201a8"
          ],
          [
           0.3333333333333333,
           "#9c179e"
          ],
          [
           0.4444444444444444,
           "#bd3786"
          ],
          [
           0.5555555555555556,
           "#d8576b"
          ],
          [
           0.6666666666666666,
           "#ed7953"
          ],
          [
           0.7777777777777778,
           "#fb9f3a"
          ],
          [
           0.8888888888888888,
           "#fdca26"
          ],
          [
           1,
           "#f0f921"
          ]
         ]
        },
        "height": 500,
        "legend": {
         "itemsizing": "constant",
         "tracegroupgap": 0
        },
        "margin": {
         "b": 0,
         "l": 0,
         "r": 0,
         "t": 0
        },
        "template": {
         "data": {
          "bar": [
           {
            "error_x": {
             "color": "#2a3f5f"
            },
            "error_y": {
             "color": "#2a3f5f"
            },
            "marker": {
             "line": {
              "color": "#E5ECF6",
              "width": 0.5
             },
             "pattern": {
              "fillmode": "overlay",
              "size": 10,
              "solidity": 0.2
             }
            },
            "type": "bar"
           }
          ],
          "barpolar": [
           {
            "marker": {
             "line": {
              "color": "#E5ECF6",
              "width": 0.5
             },
             "pattern": {
              "fillmode": "overlay",
              "size": 10,
              "solidity": 0.2
             }
            },
            "type": "barpolar"
           }
          ],
          "carpet": [
           {
            "aaxis": {
             "endlinecolor": "#2a3f5f",
             "gridcolor": "white",
             "linecolor": "white",
             "minorgridcolor": "white",
             "startlinecolor": "#2a3f5f"
            },
            "baxis": {
             "endlinecolor": "#2a3f5f",
             "gridcolor": "white",
             "linecolor": "white",
             "minorgridcolor": "white",
             "startlinecolor": "#2a3f5f"
            },
            "type": "carpet"
           }
          ],
          "choropleth": [
           {
            "colorbar": {
             "outlinewidth": 0,
             "ticks": ""
            },
            "type": "choropleth"
           }
          ],
          "contour": [
           {
            "colorbar": {
             "outlinewidth": 0,
             "ticks": ""
            },
            "colorscale": [
             [
              0,
              "#0d0887"
             ],
             [
              0.1111111111111111,
              "#46039f"
             ],
             [
              0.2222222222222222,
              "#7201a8"
             ],
             [
              0.3333333333333333,
              "#9c179e"
             ],
             [
              0.4444444444444444,
              "#bd3786"
             ],
             [
              0.5555555555555556,
              "#d8576b"
             ],
             [
              0.6666666666666666,
              "#ed7953"
             ],
             [
              0.7777777777777778,
              "#fb9f3a"
             ],
             [
              0.8888888888888888,
              "#fdca26"
             ],
             [
              1,
              "#f0f921"
             ]
            ],
            "type": "contour"
           }
          ],
          "contourcarpet": [
           {
            "colorbar": {
             "outlinewidth": 0,
             "ticks": ""
            },
            "type": "contourcarpet"
           }
          ],
          "heatmap": [
           {
            "colorbar": {
             "outlinewidth": 0,
             "ticks": ""
            },
            "colorscale": [
             [
              0,
              "#0d0887"
             ],
             [
              0.1111111111111111,
              "#46039f"
             ],
             [
              0.2222222222222222,
              "#7201a8"
             ],
             [
              0.3333333333333333,
              "#9c179e"
             ],
             [
              0.4444444444444444,
              "#bd3786"
             ],
             [
              0.5555555555555556,
              "#d8576b"
             ],
             [
              0.6666666666666666,
              "#ed7953"
             ],
             [
              0.7777777777777778,
              "#fb9f3a"
             ],
             [
              0.8888888888888888,
              "#fdca26"
             ],
             [
              1,
              "#f0f921"
             ]
            ],
            "type": "heatmap"
           }
          ],
          "heatmapgl": [
           {
            "colorbar": {
             "outlinewidth": 0,
             "ticks": ""
            },
            "colorscale": [
             [
              0,
              "#0d0887"
             ],
             [
              0.1111111111111111,
              "#46039f"
             ],
             [
              0.2222222222222222,
              "#7201a8"
             ],
             [
              0.3333333333333333,
              "#9c179e"
             ],
             [
              0.4444444444444444,
              "#bd3786"
             ],
             [
              0.5555555555555556,
              "#d8576b"
             ],
             [
              0.6666666666666666,
              "#ed7953"
             ],
             [
              0.7777777777777778,
              "#fb9f3a"
             ],
             [
              0.8888888888888888,
              "#fdca26"
             ],
             [
              1,
              "#f0f921"
             ]
            ],
            "type": "heatmapgl"
           }
          ],
          "histogram": [
           {
            "marker": {
             "pattern": {
              "fillmode": "overlay",
              "size": 10,
              "solidity": 0.2
             }
            },
            "type": "histogram"
           }
          ],
          "histogram2d": [
           {
            "colorbar": {
             "outlinewidth": 0,
             "ticks": ""
            },
            "colorscale": [
             [
              0,
              "#0d0887"
             ],
             [
              0.1111111111111111,
              "#46039f"
             ],
             [
              0.2222222222222222,
              "#7201a8"
             ],
             [
              0.3333333333333333,
              "#9c179e"
             ],
             [
              0.4444444444444444,
              "#bd3786"
             ],
             [
              0.5555555555555556,
              "#d8576b"
             ],
             [
              0.6666666666666666,
              "#ed7953"
             ],
             [
              0.7777777777777778,
              "#fb9f3a"
             ],
             [
              0.8888888888888888,
              "#fdca26"
             ],
             [
              1,
              "#f0f921"
             ]
            ],
            "type": "histogram2d"
           }
          ],
          "histogram2dcontour": [
           {
            "colorbar": {
             "outlinewidth": 0,
             "ticks": ""
            },
            "colorscale": [
             [
              0,
              "#0d0887"
             ],
             [
              0.1111111111111111,
              "#46039f"
             ],
             [
              0.2222222222222222,
              "#7201a8"
             ],
             [
              0.3333333333333333,
              "#9c179e"
             ],
             [
              0.4444444444444444,
              "#bd3786"
             ],
             [
              0.5555555555555556,
              "#d8576b"
             ],
             [
              0.6666666666666666,
              "#ed7953"
             ],
             [
              0.7777777777777778,
              "#fb9f3a"
             ],
             [
              0.8888888888888888,
              "#fdca26"
             ],
             [
              1,
              "#f0f921"
             ]
            ],
            "type": "histogram2dcontour"
           }
          ],
          "mesh3d": [
           {
            "colorbar": {
             "outlinewidth": 0,
             "ticks": ""
            },
            "type": "mesh3d"
           }
          ],
          "parcoords": [
           {
            "line": {
             "colorbar": {
              "outlinewidth": 0,
              "ticks": ""
             }
            },
            "type": "parcoords"
           }
          ],
          "pie": [
           {
            "automargin": true,
            "type": "pie"
           }
          ],
          "scatter": [
           {
            "fillpattern": {
             "fillmode": "overlay",
             "size": 10,
             "solidity": 0.2
            },
            "type": "scatter"
           }
          ],
          "scatter3d": [
           {
            "line": {
             "colorbar": {
              "outlinewidth": 0,
              "ticks": ""
             }
            },
            "marker": {
             "colorbar": {
              "outlinewidth": 0,
              "ticks": ""
             }
            },
            "type": "scatter3d"
           }
          ],
          "scattercarpet": [
           {
            "marker": {
             "colorbar": {
              "outlinewidth": 0,
              "ticks": ""
             }
            },
            "type": "scattercarpet"
           }
          ],
          "scattergeo": [
           {
            "marker": {
             "colorbar": {
              "outlinewidth": 0,
              "ticks": ""
             }
            },
            "type": "scattergeo"
           }
          ],
          "scattergl": [
           {
            "marker": {
             "colorbar": {
              "outlinewidth": 0,
              "ticks": ""
             }
            },
            "type": "scattergl"
           }
          ],
          "scattermapbox": [
           {
            "marker": {
             "colorbar": {
              "outlinewidth": 0,
              "ticks": ""
             }
            },
            "type": "scattermapbox"
           }
          ],
          "scatterpolar": [
           {
            "marker": {
             "colorbar": {
              "outlinewidth": 0,
              "ticks": ""
             }
            },
            "type": "scatterpolar"
           }
          ],
          "scatterpolargl": [
           {
            "marker": {
             "colorbar": {
              "outlinewidth": 0,
              "ticks": ""
             }
            },
            "type": "scatterpolargl"
           }
          ],
          "scatterternary": [
           {
            "marker": {
             "colorbar": {
              "outlinewidth": 0,
              "ticks": ""
             }
            },
            "type": "scatterternary"
           }
          ],
          "surface": [
           {
            "colorbar": {
             "outlinewidth": 0,
             "ticks": ""
            },
            "colorscale": [
             [
              0,
              "#0d0887"
             ],
             [
              0.1111111111111111,
              "#46039f"
             ],
             [
              0.2222222222222222,
              "#7201a8"
             ],
             [
              0.3333333333333333,
              "#9c179e"
             ],
             [
              0.4444444444444444,
              "#bd3786"
             ],
             [
              0.5555555555555556,
              "#d8576b"
             ],
             [
              0.6666666666666666,
              "#ed7953"
             ],
             [
              0.7777777777777778,
              "#fb9f3a"
             ],
             [
              0.8888888888888888,
              "#fdca26"
             ],
             [
              1,
              "#f0f921"
             ]
            ],
            "type": "surface"
           }
          ],
          "table": [
           {
            "cells": {
             "fill": {
              "color": "#EBF0F8"
             },
             "line": {
              "color": "white"
             }
            },
            "header": {
             "fill": {
              "color": "#C8D4E3"
             },
             "line": {
              "color": "white"
             }
            },
            "type": "table"
           }
          ]
         },
         "layout": {
          "annotationdefaults": {
           "arrowcolor": "#2a3f5f",
           "arrowhead": 0,
           "arrowwidth": 1
          },
          "autotypenumbers": "strict",
          "coloraxis": {
           "colorbar": {
            "outlinewidth": 0,
            "ticks": ""
           }
          },
          "colorscale": {
           "diverging": [
            [
             0,
             "#8e0152"
            ],
            [
             0.1,
             "#c51b7d"
            ],
            [
             0.2,
             "#de77ae"
            ],
            [
             0.3,
             "#f1b6da"
            ],
            [
             0.4,
             "#fde0ef"
            ],
            [
             0.5,
             "#f7f7f7"
            ],
            [
             0.6,
             "#e6f5d0"
            ],
            [
             0.7,
             "#b8e186"
            ],
            [
             0.8,
             "#7fbc41"
            ],
            [
             0.9,
             "#4d9221"
            ],
            [
             1,
             "#276419"
            ]
           ],
           "sequential": [
            [
             0,
             "#0d0887"
            ],
            [
             0.1111111111111111,
             "#46039f"
            ],
            [
             0.2222222222222222,
             "#7201a8"
            ],
            [
             0.3333333333333333,
             "#9c179e"
            ],
            [
             0.4444444444444444,
             "#bd3786"
            ],
            [
             0.5555555555555556,
             "#d8576b"
            ],
            [
             0.6666666666666666,
             "#ed7953"
            ],
            [
             0.7777777777777778,
             "#fb9f3a"
            ],
            [
             0.8888888888888888,
             "#fdca26"
            ],
            [
             1,
             "#f0f921"
            ]
           ],
           "sequentialminus": [
            [
             0,
             "#0d0887"
            ],
            [
             0.1111111111111111,
             "#46039f"
            ],
            [
             0.2222222222222222,
             "#7201a8"
            ],
            [
             0.3333333333333333,
             "#9c179e"
            ],
            [
             0.4444444444444444,
             "#bd3786"
            ],
            [
             0.5555555555555556,
             "#d8576b"
            ],
            [
             0.6666666666666666,
             "#ed7953"
            ],
            [
             0.7777777777777778,
             "#fb9f3a"
            ],
            [
             0.8888888888888888,
             "#fdca26"
            ],
            [
             1,
             "#f0f921"
            ]
           ]
          },
          "colorway": [
           "#636efa",
           "#EF553B",
           "#00cc96",
           "#ab63fa",
           "#FFA15A",
           "#19d3f3",
           "#FF6692",
           "#B6E880",
           "#FF97FF",
           "#FECB52"
          ],
          "font": {
           "color": "#2a3f5f"
          },
          "geo": {
           "bgcolor": "white",
           "lakecolor": "white",
           "landcolor": "#E5ECF6",
           "showlakes": true,
           "showland": true,
           "subunitcolor": "white"
          },
          "hoverlabel": {
           "align": "left"
          },
          "hovermode": "closest",
          "mapbox": {
           "style": "light"
          },
          "paper_bgcolor": "white",
          "plot_bgcolor": "#E5ECF6",
          "polar": {
           "angularaxis": {
            "gridcolor": "white",
            "linecolor": "white",
            "ticks": ""
           },
           "bgcolor": "#E5ECF6",
           "radialaxis": {
            "gridcolor": "white",
            "linecolor": "white",
            "ticks": ""
           }
          },
          "scene": {
           "xaxis": {
            "backgroundcolor": "#E5ECF6",
            "gridcolor": "white",
            "gridwidth": 2,
            "linecolor": "white",
            "showbackground": true,
            "ticks": "",
            "zerolinecolor": "white"
           },
           "yaxis": {
            "backgroundcolor": "#E5ECF6",
            "gridcolor": "white",
            "gridwidth": 2,
            "linecolor": "white",
            "showbackground": true,
            "ticks": "",
            "zerolinecolor": "white"
           },
           "zaxis": {
            "backgroundcolor": "#E5ECF6",
            "gridcolor": "white",
            "gridwidth": 2,
            "linecolor": "white",
            "showbackground": true,
            "ticks": "",
            "zerolinecolor": "white"
           }
          },
          "shapedefaults": {
           "line": {
            "color": "#2a3f5f"
           }
          },
          "ternary": {
           "aaxis": {
            "gridcolor": "white",
            "linecolor": "white",
            "ticks": ""
           },
           "baxis": {
            "gridcolor": "white",
            "linecolor": "white",
            "ticks": ""
           },
           "bgcolor": "#E5ECF6",
           "caxis": {
            "gridcolor": "white",
            "linecolor": "white",
            "ticks": ""
           }
          },
          "title": {
           "x": 0.05
          },
          "xaxis": {
           "automargin": true,
           "gridcolor": "white",
           "linecolor": "white",
           "ticks": "",
           "title": {
            "standoff": 15
           },
           "zerolinecolor": "white",
           "zerolinewidth": 2
          },
          "yaxis": {
           "automargin": true,
           "gridcolor": "white",
           "linecolor": "white",
           "ticks": "",
           "title": {
            "standoff": 15
           },
           "zerolinecolor": "white",
           "zerolinewidth": 2
          }
         }
        },
        "width": 1000,
        "xaxis": {
         "anchor": "y",
         "domain": [
          0,
          1
         ],
         "title": {
          "text": "Median solved time"
         }
        },
        "yaxis": {
         "anchor": "x",
         "domain": [
          0,
          1
         ],
         "title": {
          "text": "Mean favorite count"
         }
        }
       }
      }
     },
     "metadata": {},
     "output_type": "display_data"
    }
   ],
   "source": [
    "df_challenge = pd.read_json(os.path.join(\n",
    "    path_challenge_open_closed, 'general.json'))\n",
    "\n",
    "# Plot median solved time against mean solved time for each topic using count ratio as size\n",
    "fig = px.scatter(df_challenge, y=\"Median solved time\", x=\"Mean solved time\", color=\"Topic\",\n",
    "                 hover_name=\"Topic\", size=\"Count ratio\", trendline=\"ols\", log_x=True, trendline_options=dict(log_x=True))\n",
    "fig.update_xaxes(title_text=\"Mean solved time (log scale)\")\n",
    "fig.update_layout(\n",
    "    width=1000,\n",
    "    height=500,\n",
    "    margin=dict(l=0, r=0, t=0, b=0),\n",
    "    coloraxis_colorbar=dict(\n",
    "        title=\"Challenge topic\",\n",
    "    ))\n",
    "fig.show()\n",
    "\n",
    "# Plot mean score against mean solved time for each topic using mean view count as size\n",
    "fig = px.scatter(df_challenge, y=\"Mean score\", x=\"Median solved time\",\n",
    "                 color=\"Topic\", hover_name=\"Topic\", size=\"Mean view count\")\n",
    "fig.update_layout(\n",
    "    width=1000,\n",
    "    height=500,\n",
    "    margin=dict(l=0, r=0, t=0, b=0),\n",
    "    coloraxis_colorbar=dict(\n",
    "        title=\"Challenge topic\",\n",
    "    ))\n",
    "fig.show()\n",
    "\n",
    "# Plot mean favorite count against median solved time for each topic using mean answer count as size\n",
    "fig = px.scatter(df_challenge, y=\"Mean favorite count\", x=\"Median solved time\",\n",
    "                 color=\"Topic\", hover_name=\"Topic\", size=\"Mean answer count\")\n",
    "fig.update_layout(\n",
    "    width=1000,\n",
    "    height=500,\n",
    "    margin=dict(l=0, r=0, t=0, b=0),\n",
    "    coloraxis_colorbar=dict(\n",
    "        title=\"Challenge topic\",\n",
    "    ))\n",
    "fig.show()"
   ]
  },
  {
   "cell_type": "code",
   "execution_count": null,
   "metadata": {},
   "outputs": [],
   "source": [
    "import scipy.interpolate\n",
    "from statsmodels.nonparametric.smoothers_lowess import lowess as sm_lowess\n",
    "\n",
    "\n",
    "def smooth(x, y, xgrid, lowess_kw=None):\n",
    "    samples = np.random.choice(len(x), 50, replace=True)\n",
    "    y_s = y[samples]\n",
    "    x_s = x[samples]\n",
    "    y_sm = sm_lowess(y_s, x_s, **lowess_kw)\n",
    "    # regularly sample it onto the grid\n",
    "    y_grid = scipy.interpolate.interp1d(\n",
    "        x_s, y_sm, fill_value='extrapolate')(xgrid)\n",
    "    return y_grid\n",
    "\n",
    "\n",
    "def lowess_with_confidence_bounds(x, y, conf_interval=0.95, lowess_kw=None):\n",
    "    \"\"\"\n",
    "    Perform Lowess regression and determine a confidence interval by bootstrap resampling\n",
    "    \"\"\"\n",
    "    xgrid = np.linspace(x.min(), x.max())\n",
    "\n",
    "    K = 100\n",
    "    smooths = np.stack([smooth(x, y, xgrid, lowess_kw) for _ in range(K)]).T\n",
    "\n",
    "    mean = np.nanmean(smooths, axis=1)\n",
    "    stderr = scipy.stats.sem(smooths, axis=1)\n",
    "\n",
    "    clower = np.nanpercentile(smooths, (1-conf_interval)*50, axis=1)\n",
    "    cupper = np.nanpercentile(smooths, (1+conf_interval)*50, axis=1)\n",
    "\n",
    "    return xgrid, mean, stderr, clower, cupper\n"
   ]
  },
  {
   "cell_type": "code",
   "execution_count": null,
   "metadata": {},
   "outputs": [
    {
     "data": {
      "text/plain": [
       "(Timestamp('2014-08-08 14:04:22.160000'),\n",
       " Timestamp('2023-02-22 01:36:03.995000'))"
      ]
     },
     "execution_count": 13,
     "metadata": {},
     "output_type": "execute_result"
    }
   ],
   "source": [
    "df_all = pd.read_json(os.path.join(path_general, 'assigned.json'))\n",
    "df_challenge = df_all[df_all['Challenge_topic'] > -1]\n",
    "# BigQuery Stack Overflow public dataset is updated until Nov 24, 2022, 1:39:22 PM UTC-5\n",
    "min(df_challenge['Challenge_creation_time']), max(\n",
    "    df_challenge['Challenge_creation_time'])"
   ]
  },
  {
   "cell_type": "code",
   "execution_count": null,
   "metadata": {},
   "outputs": [],
   "source": [
    "# Explore challenge topics evolution\n",
    "\n",
    "df_challenge = pd.read_json(os.path.join(path_general, 'assigned.json'))\n",
    "df_challenge = df_challenge[df_challenge['Challenge_topic'] > -1]\n",
    "df_challenge = df_challenge[(df_challenge['Challenge_creation_time'] > '2014-09-14')\n",
    "                            & (df_challenge['Challenge_creation_time'] < '2022-11-21')]\n",
    "\n",
    "for name, group in df_challenge.groupby('Challenge_topic'):\n",
    "    group = group.groupby(pd.Grouper(key='Challenge_creation_time', freq='2W')).agg(\n",
    "        Count=('Challenge_topic', 'count')).reset_index()\n",
    "    x = pd.to_datetime(group['Challenge_creation_time']).values\n",
    "    x = np.array([i.astype('datetime64[D]').astype(int) for i in x])\n",
    "    y = group['Count'].values\n",
    "    # 95% confidence interval\n",
    "    xgrid, mean, stderr, clower, cupper = lowess_with_confidence_bounds(\n",
    "        x, y, conf_interval=0.95, lowess_kw={\"frac\": 0.5, \"it\": 5, \"return_sorted\": False})\n",
    "    x = pd.to_datetime(group['Challenge_creation_time']).values\n",
    "    fig, ax = plt.subplots(figsize=(20, 10))\n",
    "    plt.plot(x, y, 'k.', label='Observations')\n",
    "    plt.plot(xgrid, mean, color='tomato', label='LOWESS')\n",
    "    plt.fill_between(xgrid, clower, cupper, alpha=0.3,\n",
    "                     label='LOWESS uncertainty')\n",
    "    plt.legend(loc='best')\n",
    "    fig.savefig(os.path.join(path_challenge_evolution,\n",
    "                f'Topic_{name}'), bbox_inches=\"tight\")\n",
    "    plt.close()\n"
   ]
  },
  {
   "cell_type": "code",
   "execution_count": null,
   "metadata": {},
   "outputs": [
    {
     "data": {
      "text/plain": [
       "(Timestamp('2014-09-14 22:12:24.493000'),\n",
       " Timestamp('2023-02-21 18:36:06.284000'))"
      ]
     },
     "execution_count": 15,
     "metadata": {},
     "output_type": "execute_result"
    }
   ],
   "source": [
    "df_all = pd.read_json(os.path.join(path_general, 'assigned.json'))\n",
    "df_solution = df_all[df_all['Solution_topic'] > -1]\n",
    "# BigQuery Stack Overflow public dataset is updated until Nov 24, 2022, 1:39:22 PM UTC-5\n",
    "min(df_solution['Challenge_creation_time']), max(\n",
    "    df_solution['Challenge_creation_time'])\n"
   ]
  },
  {
   "cell_type": "code",
   "execution_count": null,
   "metadata": {},
   "outputs": [],
   "source": [
    "# Explore solution topics evolution\n",
    "\n",
    "df_solution = pd.read_json(os.path.join(path_general, 'assigned.json'))\n",
    "df_solution = df_solution[df_solution['Solution_topic'] > -1]\n",
    "df_solution = df_solution[(df_solution['Challenge_creation_time'] > '2014-09-14')\n",
    "                          & (df_solution['Challenge_creation_time'] < '2022-11-21')]\n",
    "\n",
    "for name, group in df_solution.groupby('Solution_topic'):\n",
    "    group = group.groupby(pd.Grouper(key='Challenge_closed_time', freq='W')).agg(\n",
    "        Count=('Solution_topic', 'count')).reset_index()\n",
    "    x = pd.to_datetime(group['Challenge_closed_time']).values\n",
    "    x = np.array([i.astype('datetime64[D]').astype(int) for i in x])\n",
    "    y = group['Count'].values\n",
    "    # 95% confidence interval\n",
    "    xgrid, mean, stderr, clower, cupper = lowess_with_confidence_bounds(\n",
    "        x, y, conf_interval=0.95, lowess_kw={\"frac\": 0.5, \"it\": 5, \"return_sorted\": False})\n",
    "    x = pd.to_datetime(group['Challenge_closed_time']).values\n",
    "    fig, ax = plt.subplots(figsize=(20, 10))\n",
    "    plt.plot(x, y, 'k.', label='Observations')\n",
    "    plt.plot(xgrid, mean, color='tomato', label='LOWESS')\n",
    "    plt.fill_between(xgrid, clower, cupper, alpha=0.3,\n",
    "                     label='LOWESS uncertainty')\n",
    "    plt.legend(loc='best')\n",
    "    fig.savefig(os.path.join(path_solution_evolution,\n",
    "                f'Topic_{name}'), bbox_inches=\"tight\")\n",
    "    plt.close()\n"
   ]
  }
 ],
 "metadata": {
  "kernelspec": {
   "display_name": "Python 3 (ipykernel)",
   "language": "python",
   "name": "python3"
  },
  "language_info": {
   "codemirror_mode": {
    "name": "ipython",
    "version": 3
   },
   "file_extension": ".py",
   "mimetype": "text/x-python",
   "name": "python",
   "nbconvert_exporter": "python",
   "pygments_lexer": "ipython3",
   "version": "3.9.6"
  },
  "vscode": {
   "interpreter": {
    "hash": "ad2bdc8ecc057115af97d19610ffacc2b4e99fae6737bb82f5d7fb13d2f2c186"
   }
  }
 },
 "nbformat": 4,
 "nbformat_minor": 1
}
