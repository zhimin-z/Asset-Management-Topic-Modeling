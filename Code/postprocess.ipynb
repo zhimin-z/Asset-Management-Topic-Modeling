{
 "cells": [
  {
   "cell_type": "code",
   "execution_count": 47,
   "metadata": {},
   "outputs": [],
   "source": [
    "import openai\n",
    "import os\n",
    "import pandas as pd\n",
    "import plotly.express as px\n",
    "import plotly.graph_objects as go\n",
    "from plotly.colors import n_colors\n",
    "from matplotlib import pyplot as plt\n",
    "import numpy as np\n",
    "import pickle\n",
    "from scipy.stats import kruskal\n",
    "from scipy.stats import mannwhitneyu\n",
    "from scipy.stats import pearsonr\n",
    "from scipy.stats import shapiro\n",
    "import warnings\n",
    "warnings.filterwarnings(\"ignore\")\n",
    "\n",
    "\n",
    "pd.set_option(\"display.max_rows\", None, \"display.max_columns\",\n",
    "              None, 'display.max_colwidth', None)\n",
    "\n",
    "os.environ[\"TOKENIZERS_PARALLELISM\"] = \"true\"\n",
    "\n",
    "openai.api_key = os.getenv('OPENAI_API_KEY')\n"
   ]
  },
  {
   "cell_type": "code",
   "execution_count": 2,
   "metadata": {},
   "outputs": [],
   "source": [
    "path_dataset = os.path.join(os.path.dirname(os.getcwd()), 'Dataset')\n",
    "\n",
    "path_result = os.path.join(os.path.dirname(os.getcwd()), 'Result')\n",
    "if not os.path.exists(path_result):\n",
    "    os.makedirs(path_result)\n",
    "\n",
    "path_general = os.path.join(path_result, 'General')\n",
    "if not os.path.exists(path_general):\n",
    "    os.makedirs(path_general)\n",
    "\n",
    "path_challenge = os.path.join(path_result, 'Challenge')\n",
    "if not os.path.exists(path_challenge):\n",
    "    os.makedirs(path_challenge)\n",
    "\n",
    "path_solution = os.path.join(path_result, 'Solution')\n",
    "if not os.path.exists(path_solution):\n",
    "    os.makedirs(path_solution)\n",
    "\n",
    "path_challenge_git_qa = os.path.join(path_challenge, 'Git vs QA')\n",
    "if not os.path.exists(path_challenge_git_qa):\n",
    "    os.makedirs(path_challenge_git_qa)\n",
    "\n",
    "path_challenge_open_closed = os.path.join(path_challenge, 'Open vs Closed')\n",
    "if not os.path.exists(path_challenge_open_closed):\n",
    "    os.makedirs(path_challenge_open_closed)\n",
    "\n",
    "path_challenge_so_to = os.path.join(\n",
    "    path_challenge, 'Stack Overflow vs Tool-specific')\n",
    "if not os.path.exists(path_challenge_so_to):\n",
    "    os.makedirs(path_challenge_so_to)\n",
    "\n",
    "path_challenge_azureml_sagemaker = os.path.join(\n",
    "    path_challenge, 'AzureML vs SageMaker')\n",
    "if not os.path.exists(path_challenge_azureml_sagemaker):\n",
    "    os.makedirs(path_challenge_azureml_sagemaker)\n",
    "\n",
    "path_challenge_evolution = os.path.join(path_challenge, 'Evolution')\n",
    "if not os.path.exists(path_challenge_evolution):\n",
    "    os.makedirs(path_challenge_evolution)\n",
    "\n",
    "path_solution_evolution = os.path.join(path_solution, 'Evolution')\n",
    "if not os.path.exists(path_solution_evolution):\n",
    "    os.makedirs(path_solution_evolution)\n"
   ]
  },
  {
   "cell_type": "code",
   "execution_count": 3,
   "metadata": {},
   "outputs": [],
   "source": [
    "# The significance level is the probability of rejecting the null hypothesis when it is true.\n",
    "alpha = 0.05"
   ]
  },
  {
   "cell_type": "code",
   "execution_count": 39,
   "metadata": {},
   "outputs": [],
   "source": [
    "# Create challenge topic distribution tree map\n",
    "\n",
    "df_topics = pd.read_json(os.path.join(path_general, 'original.json'))\n",
    "df_topics = df_topics[df_topics['Challenge_topic'] > -1]\n",
    "df_topics['Challenge_comment_count'] = df_topics['Challenge_comment_count'].fillna(\n",
    "    0)\n",
    "df_topics['Challenge_answer_count'] = df_topics['Challenge_answer_count'].fillna(\n",
    "    0)\n",
    "df_topics['Challenge_participation_count'] = df_topics['Challenge_answer_count'] + \\\n",
    "    df_topics['Challenge_comment_count']\n",
    "\n",
    "fig = px.treemap(\n",
    "    df_topics,\n",
    "    path=['Tool', 'Platform'],\n",
    "    values='Challenge_participation_count',\n",
    "    color='Challenge_topic',\n",
    "    width=2000,\n",
    "    height=1000,\n",
    ")\n",
    "fig.write_image(os.path.join(\n",
    "    path_challenge, 'Challenge_topic_distribution.png'))"
   ]
  },
  {
   "cell_type": "code",
   "execution_count": 37,
   "metadata": {},
   "outputs": [
    {
     "name": "stdout",
     "output_type": "stream",
     "text": [
      "Topic 0: Environment Setup - Setting up software environments for development and execution\n",
      "Topic 1: Pipeline Automation - Automating the execution of data processing pipelines\n",
      "Topic 2: Docker - Containerization platform for building, shipping, and running applications\n",
      "Topic 3: Hyperparameter Tuning - Optimizing model performance by tuning hyperparameters\n",
      "Topic 4: Git Version Control - Tracking changes to code and collaborating with others\n",
      "Topic 5: GPU Acceleration - Using graphics processing units to speed up machine learning tasks\n",
      "Topic 6: Artifact Management - Managing and storing artifacts such as models, datasets, and code\n",
      "Topic 7: Model Deployment - Deploying machine learning models for use in production environments\n",
      "Topic 8: Data Labeling - Assigning labels to data for use in supervised learning tasks\n",
      "Topic 9: Data Visualization - Creating visual representations of data for analysis and communication\n",
      "Topic 10: Logging Metrics - Recording and tracking performance metrics during model training and evaluation\n",
      "Topic 11: Account Management - Managing user accounts and access to resources\n",
      "Topic 12: Apache Spark - Open-source distributed computing system for big data processing\n",
      "Topic 13: TensorFlow - Open-source machine learning framework for building and training models\n",
      "Topic 14: Text Processing - Analyzing and manipulating text data\n",
      "Topic 15: Pandas DataFrames - Data structure for manipulating and analyzing tabular data\n",
      "Topic 16: Model Export - Saving and exporting trained machine learning models\n",
      "Topic 17: Role-Based Access Control - Controlling access to resources based on user roles and permissions\n",
      "Topic 18: Batch Processing - Processing large amounts of data in batches\n",
      "Topic 19: Model Registry - Managing and versioning machine learning models\n",
      "Topic 20: Database Connectivity - Connecting to and interacting with databases\n",
      "Topic 21: Resource Limitations - Setting and managing limits on resource usage\n",
      "Topic 22: API Invocation - Calling APIs to perform tasks or retrieve data\n",
      "Topic 23: AutoML Forecasting - Using automated machine learning to generate forecasts\n",
      "Topic 24: Column Manipulation - Working with and manipulating columns in datasets\n",
      "Topic 25: Computer Vision - Using machine learning to analyze and interpret visual data\n",
      "Topic 26: Web Service Deployment - Deploying machine learning models as web services\n",
      "Topic 27: Kubernetes - Open-source container orchestration platform for managing containerized applications\n",
      "Topic 28: Random Forest - Ensemble learning method for classification and regression tasks\n",
      "Topic 29: CSV Files - File format for storing and exchanging tabular data\n",
      "Topic 30: TensorBoard Logging - Visualizing and tracking model training and evaluation using TensorBoard\n",
      "Topic 31: Feature Roadmap - Planning and implementing new features for a platform or product\n",
      "Topic 32: Dataset Versioning - Managing and versioning datasets\n",
      "Topic 33: CloudWatch Logging - Monitoring and logging AWS resources and applications\n",
      "Topic 34: Speech-to-Text - Converting audio speech to text\n",
      "Topic 35: YAML Configuration - Using YAML files to configure applications and services\n",
      "Topic 36: Data Storage - Storing and accessing data in cloud-based storage solutions\n",
      "Topic 37: VPC Endpoints - Connecting to AWS services privately through a VPC\n",
      "Topic 38: Model Accuracy - Evaluating and improving the accuracy of machine learning models\n",
      "Topic 39: Model Input - Preparing and querying input data for machine learning models\n",
      "Topic 40: Bucket Access - Managing access to cloud-based storage buckets\n",
      "Topic 41: Run Management - Managing and monitoring the execution of jobs and tasks\n",
      "Topic 42: Model Prediction - Using trained machine learning models to make predictions\n",
      "Topic 43: Notebook Instances - Creating and managing cloud-based notebook instances for data analysis and experimentation\n"
     ]
    }
   ],
   "source": [
    "prompt_topic = '''You will be given a list of keywords for each topic, I want you to provide a description of each topic in a two-word phrase but guarantee that each description is exclusive to the other. Also, for each description, you need to attach short comments on what these keywords are talking about in general.\n",
    "###\\n'''\n",
    "\n",
    "with open(os.path.join(path_challenge, 'Topic terms.pickle'), 'rb') as handle:\n",
    "    topic_terms = pickle.load(handle)\n",
    "\n",
    "topic_term_list = []\n",
    "for index, topic in enumerate(topic_terms):\n",
    "    terms = ', '.join([term[0] for term in topic])\n",
    "    topic_term = f'Topic {index}: {terms}'\n",
    "    topic_term_list.append(topic_term)\n",
    "\n",
    "completion = openai.ChatCompletion.create(\n",
    "    model=\"gpt-3.5-turbo\",\n",
    "    messages=[{\"role\": \"user\", \"content\": prompt_topic +\n",
    "               '\\n'.join(topic_term_list) + '\\n###\\n'}],\n",
    "    temperature=0,\n",
    "    max_tokens=1500,\n",
    "    top_p=1,\n",
    "    frequency_penalty=0,\n",
    "    presence_penalty=0,\n",
    "    timeout=100,\n",
    "    stream=False)\n",
    "\n",
    "topic_challenge = completion.choices[0].message.content\n",
    "print(topic_challenge)\n"
   ]
  },
  {
   "cell_type": "code",
   "execution_count": 24,
   "metadata": {},
   "outputs": [],
   "source": [
    "topic_mapping_challenge = {\n",
    "    0: ('Package Management', 'Installing and configuring software packages and dependencies'),\n",
    "    1: ('Pipeline Configuration', 'Automating the execution of data processing pipelines'),\n",
    "    2: ('Docker Configuration', 'Containerization platform for building, shipping, and running applications'),\n",
    "    3: ('Hyperparameter Tuning', 'Optimizing model performance by tuning hyperparameters'),\n",
    "    4: ('Code Versioning', 'Managing and tracking changes in a repository using Git'),\n",
    "    5: ('GPU Configuration', 'Using graphics processing units to speed up machine learning tasks'),\n",
    "    6: ('Artifact Management', 'Uploading, downloading, and storing artifacts'),\n",
    "    7: ('Endpoint Deployment', 'Deploying machine learning models for use in production environments'),\n",
    "    8: ('Data Labeling', 'Assigning labels to data for use in supervised learning tasks'),\n",
    "    9: ('Data Visualization', 'Creating visual representations of data for analysis and communication'),\n",
    "    10: ('Metrics Logging', 'Recording and tracking performance metrics during model training and evaluation'),\n",
    "    11: ('Account Management', 'Managing user accounts and access to resources'),\n",
    "    12: ('Apache Spark Configuration', 'Installing and configuring Apache Spark distributed computing system for big data processing'),\n",
    "    13: ('TensorFlow Configuration', 'Installing and configuring the TensorFlow machine learning framework'),\n",
    "    14: ('Text Processing', 'Analyzing and manipulating text data'),\n",
    "    15: ('Pandas Dataframe', 'Manipulating and analyzing tabular data using the Pandas library'),\n",
    "    16: ('Model Exporting', 'Saving and exporting trained machine learning models'),\n",
    "    17: ('Role-based Access Control', 'Controlling access to resources based on user roles and permissions'),\n",
    "    18: ('Batch Processing', 'Processing large amounts of data in batches'),\n",
    "    19: ('Model Registry', 'Registering, managing, and versioning models'),\n",
    "    20: ('Database Connectivity', 'Connecting to and interacting with databases'),\n",
    "    21: ('Resource Quota Control', 'Setting and managing limits on resource usage'),\n",
    "    22: ('API Invocation', 'Calling APIs to perform tasks or retrieve data'),\n",
    "    23: ('Forecasting', 'Using automated machine learning to generate forecasts'),\n",
    "    24: ('Columnar Manipulation', 'Working with and manipulating columns in datasets'),\n",
    "    25: ('Object Detection', 'Using machine learning to analyze and interpret visual data'),\n",
    "    26: ('Web Service', 'Deploying machine learning models as web services'),\n",
    "    27: ('Kubernetes Orchestration', 'Open-source container orchestration platform for managing containerized applications'),\n",
    "    28: ('Tree-based Model', 'Building, training, and cutting tree-like structure to make predictions'),\n",
    "    29: ('CSV Manipulation', 'Reading, writing, and manipulating CSV files'),\n",
    "    30: ('TensorBoard Logging', 'Visualizing and tracking model training and evaluation using TensorBoard'),\n",
    "    31: ('Feature Roadmap', 'Planning and implementing new features for a platform or product'),\n",
    "    32: ('Dataset Versioning', 'Managing and versioning datasets'),\n",
    "    33: ('CloudWatch Monitoring', 'Monitoring and logging AWS resources and applications'),\n",
    "    34: ('Speech-to-Text', 'Converting audio speech to text'),\n",
    "    35: ('YAML Configuration', 'Configuring and defining stages in a pipeline using YAML files'),\n",
    "    36: ('Data Storage', 'Storing and accessing data in cloud-based storage solutions'),\n",
    "    37: ('VPC Neworking', 'Connecting to AWS services privately through a VPC'),\n",
    "    38: ('Model Evaluation', 'Evaluating and improving the accuracy of machine learning models'),\n",
    "    39: ('Model Serving', 'Preparing and querying input data for machine learning models'),\n",
    "    40: ('Bucket Access Control', 'Managing access to cloud-based storage buckets'),\n",
    "    41: ('Run Management', 'Managing and monitoring the execution of jobs and tasks'),\n",
    "    42: ('Model Inference', 'Using trained machine learning models to make predictions'),\n",
    "    43: ('Jupyter Notebook', 'Creating and running interactive notebooks for data analysis and visualization'),\n",
    "}\n"
   ]
  },
  {
   "cell_type": "code",
   "execution_count": null,
   "metadata": {},
   "outputs": [
    {
     "name": "stdout",
     "output_type": "stream",
     "text": [
      "Topic 0: Git Tracking - Managing and tracking changes in a repository using Git.\n",
      "Topic 1: Access Control - Managing user roles and permissions for accessing resources.\n",
      "Topic 2: Environment Setup - Installing and configuring software packages and dependencies.\n",
      "Topic 3: Logging Metrics - Capturing and analyzing data related to system performance and behavior.\n",
      "Topic 4: Dataset Management - Organizing and manipulating data for use in machine learning models.\n",
      "Topic 5: Docker Deployment - Packaging and deploying applications in containers using Docker.\n",
      "Topic 6: Parameter Configuration - Setting and adjusting parameters for software programs.\n",
      "Topic 7: YAML Configuration - Configuring and defining stages in a pipeline using YAML files.\n",
      "Topic 8: Endpoint Deployment - Deploying and managing endpoints for accessing APIs and web services.\n",
      "Topic 9: Jupyter Notebooks - Creating and running interactive notebooks for data analysis and visualization.\n",
      "Topic 10: Pandas Dataframes - Manipulating and analyzing tabular data using the Pandas library.\n",
      "Topic 11: TensorFlow Usage - Installing and using the TensorFlow library for machine learning.\n",
      "Topic 12: Artifact Management - Storing and managing files and artifacts for software projects.\n",
      "Topic 13: Model Deployment - Deploying and managing machine learning models in the cloud.\n",
      "Topic 14: Random Forest - Using the random forest algorithm for machine learning tasks.\n",
      "Topic 15: Pipeline Modeling - Building and deploying machine learning pipelines for data processing and analysis.\n",
      "Topic 16: JSON Payloads - Formatting and transmitting data using the JSON data interchange format.\n",
      "Topic 17: Remote Configuration - Configuring and managing remote resources and connections.\n",
      "Topic 18: Spark Computing - Using the Apache Spark framework for distributed computing and data processing.\n",
      "Topic 19: Python Model Implementation - Implementing machine learning models using the Python programming language.\n",
      "Topic 20: Data Upload/Download - Uploading and downloading data files and objects.\n",
      "Topic 21: Cluster Computing - Using clusters of computers for parallel processing and data analysis.\n",
      "Topic 22: Pipeline Data Input - Defining and managing input data for machine learning pipelines.\n",
      "Topic 23: CSV Formatting - Formatting and manipulating data using the CSV file format.\n",
      "Topic 24: Model Registration - Registering and managing machine learning models for use in applications.\n",
      "Topic 25: Memory Management - Managing memory usage and resources for large-scale data processing.\n",
      "Topic 26: Neural Networks - Building and training neural networks for machine learning tasks.\n",
      "Topic 27: SDK Versioning - Managing and updating software development kits for programming languages and frameworks.\n",
      "Topic 28: Lambda Invocation - Invoking and managing AWS Lambda functions for serverless computing and API Gateway.\n"
     ]
    }
   ],
   "source": [
    "prompt_topic = '''You will be given a list of keywords for each topic, I want you to provide a description of each topic in a two-word phrase but guarantee that each description is exclusive to the other. Also, for each description, you need to attach short comments on what these keywords are talking about in general.\n",
    "###\\n'''\n",
    "\n",
    "with open(os.path.join(path_solution, 'Topic terms.pickle'), 'rb') as handle:\n",
    "    topic_terms = pickle.load(handle)\n",
    "\n",
    "topic_term_list = []\n",
    "for index, topic in enumerate(topic_terms):\n",
    "    terms = ', '.join([term[0] for term in topic])\n",
    "    topic_term = f'Topic {index}: {terms}'\n",
    "    topic_term_list.append(topic_term)\n",
    "\n",
    "completion = openai.ChatCompletion.create(\n",
    "    model=\"gpt-3.5-turbo\",\n",
    "    messages=[{\"role\": \"user\", \"content\": prompt_topic +\n",
    "               '\\n'.join(topic_term_list) + '\\n###\\n'}],\n",
    "    temperature=0,\n",
    "    max_tokens=1500,\n",
    "    top_p=1,\n",
    "    frequency_penalty=0,\n",
    "    presence_penalty=0,\n",
    "    timeout=100,\n",
    "    stream=False)\n",
    "\n",
    "topic_solution = completion.choices[0].message.content\n",
    "print(topic_solution)\n"
   ]
  },
  {
   "cell_type": "code",
   "execution_count": 23,
   "metadata": {},
   "outputs": [],
   "source": [
    "topic_mapping_solution = {\n",
    "    0: ('Code Versioning', 'Managing and tracking changes in a repository using Git'),\n",
    "    1: ('Role-based Access Control', 'Controlling access to resources based on user roles and permissions'),\n",
    "    2: ('Package Management', 'Installing and configuring software packages and dependencies'),\n",
    "    3: ('Metrics Logging', 'Recording and tracking performance metrics during model training and evaluation'),\n",
    "    4: ('Columnar Manipulation', 'Working with and manipulating columns in datasets'),\n",
    "    5: ('Docker Configuration', 'Containerization platform for building, shipping, and running applications'),\n",
    "    6: ('Hyperparameter Tuning', 'Optimizing model performance by tuning hyperparameters'),\n",
    "    7: ('YAML Configuration', 'Configuring and defining stages in a pipeline using YAML files'),\n",
    "    8: ('Endpoint Serving', 'Creating, deploying, and managing endpoints for REST and web services'),\n",
    "    9: ('Jupyter Notebook', 'Creating and running interactive notebooks for data analysis and visualization'),\n",
    "    10: ('Pandas Dataframe', 'Manipulating and analyzing tabular data using the Pandas library'),\n",
    "    11: ('TensorFlow Configuration', 'Installing and configuring the TensorFlow machine learning framework'),\n",
    "    12: ('Artifact Management', 'Uploading, downloading, and storing artifacts'),\n",
    "    13: ('Endpoint Deployment', 'Deploying machine learning models for use in production environments'),\n",
    "    14: ('Tree-based Model', 'Building, training, and cutting tree-like structure to make predictions'),\n",
    "    15: ('Pipeline Configuration (Model)', 'Building, inputting, and parameterizing pipelines for API and object use'),\n",
    "    16: ('JSON Payload', 'Formatting, serializing, and loading data'),\n",
    "    17: ('Remote Configuration', 'Adding, modifying, and running remote URLs and resources'),\n",
    "    18: ('Apache Spark Configuration', 'Installing and configuring Apache Spark distributed computing system for big data processing'),\n",
    "    19: ('Model Wrapper', 'Using PyFunc and PythonModel interfaces, importing models, and loading models'),\n",
    "    20: ('Data Transfer', 'Transferring data between cloud-based storage solutions'),\n",
    "    21: ('Cluster Configuration', 'Running and managing distributed computing jobs'),\n",
    "    22: ('Pipeline Configuration (Data)', 'Creating and managing data pipelines'),\n",
    "    23: ('CSV Manipulation', 'Reading, writing, and manipulating CSV files'),\n",
    "    24: ('Model Registry', 'Registering, managing, and versioning models'),\n",
    "    25: ('Memory Management', 'Managing memory and distributing training for large datasets'),\n",
    "    26: ('Model Application', 'Using neural networks for machine learning'),\n",
    "    27: ('SDK Management', 'Managing SDK versions'),\n",
    "    28: ('Serverless Serving', 'Invoking endpoints and APIs using Lambda functions and API gateways'),\n",
    "}"
   ]
  },
  {
   "cell_type": "code",
   "execution_count": 50,
   "metadata": {},
   "outputs": [],
   "source": [
    "topic_ensemble = [\n",
    "    'Account Management',\n",
    "    'Apache Spark Configuration',\n",
    "    'API Invocation',\n",
    "    'Artifact Management',\n",
    "    'Batch Processing',\n",
    "    'Bucket Access Control',\n",
    "    'CloudWatch Monitoring',\n",
    "    'Cluster Configuration',\n",
    "    'Code Versioning',\n",
    "    'Columnar Manipulation',\n",
    "    'CSV Manipulation',\n",
    "    'Data Labeling',\n",
    "    'Data Storage',\n",
    "    'Data Transfer',\n",
    "    'Data Visualization',\n",
    "    'Database Connectivity',\n",
    "    'Dataset Versioning',\n",
    "    'Docker Configuration',\n",
    "    'GPU Configuration',\n",
    "    'Hyperparameter Tuning',\n",
    "    'JSON Payload',\n",
    "    'Jupyter Notebook',\n",
    "    'Kubernetes Orchestration',\n",
    "    'Memory Management',\n",
    "    'Metrics Logging',\n",
    "    'Model Evaluation',\n",
    "    'Model Exporting',\n",
    "    'Model Inference',\n",
    "    'Model Registry',\n",
    "    'Model Serving',\n",
    "    'Endpoint Serving',\n",
    "    'Endpoint Deployment',\n",
    "    'Serverless Serving',\n",
    "    'Pandas Dataframe',\n",
    "    'Pipeline Configuration',\n",
    "    'Pipeline Configuration (Data)',\n",
    "    'Pipeline Configuration (Model)',\n",
    "    'Package Management',\n",
    "    'Remote Configuration',\n",
    "    'Resource Quota Control',\n",
    "    'Role-based Access Control',\n",
    "    'Run Management',\n",
    "    'SDK Management',\n",
    "    'TensorBoard Logging',\n",
    "    'TensorFlow Configuration',\n",
    "    'VPC Networking',\n",
    "    'Web Service',\n",
    "    'YAML Configuration',\n",
    "]\n",
    "\n",
    "topic_ensemble_high_level = [\n",
    "    # All of these words relate to the configuration and management of infrastructure aspects of computer systems and networks. Specifically, they involve setting up and optimizing different components such as processing power, memory, network connections, and software to ensure that they work together efficiently and effectively.\n",
    "    {'Infrastructure Management': ['Apache Spark Configuration', 'Cluster Configuration', 'Docker Configuration', 'GPU Configuration', 'VPC Networking', 'Memory Management',\n",
    "                                   'Remote Configuration', 'Resource Quota Control', 'TensorFlow Configuration', 'Jupyter Notebook', 'Package Management', 'SDK Management', 'YAML Configuration']},\n",
    "    # Code versioning refers to the practice of tracking changes to software code over time.\n",
    "    {'Code Management': ['Code Versioning']},\n",
    "    # These words are all related to data management and analysis. They refer to various tasks and techniques used to organize, manipulate, store, transfer, and analyze data.\n",
    "    {'Data Management': ['Artifact Management', 'Columnar Manipulation', 'CSV Manipulation', 'Data Labeling', 'Data Storage',\n",
    "                         'Data Transfer', 'Data Visualization', 'Database Connectivity', 'Dataset Versioning', 'Pandas Dataframe', 'Batch Processing']},\n",
    "    # All of these words are related to the development and management of machine learning models.\n",
    "    {'Model Management': ['Hyperparameter Tuning',\n",
    "                          'Model Evaluation', 'Model Exporting', 'Model Registry']},\n",
    "    # All of these words are related to the deployment and management of machine learning models or web services.\n",
    "    {'Deployment Management': ['Endpoint Serving', 'Endpoint Deployment', 'Model Serving', 'Model Inference',\n",
    "                               'JSON Payload', 'Web Service', 'Serverless Serving', 'API Invocation']},\n",
    "    # All of these words are related to controlling access to information or resources in a system.\n",
    "    {'Security Management': ['Account Management',\n",
    "                             'Bucket Access Control', 'Role-based Access Control']},\n",
    "    # All of these words are related to monitoring and logging data in various systems.\n",
    "    {'Report Management': ['CloudWatch Monitoring',\n",
    "                           'Metrics Logging', 'TensorBoard Logging', 'Metrics Logging']},\n",
    "    # These words are all related to the management and optimization of data pipelines in software development.\n",
    "    {'Lifecycle Management': ['Pipeline Configuration',\n",
    "                              'Pipeline Configuration (Data)', 'Pipeline Configuration (Model)', 'Run Management', 'Kubernetes Orchestration']},\n",
    "]\n",
    "\n",
    "topic_ensemble_inverse = {}\n",
    "for dictionary in topic_ensemble_high_level:\n",
    "    for key, values in dictionary.items():\n",
    "        for inner_value in values:\n",
    "            topic_ensemble_inverse[inner_value] = key\n",
    "\n",
    "colors = n_colors('rgb(5, 200, 200)', 'rgb(200, 10, 10)',\n",
    "                  len(topic_ensemble_high_level), colortype='rgb')"
   ]
  },
  {
   "cell_type": "code",
   "execution_count": 88,
   "metadata": {},
   "outputs": [],
   "source": [
    "# assign human-readable & high-level topics to challenges & solutions\n",
    "\n",
    "df_topics = pd.read_json(os.path.join(path_general, 'original.json'))\n",
    "\n",
    "for index, row in df_topics.iterrows():\n",
    "    if row['Challenge_topic'] in topic_mapping_challenge:\n",
    "        topic = topic_mapping_challenge[row['Challenge_topic']][0]\n",
    "        if topic in topic_ensemble:\n",
    "            df_topics.at[index, 'Challenge_topic'] = topic\n",
    "            df_topics.at[index, 'Challenge_topic_higher_level'] = topic_ensemble_inverse[topic]\n",
    "        else:\n",
    "            df_topics.drop(index, inplace=True)\n",
    "            continue\n",
    "    else:\n",
    "        df_topics.drop(index, inplace=True)\n",
    "        continue\n",
    "\n",
    "    if row['Solution_topic'] in topic_mapping_solution:\n",
    "        topic = topic_mapping_solution[row['Solution_topic']][0]\n",
    "        df_topics.at[index, 'Solution_topic'] = topic\n",
    "        df_topics.at[index, 'Solution_topic_higher_level'] = topic_ensemble_inverse[topic] if topic in topic_ensemble_inverse else np.nan\n",
    "    else:\n",
    "        df_topics.at[index, 'Solution_topic'] = np.nan\n",
    "        df_topics.at[index, 'Solution_topic_higher_level'] = np.nan\n",
    "\n",
    "df_topics.to_json(os.path.join(path_general, 'assigned.json'),\n",
    "                  indent=4, orient='records')"
   ]
  },
  {
   "cell_type": "code",
   "execution_count": 45,
   "metadata": {},
   "outputs": [],
   "source": [
    "df_topics = pd.read_json(os.path.join(path_general, 'assigned.json'))\n",
    "df_topics = df_topics[df_topics['Solution_topic_higher_level'].notna()]\n",
    "\n",
    "categories = ['Challenge_topic_higher_level', 'Solution_topic_higher_level']\n",
    "df_topics = df_topics.groupby(categories).size().reset_index(name='value')\n",
    "\n",
    "# we only visualize strong connection\n",
    "df_topics = df_topics[df_topics['value'] > 50]\n",
    "\n",
    "newDf = pd.DataFrame()\n",
    "for i in range(len(categories)-1):\n",
    "    tempDf = df_topics[[categories[i], categories[i+1], 'value']]\n",
    "    tempDf.columns = ['source', 'target', 'value']\n",
    "    newDf = pd.concat([newDf, tempDf])\n",
    "newDf = newDf.groupby(['source', 'target']).agg({'value': 'sum'}).reset_index()\n",
    "\n",
    "label = list(np.unique(df_topics[categories].values))\n",
    "source = newDf['source'].apply(lambda x: label.index(x))\n",
    "target = newDf['target'].apply(lambda x: label.index(x))\n",
    "value = newDf['value']\n",
    "\n",
    "link = dict(source=source, target=target, value=value)\n",
    "node = dict()\n",
    "data = go.Sankey(\n",
    "    link=link,\n",
    "    node=dict(\n",
    "        label=label,\n",
    "        thickness=100,\n",
    "        pad=30,\n",
    "    ))\n",
    "\n",
    "fig = go.Figure(data)\n",
    "fig.update_layout(\n",
    "    height=2000,\n",
    "    width=2000,\n",
    "    font=dict(size=20),\n",
    ")\n",
    "fig.write_image(os.path.join(path_general,\n",
    "                'Challenge solution sankey.png'))\n"
   ]
  },
  {
   "cell_type": "code",
   "execution_count": 98,
   "metadata": {},
   "outputs": [
    {
     "name": "stdout",
     "output_type": "stream",
     "text": [
      "p = 0.0, indicating challenge answer count: non-Gaussian\n",
      "p = 1.0, indicating challenge comment count: Gaussian\n",
      "p = 1.0, indicating challenge favorite count: Gaussian\n",
      "p = 1.0, indicating challenge follower count: Gaussian\n",
      "p = 0.0, indicating challenge link count: non-Gaussian\n",
      "p = 0.0, indicating challenge readability: non-Gaussian\n",
      "p = 1.0, indicating challenge score: Gaussian\n",
      "p = 1.0, indicating challenge view count: Gaussian\n",
      "p = 1.244241636330916e-15, indicating challenge information entropy: non-Gaussian\n",
      "p = 0.0, indicating challenge sentence count: non-Gaussian\n",
      "p = 0.0, indicating challenge unique word count: non-Gaussian\n",
      "p = 0.0, indicating challenge word count: non-Gaussian\n",
      "p = 1.0, indicating challenge solved time: Gaussian\n",
      "p = 1.0, indicating challenge adjusted solved time: Gaussian\n"
     ]
    }
   ],
   "source": [
    "# test if a sample comes from normal distribution\n",
    "\n",
    "df = pd.read_json(os.path.join(path_general, 'assigned.json'))\n",
    "\n",
    "_, p = shapiro(df['Challenge_answer_count'])\n",
    "result = 'non-' if p < alpha else ''\n",
    "print(f'p = {p}, indicating challenge answer count: {result}Gaussian')\n",
    "\n",
    "_, p = shapiro(df['Challenge_comment_count'])\n",
    "result = 'non-' if p < alpha else ''\n",
    "print(f'p = {p}, indicating challenge comment count: {result}Gaussian')\n",
    "\n",
    "_, p = shapiro(df['Challenge_favorite_count'])\n",
    "result = 'non-' if p < alpha else ''\n",
    "print(f'p = {p}, indicating challenge favorite count: {result}Gaussian')\n",
    "\n",
    "_, p = shapiro(df['Challenge_follower_count'])\n",
    "result = 'non-' if p < alpha else ''\n",
    "print(f'p = {p}, indicating challenge follower count: {result}Gaussian')\n",
    "\n",
    "_, p = shapiro(df['Challenge_link_count'])\n",
    "result = 'non-' if p < alpha else ''\n",
    "print(f'p = {p}, indicating challenge link count: {result}Gaussian')\n",
    "\n",
    "_, p = shapiro(df['Challenge_readability'])\n",
    "result = 'non-' if p < alpha else ''\n",
    "print(f'p = {p}, indicating challenge readability: {result}Gaussian')\n",
    "\n",
    "_, p = shapiro(df['Challenge_score'])\n",
    "result = 'non-' if p < alpha else ''\n",
    "print(f'p = {p}, indicating challenge score: {result}Gaussian')\n",
    "\n",
    "_, p = shapiro(df['Challenge_view_count'])\n",
    "result = 'non-' if p < alpha else ''\n",
    "print(f'p = {p}, indicating challenge view count: {result}Gaussian')\n",
    "\n",
    "_, p = shapiro(df['Challenge_information_entropy'])\n",
    "result = 'non-' if p < alpha else ''\n",
    "print(f'p = {p}, indicating challenge information entropy: {result}Gaussian')\n",
    "\n",
    "_, p = shapiro(df['Challenge_sentence_count'])\n",
    "result = 'non-' if p < alpha else ''\n",
    "print(f'p = {p}, indicating challenge sentence count: {result}Gaussian')\n",
    "\n",
    "_, p = shapiro(df['Challenge_unique_word_count'])\n",
    "result = 'non-' if p < alpha else ''\n",
    "print(f'p = {p}, indicating challenge unique word count: {result}Gaussian')\n",
    "\n",
    "_, p = shapiro(df['Challenge_word_count'])\n",
    "result = 'non-' if p < alpha else ''\n",
    "print(f'p = {p}, indicating challenge word count: {result}Gaussian')\n",
    "\n",
    "_, p = shapiro(df['Challenge_solved_time'])\n",
    "result = 'non-' if p < alpha else ''\n",
    "print(f'p = {p}, indicating challenge solved time: {result}Gaussian')\n",
    "\n",
    "_, p = shapiro(df['Challenge_adjusted_solved_time'])\n",
    "result = 'non-' if p < alpha else ''\n",
    "print(f'p = {p}, indicating challenge adjusted solved time: {result}Gaussian')\n"
   ]
  },
  {
   "cell_type": "code",
   "execution_count": 99,
   "metadata": {},
   "outputs": [
    {
     "name": "stdout",
     "output_type": "stream",
     "text": [
      "At least the challenge answer count of one topic is significantly different from the others\n",
      "At least the challenge link count of one topic is significantly different from the others\n",
      "At least the challenge readability of one topic is significantly different from the others\n",
      "At least the challenge information entropy of one topic is significantly different from the others\n",
      "At least the challenge sentence count of one topic is significantly different from the others\n",
      "At least the challenge unique word count of one topic is significantly different from the others\n",
      "At least the challenge word count of one topic is significantly different from the others\n"
     ]
    }
   ],
   "source": [
    "# conduct Kruskal–Wallis test to check if various metrics differ significantly across topics\n",
    "\n",
    "df = pd.read_json(os.path.join(path_general, 'assigned.json'))\n",
    "\n",
    "groups = df['Challenge_topic_higher_level'].unique()\n",
    "data = [df[df['Challenge_topic_higher_level'] == group]\n",
    "        ['Challenge_answer_count'] for group in groups]\n",
    "_, p = kruskal(*data)\n",
    "if p < alpha:\n",
    "    print('At least the challenge answer count of one topic is significantly different from the others')\n",
    "\n",
    "groups = df['Challenge_topic_higher_level'].unique()\n",
    "data = [df[df['Challenge_topic_higher_level'] == group]\n",
    "        ['Challenge_comment_count'] for group in groups]\n",
    "_, p = kruskal(*data)\n",
    "if p < alpha:\n",
    "    print('At least the challenge comment count of one topic is significantly different from the others')\n",
    "\n",
    "groups = df['Challenge_topic_higher_level'].unique()\n",
    "data = [df[df['Challenge_topic_higher_level'] == group]\n",
    "        ['Challenge_favorite_count'] for group in groups]\n",
    "_, p = kruskal(*data)\n",
    "if p < alpha:\n",
    "    print('At least the challenge favorite count of one topic is significantly different from the others')\n",
    "\n",
    "groups = df['Challenge_topic_higher_level'].unique()\n",
    "data = [df[df['Challenge_topic_higher_level'] == group]\n",
    "        ['Challenge_follower_count'] for group in groups]\n",
    "_, p = kruskal(*data)\n",
    "if p < alpha:\n",
    "    print('At least the challenge follower count of one topic is significantly different from the others')\n",
    "\n",
    "groups = df['Challenge_topic_higher_level'].unique()\n",
    "data = [df[df['Challenge_topic_higher_level'] == group]\n",
    "        ['Challenge_link_count'] for group in groups]\n",
    "_, p = kruskal(*data)\n",
    "if p < alpha:\n",
    "    print('At least the challenge link count of one topic is significantly different from the others')\n",
    "\n",
    "groups = df['Challenge_topic_higher_level'].unique()\n",
    "data = [df[df['Challenge_topic_higher_level'] == group]\n",
    "        ['Challenge_readability'] for group in groups]\n",
    "_, p = kruskal(*data)\n",
    "if p < alpha:\n",
    "    print('At least the challenge readability of one topic is significantly different from the others')\n",
    "\n",
    "groups = df['Challenge_topic_higher_level'].unique()\n",
    "data = [df[df['Challenge_topic_higher_level'] == group]\n",
    "        ['Challenge_score'] for group in groups]\n",
    "_, p = kruskal(*data)\n",
    "if p < alpha:\n",
    "    print('At least the challenge score of one topic is significantly different from the others')\n",
    "\n",
    "groups = df['Challenge_topic_higher_level'].unique()\n",
    "data = [df[df['Challenge_topic_higher_level'] == group]\n",
    "        ['Challenge_information_entropy'] for group in groups]\n",
    "_, p = kruskal(*data)\n",
    "if p < alpha:\n",
    "    print('At least the challenge information entropy of one topic is significantly different from the others')\n",
    "\n",
    "groups = df['Challenge_topic_higher_level'].unique()\n",
    "data = [df[df['Challenge_topic_higher_level'] == group]\n",
    "        ['Challenge_sentence_count'] for group in groups]\n",
    "_, p = kruskal(*data)\n",
    "if p < alpha:\n",
    "    print('At least the challenge sentence count of one topic is significantly different from the others')\n",
    "\n",
    "groups = df['Challenge_topic_higher_level'].unique()\n",
    "data = [df[df['Challenge_topic_higher_level'] == group]\n",
    "        ['Challenge_view_count'] for group in groups]\n",
    "_, p = kruskal(*data)\n",
    "if p < alpha:\n",
    "    print('At least the challenge view count of one topic is significantly different from the others')\n",
    "\n",
    "groups = df['Challenge_topic_higher_level'].unique()\n",
    "data = [df[df['Challenge_topic_higher_level'] == group]\n",
    "        ['Challenge_unique_word_count'] for group in groups]\n",
    "_, p = kruskal(*data)\n",
    "if p < alpha:\n",
    "    print('At least the challenge unique word count of one topic is significantly different from the others')\n",
    "\n",
    "groups = df['Challenge_topic_higher_level'].unique()\n",
    "data = [df[df['Challenge_topic_higher_level'] == group]\n",
    "        ['Challenge_word_count'] for group in groups]\n",
    "_, p = kruskal(*data)\n",
    "if p < alpha:\n",
    "    print('At least the challenge word count of one topic is significantly different from the others')\n",
    "\n",
    "groups = df['Challenge_topic_higher_level'].unique()\n",
    "data = [df[df['Challenge_topic_higher_level'] == group]\n",
    "        ['Challenge_solved_time'] for group in groups]\n",
    "_, p = kruskal(*data)\n",
    "if p < alpha:\n",
    "    print('At least the challenge solved time of one topic is significantly different from the others')\n",
    "\n",
    "groups = df['Challenge_topic_higher_level'].unique()\n",
    "data = [df[df['Challenge_topic_higher_level'] == group]\n",
    "        ['Challenge_adjusted_solved_time'] for group in groups]\n",
    "_, p = kruskal(*data)\n",
    "if p < alpha:\n",
    "    print('At least the challenge adjusted solved time of one topic is significantly different from the others')"
   ]
  },
  {
   "cell_type": "code",
   "execution_count": 100,
   "metadata": {},
   "outputs": [
    {
     "name": "stdout",
     "output_type": "stream",
     "text": [
      "p = 2.9525342278607865e-08, indicating different distribution of Q&A fora vs Git repos challenge regarding higher level topic Code Management in challenge score\n",
      "p = 3.413022979620236e-06, indicating different distribution of Q&A fora vs Git repos challenge regarding higher level topic Code Management in challenge readability\n",
      "p = 0.013828080380161572, indicating different distribution of Q&A fora vs Git repos challenge regarding higher level topic Code Management in challenge answer count\n",
      "p = 1.3297136900178895e-05, indicating different distribution of Q&A fora vs Git repos challenge regarding higher level topic Data Management in challenge score\n",
      "p = 6.799266444675269e-07, indicating different distribution of Q&A fora vs Git repos challenge regarding higher level topic Data Management in challenge readability\n",
      "p = 0.01339206263312274, indicating different distribution of Q&A fora vs Git repos challenge regarding higher level topic Deployment Management in challenge score\n",
      "p = 0.014976023050720533, indicating different distribution of Q&A fora vs Git repos challenge regarding higher level topic Deployment Management in challenge link count\n",
      "p = 0.00679474968064427, indicating different distribution of Q&A fora vs Git repos challenge regarding higher level topic Deployment Management in challenge readability\n",
      "p = 0.008026678119967122, indicating different distribution of Q&A fora vs Git repos challenge regarding higher level topic Deployment Management in challenge answer count\n",
      "p = 9.90219594254615e-13, indicating different distribution of Q&A fora vs Git repos challenge regarding higher level topic Infrastructure Management in challenge score\n",
      "p = 3.986759560494863e-05, indicating different distribution of Q&A fora vs Git repos challenge regarding higher level topic Infrastructure Management in challenge link count\n",
      "p = 2.0500094074583752e-16, indicating different distribution of Q&A fora vs Git repos challenge regarding higher level topic Infrastructure Management in challenge readability\n",
      "p = 4.1142989986712826e-05, indicating different distribution of Q&A fora vs Git repos challenge regarding higher level topic Infrastructure Management in challenge answer count\n",
      "p = 5.467811246324229e-09, indicating different distribution of Q&A fora vs Git repos challenge regarding higher level topic Lifecycle Management in challenge score\n",
      "p = 0.0020626369127927187, indicating different distribution of Q&A fora vs Git repos challenge regarding higher level topic Lifecycle Management in challenge link count\n",
      "p = 2.4343932692642946e-06, indicating different distribution of Q&A fora vs Git repos challenge regarding higher level topic Lifecycle Management in challenge readability\n",
      "p = 0.016021928471680446, indicating different distribution of Q&A fora vs Git repos challenge regarding higher level topic Lifecycle Management in challenge answer count\n",
      "p = 1.6396709451056327e-05, indicating different distribution of Q&A fora vs Git repos challenge regarding higher level topic Model Management in challenge score\n",
      "p = 2.5104525172121535e-05, indicating different distribution of Q&A fora vs Git repos challenge regarding higher level topic Model Management in challenge readability\n",
      "p = 0.002685621805030144, indicating different distribution of Q&A fora vs Git repos challenge regarding higher level topic Model Management in challenge answer count\n",
      "p = 4.8133264117529145e-05, indicating different distribution of Q&A fora vs Git repos challenge regarding higher level topic Report Management in challenge score\n",
      "p = 1.0935687949816374e-07, indicating different distribution of Q&A fora vs Git repos challenge regarding higher level topic Report Management in challenge readability\n",
      "p = 0.00524648566375604, indicating different distribution of Q&A fora vs Git repos challenge regarding higher level topic Security Management in challenge score\n",
      "p = 0.0001554001554001554, indicating different distribution of Q&A fora vs Git repos in higher level mean challenge solved time\n",
      "p = 0.0001554001554001554, indicating different distribution of Q&A fora vs Git repos in higher level median challenge solved time\n",
      "p = 0.006993006993006993, indicating different distribution of Q&A fora vs Git repos in higher level adjusted mean challenge solved time\n",
      "p = 0.0001554001554001554, indicating different distribution of Q&A fora vs Git repos in higher level adjusted median challenge solved time\n"
     ]
    }
   ],
   "source": [
    "# Collect and compared Q&A forum and Git repo challenges across different topics\n",
    "\n",
    "df = pd.read_json(os.path.join(path_general, 'assigned.json'))\n",
    "\n",
    "df_qa = df[df['Platform'].isin(['Stack Overflow', 'Tool-specific'])]\n",
    "df_git = df[df['Platform'].isin(['Github', 'Gitlab'])]\n",
    "\n",
    "# Challenge topic count\n",
    "fig_challenge_count = go.Figure()\n",
    "fig_challenge_count.add_trace(\n",
    "    go.Violin(\n",
    "        x=np.full(len(df_qa), 'Challenge topic count (higher level)'),\n",
    "        y=df_qa['Challenge_topic_higher_level'],\n",
    "        opacity=0.5,\n",
    "        name='QA',\n",
    "    ))\n",
    "fig_challenge_count.add_trace(\n",
    "    go.Violin(\n",
    "        x=np.full(len(df_git), 'Challenge topic count (higher level)'),\n",
    "        y=df_git['Challenge_topic_higher_level'],\n",
    "        opacity=0.5,\n",
    "        name='Git',\n",
    "    ))\n",
    "fig_challenge_count.update_layout(\n",
    "    height=1000,\n",
    "    width=2000,\n",
    "    font=dict(size=20),\n",
    "    margin=dict(l=0, r=0, t=0, b=0),\n",
    "    violingap=0,\n",
    "    violinmode='overlay',\n",
    ")\n",
    "fig_challenge_count.write_image(os.path.join(\n",
    "    path_challenge_git_qa, 'Challenge count.png'))\n",
    "\n",
    "# Challenge score\n",
    "fig_challenge_score = go.Figure()\n",
    "fig_challenge_score.add_trace(\n",
    "    go.Violin(\n",
    "        x=df_qa['Challenge_topic_higher_level'],\n",
    "        y=df_qa['Challenge_score'],\n",
    "        meanline_visible=True,\n",
    "        line_color='blue',\n",
    "        side='positive',\n",
    "        opacity=0.5,\n",
    "        legendgroup='QA',\n",
    "        scalegroup='QA',\n",
    "        name='QA',\n",
    "    ))\n",
    "fig_challenge_score.add_trace(\n",
    "    go.Violin(\n",
    "        x=df_git['Challenge_topic_higher_level'],\n",
    "        y=df_git['Challenge_score'],\n",
    "        meanline_visible=True,\n",
    "        line_color='orange',\n",
    "        side='negative',\n",
    "        opacity=0.5,\n",
    "        legendgroup='Git',\n",
    "        scalegroup='Git',\n",
    "        name='Git',\n",
    "    ))\n",
    "fig_challenge_score.update_layout(\n",
    "    height=1000,\n",
    "    width=2000,\n",
    "    font=dict(size=20),\n",
    "    margin=dict(l=0, r=0, t=0, b=0),\n",
    "    violingap=0,\n",
    "    violinmode='overlay',\n",
    ")\n",
    "fig_challenge_score.write_image(os.path.join(\n",
    "    path_challenge_git_qa, 'Challenge score.png'))\n",
    "\n",
    "# Challenge favorite count\n",
    "fig_challenge_favorite_count = go.Figure()\n",
    "fig_challenge_favorite_count.add_trace(\n",
    "    go.Violin(\n",
    "        x=df_qa['Challenge_topic_higher_level'],\n",
    "        y=df_qa['Challenge_favorite_count'],\n",
    "        meanline_visible=True,\n",
    "        line_color='blue',\n",
    "        side='positive',\n",
    "        opacity=0.5,\n",
    "        legendgroup='QA',\n",
    "        scalegroup='QA',\n",
    "        name='QA',\n",
    "    ))\n",
    "fig_challenge_favorite_count.add_trace(\n",
    "    go.Violin(\n",
    "        x=df_git['Challenge_topic_higher_level'],\n",
    "        y=df_git['Challenge_favorite_count'],\n",
    "        meanline_visible=True,\n",
    "        line_color='orange',\n",
    "        side='negative',\n",
    "        opacity=0.5,\n",
    "        legendgroup='Git',\n",
    "        scalegroup='Git',\n",
    "        name='Git',\n",
    "    ))\n",
    "fig_challenge_favorite_count.update_layout(\n",
    "    height=1000,\n",
    "    width=2000,\n",
    "    font=dict(size=20),\n",
    "    margin=dict(l=0, r=0, t=0, b=0),\n",
    "    violingap=0,\n",
    "    violinmode='overlay',\n",
    ")\n",
    "fig_challenge_favorite_count.write_image(os.path.join(\n",
    "    path_challenge_git_qa, 'Challenge favorite count.png'))\n",
    "\n",
    "# Challenge follower count\n",
    "fig_challenge_follower_count = go.Figure()\n",
    "fig_challenge_follower_count.add_trace(\n",
    "    go.Violin(\n",
    "        x=df_qa['Challenge_topic_higher_level'],\n",
    "        y=df_qa['Challenge_follower_count'],\n",
    "        meanline_visible=True,\n",
    "        line_color='blue',\n",
    "        side='positive',\n",
    "        opacity=0.5,\n",
    "        legendgroup='QA',\n",
    "        scalegroup='QA',\n",
    "        name='QA',\n",
    "    ))\n",
    "fig_challenge_follower_count.add_trace(\n",
    "    go.Violin(\n",
    "        x=df_git['Challenge_topic_higher_level'],\n",
    "        y=df_git['Challenge_follower_count'],\n",
    "        meanline_visible=True,\n",
    "        line_color='orange',\n",
    "        side='negative',\n",
    "        opacity=0.5,\n",
    "        legendgroup='Git',\n",
    "        scalegroup='Git',\n",
    "        name='Git',\n",
    "    ))\n",
    "fig_challenge_follower_count.update_layout(\n",
    "    height=1000,\n",
    "    width=2000,\n",
    "    font=dict(size=20),\n",
    "    margin=dict(l=0, r=0, t=0, b=0),\n",
    "    violingap=0,\n",
    "    violinmode='overlay',\n",
    ")\n",
    "fig_challenge_follower_count.write_image(os.path.join(\n",
    "    path_challenge_git_qa, 'Challenge follower count.png'))\n",
    "\n",
    "# Challenge link count\n",
    "fig_challenge_link_count = go.Figure()\n",
    "fig_challenge_link_count.add_trace(\n",
    "    go.Violin(\n",
    "        x=df_qa['Challenge_topic_higher_level'],\n",
    "        y=df_qa['Challenge_link_count'],\n",
    "        meanline_visible=True,\n",
    "        line_color='blue',\n",
    "        side='positive',\n",
    "        opacity=0.5,\n",
    "        legendgroup='QA',\n",
    "        scalegroup='QA',\n",
    "        name='QA',\n",
    "    ))\n",
    "fig_challenge_link_count.add_trace(\n",
    "    go.Violin(\n",
    "        x=df_git['Challenge_topic_higher_level'],\n",
    "        y=df_git['Challenge_link_count'],\n",
    "        meanline_visible=True,\n",
    "        line_color='orange',\n",
    "        side='negative',\n",
    "        opacity=0.5,\n",
    "        legendgroup='Git',\n",
    "        scalegroup='Git',\n",
    "        name='Git',\n",
    "    ))\n",
    "fig_challenge_link_count.update_layout(\n",
    "    height=1000,\n",
    "    width=2000,\n",
    "    font=dict(size=20),\n",
    "    margin=dict(l=0, r=0, t=0, b=0),\n",
    "    violingap=0,\n",
    "    violinmode='overlay',\n",
    ")\n",
    "fig_challenge_link_count.write_image(os.path.join(\n",
    "    path_challenge_git_qa, 'Challenge link count.png'))\n",
    "\n",
    "# Challenge readability\n",
    "fig_challenge_readability = go.Figure()\n",
    "fig_challenge_readability.add_trace(\n",
    "    go.Violin(\n",
    "        x=df_qa['Challenge_topic_higher_level'],\n",
    "        y=df_qa['Challenge_readability'],\n",
    "        meanline_visible=True,\n",
    "        line_color='blue',\n",
    "        side='positive',\n",
    "        opacity=0.5,\n",
    "        legendgroup='QA',\n",
    "        scalegroup='QA',\n",
    "        name='QA',\n",
    "    ))\n",
    "fig_challenge_readability.add_trace(\n",
    "    go.Violin(\n",
    "        x=df_git['Challenge_topic_higher_level'],\n",
    "        y=df_git['Challenge_readability'],\n",
    "        meanline_visible=True,\n",
    "        line_color='orange',\n",
    "        side='negative',\n",
    "        opacity=0.5,\n",
    "        legendgroup='Git',\n",
    "        scalegroup='Git',\n",
    "        name='Git',\n",
    "    ))\n",
    "fig_challenge_readability.update_layout(\n",
    "    height=1000,\n",
    "    width=2000,\n",
    "    font=dict(size=20),\n",
    "    margin=dict(l=0, r=0, t=0, b=0),\n",
    "    violingap=0,\n",
    "    violinmode='overlay',\n",
    ")\n",
    "fig_challenge_readability.write_image(os.path.join(\n",
    "    path_challenge_git_qa, 'Challenge readability.png'))\n",
    "\n",
    "# Challenge view count\n",
    "fig_challenge_view_count = go.Figure()\n",
    "fig_challenge_view_count.add_trace(\n",
    "    go.Violin(\n",
    "        x=df_qa['Challenge_topic_higher_level'],\n",
    "        y=df_qa['Challenge_view_count'],\n",
    "        meanline_visible=True,\n",
    "        line_color='blue',\n",
    "        side='positive',\n",
    "        opacity=0.5,\n",
    "        legendgroup='QA',\n",
    "        scalegroup='QA',\n",
    "        name='QA',\n",
    "    ))\n",
    "fig_challenge_view_count.add_trace(\n",
    "    go.Violin(\n",
    "        x=df_git['Challenge_topic_higher_level'],\n",
    "        y=df_git['Challenge_view_count'],\n",
    "        meanline_visible=True,\n",
    "        line_color='orange',\n",
    "        side='negative',\n",
    "        opacity=0.5,\n",
    "        legendgroup='Git',\n",
    "        scalegroup='Git',\n",
    "        name='Git',\n",
    "    ))\n",
    "fig_challenge_view_count.update_layout(\n",
    "    height=1000,\n",
    "    width=2000,\n",
    "    font=dict(size=20),\n",
    "    margin=dict(l=0, r=0, t=0, b=0),\n",
    "    violingap=0,\n",
    "    violinmode='overlay',\n",
    ")\n",
    "fig_challenge_view_count.write_image(os.path.join(\n",
    "    path_challenge_git_qa, 'Challenge view count.png'))\n",
    "\n",
    "# Challenge answer count\n",
    "fig_challenge_answer_count = go.Figure()\n",
    "fig_challenge_answer_count.add_trace(\n",
    "    go.Violin(\n",
    "        x=df_qa['Challenge_topic_higher_level'],\n",
    "        y=df_qa['Challenge_answer_count'],\n",
    "        meanline_visible=True,\n",
    "        line_color='blue',\n",
    "        side='positive',\n",
    "        opacity=0.5,\n",
    "        legendgroup='QA',\n",
    "        scalegroup='QA',\n",
    "        name='QA',\n",
    "    ))\n",
    "fig_challenge_answer_count.add_trace(\n",
    "    go.Violin(\n",
    "        x=df_git['Challenge_topic_higher_level'],\n",
    "        y=df_git['Challenge_answer_count'],\n",
    "        meanline_visible=True,\n",
    "        line_color='orange',\n",
    "        side='negative',\n",
    "        opacity=0.5,\n",
    "        legendgroup='Git',\n",
    "        scalegroup='Git',\n",
    "        name='Git',\n",
    "    ))\n",
    "fig_challenge_answer_count.update_layout(\n",
    "    height=1000,\n",
    "    width=2000,\n",
    "    font=dict(size=20),\n",
    "    margin=dict(l=0, r=0, t=0, b=0),\n",
    "    violingap=0,\n",
    "    violinmode='overlay',\n",
    ")\n",
    "fig_challenge_answer_count.write_image(os.path.join(\n",
    "    path_challenge_git_qa, 'Challenge answer count.png'))\n",
    "\n",
    "# Challenge comment count\n",
    "fig_challenge_comment_count = go.Figure()\n",
    "fig_challenge_comment_count.add_trace(\n",
    "    go.Violin(\n",
    "        x=df_qa['Challenge_topic_higher_level'],\n",
    "        y=df_qa['Challenge_comment_count'],\n",
    "        meanline_visible=True,\n",
    "        line_color='blue',\n",
    "        side='positive',\n",
    "        opacity=0.5,\n",
    "        legendgroup='QA',\n",
    "        scalegroup='QA',\n",
    "        name='QA',\n",
    "    ))\n",
    "fig_challenge_comment_count.add_trace(\n",
    "    go.Violin(\n",
    "        x=df_git['Challenge_topic_higher_level'],\n",
    "        y=df_git['Challenge_comment_count'],\n",
    "        meanline_visible=True,\n",
    "        line_color='orange',\n",
    "        side='negative',\n",
    "        opacity=0.5,\n",
    "        legendgroup='Git',\n",
    "        scalegroup='Git',\n",
    "        name='Git',\n",
    "    ))\n",
    "fig_challenge_comment_count.update_layout(\n",
    "    height=1000,\n",
    "    width=2000,\n",
    "    font=dict(size=20),\n",
    "    margin=dict(l=0, r=0, t=0, b=0),\n",
    "    violingap=0,\n",
    "    violinmode='overlay',\n",
    ")\n",
    "fig_challenge_comment_count.write_image(os.path.join(\n",
    "    path_challenge_git_qa, 'Challenge comment count.png'))\n",
    "\n",
    "fig_challenge_solved_time_git = go.Figure()\n",
    "fig_challenge_solved_time_qa = go.Figure()\n",
    "fig_challenge_adjusted_solved_time_git = go.Figure()\n",
    "fig_challenge_adjusted_solved_time_qa = go.Figure()\n",
    "\n",
    "for name_group, color in zip(df_challenge.groupby('Challenge_topic_higher_level'), colors):\n",
    "    name, group = name_group\n",
    "    qa = group[group['Platform'].isin(['Stack Overflow', 'Tool-specific'])]\n",
    "    git = group[group['Platform'].isin(['Github', 'Gitlab'])]\n",
    "\n",
    "    fig_challenge_solved_time_git.add_trace(go.Violin(\n",
    "        x=git['Challenge_solved_time'], y=git['Challenge_topic_higher_level'], line_color=color))\n",
    "    fig_challenge_solved_time_qa.add_trace(go.Violin(\n",
    "        x=qa['Challenge_solved_time'], y=qa['Challenge_topic_higher_level'], line_color=color))\n",
    "    fig_challenge_adjusted_solved_time_git.add_trace(go.Violin(\n",
    "        x=git['Challenge_adjusted_solved_time'], y=git['Challenge_topic_higher_level'], line_color=color))\n",
    "    fig_challenge_adjusted_solved_time_qa.add_trace(go.Violin(\n",
    "        x=qa['Challenge_adjusted_solved_time'], y=qa['Challenge_topic_higher_level'], line_color=color))\n",
    "\n",
    "    # Challenge score\n",
    "    challenge_score_qa = qa[qa['Challenge_score'].notna(\n",
    "    )]['Challenge_score']\n",
    "    challenge_score_git = git[git['Challenge_score'].notna(\n",
    "    )]['Challenge_score']\n",
    "    if len(challenge_score_qa) * len(challenge_score_git) > 0:\n",
    "        _, p = mannwhitneyu(challenge_score_qa, challenge_score_git)\n",
    "        if p < alpha:\n",
    "            print(\n",
    "                f'p = {p}, indicating different distribution of Q&A fora vs Git repos challenge regarding higher level topic {name} in challenge score')\n",
    "\n",
    "    # Challenge favorite count\n",
    "    challenge_favorite_count_qa = qa[qa['Challenge_favorite_count'].notna(\n",
    "    )]['Challenge_favorite_count']\n",
    "    challenge_favorite_count_git = git[git['Challenge_favorite_count'].notna(\n",
    "    )]['Challenge_favorite_count']\n",
    "    if len(challenge_favorite_count_qa) * len(challenge_favorite_count_git) > 0:\n",
    "        _, p = mannwhitneyu(challenge_favorite_count_qa,\n",
    "                            challenge_favorite_count_git)\n",
    "        if p < alpha:\n",
    "            print(\n",
    "                f'p = {p}, indicating different distribution of Q&A fora vs Git repos challenge regarding higher level topic {name} in challenge favorite count')\n",
    "\n",
    "    # Challenge follower count\n",
    "    challenge_follower_count_qa = qa[qa['Challenge_follower_count'].notna(\n",
    "    )]['Challenge_follower_count']\n",
    "    challenge_follower_count_git = git[git['Challenge_follower_count'].notna(\n",
    "    )]['Challenge_follower_count']\n",
    "    if len(challenge_follower_count_qa) * len(challenge_follower_count_git) > 0:\n",
    "        _, p = mannwhitneyu(challenge_follower_count_qa,\n",
    "                            challenge_follower_count_git)\n",
    "        if p < alpha:\n",
    "            print(\n",
    "                f'p = {p}, indicating different distribution of Q&A fora vs Git repos challenge regarding higher level topic {name} in challenge follower count')\n",
    "\n",
    "    # Challenge link count\n",
    "    challenge_link_count_qa = qa[qa['Challenge_link_count'].notna(\n",
    "    )]['Challenge_link_count']\n",
    "    challenge_link_count_git = git[git['Challenge_link_count'].notna(\n",
    "    )]['Challenge_link_count']\n",
    "    if len(challenge_link_count_qa) * len(challenge_link_count_git) > 0:\n",
    "        _, p = mannwhitneyu(challenge_link_count_qa, challenge_link_count_git)\n",
    "        if p < alpha:\n",
    "            print(\n",
    "                f'p = {p}, indicating different distribution of Q&A fora vs Git repos challenge regarding higher level topic {name} in challenge link count')\n",
    "\n",
    "    # Challenge readability\n",
    "    challenge_readability_qa = qa[qa['Challenge_readability'].notna(\n",
    "    )]['Challenge_readability']\n",
    "    challenge_readability_git = git[git['Challenge_readability'].notna(\n",
    "    )]['Challenge_readability']\n",
    "    if len(challenge_readability_qa) * len(challenge_readability_git) > 0:\n",
    "        _, p = mannwhitneyu(challenge_readability_qa,\n",
    "                            challenge_readability_git)\n",
    "        if p < alpha:\n",
    "            print(\n",
    "                f'p = {p}, indicating different distribution of Q&A fora vs Git repos challenge regarding higher level topic {name} in challenge readability')\n",
    "\n",
    "    # Challenge view count\n",
    "    challenge_view_count_qa = qa[qa['Challenge_view_count'].notna(\n",
    "    )]['Challenge_view_count']\n",
    "    challenge_view_count_git = git[git['Challenge_view_count'].notna(\n",
    "    )]['Challenge_view_count']\n",
    "    if len(challenge_view_count_qa) * len(challenge_view_count_git) > 0:\n",
    "        _, p = mannwhitneyu(challenge_view_count_qa,\n",
    "                            challenge_view_count_git)\n",
    "        if p < alpha:\n",
    "            print(\n",
    "                f'p = {p}, indicating different distribution of Q&A fora vs Git repos challenge regarding higher level topic {name} in challenge answer count')\n",
    "\n",
    "    # Challenge answer count\n",
    "    challenge_answer_count_qa = qa[qa['Challenge_answer_count'].notna(\n",
    "    )]['Challenge_answer_count']\n",
    "    challenge_answer_count_git = git[git['Challenge_answer_count'].notna(\n",
    "    )]['Challenge_answer_count']\n",
    "    if len(challenge_answer_count_qa) * len(challenge_answer_count_git) > 0:\n",
    "        _, p = mannwhitneyu(challenge_answer_count_qa,\n",
    "                            challenge_answer_count_git)\n",
    "        if p < alpha:\n",
    "            print(\n",
    "                f'p = {p}, indicating different distribution of Q&A fora vs Git repos challenge regarding higher level topic {name} in challenge answer count')\n",
    "\n",
    "    # Challenge comment count\n",
    "    challenge_comment_count_qa = qa[qa['Challenge_comment_count'].notna(\n",
    "    )]['Challenge_comment_count']\n",
    "    challenge_comment_count_git = git[git['Challenge_comment_count'].notna(\n",
    "    )]['Challenge_comment_count']\n",
    "    if len(challenge_comment_count_qa) * len(challenge_comment_count_git) > 0:\n",
    "        _, p = mannwhitneyu(challenge_comment_count_qa,\n",
    "                            challenge_comment_count_git)\n",
    "        if p < alpha:\n",
    "            print(\n",
    "                f'p = {p}, indicating different distribution of Q&A fora vs Git repos challenge regarding higher level topic {name} in challenge comment count')\n",
    "\n",
    "fig_challenge_solved_time_git.update_traces(\n",
    "    orientation='h', meanline_visible=True, side='positive', width=3, points=False)\n",
    "fig_challenge_solved_time_git.update_layout(\n",
    "    height=1000,\n",
    "    width=2000,\n",
    "    font=dict(size=20),\n",
    "    margin=dict(l=0, r=0, t=0, b=0),\n",
    "    violingap=0,\n",
    "    violinmode='overlay',\n",
    "    xaxis_showgrid=False,\n",
    "    xaxis_zeroline=False,\n",
    "    showlegend=False,\n",
    "    xaxis_title='Challenge solved time (hours) - Git',\n",
    ")\n",
    "fig_challenge_solved_time_git.write_image(os.path.join(\n",
    "    path_challenge_git_qa, 'Challenge solved time (Git).png'))\n",
    "\n",
    "fig_challenge_solved_time_qa.update_traces(\n",
    "    orientation='h', meanline_visible=True, side='positive', width=3, points=False)\n",
    "fig_challenge_solved_time_qa.update_layout(\n",
    "    height=1000,\n",
    "    width=2000,\n",
    "    font=dict(size=20),\n",
    "    margin=dict(l=0, r=0, t=0, b=0),\n",
    "    violingap=0,\n",
    "    violinmode='overlay',\n",
    "    xaxis_showgrid=False,\n",
    "    xaxis_zeroline=False,\n",
    "    showlegend=False,\n",
    "    xaxis_title='Challenge solved time (hours) - QA',\n",
    ")\n",
    "fig_challenge_solved_time_qa.write_image(os.path.join(\n",
    "    path_challenge_git_qa, 'Challenge solved time (QA).png'))\n",
    "\n",
    "fig_challenge_adjusted_solved_time_git.update_traces(\n",
    "    orientation='h', meanline_visible=True, side='positive', width=3, points=False)\n",
    "fig_challenge_adjusted_solved_time_git.update_layout(\n",
    "    height=1000,\n",
    "    width=2000,\n",
    "    font=dict(size=20),\n",
    "    margin=dict(l=0, r=0, t=0, b=0),\n",
    "    violingap=0,\n",
    "    violinmode='overlay',\n",
    "    xaxis_showgrid=False,\n",
    "    xaxis_zeroline=False,\n",
    "    showlegend=False,\n",
    "    xaxis_title='Challenge adjusted solved time (hours) - Git',\n",
    ")\n",
    "fig_challenge_adjusted_solved_time_git.write_image(os.path.join(\n",
    "    path_challenge_git_qa, 'Challenge adjusted solved time (Git).png'))\n",
    "\n",
    "fig_challenge_adjusted_solved_time_qa.update_traces(\n",
    "    orientation='h', meanline_visible=True, side='positive', width=3, points=False)\n",
    "fig_challenge_adjusted_solved_time_qa.update_layout(\n",
    "    height=1000,\n",
    "    width=2000,\n",
    "    font=dict(size=20),\n",
    "    margin=dict(l=0, r=0, t=0, b=0),\n",
    "    violingap=0,\n",
    "    violinmode='overlay',\n",
    "    xaxis_showgrid=False,\n",
    "    xaxis_zeroline=False,\n",
    "    showlegend=False,\n",
    "    xaxis_title='Challenge adjusted solved time (hours) - QA',\n",
    ")\n",
    "fig_challenge_adjusted_solved_time_qa.write_image(os.path.join(\n",
    "    path_challenge_git_qa, 'Challenge adjusted solved time (QA).png'))\n",
    "\n",
    "# Challenge hgher level mean solved time\n",
    "challenge_mean_solved_time_qa = df_qa[['Challenge_topic_higher_level', 'Challenge_solved_time']].groupby(\n",
    "    'Challenge_topic_higher_level').mean()['Challenge_solved_time']\n",
    "challenge_mean_solved_time_git = df_git[['Challenge_topic_higher_level', 'Challenge_solved_time']].groupby(\n",
    "    'Challenge_topic_higher_level').mean()['Challenge_solved_time']\n",
    "_, p = mannwhitneyu(challenge_mean_solved_time_qa,\n",
    "                    challenge_mean_solved_time_git)\n",
    "if p < alpha:\n",
    "    print(f'p = {p}, indicating different distribution of Q&A fora vs Git repos in higher level mean challenge solved time')\n",
    "\n",
    "# Challenge hgher level median solved time\n",
    "challenge_median_solved_time_qa = df_qa[['Challenge_topic_higher_level', 'Challenge_solved_time']].groupby(\n",
    "    'Challenge_topic_higher_level').median()['Challenge_solved_time']\n",
    "challenge_median_solved_time_git = df_git[['Challenge_topic_higher_level', 'Challenge_solved_time']].groupby(\n",
    "    'Challenge_topic_higher_level').median()['Challenge_solved_time']\n",
    "_, p = mannwhitneyu(challenge_median_solved_time_qa,\n",
    "                    challenge_median_solved_time_git)\n",
    "if p < alpha:\n",
    "    print(f'p = {p}, indicating different distribution of Q&A fora vs Git repos in higher level median challenge solved time')\n",
    "\n",
    "# Challenge hgher level adjusted mean solved time\n",
    "challenge_adjusted_mean_solved_time_qa = df_qa[['Challenge_topic_higher_level', 'Challenge_adjusted_solved_time']].groupby(\n",
    "    'Challenge_topic_higher_level').mean()['Challenge_adjusted_solved_time']\n",
    "challenge_adjusted_mean_solved_time_git = df_git[['Challenge_topic_higher_level', 'Challenge_adjusted_solved_time']].groupby(\n",
    "    'Challenge_topic_higher_level').mean()['Challenge_adjusted_solved_time']\n",
    "_, p = mannwhitneyu(challenge_adjusted_mean_solved_time_qa,\n",
    "                    challenge_adjusted_mean_solved_time_git)\n",
    "if p < alpha:\n",
    "    print(f'p = {p}, indicating different distribution of Q&A fora vs Git repos in higher level adjusted mean challenge solved time')\n",
    "\n",
    "# Challenge hgher level adjusted median solved time\n",
    "challenge_adjusted_median_solved_time_qa = df_qa[['Challenge_topic_higher_level', 'Challenge_adjusted_solved_time']].groupby(\n",
    "    'Challenge_topic_higher_level').median()['Challenge_adjusted_solved_time']\n",
    "challenge_adjusted_median_solved_time_git = df_git[['Challenge_topic_higher_level', 'Challenge_adjusted_solved_time']].groupby(\n",
    "    'Challenge_topic_higher_level').median()['Challenge_adjusted_solved_time']\n",
    "_, p = mannwhitneyu(challenge_adjusted_median_solved_time_qa,\n",
    "                    challenge_adjusted_median_solved_time_git)\n",
    "if p < alpha:\n",
    "    print(f'p = {p}, indicating different distribution of Q&A fora vs Git repos in higher level adjusted median challenge solved time')"
   ]
  },
  {
   "cell_type": "code",
   "execution_count": 101,
   "metadata": {},
   "outputs": [
    {
     "name": "stdout",
     "output_type": "stream",
     "text": [
      "p = 0.003619997129911227, indicating different distribution of open vs closed challenge regarding higher level topic Code Management in challenge readability\n",
      "p = 0.0008067213000916159, indicating different distribution of open vs closed challenge regarding higher level topic Code Management in challenge answer count\n",
      "p = 0.0031505139398174107, indicating different distribution of open vs closed challenge regarding higher level topic Code Management in challenge comment count\n",
      "p = 0.0014299391886427608, indicating different distribution of open vs closed challenge regarding higher level topic Data Management in challenge score\n",
      "p = 0.029040710211535332, indicating different distribution of open vs closed challenge regarding higher level topic Data Management in challenge favorite count\n",
      "p = 1.135883397836137e-11, indicating different distribution of open vs closed challenge regarding higher level topic Data Management in challenge answer count\n",
      "p = 0.0010072633160112027, indicating different distribution of open vs closed challenge regarding higher level topic Data Management in challenge answer count\n",
      "p = 2.3183725369993917e-06, indicating different distribution of open vs closed challenge regarding higher level topic Deployment Management in challenge score\n",
      "p = 0.001498509849542922, indicating different distribution of open vs closed challenge regarding higher level topic Deployment Management in challenge link count\n",
      "p = 1.591384398668735e-14, indicating different distribution of open vs closed challenge regarding higher level topic Deployment Management in challenge answer count\n",
      "p = 2.4002662592456124e-15, indicating different distribution of open vs closed challenge regarding higher level topic Deployment Management in challenge answer count\n",
      "p = 0.007752724555683789, indicating different distribution of open vs closed challenge regarding higher level topic Deployment Management in challenge comment count\n",
      "p = 0.01929386566974055, indicating different distribution of open vs closed challenge regarding higher level topic Infrastructure Management in challenge score\n",
      "p = 3.313663791720272e-20, indicating different distribution of open vs closed challenge regarding higher level topic Infrastructure Management in challenge answer count\n",
      "p = 1.8962484022234327e-20, indicating different distribution of open vs closed challenge regarding higher level topic Infrastructure Management in challenge answer count\n",
      "p = 0.002661574038929767, indicating different distribution of open vs closed challenge regarding higher level topic Infrastructure Management in challenge comment count\n",
      "p = 0.019040250608462768, indicating different distribution of open vs closed challenge regarding higher level topic Lifecycle Management in challenge score\n",
      "p = 0.022635224367393528, indicating different distribution of open vs closed challenge regarding higher level topic Lifecycle Management in challenge link count\n",
      "p = 6.904899711851609e-05, indicating different distribution of open vs closed challenge regarding higher level topic Lifecycle Management in challenge answer count\n",
      "p = 5.221836834649739e-08, indicating different distribution of open vs closed challenge regarding higher level topic Lifecycle Management in challenge answer count\n",
      "p = 2.0718089021120765e-06, indicating different distribution of open vs closed challenge regarding higher level topic Model Management in challenge score\n",
      "p = 6.057730379403783e-13, indicating different distribution of open vs closed challenge regarding higher level topic Model Management in challenge answer count\n",
      "p = 1.528901741899079e-06, indicating different distribution of open vs closed challenge regarding higher level topic Model Management in challenge answer count\n",
      "p = 0.032759189251552204, indicating different distribution of open vs closed challenge regarding higher level topic Report Management in challenge readability\n",
      "p = 0.0047033344921890655, indicating different distribution of open vs closed challenge regarding higher level topic Security Management in challenge answer count\n",
      "p = 0.04835164986356231, indicating different distribution of open vs closed challenge regarding higher level topic Security Management in challenge answer count\n"
     ]
    }
   ],
   "source": [
    "# Collect and compared open vs closed challenges across different topics\n",
    "\n",
    "df = pd.read_json(os.path.join(path_general, 'assigned.json'))\n",
    "\n",
    "df_open = df[df['Challenge_closed_time'].isna()]\n",
    "df_closed = df[df['Challenge_closed_time'].notna()]\n",
    "\n",
    "# Challenge topic count\n",
    "fig_challenge_count = go.Figure()\n",
    "fig_challenge_count.add_trace(\n",
    "    go.Violin(\n",
    "        x=np.full(len(df_open), 'Challenge topic count (higher level)'),\n",
    "        y=df_open['Challenge_topic_higher_level'],\n",
    "        opacity=0.5,\n",
    "        name='Open',\n",
    "    ))\n",
    "fig_challenge_count.add_trace(\n",
    "    go.Violin(\n",
    "        x=np.full(len(df_closed), 'Challenge topic count (higher level)'),\n",
    "        y=df_closed['Challenge_topic_higher_level'],\n",
    "        opacity=0.5,\n",
    "        name='Closed',\n",
    "    ))\n",
    "fig_challenge_count.update_layout(\n",
    "    height=1000,\n",
    "    width=2000,\n",
    "    font=dict(size=20),\n",
    "    margin=dict(l=0, r=0, t=0, b=0),\n",
    "    violingap=0,\n",
    "    violinmode='overlay',\n",
    ")\n",
    "fig_challenge_count.write_image(os.path.join(\n",
    "    path_challenge_open_closed, 'Challenge count.png'))\n",
    "\n",
    "# Challenge score\n",
    "fig_challenge_score = go.Figure()\n",
    "fig_challenge_score.add_trace(\n",
    "    go.Violin(\n",
    "        x=df_open['Challenge_topic_higher_level'],\n",
    "        y=df_open['Challenge_score'],\n",
    "        meanline_visible=True,\n",
    "        line_color='blue',\n",
    "        side='positive',\n",
    "        opacity=0.5,\n",
    "        legendgroup='Open',\n",
    "        scalegroup='Open',\n",
    "        name='Open',\n",
    "    ))\n",
    "fig_challenge_score.add_trace(\n",
    "    go.Violin(\n",
    "        x=df_closed['Challenge_topic_higher_level'],\n",
    "        y=df_closed['Challenge_score'],\n",
    "        meanline_visible=True,\n",
    "        line_color='orange',\n",
    "        side='negative',\n",
    "        opacity=0.5,\n",
    "        legendgroup='Closed',\n",
    "        scalegroup='Closed',\n",
    "        name='Closed',\n",
    "    ))\n",
    "fig_challenge_score.update_layout(\n",
    "    height=1000,\n",
    "    width=2000,\n",
    "    font=dict(size=20),\n",
    "    margin=dict(l=0, r=0, t=0, b=0),\n",
    "    violingap=0,\n",
    "    violinmode='overlay',\n",
    ")\n",
    "fig_challenge_score.write_image(os.path.join(\n",
    "    path_challenge_open_closed, 'Challenge score.png'))\n",
    "\n",
    "# Challenge favorite count\n",
    "fig_challenge_favorite_count = go.Figure()\n",
    "fig_challenge_favorite_count.add_trace(\n",
    "    go.Violin(\n",
    "        x=df_open['Challenge_topic_higher_level'],\n",
    "        y=df_open['Challenge_favorite_count'],\n",
    "        meanline_visible=True,\n",
    "        line_color='blue',\n",
    "        side='positive',\n",
    "        opacity=0.5,\n",
    "        legendgroup='Open',\n",
    "        scalegroup='Open',\n",
    "        name='Open',\n",
    "    ))\n",
    "fig_challenge_favorite_count.add_trace(\n",
    "    go.Violin(\n",
    "        x=df_closed['Challenge_topic_higher_level'],\n",
    "        y=df_closed['Challenge_favorite_count'],\n",
    "        meanline_visible=True,\n",
    "        line_color='orange',\n",
    "        side='negative',\n",
    "        opacity=0.5,\n",
    "        legendgroup='Closed',\n",
    "        scalegroup='Closed',\n",
    "        name='Closed',\n",
    "    ))\n",
    "fig_challenge_favorite_count.update_layout(\n",
    "    height=1000,\n",
    "    width=2000,\n",
    "    font=dict(size=20),\n",
    "    margin=dict(l=0, r=0, t=0, b=0),\n",
    "    violingap=0,\n",
    "    violinmode='overlay',\n",
    ")\n",
    "fig_challenge_favorite_count.write_image(os.path.join(\n",
    "    path_challenge_open_closed, 'Challenge favorite count.png'))\n",
    "\n",
    "# Challenge follower count\n",
    "fig_challenge_follower_count = go.Figure()\n",
    "fig_challenge_follower_count.add_trace(\n",
    "    go.Violin(\n",
    "        x=df_open['Challenge_topic_higher_level'],\n",
    "        y=df_open['Challenge_follower_count'],\n",
    "        meanline_visible=True,\n",
    "        line_color='blue',\n",
    "        side='positive',\n",
    "        opacity=0.5,\n",
    "        legendgroup='Open',\n",
    "        scalegroup='Open',\n",
    "        name='Open',\n",
    "    ))\n",
    "fig_challenge_follower_count.add_trace(\n",
    "    go.Violin(\n",
    "        x=df_closed['Challenge_topic_higher_level'],\n",
    "        y=df_closed['Challenge_follower_count'],\n",
    "        meanline_visible=True,\n",
    "        line_color='orange',\n",
    "        side='negative',\n",
    "        opacity=0.5,\n",
    "        legendgroup='Closed',\n",
    "        scalegroup='Closed',\n",
    "        name='Closed',\n",
    "    ))\n",
    "fig_challenge_follower_count.update_layout(\n",
    "    height=1000,\n",
    "    width=2000,\n",
    "    font=dict(size=20),\n",
    "    margin=dict(l=0, r=0, t=0, b=0),\n",
    "    violingap=0,\n",
    "    violinmode='overlay',\n",
    ")\n",
    "fig_challenge_follower_count.write_image(os.path.join(\n",
    "    path_challenge_open_closed, 'Challenge follower count.png'))\n",
    "\n",
    "# Challenge link count\n",
    "fig_challenge_link_count = go.Figure()\n",
    "fig_challenge_link_count.add_trace(\n",
    "    go.Violin(\n",
    "        x=df_open['Challenge_topic_higher_level'],\n",
    "        y=df_open['Challenge_link_count'],\n",
    "        meanline_visible=True,\n",
    "        line_color='blue',\n",
    "        side='positive',\n",
    "        opacity=0.5,\n",
    "        legendgroup='Open',\n",
    "        scalegroup='Open',\n",
    "        name='Open',\n",
    "    ))\n",
    "fig_challenge_link_count.add_trace(\n",
    "    go.Violin(\n",
    "        x=df_closed['Challenge_topic_higher_level'],\n",
    "        y=df_closed['Challenge_link_count'],\n",
    "        meanline_visible=True,\n",
    "        line_color='orange',\n",
    "        side='negative',\n",
    "        opacity=0.5,\n",
    "        legendgroup='Closed',\n",
    "        scalegroup='Closed',\n",
    "        name='Closed',\n",
    "    ))\n",
    "fig_challenge_link_count.update_layout(\n",
    "    height=1000,\n",
    "    width=2000,\n",
    "    font=dict(size=20),\n",
    "    margin=dict(l=0, r=0, t=0, b=0),\n",
    "    violingap=0,\n",
    "    violinmode='overlay',\n",
    ")\n",
    "fig_challenge_link_count.write_image(os.path.join(\n",
    "    path_challenge_open_closed, 'Challenge link count.png'))\n",
    "\n",
    "# Challenge readability\n",
    "fig_challenge_readability = go.Figure()\n",
    "fig_challenge_readability.add_trace(\n",
    "    go.Violin(\n",
    "        x=df_open['Challenge_topic_higher_level'],\n",
    "        y=df_open['Challenge_readability'],\n",
    "        meanline_visible=True,\n",
    "        line_color='blue',\n",
    "        side='positive',\n",
    "        opacity=0.5,\n",
    "        legendgroup='Open',\n",
    "        scalegroup='Open',\n",
    "        name='Open',\n",
    "    ))\n",
    "fig_challenge_readability.add_trace(\n",
    "    go.Violin(\n",
    "        x=df_closed['Challenge_topic_higher_level'],\n",
    "        y=df_closed['Challenge_readability'],\n",
    "        meanline_visible=True,\n",
    "        line_color='orange',\n",
    "        side='negative',\n",
    "        opacity=0.5,\n",
    "        legendgroup='Closed',\n",
    "        scalegroup='Closed',\n",
    "        name='Closed',\n",
    "    ))\n",
    "fig_challenge_readability.update_layout(\n",
    "    height=1000,\n",
    "    width=2000,\n",
    "    font=dict(size=20),\n",
    "    margin=dict(l=0, r=0, t=0, b=0),\n",
    "    violingap=0,\n",
    "    violinmode='overlay',\n",
    ")\n",
    "fig_challenge_readability.write_image(os.path.join(\n",
    "    path_challenge_open_closed, 'Challenge readability.png'))\n",
    "\n",
    "# Challenge view count\n",
    "fig_challenge_view_count = go.Figure()\n",
    "fig_challenge_view_count.add_trace(\n",
    "    go.Violin(\n",
    "        x=df_open['Challenge_topic_higher_level'],\n",
    "        y=df_open['Challenge_view_count'],\n",
    "        meanline_visible=True,\n",
    "        line_color='blue',\n",
    "        side='positive',\n",
    "        opacity=0.5,\n",
    "        legendgroup='Open',\n",
    "        scalegroup='Open',\n",
    "        name='Open',\n",
    "    ))\n",
    "fig_challenge_view_count.add_trace(\n",
    "    go.Violin(\n",
    "        x=df_closed['Challenge_topic_higher_level'],\n",
    "        y=df_closed['Challenge_view_count'],\n",
    "        meanline_visible=True,\n",
    "        line_color='orange',\n",
    "        side='negative',\n",
    "        opacity=0.5,\n",
    "        legendgroup='Closed',\n",
    "        scalegroup='Closed',\n",
    "        name='Closed',\n",
    "    ))\n",
    "fig_challenge_view_count.update_layout(\n",
    "    height=1000,\n",
    "    width=2000,\n",
    "    font=dict(size=20),\n",
    "    margin=dict(l=0, r=0, t=0, b=0),\n",
    "    violingap=0,\n",
    "    violinmode='overlay',\n",
    ")\n",
    "fig_challenge_view_count.write_image(os.path.join(\n",
    "    path_challenge_open_closed, 'Challenge view count.png'))\n",
    "\n",
    "# Challenge answer count\n",
    "fig_challenge_answer_count = go.Figure()\n",
    "fig_challenge_answer_count.add_trace(\n",
    "    go.Violin(\n",
    "        x=df_open['Challenge_topic_higher_level'],\n",
    "        y=df_open['Challenge_answer_count'],\n",
    "        meanline_visible=True,\n",
    "        line_color='blue',\n",
    "        side='positive',\n",
    "        opacity=0.5,\n",
    "        legendgroup='Open',\n",
    "        scalegroup='Open',\n",
    "        name='Open',\n",
    "    ))\n",
    "fig_challenge_answer_count.add_trace(\n",
    "    go.Violin(\n",
    "        x=df_closed['Challenge_topic_higher_level'],\n",
    "        y=df_closed['Challenge_answer_count'],\n",
    "        meanline_visible=True,\n",
    "        line_color='orange',\n",
    "        side='negative',\n",
    "        opacity=0.5,\n",
    "        legendgroup='Closed',\n",
    "        scalegroup='Closed',\n",
    "        name='Closed',\n",
    "    ))\n",
    "fig_challenge_answer_count.update_layout(\n",
    "    height=1000,\n",
    "    width=2000,\n",
    "    font=dict(size=20),\n",
    "    margin=dict(l=0, r=0, t=0, b=0),\n",
    "    violingap=0,\n",
    "    violinmode='overlay',\n",
    ")\n",
    "fig_challenge_answer_count.write_image(os.path.join(\n",
    "    path_challenge_open_closed, 'Challenge answer count.png'))\n",
    "\n",
    "# Challenge comment count\n",
    "fig_challenge_comment_count = go.Figure()\n",
    "fig_challenge_comment_count.add_trace(\n",
    "    go.Violin(\n",
    "        x=df_open['Challenge_topic_higher_level'],\n",
    "        y=df_open['Challenge_comment_count'],\n",
    "        meanline_visible=True,\n",
    "        line_color='blue',\n",
    "        side='positive',\n",
    "        opacity=0.5,\n",
    "        legendgroup='Open',\n",
    "        scalegroup='Open',\n",
    "        name='Open',\n",
    "    ))\n",
    "fig_challenge_comment_count.add_trace(\n",
    "    go.Violin(\n",
    "        x=df_closed['Challenge_topic_higher_level'],\n",
    "        y=df_closed['Challenge_comment_count'],\n",
    "        meanline_visible=True,\n",
    "        line_color='orange',\n",
    "        side='negative',\n",
    "        opacity=0.5,\n",
    "        legendgroup='Closed',\n",
    "        scalegroup='Closed',\n",
    "        name='Closed',\n",
    "    ))\n",
    "fig_challenge_comment_count.update_layout(\n",
    "    height=1000,\n",
    "    width=2000,\n",
    "    font=dict(size=20),\n",
    "    margin=dict(l=0, r=0, t=0, b=0),\n",
    "    violingap=0,\n",
    "    violinmode='overlay',\n",
    ")\n",
    "fig_challenge_comment_count.write_image(os.path.join(\n",
    "    path_challenge_open_closed, 'Challenge comment count.png'))\n",
    "\n",
    "fig_challenge_solved_time_closed = go.Figure()\n",
    "fig_challenge_adjusted_solved_time_closed = go.Figure()\n",
    "\n",
    "for name_group, color in zip(df_challenge.groupby('Challenge_topic_higher_level'), colors):\n",
    "    name, group = name_group\n",
    "    open = group[group['Challenge_closed_time'].isna()]\n",
    "    closed = group[group['Challenge_closed_time'].notna()]\n",
    "\n",
    "    fig_challenge_solved_time_closed.add_trace(go.Violin(\n",
    "        x=closed['Challenge_solved_time'], y=closed['Challenge_topic_higher_level'], line_color=color))\n",
    "    fig_challenge_adjusted_solved_time_closed.add_trace(go.Violin(\n",
    "        x=closed['Challenge_adjusted_solved_time'], y=closed['Challenge_topic_higher_level'], line_color=color))\n",
    "\n",
    "    # Challenge score\n",
    "    challenge_score_open = open[open['Challenge_score'].notna(\n",
    "    )]['Challenge_score']\n",
    "    challenge_score_closed = closed[closed['Challenge_score'].notna(\n",
    "    )]['Challenge_score']\n",
    "    if len(challenge_score_open) * len(challenge_score_closed) > 0:\n",
    "        _, p = mannwhitneyu(challenge_score_open, challenge_score_closed)\n",
    "        if p < alpha:\n",
    "            print(\n",
    "                f'p = {p}, indicating different distribution of open vs closed challenge regarding higher level topic {name} in challenge score')\n",
    "\n",
    "    # Challenge favorite count\n",
    "    challenge_favorite_count_open = open[open['Challenge_favorite_count'].notna(\n",
    "    )]['Challenge_favorite_count']\n",
    "    challenge_favorite_count_closed = closed[closed['Challenge_favorite_count'].notna(\n",
    "    )]['Challenge_favorite_count']\n",
    "    if len(challenge_favorite_count_open) * len(challenge_favorite_count_closed) > 0:\n",
    "        _, p = mannwhitneyu(challenge_favorite_count_open,\n",
    "                            challenge_favorite_count_closed)\n",
    "        if p < alpha:\n",
    "            print(\n",
    "                f'p = {p}, indicating different distribution of open vs closed challenge regarding higher level topic {name} in challenge favorite count')\n",
    "\n",
    "    # Challenge follower count\n",
    "    challenge_follower_count_open = open[open['Challenge_follower_count'].notna(\n",
    "    )]['Challenge_follower_count']\n",
    "    challenge_follower_count_closed = closed[closed['Challenge_follower_count'].notna(\n",
    "    )]['Challenge_follower_count']\n",
    "    if len(challenge_follower_count_open) * len(challenge_follower_count_closed) > 0:\n",
    "        _, p = mannwhitneyu(challenge_follower_count_open,\n",
    "                            challenge_follower_count_closed)\n",
    "        if p < alpha:\n",
    "            print(\n",
    "                f'p = {p}, indicating different distribution of open vs closed challenge regarding higher level topic {name} in challenge follower count')\n",
    "\n",
    "    # Challenge link count\n",
    "    challenge_link_count_open = open[open['Challenge_link_count'].notna(\n",
    "    )]['Challenge_link_count']\n",
    "    challenge_link_count_closed = closed[closed['Challenge_link_count'].notna(\n",
    "    )]['Challenge_link_count']\n",
    "    if len(challenge_link_count_open) * len(challenge_link_count_closed) > 0:\n",
    "        _, p = mannwhitneyu(challenge_link_count_open,\n",
    "                            challenge_link_count_closed)\n",
    "        if p < alpha:\n",
    "            print(\n",
    "                f'p = {p}, indicating different distribution of open vs closed challenge regarding higher level topic {name} in challenge link count')\n",
    "\n",
    "    # Challenge readability\n",
    "    challenge_readability_open = open[open['Challenge_readability'].notna(\n",
    "    )]['Challenge_readability']\n",
    "    challenge_readability_closed = closed[closed['Challenge_readability'].notna(\n",
    "    )]['Challenge_readability']\n",
    "    if len(challenge_readability_open) * len(challenge_readability_closed) > 0:\n",
    "        _, p = mannwhitneyu(challenge_readability_open,\n",
    "                            challenge_readability_closed)\n",
    "        if p < alpha:\n",
    "            print(\n",
    "                f'p = {p}, indicating different distribution of open vs closed challenge regarding higher level topic {name} in challenge readability')\n",
    "\n",
    "    # Challenge view count\n",
    "    challenge_view_count_open = open[open['Challenge_view_count'].notna(\n",
    "    )]['Challenge_view_count']\n",
    "    challenge_view_count_closed = closed[closed['Challenge_view_count'].notna(\n",
    "    )]['Challenge_view_count']\n",
    "    if len(challenge_view_count_open) * len(challenge_view_count_closed) > 0:\n",
    "        _, p = mannwhitneyu(challenge_view_count_open,\n",
    "                            challenge_view_count_closed)\n",
    "        if p < alpha:\n",
    "            print(\n",
    "                f'p = {p}, indicating different distribution of open vs closed challenge regarding higher level topic {name} in challenge answer count')\n",
    "\n",
    "    # Challenge answer count\n",
    "    challenge_answer_count_open = open[open['Challenge_answer_count'].notna(\n",
    "    )]['Challenge_answer_count']\n",
    "    challenge_answer_count_closed = closed[closed['Challenge_answer_count'].notna(\n",
    "    )]['Challenge_answer_count']\n",
    "    if len(challenge_answer_count_open) * len(challenge_answer_count_closed) > 0:\n",
    "        _, p = mannwhitneyu(challenge_answer_count_open,\n",
    "                            challenge_answer_count_closed)\n",
    "        if p < alpha:\n",
    "            print(\n",
    "                f'p = {p}, indicating different distribution of open vs closed challenge regarding higher level topic {name} in challenge answer count')\n",
    "\n",
    "    # Challenge comment count\n",
    "    challenge_comment_count_open = open[open['Challenge_comment_count'].notna(\n",
    "    )]['Challenge_comment_count']\n",
    "    challenge_comment_count_closed = closed[closed['Challenge_comment_count'].notna(\n",
    "    )]['Challenge_comment_count']\n",
    "    if len(challenge_comment_count_open) * len(challenge_comment_count_closed) > 0:\n",
    "        _, p = mannwhitneyu(challenge_comment_count_open,\n",
    "                            challenge_comment_count_closed)\n",
    "        if p < alpha:\n",
    "            print(\n",
    "                f'p = {p}, indicating different distribution of open vs closed challenge regarding higher level topic {name} in challenge comment count')\n",
    "\n",
    "fig_challenge_solved_time_closed.update_traces(\n",
    "    orientation='h', meanline_visible=True, side='positive', width=3, points=False)\n",
    "fig_challenge_solved_time_closed.update_layout(\n",
    "    height=1000,\n",
    "    width=2000,\n",
    "    font=dict(size=20),\n",
    "    margin=dict(l=0, r=0, t=0, b=0),\n",
    "    violingap=0,\n",
    "    violinmode='overlay',\n",
    "    xaxis_showgrid=False,\n",
    "    xaxis_zeroline=False,\n",
    "    showlegend=False,\n",
    "    xaxis_title='Challenge solved time (hours) - Closed',\n",
    ")\n",
    "fig_challenge_solved_time_closed.write_image(os.path.join(\n",
    "    path_challenge_open_closed, 'Challenge solved time (Closed).png'))\n",
    "\n",
    "fig_challenge_adjusted_solved_time_closed.update_traces(\n",
    "    orientation='h', meanline_visible=True, side='positive', width=3, points=False)\n",
    "fig_challenge_adjusted_solved_time_closed.update_layout(\n",
    "    height=1000,\n",
    "    width=2000,\n",
    "    font=dict(size=20),\n",
    "    margin=dict(l=0, r=0, t=0, b=0),\n",
    "    violingap=0,\n",
    "    violinmode='overlay',\n",
    "    xaxis_showgrid=False,\n",
    "    xaxis_zeroline=False,\n",
    "    showlegend=False,\n",
    "    xaxis_title='Challenge adjusted solved time (hours) - Closed',\n",
    ")\n",
    "fig_challenge_adjusted_solved_time_closed.write_image(os.path.join(\n",
    "    path_challenge_open_closed, 'Challenge adjusted solved time (Closed).png'))"
   ]
  },
  {
   "cell_type": "code",
   "execution_count": 102,
   "metadata": {},
   "outputs": [
    {
     "name": "stdout",
     "output_type": "stream",
     "text": [
      "p = 0.0004776617304235873, indicating different distribution of Stack Overflow vs tool-specific fora challenge regarding higher level topic Code Management in challenge score\n",
      "p = 0.026554652338517958, indicating different distribution of Stack Overflow vs tool-specific fora challenge regarding higher level topic Code Management in challenge link count\n",
      "p = 1.476590063394374e-17, indicating different distribution of Stack Overflow vs tool-specific fora challenge regarding higher level topic Code Management in challenge answer count\n",
      "p = 1.3870752530871918e-16, indicating different distribution of Stack Overflow vs tool-specific fora challenge regarding higher level topic Code Management in challenge comment count\n",
      "p = 8.44174508118179e-31, indicating different distribution of Stack Overflow vs tool-specific fora challenge regarding higher level topic Data Management in challenge score\n",
      "p = 1.423483460088152e-12, indicating different distribution of Stack Overflow vs tool-specific fora challenge regarding higher level topic Data Management in challenge link count\n",
      "p = 0.005097058762472404, indicating different distribution of Stack Overflow vs tool-specific fora challenge regarding higher level topic Data Management in challenge readability\n",
      "p = 2.6281959023498418e-18, indicating different distribution of Stack Overflow vs tool-specific fora challenge regarding higher level topic Data Management in challenge answer count\n",
      "p = 5.842506385390665e-49, indicating different distribution of Stack Overflow vs tool-specific fora challenge regarding higher level topic Data Management in challenge answer count\n",
      "p = 7.373319266163207e-17, indicating different distribution of Stack Overflow vs tool-specific fora challenge regarding higher level topic Data Management in challenge comment count\n",
      "p = 1.2143417957246479e-30, indicating different distribution of Stack Overflow vs tool-specific fora challenge regarding higher level topic Deployment Management in challenge score\n",
      "p = 2.3630523915977046e-17, indicating different distribution of Stack Overflow vs tool-specific fora challenge regarding higher level topic Deployment Management in challenge link count\n",
      "p = 3.2357288928590575e-05, indicating different distribution of Stack Overflow vs tool-specific fora challenge regarding higher level topic Deployment Management in challenge readability\n",
      "p = 5.385366415124723e-32, indicating different distribution of Stack Overflow vs tool-specific fora challenge regarding higher level topic Deployment Management in challenge answer count\n",
      "p = 0.017049630585087787, indicating different distribution of Stack Overflow vs tool-specific fora challenge regarding higher level topic Deployment Management in challenge answer count\n",
      "p = 2.6222376896828216e-37, indicating different distribution of Stack Overflow vs tool-specific fora challenge regarding higher level topic Infrastructure Management in challenge score\n",
      "p = 7.024124189612467e-21, indicating different distribution of Stack Overflow vs tool-specific fora challenge regarding higher level topic Infrastructure Management in challenge link count\n",
      "p = 0.02376605975370001, indicating different distribution of Stack Overflow vs tool-specific fora challenge regarding higher level topic Infrastructure Management in challenge readability\n",
      "p = 2.3508686970014487e-30, indicating different distribution of Stack Overflow vs tool-specific fora challenge regarding higher level topic Infrastructure Management in challenge answer count\n",
      "p = 1.4790257130149417e-26, indicating different distribution of Stack Overflow vs tool-specific fora challenge regarding higher level topic Infrastructure Management in challenge answer count\n",
      "p = 1.7712324746510838e-12, indicating different distribution of Stack Overflow vs tool-specific fora challenge regarding higher level topic Infrastructure Management in challenge comment count\n",
      "p = 1.7323001663508978e-15, indicating different distribution of Stack Overflow vs tool-specific fora challenge regarding higher level topic Lifecycle Management in challenge score\n",
      "p = 6.338304011764274e-13, indicating different distribution of Stack Overflow vs tool-specific fora challenge regarding higher level topic Lifecycle Management in challenge link count\n",
      "p = 0.0032656251070953954, indicating different distribution of Stack Overflow vs tool-specific fora challenge regarding higher level topic Lifecycle Management in challenge answer count\n",
      "p = 4.3807715293812626e-14, indicating different distribution of Stack Overflow vs tool-specific fora challenge regarding higher level topic Lifecycle Management in challenge answer count\n",
      "p = 0.0020566718876762545, indicating different distribution of Stack Overflow vs tool-specific fora challenge regarding higher level topic Lifecycle Management in challenge comment count\n",
      "p = 2.6305643262189813e-18, indicating different distribution of Stack Overflow vs tool-specific fora challenge regarding higher level topic Model Management in challenge score\n",
      "p = 5.239346505010061e-06, indicating different distribution of Stack Overflow vs tool-specific fora challenge regarding higher level topic Model Management in challenge link count\n",
      "p = 7.002952714500962e-17, indicating different distribution of Stack Overflow vs tool-specific fora challenge regarding higher level topic Model Management in challenge answer count\n",
      "p = 8.922952584626194e-25, indicating different distribution of Stack Overflow vs tool-specific fora challenge regarding higher level topic Model Management in challenge answer count\n",
      "p = 2.1510225185093134e-08, indicating different distribution of Stack Overflow vs tool-specific fora challenge regarding higher level topic Model Management in challenge comment count\n",
      "p = 3.075966143093631e-08, indicating different distribution of Stack Overflow vs tool-specific fora challenge regarding higher level topic Report Management in challenge score\n",
      "p = 0.005289333399660496, indicating different distribution of Stack Overflow vs tool-specific fora challenge regarding higher level topic Report Management in challenge link count\n",
      "p = 1.196049925378619e-07, indicating different distribution of Stack Overflow vs tool-specific fora challenge regarding higher level topic Report Management in challenge answer count\n",
      "p = 1.8949843194599278e-29, indicating different distribution of Stack Overflow vs tool-specific fora challenge regarding higher level topic Report Management in challenge answer count\n",
      "p = 1.8164188284992762e-08, indicating different distribution of Stack Overflow vs tool-specific fora challenge regarding higher level topic Report Management in challenge comment count\n",
      "p = 8.897873267156996e-13, indicating different distribution of Stack Overflow vs tool-specific fora challenge regarding higher level topic Security Management in challenge score\n",
      "p = 1.6438047776943785e-07, indicating different distribution of Stack Overflow vs tool-specific fora challenge regarding higher level topic Security Management in challenge link count\n",
      "p = 0.013785087456580865, indicating different distribution of Stack Overflow vs tool-specific fora challenge regarding higher level topic Security Management in challenge readability\n",
      "p = 1.5243426219326848e-09, indicating different distribution of Stack Overflow vs tool-specific fora challenge regarding higher level topic Security Management in challenge answer count\n",
      "p = 7.415012950901645e-09, indicating different distribution of Stack Overflow vs tool-specific fora challenge regarding higher level topic Security Management in challenge answer count\n",
      "p = 0.0005434023498382829, indicating different distribution of Stack Overflow vs tool-specific fora challenge regarding higher level topic Security Management in challenge comment count\n"
     ]
    }
   ],
   "source": [
    "# Collect and compared Stack Overflow vs tool-specific fora challenges across different topics\n",
    "\n",
    "df = pd.read_json(os.path.join(path_general, 'assigned.json'))\n",
    "\n",
    "df_so = df[df['Platform'] == 'Stack Overflow']\n",
    "df_to = df[df['Platform'] == 'Tool-specific']\n",
    "\n",
    "# Challenge topic count\n",
    "fig_challenge_count = go.Figure()\n",
    "fig_challenge_count.add_trace(\n",
    "    go.Violin(\n",
    "        x=np.full(len(df_so), 'Challenge topic count (higher level)'),\n",
    "        y=df_so['Challenge_topic_higher_level'],\n",
    "        opacity=0.5,\n",
    "        name='Stack Overflow',\n",
    "    ))\n",
    "fig_challenge_count.add_trace(\n",
    "    go.Violin(\n",
    "        x=np.full(len(df_to), 'Challenge topic count (higher level)'),\n",
    "        y=df_to['Challenge_topic_higher_level'],\n",
    "        opacity=0.5,\n",
    "        name='Tool-specific',\n",
    "    ))\n",
    "fig_challenge_count.update_layout(\n",
    "    height=1000,\n",
    "    width=2000,\n",
    "    font=dict(size=20),\n",
    "    margin=dict(l=0, r=0, t=0, b=0),\n",
    "    violingap=0,\n",
    "    violinmode='overlay',\n",
    ")\n",
    "fig_challenge_count.write_image(os.path.join(\n",
    "    path_challenge_so_to, 'Challenge count.png'))\n",
    "\n",
    "# Challenge score\n",
    "fig_challenge_score = go.Figure()\n",
    "fig_challenge_score.add_trace(\n",
    "    go.Violin(\n",
    "        x=df_so['Challenge_topic_higher_level'],\n",
    "        y=df_so['Challenge_score'],\n",
    "        meanline_visible=True,\n",
    "        line_color='blue',\n",
    "        side='positive',\n",
    "        opacity=0.5,\n",
    "        legendgroup='Stack Overflow',\n",
    "        scalegroup='Stack Overflow',\n",
    "        name='Stack Overflow',\n",
    "    ))\n",
    "fig_challenge_score.add_trace(\n",
    "    go.Violin(\n",
    "        x=df_to['Challenge_topic_higher_level'],\n",
    "        y=df_to['Challenge_score'],\n",
    "        meanline_visible=True,\n",
    "        line_color='orange',\n",
    "        side='negative',\n",
    "        opacity=0.5,\n",
    "        legendgroup='Tool-specific',\n",
    "        scalegroup='Tool-specific',\n",
    "        name='Tool-specific',\n",
    "    ))\n",
    "fig_challenge_score.update_layout(\n",
    "    height=1000,\n",
    "    width=2000,\n",
    "    font=dict(size=20),\n",
    "    margin=dict(l=0, r=0, t=0, b=0),\n",
    "    violingap=0,\n",
    "    violinmode='overlay',\n",
    ")\n",
    "fig_challenge_score.write_image(os.path.join(\n",
    "    path_challenge_so_to, 'Challenge score.png'))\n",
    "\n",
    "# Challenge favorite count\n",
    "fig_challenge_favorite_count = go.Figure()\n",
    "fig_challenge_favorite_count.add_trace(\n",
    "    go.Violin(\n",
    "        x=df_so['Challenge_topic_higher_level'],\n",
    "        y=df_so['Challenge_favorite_count'],\n",
    "        meanline_visible=True,\n",
    "        line_color='blue',\n",
    "        side='positive',\n",
    "        opacity=0.5,\n",
    "        legendgroup='Stack Overflow',\n",
    "        scalegroup='Stack Overflow',\n",
    "        name='Stack Overflow',\n",
    "    ))\n",
    "fig_challenge_favorite_count.add_trace(\n",
    "    go.Violin(\n",
    "        x=df_to['Challenge_topic_higher_level'],\n",
    "        y=df_to['Challenge_favorite_count'],\n",
    "        meanline_visible=True,\n",
    "        line_color='orange',\n",
    "        side='negative',\n",
    "        opacity=0.5,\n",
    "        legendgroup='Tool-specific',\n",
    "        scalegroup='Tool-specific',\n",
    "        name='Tool-specific',\n",
    "    ))\n",
    "fig_challenge_favorite_count.update_layout(\n",
    "    height=1000,\n",
    "    width=2000,\n",
    "    font=dict(size=20),\n",
    "    margin=dict(l=0, r=0, t=0, b=0),\n",
    "    violingap=0,\n",
    "    violinmode='overlay',\n",
    ")\n",
    "fig_challenge_favorite_count.write_image(os.path.join(\n",
    "    path_challenge_so_to, 'Challenge favorite count.png'))\n",
    "\n",
    "# Challenge follower count\n",
    "fig_challenge_follower_count = go.Figure()\n",
    "fig_challenge_follower_count.add_trace(\n",
    "    go.Violin(\n",
    "        x=df_so['Challenge_topic_higher_level'],\n",
    "        y=df_so['Challenge_follower_count'],\n",
    "        meanline_visible=True,\n",
    "        line_color='blue',\n",
    "        side='positive',\n",
    "        opacity=0.5,\n",
    "        legendgroup='Stack Overflow',\n",
    "        scalegroup='Stack Overflow',\n",
    "        name='Stack Overflow',\n",
    "    ))\n",
    "fig_challenge_follower_count.add_trace(\n",
    "    go.Violin(\n",
    "        x=df_to['Challenge_topic_higher_level'],\n",
    "        y=df_to['Challenge_follower_count'],\n",
    "        meanline_visible=True,\n",
    "        line_color='orange',\n",
    "        side='negative',\n",
    "        opacity=0.5,\n",
    "        legendgroup='Tool-specific',\n",
    "        scalegroup='Tool-specific',\n",
    "        name='Tool-specific',\n",
    "    ))\n",
    "fig_challenge_follower_count.update_layout(\n",
    "    height=1000,\n",
    "    width=2000,\n",
    "    font=dict(size=20),\n",
    "    margin=dict(l=0, r=0, t=0, b=0),\n",
    "    violingap=0,\n",
    "    violinmode='overlay',\n",
    ")\n",
    "fig_challenge_follower_count.write_image(os.path.join(\n",
    "    path_challenge_so_to, 'Challenge follower count.png'))\n",
    "\n",
    "# Challenge link count\n",
    "fig_challenge_link_count = go.Figure()\n",
    "fig_challenge_link_count.add_trace(\n",
    "    go.Violin(\n",
    "        x=df_so['Challenge_topic_higher_level'],\n",
    "        y=df_so['Challenge_link_count'],\n",
    "        meanline_visible=True,\n",
    "        line_color='blue',\n",
    "        side='positive',\n",
    "        opacity=0.5,\n",
    "        legendgroup='Stack Overflow',\n",
    "        scalegroup='Stack Overflow',\n",
    "        name='Stack Overflow',\n",
    "    ))\n",
    "fig_challenge_link_count.add_trace(\n",
    "    go.Violin(\n",
    "        x=df_to['Challenge_topic_higher_level'],\n",
    "        y=df_to['Challenge_link_count'],\n",
    "        meanline_visible=True,\n",
    "        line_color='orange',\n",
    "        side='negative',\n",
    "        opacity=0.5,\n",
    "        legendgroup='Tool-specific',\n",
    "        scalegroup='Tool-specific',\n",
    "        name='Tool-specific',\n",
    "    ))\n",
    "fig_challenge_link_count.update_layout(\n",
    "    height=1000,\n",
    "    width=2000,\n",
    "    font=dict(size=20),\n",
    "    margin=dict(l=0, r=0, t=0, b=0),\n",
    "    violingap=0,\n",
    "    violinmode='overlay',\n",
    ")\n",
    "fig_challenge_link_count.write_image(os.path.join(\n",
    "    path_challenge_so_to, 'Challenge link count.png'))\n",
    "\n",
    "# Challenge readability\n",
    "fig_challenge_readability = go.Figure()\n",
    "fig_challenge_readability.add_trace(\n",
    "    go.Violin(\n",
    "        x=df_so['Challenge_topic_higher_level'],\n",
    "        y=df_so['Challenge_readability'],\n",
    "        meanline_visible=True,\n",
    "        line_color='blue',\n",
    "        side='positive',\n",
    "        opacity=0.5,\n",
    "        legendgroup='Stack Overflow',\n",
    "        scalegroup='Stack Overflow',\n",
    "        name='Stack Overflow',\n",
    "    ))\n",
    "fig_challenge_readability.add_trace(\n",
    "    go.Violin(\n",
    "        x=df_to['Challenge_topic_higher_level'],\n",
    "        y=df_to['Challenge_readability'],\n",
    "        meanline_visible=True,\n",
    "        line_color='orange',\n",
    "        side='negative',\n",
    "        opacity=0.5,\n",
    "        legendgroup='Tool-specific',\n",
    "        scalegroup='Tool-specific',\n",
    "        name='Tool-specific',\n",
    "    ))\n",
    "fig_challenge_readability.update_layout(\n",
    "    height=1000,\n",
    "    width=2000,\n",
    "    font=dict(size=20),\n",
    "    margin=dict(l=0, r=0, t=0, b=0),\n",
    "    violingap=0,\n",
    "    violinmode='overlay',\n",
    ")\n",
    "fig_challenge_readability.write_image(os.path.join(\n",
    "    path_challenge_so_to, 'Challenge readability.png'))\n",
    "\n",
    "# Challenge view count\n",
    "fig_challenge_view_count = go.Figure()\n",
    "fig_challenge_view_count.add_trace(\n",
    "    go.Violin(\n",
    "        x=df_so['Challenge_topic_higher_level'],\n",
    "        y=df_so['Challenge_view_count'],\n",
    "        meanline_visible=True,\n",
    "        line_color='blue',\n",
    "        side='positive',\n",
    "        opacity=0.5,\n",
    "        legendgroup='Stack Overflow',\n",
    "        scalegroup='Stack Overflow',\n",
    "        name='Stack Overflow',\n",
    "    ))\n",
    "fig_challenge_view_count.add_trace(\n",
    "    go.Violin(\n",
    "        x=df_to['Challenge_topic_higher_level'],\n",
    "        y=df_to['Challenge_view_count'],\n",
    "        meanline_visible=True,\n",
    "        line_color='orange',\n",
    "        side='negative',\n",
    "        opacity=0.5,\n",
    "        legendgroup='Tool-specific',\n",
    "        scalegroup='Tool-specific',\n",
    "        name='Tool-specific',\n",
    "    ))\n",
    "fig_challenge_view_count.update_layout(\n",
    "    height=1000,\n",
    "    width=2000,\n",
    "    font=dict(size=20),\n",
    "    margin=dict(l=0, r=0, t=0, b=0),\n",
    "    violingap=0,\n",
    "    violinmode='overlay',\n",
    ")\n",
    "fig_challenge_view_count.write_image(os.path.join(\n",
    "    path_challenge_so_to, 'Challenge view count.png'))\n",
    "\n",
    "# Challenge answer count\n",
    "fig_challenge_answer_count = go.Figure()\n",
    "fig_challenge_answer_count.add_trace(\n",
    "    go.Violin(\n",
    "        x=df_so['Challenge_topic_higher_level'],\n",
    "        y=df_so['Challenge_answer_count'],\n",
    "        meanline_visible=True,\n",
    "        line_color='blue',\n",
    "        side='positive',\n",
    "        opacity=0.5,\n",
    "        legendgroup='Stack Overflow',\n",
    "        scalegroup='Stack Overflow',\n",
    "        name='Stack Overflow',\n",
    "    ))\n",
    "fig_challenge_answer_count.add_trace(\n",
    "    go.Violin(\n",
    "        x=df_to['Challenge_topic_higher_level'],\n",
    "        y=df_to['Challenge_answer_count'],\n",
    "        meanline_visible=True,\n",
    "        line_color='orange',\n",
    "        side='negative',\n",
    "        opacity=0.5,\n",
    "        legendgroup='Tool-specific',\n",
    "        scalegroup='Tool-specific',\n",
    "        name='Tool-specific',\n",
    "    ))\n",
    "fig_challenge_answer_count.update_layout(\n",
    "    height=1000,\n",
    "    width=2000,\n",
    "    font=dict(size=20),\n",
    "    margin=dict(l=0, r=0, t=0, b=0),\n",
    "    violingap=0,\n",
    "    violinmode='overlay',\n",
    ")\n",
    "fig_challenge_answer_count.write_image(os.path.join(\n",
    "    path_challenge_so_to, 'Challenge answer count.png'))\n",
    "\n",
    "# Challenge comment count\n",
    "fig_challenge_comment_count = go.Figure()\n",
    "fig_challenge_comment_count.add_trace(\n",
    "    go.Violin(\n",
    "        x=df_so['Challenge_topic_higher_level'],\n",
    "        y=df_so['Challenge_comment_count'],\n",
    "        meanline_visible=True,\n",
    "        line_color='blue',\n",
    "        side='positive',\n",
    "        opacity=0.5,\n",
    "        legendgroup='Stack Overflow',\n",
    "        scalegroup='Stack Overflow',\n",
    "        name='Stack Overflow',\n",
    "    ))\n",
    "fig_challenge_comment_count.add_trace(\n",
    "    go.Violin(\n",
    "        x=df_to['Challenge_topic_higher_level'],\n",
    "        y=df_to['Challenge_comment_count'],\n",
    "        meanline_visible=True,\n",
    "        line_color='orange',\n",
    "        side='negative',\n",
    "        opacity=0.5,\n",
    "        legendgroup='Tool-specific',\n",
    "        scalegroup='Tool-specific',\n",
    "        name='Tool-specific',\n",
    "    ))\n",
    "fig_challenge_comment_count.update_layout(\n",
    "    height=1000,\n",
    "    width=2000,\n",
    "    font=dict(size=20),\n",
    "    margin=dict(l=0, r=0, t=0, b=0),\n",
    "    violingap=0,\n",
    "    violinmode='overlay',\n",
    ")\n",
    "fig_challenge_comment_count.write_image(os.path.join(\n",
    "    path_challenge_so_to, 'Challenge comment count.png'))\n",
    "\n",
    "fig_challenge_solved_time_to = go.Figure()\n",
    "fig_challenge_solved_time_so = go.Figure()\n",
    "fig_challenge_adjusted_solved_time_to = go.Figure()\n",
    "fig_challenge_adjusted_solved_time_so = go.Figure()\n",
    "\n",
    "for name_group, color in zip(df_challenge.groupby('Challenge_topic_higher_level'), colors):\n",
    "    name, group = name_group\n",
    "    so = group[group['Platform'] == 'Stack Overflow']\n",
    "    to = group[group['Platform'] == 'Tool-specific']\n",
    "\n",
    "    fig_challenge_solved_time_to.add_trace(go.Violin(\n",
    "        x=to['Challenge_solved_time'], y=to['Challenge_topic_higher_level'], line_color=color))\n",
    "    fig_challenge_solved_time_so.add_trace(go.Violin(\n",
    "        x=so['Challenge_solved_time'], y=so['Challenge_topic_higher_level'], line_color=color))\n",
    "    fig_challenge_adjusted_solved_time_to.add_trace(go.Violin(\n",
    "        x=to['Challenge_adjusted_solved_time'], y=to['Challenge_topic_higher_level'], line_color=color))\n",
    "    fig_challenge_adjusted_solved_time_so.add_trace(go.Violin(\n",
    "        x=so['Challenge_adjusted_solved_time'], y=so['Challenge_topic_higher_level'], line_color=color))\n",
    "\n",
    "    # Challenge score\n",
    "    challenge_score_so = so[so['Challenge_score'].notna(\n",
    "    )]['Challenge_score']\n",
    "    challenge_score_to = to[to['Challenge_score'].notna(\n",
    "    )]['Challenge_score']\n",
    "    if len(challenge_score_so) * len(challenge_score_to) > 0:\n",
    "        _, p = mannwhitneyu(challenge_score_so, challenge_score_to)\n",
    "        if p < alpha:\n",
    "            print(\n",
    "                f'p = {p}, indicating different distribution of Stack Overflow vs tool-specific fora challenge regarding higher level topic {name} in challenge score')\n",
    "\n",
    "    # Challenge favorite count\n",
    "    challenge_favorite_count_so = so[so['Challenge_favorite_count'].notna(\n",
    "    )]['Challenge_favorite_count']\n",
    "    challenge_favorite_count_to = to[to['Challenge_favorite_count'].notna(\n",
    "    )]['Challenge_favorite_count']\n",
    "    if len(challenge_favorite_count_so) * len(challenge_favorite_count_to) > 0:\n",
    "        _, p = mannwhitneyu(challenge_favorite_count_so,\n",
    "                            challenge_favorite_count_to)\n",
    "        if p < alpha:\n",
    "            print(\n",
    "                f'p = {p}, indicating different distribution of Stack Overflow vs tool-specific fora challenge regarding higher level topic {name} in challenge favorite count')\n",
    "\n",
    "    # Challenge follower count\n",
    "    challenge_follower_count_so = so[so['Challenge_follower_count'].notna(\n",
    "    )]['Challenge_follower_count']\n",
    "    challenge_follower_count_to = to[to['Challenge_follower_count'].notna(\n",
    "    )]['Challenge_follower_count']\n",
    "    if len(challenge_follower_count_so) * len(challenge_follower_count_to) > 0:\n",
    "        _, p = mannwhitneyu(challenge_follower_count_so,\n",
    "                            challenge_follower_count_to)\n",
    "        if p < alpha:\n",
    "            print(\n",
    "                f'p = {p}, indicating different distribution of Stack Overflow vs tool-specific fora challenge regarding higher level topic {name} in challenge follower count')\n",
    "\n",
    "    # Challenge link count\n",
    "    challenge_link_count_so = so[so['Challenge_link_count'].notna(\n",
    "    )]['Challenge_link_count']\n",
    "    challenge_link_count_to = to[to['Challenge_link_count'].notna(\n",
    "    )]['Challenge_link_count']\n",
    "    if len(challenge_link_count_so) * len(challenge_link_count_to) > 0:\n",
    "        _, p = mannwhitneyu(challenge_link_count_so, challenge_link_count_to)\n",
    "        if p < alpha:\n",
    "            print(\n",
    "                f'p = {p}, indicating different distribution of Stack Overflow vs tool-specific fora challenge regarding higher level topic {name} in challenge link count')\n",
    "\n",
    "    # Challenge readability\n",
    "    challenge_readability_so = so[so['Challenge_readability'].notna(\n",
    "    )]['Challenge_readability']\n",
    "    challenge_readability_to = to[to['Challenge_readability'].notna(\n",
    "    )]['Challenge_readability']\n",
    "    if len(challenge_readability_so) * len(challenge_readability_to) > 0:\n",
    "        _, p = mannwhitneyu(challenge_readability_so,\n",
    "                            challenge_readability_to)\n",
    "        if p < alpha:\n",
    "            print(\n",
    "                f'p = {p}, indicating different distribution of Stack Overflow vs tool-specific fora challenge regarding higher level topic {name} in challenge readability')\n",
    "\n",
    "    # Challenge view count\n",
    "    challenge_view_count_so = so[so['Challenge_view_count'].notna(\n",
    "    )]['Challenge_view_count']\n",
    "    challenge_view_count_to = to[to['Challenge_view_count'].notna(\n",
    "    )]['Challenge_view_count']\n",
    "    if len(challenge_view_count_so) * len(challenge_view_count_to) > 0:\n",
    "        _, p = mannwhitneyu(challenge_view_count_so,\n",
    "                            challenge_view_count_to)\n",
    "        if p < alpha:\n",
    "            print(\n",
    "                f'p = {p}, indicating different distribution of Stack Overflow vs tool-specific fora challenge regarding higher level topic {name} in challenge answer count')\n",
    "\n",
    "    # Challenge answer count\n",
    "    challenge_answer_count_so = so[so['Challenge_answer_count'].notna(\n",
    "    )]['Challenge_answer_count']\n",
    "    challenge_answer_count_to = to[to['Challenge_answer_count'].notna(\n",
    "    )]['Challenge_answer_count']\n",
    "    if len(challenge_answer_count_so) * len(challenge_answer_count_to) > 0:\n",
    "        _, p = mannwhitneyu(challenge_answer_count_so,\n",
    "                            challenge_answer_count_to)\n",
    "        if p < alpha:\n",
    "            print(\n",
    "                f'p = {p}, indicating different distribution of Stack Overflow vs tool-specific fora challenge regarding higher level topic {name} in challenge answer count')\n",
    "\n",
    "    # Challenge comment count\n",
    "    challenge_comment_count_so = so[so['Challenge_comment_count'].notna(\n",
    "    )]['Challenge_comment_count']\n",
    "    challenge_comment_count_to = to[to['Challenge_comment_count'].notna(\n",
    "    )]['Challenge_comment_count']\n",
    "    if len(challenge_comment_count_so) * len(challenge_comment_count_to) > 0:\n",
    "        _, p = mannwhitneyu(challenge_comment_count_so,\n",
    "                            challenge_comment_count_to)\n",
    "        if p < alpha:\n",
    "            print(\n",
    "                f'p = {p}, indicating different distribution of Stack Overflow vs tool-specific fora challenge regarding higher level topic {name} in challenge comment count')\n",
    "\n",
    "fig_challenge_solved_time_to.update_traces(\n",
    "    orientation='h', meanline_visible=True, side='positive', width=3, points=False)\n",
    "fig_challenge_solved_time_to.update_layout(\n",
    "    height=1000,\n",
    "    width=2000,\n",
    "    font=dict(size=20),\n",
    "    margin=dict(l=0, r=0, t=0, b=0),\n",
    "    violingap=0,\n",
    "    violinmode='overlay',\n",
    "    xaxis_showgrid=False,\n",
    "    xaxis_zeroline=False,\n",
    "    showlegend=False,\n",
    "    xaxis_title='Challenge solved time (hours) - Tool-specific',\n",
    ")\n",
    "fig_challenge_solved_time_to.write_image(os.path.join(\n",
    "    path_challenge_so_to, 'Challenge solved time (Tool-specific).png'))\n",
    "\n",
    "fig_challenge_solved_time_so.update_traces(\n",
    "    orientation='h', meanline_visible=True, side='positive', width=3, points=False)\n",
    "fig_challenge_solved_time_so.update_layout(\n",
    "    height=1000,\n",
    "    width=2000,\n",
    "    font=dict(size=20),\n",
    "    margin=dict(l=0, r=0, t=0, b=0),\n",
    "    violingap=0,\n",
    "    violinmode='overlay',\n",
    "    xaxis_showgrid=False,\n",
    "    xaxis_zeroline=False,\n",
    "    showlegend=False,\n",
    "    xaxis_title='Challenge solved time (hours) - Stack Overflow',\n",
    ")\n",
    "fig_challenge_solved_time_so.write_image(os.path.join(\n",
    "    path_challenge_so_to, 'Challenge solved time (Stack Overflow).png'))\n",
    "\n",
    "fig_challenge_adjusted_solved_time_to.update_traces(\n",
    "    orientation='h', meanline_visible=True, side='positive', width=3, points=False)\n",
    "fig_challenge_adjusted_solved_time_to.update_layout(\n",
    "    height=1000,\n",
    "    width=2000,\n",
    "    font=dict(size=20),\n",
    "    margin=dict(l=0, r=0, t=0, b=0),\n",
    "    violingap=0,\n",
    "    violinmode='overlay',\n",
    "    xaxis_showgrid=False,\n",
    "    xaxis_zeroline=False,\n",
    "    showlegend=False,\n",
    "    xaxis_title='Challenge adjusted solved time (hours) - Tool-specific',\n",
    ")\n",
    "fig_challenge_adjusted_solved_time_to.write_image(os.path.join(\n",
    "    path_challenge_so_to, 'Challenge adjusted solved time (Tool-specific).png'))\n",
    "\n",
    "fig_challenge_adjusted_solved_time_so.update_traces(\n",
    "    orientation='h', meanline_visible=True, side='positive', width=3, points=False)\n",
    "fig_challenge_adjusted_solved_time_so.update_layout(\n",
    "    height=1000,\n",
    "    width=2000,\n",
    "    font=dict(size=20),\n",
    "    margin=dict(l=0, r=0, t=0, b=0),\n",
    "    violingap=0,\n",
    "    violinmode='overlay',\n",
    "    xaxis_showgrid=False,\n",
    "    xaxis_zeroline=False,\n",
    "    showlegend=False,\n",
    "    xaxis_title='Challenge adjusted solved time (hours) - Stack Overflow',\n",
    ")\n",
    "fig_challenge_adjusted_solved_time_so.write_image(os.path.join(\n",
    "    path_challenge_so_to, 'Challenge adjusted solved time (Stack Overflow).png'))"
   ]
  },
  {
   "cell_type": "code",
   "execution_count": 103,
   "metadata": {},
   "outputs": [
    {
     "name": "stdout",
     "output_type": "stream",
     "text": [
      "p = 0.0422680677963813, indicating different distribution of SageMaker vs AzureML challenge regarding higher level topic Code Management in challenge comment count\n",
      "p = 0.04173684390482671, indicating different distribution of SageMaker vs AzureML challenge regarding higher level topic Data Management in challenge link count\n",
      "p = 7.298861022444564e-07, indicating different distribution of SageMaker vs AzureML challenge regarding higher level topic Data Management in challenge comment count\n",
      "p = 0.004391090520645429, indicating different distribution of SageMaker vs AzureML challenge regarding higher level topic Deployment Management in challenge score\n",
      "p = 0.029168849670553245, indicating different distribution of SageMaker vs AzureML challenge regarding higher level topic Deployment Management in challenge link count\n",
      "p = 4.1922522268918286e-07, indicating different distribution of SageMaker vs AzureML challenge regarding higher level topic Deployment Management in challenge readability\n",
      "p = 3.1525200667896725e-11, indicating different distribution of SageMaker vs AzureML challenge regarding higher level topic Deployment Management in challenge comment count\n",
      "p = 0.0025674832220584907, indicating different distribution of SageMaker vs AzureML challenge regarding higher level topic Infrastructure Management in challenge score\n",
      "p = 0.024603328096834225, indicating different distribution of SageMaker vs AzureML challenge regarding higher level topic Infrastructure Management in challenge readability\n",
      "p = 4.711394140596308e-10, indicating different distribution of SageMaker vs AzureML challenge regarding higher level topic Infrastructure Management in challenge comment count\n",
      "p = 1.2223132222435554e-05, indicating different distribution of SageMaker vs AzureML challenge regarding higher level topic Lifecycle Management in challenge comment count\n",
      "p = 0.006955091539141926, indicating different distribution of SageMaker vs AzureML challenge regarding higher level topic Model Management in challenge score\n",
      "p = 0.03686478273016086, indicating different distribution of SageMaker vs AzureML challenge regarding higher level topic Model Management in challenge favorite count\n",
      "p = 0.01039496112569728, indicating different distribution of SageMaker vs AzureML challenge regarding higher level topic Model Management in challenge readability\n",
      "p = 0.00010229288543958916, indicating different distribution of SageMaker vs AzureML challenge regarding higher level topic Model Management in challenge comment count\n",
      "p = 0.016562931880661293, indicating different distribution of SageMaker vs AzureML challenge regarding higher level topic Security Management in challenge score\n",
      "p = 0.025270769596524436, indicating different distribution of SageMaker vs AzureML challenge regarding higher level topic Security Management in challenge link count\n",
      "p = 0.010212833775552642, indicating different distribution of SageMaker vs AzureML challenge regarding higher level topic Security Management in challenge readability\n"
     ]
    }
   ],
   "source": [
    "# Collect and compared SageMaker and AzureML challenges across different topics\n",
    "\n",
    "df = pd.read_json(os.path.join(path_general, 'assigned.json'))\n",
    "\n",
    "df_sagemaker = df[df['Tool'] == 'Amazon SageMaker']\n",
    "df_azureml = df[df['Tool'] == 'Azure Machine Learning']\n",
    "\n",
    "# Challenge topic count\n",
    "fig_challenge_count = go.Figure()\n",
    "fig_challenge_count.add_trace(\n",
    "    go.Violin(\n",
    "        x=np.full(len(df_azureml), 'Challenge topic count (higher level)'),\n",
    "        y=df_azureml['Challenge_topic_higher_level'],\n",
    "        opacity=0.5,\n",
    "        name='SageMaker',\n",
    "    ))\n",
    "fig_challenge_count.add_trace(\n",
    "    go.Violin(\n",
    "        x=np.full(len(df_sagemaker), 'Challenge topic count (higher level)'),\n",
    "        y=df_sagemaker['Challenge_topic_higher_level'],\n",
    "        opacity=0.5,\n",
    "        name='AzureML',\n",
    "    ))\n",
    "fig_challenge_count.update_layout(\n",
    "    height=1000,\n",
    "    width=2000,\n",
    "    font=dict(size=20),\n",
    "    margin=dict(l=0, r=0, t=0, b=0),\n",
    "    violingap=0,\n",
    "    violinmode='overlay',\n",
    ")\n",
    "fig_challenge_count.write_image(os.path.join(\n",
    "    path_challenge_azureml_sagemaker, 'Challenge count.png'))\n",
    "\n",
    "# Challenge score\n",
    "fig_challenge_score = go.Figure()\n",
    "fig_challenge_score.add_trace(\n",
    "    go.Violin(\n",
    "        x=df_azureml['Challenge_topic_higher_level'],\n",
    "        y=df_azureml['Challenge_score'],\n",
    "        meanline_visible=True,\n",
    "        line_color='blue',\n",
    "        side='positive',\n",
    "        opacity=0.5,\n",
    "        legendgroup='SageMaker',\n",
    "        scalegroup='SageMaker',\n",
    "        name='SageMaker',\n",
    "    ))\n",
    "fig_challenge_score.add_trace(\n",
    "    go.Violin(\n",
    "        x=df_sagemaker['Challenge_topic_higher_level'],\n",
    "        y=df_sagemaker['Challenge_score'],\n",
    "        meanline_visible=True,\n",
    "        line_color='orange',\n",
    "        side='negative',\n",
    "        opacity=0.5,\n",
    "        legendgroup='AzureML',\n",
    "        scalegroup='AzureML',\n",
    "        name='AzureML',\n",
    "    ))\n",
    "fig_challenge_score.update_layout(\n",
    "    height=1000,\n",
    "    width=2000,\n",
    "    font=dict(size=20),\n",
    "    margin=dict(l=0, r=0, t=0, b=0),\n",
    "    violingap=0,\n",
    "    violinmode='overlay',\n",
    ")\n",
    "fig_challenge_score.write_image(os.path.join(\n",
    "    path_challenge_azureml_sagemaker, 'Challenge score.png'))\n",
    "\n",
    "# Challenge favorite count\n",
    "fig_challenge_favorite_count = go.Figure()\n",
    "fig_challenge_favorite_count.add_trace(\n",
    "    go.Violin(\n",
    "        x=df_azureml['Challenge_topic_higher_level'],\n",
    "        y=df_azureml['Challenge_favorite_count'],\n",
    "        meanline_visible=True,\n",
    "        line_color='blue',\n",
    "        side='positive',\n",
    "        opacity=0.5,\n",
    "        legendgroup='SageMaker',\n",
    "        scalegroup='SageMaker',\n",
    "        name='SageMaker',\n",
    "    ))\n",
    "fig_challenge_favorite_count.add_trace(\n",
    "    go.Violin(\n",
    "        x=df_sagemaker['Challenge_topic_higher_level'],\n",
    "        y=df_sagemaker['Challenge_favorite_count'],\n",
    "        meanline_visible=True,\n",
    "        line_color='orange',\n",
    "        side='negative',\n",
    "        opacity=0.5,\n",
    "        legendgroup='AzureML',\n",
    "        scalegroup='AzureML',\n",
    "        name='AzureML',\n",
    "    ))\n",
    "fig_challenge_favorite_count.update_layout(\n",
    "    height=1000,\n",
    "    width=2000,\n",
    "    font=dict(size=20),\n",
    "    margin=dict(l=0, r=0, t=0, b=0),\n",
    "    violingap=0,\n",
    "    violinmode='overlay',\n",
    ")\n",
    "fig_challenge_favorite_count.write_image(os.path.join(\n",
    "    path_challenge_azureml_sagemaker, 'Challenge favorite count.png'))\n",
    "\n",
    "# Challenge follower count\n",
    "fig_challenge_follower_count = go.Figure()\n",
    "fig_challenge_follower_count.add_trace(\n",
    "    go.Violin(\n",
    "        x=df_azureml['Challenge_topic_higher_level'],\n",
    "        y=df_azureml['Challenge_follower_count'],\n",
    "        meanline_visible=True,\n",
    "        line_color='blue',\n",
    "        side='positive',\n",
    "        opacity=0.5,\n",
    "        legendgroup='SageMaker',\n",
    "        scalegroup='SageMaker',\n",
    "        name='SageMaker',\n",
    "    ))\n",
    "fig_challenge_follower_count.add_trace(\n",
    "    go.Violin(\n",
    "        x=df_sagemaker['Challenge_topic_higher_level'],\n",
    "        y=df_sagemaker['Challenge_follower_count'],\n",
    "        meanline_visible=True,\n",
    "        line_color='orange',\n",
    "        side='negative',\n",
    "        opacity=0.5,\n",
    "        legendgroup='AzureML',\n",
    "        scalegroup='AzureML',\n",
    "        name='AzureML',\n",
    "    ))\n",
    "fig_challenge_follower_count.update_layout(\n",
    "    height=1000,\n",
    "    width=2000,\n",
    "    font=dict(size=20),\n",
    "    margin=dict(l=0, r=0, t=0, b=0),\n",
    "    violingap=0,\n",
    "    violinmode='overlay',\n",
    ")\n",
    "fig_challenge_follower_count.write_image(os.path.join(\n",
    "    path_challenge_azureml_sagemaker, 'Challenge follower count.png'))\n",
    "\n",
    "# Challenge link count\n",
    "fig_challenge_link_count = go.Figure()\n",
    "fig_challenge_link_count.add_trace(\n",
    "    go.Violin(\n",
    "        x=df_azureml['Challenge_topic_higher_level'],\n",
    "        y=df_azureml['Challenge_link_count'],\n",
    "        meanline_visible=True,\n",
    "        line_color='blue',\n",
    "        side='positive',\n",
    "        opacity=0.5,\n",
    "        legendgroup='SageMaker',\n",
    "        scalegroup='SageMaker',\n",
    "        name='SageMaker',\n",
    "    ))\n",
    "fig_challenge_link_count.add_trace(\n",
    "    go.Violin(\n",
    "        x=df_sagemaker['Challenge_topic_higher_level'],\n",
    "        y=df_sagemaker['Challenge_link_count'],\n",
    "        meanline_visible=True,\n",
    "        line_color='orange',\n",
    "        side='negative',\n",
    "        opacity=0.5,\n",
    "        legendgroup='AzureML',\n",
    "        scalegroup='AzureML',\n",
    "        name='AzureML',\n",
    "    ))\n",
    "fig_challenge_link_count.update_layout(\n",
    "    height=1000,\n",
    "    width=2000,\n",
    "    font=dict(size=20),\n",
    "    margin=dict(l=0, r=0, t=0, b=0),\n",
    "    violingap=0,\n",
    "    violinmode='overlay',\n",
    ")\n",
    "fig_challenge_link_count.write_image(os.path.join(\n",
    "    path_challenge_azureml_sagemaker, 'Challenge link count.png'))\n",
    "\n",
    "# Challenge readability\n",
    "fig_challenge_readability = go.Figure()\n",
    "fig_challenge_readability.add_trace(\n",
    "    go.Violin(\n",
    "        x=df_azureml['Challenge_topic_higher_level'],\n",
    "        y=df_azureml['Challenge_readability'],\n",
    "        meanline_visible=True,\n",
    "        line_color='blue',\n",
    "        side='positive',\n",
    "        opacity=0.5,\n",
    "        legendgroup='SageMaker',\n",
    "        scalegroup='SageMaker',\n",
    "        name='SageMaker',\n",
    "    ))\n",
    "fig_challenge_readability.add_trace(\n",
    "    go.Violin(\n",
    "        x=df_sagemaker['Challenge_topic_higher_level'],\n",
    "        y=df_sagemaker['Challenge_readability'],\n",
    "        meanline_visible=True,\n",
    "        line_color='orange',\n",
    "        side='negative',\n",
    "        opacity=0.5,\n",
    "        legendgroup='AzureML',\n",
    "        scalegroup='AzureML',\n",
    "        name='AzureML',\n",
    "    ))\n",
    "fig_challenge_readability.update_layout(\n",
    "    height=1000,\n",
    "    width=2000,\n",
    "    font=dict(size=20),\n",
    "    margin=dict(l=0, r=0, t=0, b=0),\n",
    "    violingap=0,\n",
    "    violinmode='overlay',\n",
    ")\n",
    "fig_challenge_readability.write_image(os.path.join(\n",
    "    path_challenge_azureml_sagemaker, 'Challenge readability.png'))\n",
    "\n",
    "# Challenge view count\n",
    "fig_challenge_view_count = go.Figure()\n",
    "fig_challenge_view_count.add_trace(\n",
    "    go.Violin(\n",
    "        x=df_azureml['Challenge_topic_higher_level'],\n",
    "        y=df_azureml['Challenge_view_count'],\n",
    "        meanline_visible=True,\n",
    "        line_color='blue',\n",
    "        side='positive',\n",
    "        opacity=0.5,\n",
    "        legendgroup='SageMaker',\n",
    "        scalegroup='SageMaker',\n",
    "        name='SageMaker',\n",
    "    ))\n",
    "fig_challenge_view_count.add_trace(\n",
    "    go.Violin(\n",
    "        x=df_sagemaker['Challenge_topic_higher_level'],\n",
    "        y=df_sagemaker['Challenge_view_count'],\n",
    "        meanline_visible=True,\n",
    "        line_color='orange',\n",
    "        side='negative',\n",
    "        opacity=0.5,\n",
    "        legendgroup='AzureML',\n",
    "        scalegroup='AzureML',\n",
    "        name='AzureML',\n",
    "    ))\n",
    "fig_challenge_view_count.update_layout(\n",
    "    height=1000,\n",
    "    width=2000,\n",
    "    font=dict(size=20),\n",
    "    margin=dict(l=0, r=0, t=0, b=0),\n",
    "    violingap=0,\n",
    "    violinmode='overlay',\n",
    ")\n",
    "fig_challenge_view_count.write_image(os.path.join(\n",
    "    path_challenge_azureml_sagemaker, 'Challenge view count.png'))\n",
    "\n",
    "# Challenge answer count\n",
    "fig_challenge_answer_count = go.Figure()\n",
    "fig_challenge_answer_count.add_trace(\n",
    "    go.Violin(\n",
    "        x=df_azureml['Challenge_topic_higher_level'],\n",
    "        y=df_azureml['Challenge_answer_count'],\n",
    "        meanline_visible=True,\n",
    "        line_color='blue',\n",
    "        side='positive',\n",
    "        opacity=0.5,\n",
    "        legendgroup='SageMaker',\n",
    "        scalegroup='SageMaker',\n",
    "        name='SageMaker',\n",
    "    ))\n",
    "fig_challenge_answer_count.add_trace(\n",
    "    go.Violin(\n",
    "        x=df_sagemaker['Challenge_topic_higher_level'],\n",
    "        y=df_sagemaker['Challenge_answer_count'],\n",
    "        meanline_visible=True,\n",
    "        line_color='orange',\n",
    "        side='negative',\n",
    "        opacity=0.5,\n",
    "        legendgroup='AzureML',\n",
    "        scalegroup='AzureML',\n",
    "        name='AzureML',\n",
    "    ))\n",
    "fig_challenge_answer_count.update_layout(\n",
    "    height=1000,\n",
    "    width=2000,\n",
    "    font=dict(size=20),\n",
    "    margin=dict(l=0, r=0, t=0, b=0),\n",
    "    violingap=0,\n",
    "    violinmode='overlay',\n",
    ")\n",
    "fig_challenge_answer_count.write_image(os.path.join(\n",
    "    path_challenge_azureml_sagemaker, 'Challenge answer count.png'))\n",
    "\n",
    "# Challenge comment count\n",
    "fig_challenge_comment_count = go.Figure()\n",
    "fig_challenge_comment_count.add_trace(\n",
    "    go.Violin(\n",
    "        x=df_azureml['Challenge_topic_higher_level'],\n",
    "        y=df_azureml['Challenge_comment_count'],\n",
    "        meanline_visible=True,\n",
    "        line_color='blue',\n",
    "        side='positive',\n",
    "        opacity=0.5,\n",
    "        legendgroup='SageMaker',\n",
    "        scalegroup='SageMaker',\n",
    "        name='SageMaker',\n",
    "    ))\n",
    "fig_challenge_comment_count.add_trace(\n",
    "    go.Violin(\n",
    "        x=df_sagemaker['Challenge_topic_higher_level'],\n",
    "        y=df_sagemaker['Challenge_comment_count'],\n",
    "        meanline_visible=True,\n",
    "        line_color='orange',\n",
    "        side='negative',\n",
    "        opacity=0.5,\n",
    "        legendgroup='AzureML',\n",
    "        scalegroup='AzureML',\n",
    "        name='AzureML',\n",
    "    ))\n",
    "fig_challenge_comment_count.update_layout(\n",
    "    height=1000,\n",
    "    width=2000,\n",
    "    font=dict(size=20),\n",
    "    margin=dict(l=0, r=0, t=0, b=0),\n",
    "    violingap=0,\n",
    "    violinmode='overlay',\n",
    ")\n",
    "fig_challenge_comment_count.write_image(os.path.join(\n",
    "    path_challenge_azureml_sagemaker, 'Challenge comment count.png'))\n",
    "\n",
    "fig_challenge_solved_time_sagemaker = go.Figure()\n",
    "fig_challenge_solved_time_azureml = go.Figure()\n",
    "fig_challenge_adjusted_solved_time_sagemaker = go.Figure()\n",
    "fig_challenge_adjusted_solved_time_azureml = go.Figure()\n",
    "\n",
    "for name_group, color in zip(df_challenge.groupby('Challenge_topic_higher_level'), colors):\n",
    "    name, group = name_group\n",
    "    sagemaker = group[group['Tool'] == 'Amazon SageMaker']\n",
    "    azureml = group[group['Tool'] == 'Azure Machine Learning']\n",
    "\n",
    "    fig_challenge_solved_time_sagemaker.add_trace(go.Violin(\n",
    "        x=sagemaker['Challenge_solved_time'], y=sagemaker['Challenge_topic_higher_level'], line_color=color))\n",
    "    fig_challenge_solved_time_azureml.add_trace(go.Violin(\n",
    "        x=azureml['Challenge_solved_time'], y=azureml['Challenge_topic_higher_level'], line_color=color))\n",
    "    fig_challenge_adjusted_solved_time_sagemaker.add_trace(go.Violin(\n",
    "        x=sagemaker['Challenge_adjusted_solved_time'], y=sagemaker['Challenge_topic_higher_level'], line_color=color))\n",
    "    fig_challenge_adjusted_solved_time_azureml.add_trace(go.Violin(\n",
    "        x=azureml['Challenge_adjusted_solved_time'], y=azureml['Challenge_topic_higher_level'], line_color=color))\n",
    "\n",
    "    # Challenge score\n",
    "    challenge_score_azureml = azureml[azureml['Challenge_score'].notna(\n",
    "    )]['Challenge_score']\n",
    "    challenge_score_sagemaker = sagemaker[sagemaker['Challenge_score'].notna(\n",
    "    )]['Challenge_score']\n",
    "    if len(challenge_score_azureml) * len(challenge_score_sagemaker) > 0:\n",
    "        _, p = mannwhitneyu(challenge_score_azureml, challenge_score_sagemaker)\n",
    "        if p < alpha:\n",
    "            print(\n",
    "                f'p = {p}, indicating different distribution of SageMaker vs AzureML challenge regarding higher level topic {name} in challenge score')\n",
    "\n",
    "    # Challenge favorite count\n",
    "    challenge_favorite_count_azureml = azureml[azureml['Challenge_favorite_count'].notna(\n",
    "    )]['Challenge_favorite_count']\n",
    "    challenge_favorite_count_sagemaker = sagemaker[sagemaker['Challenge_favorite_count'].notna(\n",
    "    )]['Challenge_favorite_count']\n",
    "    if len(challenge_favorite_count_azureml) * len(challenge_favorite_count_sagemaker) > 0:\n",
    "        _, p = mannwhitneyu(challenge_favorite_count_azureml,\n",
    "                            challenge_favorite_count_sagemaker)\n",
    "        if p < alpha:\n",
    "            print(\n",
    "                f'p = {p}, indicating different distribution of SageMaker vs AzureML challenge regarding higher level topic {name} in challenge favorite count')\n",
    "\n",
    "    # Challenge follower count\n",
    "    challenge_follower_count_azureml = azureml[azureml['Challenge_follower_count'].notna(\n",
    "    )]['Challenge_follower_count']\n",
    "    challenge_follower_count_sagemaker = sagemaker[sagemaker['Challenge_follower_count'].notna(\n",
    "    )]['Challenge_follower_count']\n",
    "    if len(challenge_follower_count_azureml) * len(challenge_follower_count_sagemaker) > 0:\n",
    "        _, p = mannwhitneyu(challenge_follower_count_azureml,\n",
    "                            challenge_follower_count_sagemaker)\n",
    "        if p < alpha:\n",
    "            print(\n",
    "                f'p = {p}, indicating different distribution of SageMaker vs AzureML challenge regarding higher level topic {name} in challenge follower count')\n",
    "\n",
    "    # Challenge link count\n",
    "    challenge_link_count_azureml = azureml[azureml['Challenge_link_count'].notna(\n",
    "    )]['Challenge_link_count']\n",
    "    challenge_link_count_sagemaker = sagemaker[sagemaker['Challenge_link_count'].notna(\n",
    "    )]['Challenge_link_count']\n",
    "    if len(challenge_link_count_azureml) * len(challenge_link_count_sagemaker) > 0:\n",
    "        _, p = mannwhitneyu(challenge_link_count_azureml,\n",
    "                            challenge_link_count_sagemaker)\n",
    "        if p < alpha:\n",
    "            print(\n",
    "                f'p = {p}, indicating different distribution of SageMaker vs AzureML challenge regarding higher level topic {name} in challenge link count')\n",
    "\n",
    "    # Challenge readability\n",
    "    challenge_readability_azureml = azureml[azureml['Challenge_readability'].notna(\n",
    "    )]['Challenge_readability']\n",
    "    challenge_readability_sagemaker = sagemaker[sagemaker['Challenge_readability'].notna(\n",
    "    )]['Challenge_readability']\n",
    "    if len(challenge_readability_azureml) * len(challenge_readability_sagemaker) > 0:\n",
    "        _, p = mannwhitneyu(challenge_readability_azureml,\n",
    "                            challenge_readability_sagemaker)\n",
    "        if p < alpha:\n",
    "            print(\n",
    "                f'p = {p}, indicating different distribution of SageMaker vs AzureML challenge regarding higher level topic {name} in challenge readability')\n",
    "\n",
    "    # Challenge view count\n",
    "    challenge_view_count_azureml = azureml[azureml['Challenge_view_count'].notna(\n",
    "    )]['Challenge_view_count']\n",
    "    challenge_view_count_sagemaker = sagemaker[sagemaker['Challenge_view_count'].notna(\n",
    "    )]['Challenge_view_count']\n",
    "    if len(challenge_view_count_azureml) * len(challenge_view_count_sagemaker) > 0:\n",
    "        _, p = mannwhitneyu(challenge_view_count_azureml,\n",
    "                            challenge_view_count_sagemaker)\n",
    "        if p < alpha:\n",
    "            print(\n",
    "                f'p = {p}, indicating different distribution of SageMaker vs AzureML challenge regarding higher level topic {name} in challenge answer count')\n",
    "\n",
    "    # Challenge answer count\n",
    "    challenge_answer_count_azureml = azureml[azureml['Challenge_answer_count'].notna(\n",
    "    )]['Challenge_answer_count']\n",
    "    challenge_answer_count_sagemaker = sagemaker[sagemaker['Challenge_answer_count'].notna(\n",
    "    )]['Challenge_answer_count']\n",
    "    if len(challenge_answer_count_azureml) * len(challenge_answer_count_sagemaker) > 0:\n",
    "        _, p = mannwhitneyu(challenge_answer_count_azureml,\n",
    "                            challenge_answer_count_sagemaker)\n",
    "        if p < alpha:\n",
    "            print(\n",
    "                f'p = {p}, indicating different distribution of SageMaker vs AzureML challenge regarding higher level topic {name} in challenge answer count')\n",
    "\n",
    "    # Challenge comment count\n",
    "    challenge_comment_count_azureml = azureml[azureml['Challenge_comment_count'].notna(\n",
    "    )]['Challenge_comment_count']\n",
    "    challenge_comment_count_sagemaker = sagemaker[sagemaker['Challenge_comment_count'].notna(\n",
    "    )]['Challenge_comment_count']\n",
    "    if len(challenge_comment_count_azureml) * len(challenge_comment_count_sagemaker) > 0:\n",
    "        _, p = mannwhitneyu(challenge_comment_count_azureml,\n",
    "                            challenge_comment_count_sagemaker)\n",
    "        if p < alpha:\n",
    "            print(\n",
    "                f'p = {p}, indicating different distribution of SageMaker vs AzureML challenge regarding higher level topic {name} in challenge comment count')\n",
    "\n",
    "fig_challenge_solved_time_sagemaker.update_traces(\n",
    "    orientation='h', meanline_visible=True, side='positive', width=3, points=False)\n",
    "fig_challenge_solved_time_sagemaker.update_layout(\n",
    "    height=1000,\n",
    "    width=2000,\n",
    "    font=dict(size=20),\n",
    "    margin=dict(l=0, r=0, t=0, b=0),\n",
    "    violingap=0,\n",
    "    violinmode='overlay',\n",
    "    xaxis_showgrid=False,\n",
    "    xaxis_zeroline=False,\n",
    "    showlegend=False,\n",
    "    xaxis_title='Challenge solved time (hours) - AzureML',\n",
    ")\n",
    "fig_challenge_solved_time_sagemaker.write_image(os.path.join(\n",
    "    path_challenge_azureml_sagemaker, 'Challenge solved time (AzureML).png'))\n",
    "\n",
    "fig_challenge_solved_time_azureml.update_traces(\n",
    "    orientation='h', meanline_visible=True, side='positive', width=3, points=False)\n",
    "fig_challenge_solved_time_azureml.update_layout(\n",
    "    height=1000,\n",
    "    width=2000,\n",
    "    font=dict(size=20),\n",
    "    margin=dict(l=0, r=0, t=0, b=0),\n",
    "    violingap=0,\n",
    "    violinmode='overlay',\n",
    "    xaxis_showgrid=False,\n",
    "    xaxis_zeroline=False,\n",
    "    showlegend=False,\n",
    "    xaxis_title='Challenge solved time (hours) - SageMaker',\n",
    ")\n",
    "fig_challenge_solved_time_azureml.write_image(os.path.join(\n",
    "    path_challenge_azureml_sagemaker, 'Challenge solved time (SageMaker).png'))\n",
    "\n",
    "fig_challenge_adjusted_solved_time_sagemaker.update_traces(\n",
    "    orientation='h', meanline_visible=True, side='positive', width=3, points=False)\n",
    "fig_challenge_adjusted_solved_time_sagemaker.update_layout(\n",
    "    height=1000,\n",
    "    width=2000,\n",
    "    font=dict(size=20),\n",
    "    margin=dict(l=0, r=0, t=0, b=0),\n",
    "    violingap=0,\n",
    "    violinmode='overlay',\n",
    "    xaxis_showgrid=False,\n",
    "    xaxis_zeroline=False,\n",
    "    showlegend=False,\n",
    "    xaxis_title='Challenge adjusted solved time (hours) - AzureML',\n",
    ")\n",
    "fig_challenge_adjusted_solved_time_sagemaker.write_image(os.path.join(\n",
    "    path_challenge_azureml_sagemaker, 'Challenge adjusted solved time (AzureML).png'))\n",
    "\n",
    "fig_challenge_adjusted_solved_time_azureml.update_traces(\n",
    "    orientation='h', meanline_visible=True, side='positive', width=3, points=False)\n",
    "fig_challenge_adjusted_solved_time_azureml.update_layout(\n",
    "    height=1000,\n",
    "    width=2000,\n",
    "    font=dict(size=20),\n",
    "    margin=dict(l=0, r=0, t=0, b=0),\n",
    "    violingap=0,\n",
    "    violinmode='overlay',\n",
    "    xaxis_showgrid=False,\n",
    "    xaxis_zeroline=False,\n",
    "    showlegend=False,\n",
    "    xaxis_title='Challenge adjusted solved time (hours) - SageMaker',\n",
    ")\n",
    "fig_challenge_adjusted_solved_time_azureml.write_image(os.path.join(\n",
    "    path_challenge_azureml_sagemaker, 'Challenge adjusted solved time (SageMaker).png'))\n",
    "\n",
    "# Challenge hgher level mean solved time\n",
    "challenge_mean_solved_time_azureml = df_azureml[['Challenge_topic_higher_level', 'Challenge_solved_time']].groupby(\n",
    "    'Challenge_topic_higher_level').mean()['Challenge_solved_time']\n",
    "challenge_mean_solved_time_sagemaker = df_sagemaker[['Challenge_topic_higher_level', 'Challenge_solved_time']].groupby(\n",
    "    'Challenge_topic_higher_level').mean()['Challenge_solved_time']\n",
    "_, p = mannwhitneyu(challenge_mean_solved_time_azureml,\n",
    "                    challenge_mean_solved_time_sagemaker)\n",
    "if p < alpha:\n",
    "    print(f'p = {p}, indicating different distribution of SageMaker vs AzureML in higher level mean challenge solved time')\n",
    "\n",
    "# Challenge hgher level median solved time\n",
    "challenge_median_solved_time_azureml = df_azureml[['Challenge_topic_higher_level', 'Challenge_solved_time']].groupby(\n",
    "    'Challenge_topic_higher_level').median()['Challenge_solved_time']\n",
    "challenge_median_solved_time_sagemaker = df_sagemaker[['Challenge_topic_higher_level', 'Challenge_solved_time']].groupby(\n",
    "    'Challenge_topic_higher_level').median()['Challenge_solved_time']\n",
    "_, p = mannwhitneyu(challenge_median_solved_time_azureml,\n",
    "                    challenge_median_solved_time_sagemaker)\n",
    "if p < alpha:\n",
    "    print(f'p = {p}, indicating different distribution of SageMaker vs AzureML in higher level median challenge solved time')\n",
    "\n",
    "# Challenge hgher level adjusted mean solved time\n",
    "challenge_adjusted_mean_solved_time_azureml = df_azureml[['Challenge_topic_higher_level', 'Challenge_adjusted_solved_time']].groupby(\n",
    "    'Challenge_topic_higher_level').mean()['Challenge_adjusted_solved_time']\n",
    "challenge_adjusted_mean_solved_time_sagemaker = df_sagemaker[['Challenge_topic_higher_level', 'Challenge_adjusted_solved_time']].groupby(\n",
    "    'Challenge_topic_higher_level').mean()['Challenge_adjusted_solved_time']\n",
    "_, p = mannwhitneyu(challenge_adjusted_mean_solved_time_azureml,\n",
    "                    challenge_adjusted_mean_solved_time_sagemaker)\n",
    "if p < alpha:\n",
    "    print(f'p = {p}, indicating different distribution of SageMaker vs AzureML in higher level adjusted mean challenge solved time')\n",
    "\n",
    "# Challenge hgher level adjusted median solved time\n",
    "challenge_adjusted_median_solved_time_azureml = df_azureml[['Challenge_topic_higher_level', 'Challenge_adjusted_solved_time']].groupby(\n",
    "    'Challenge_topic_higher_level').median()['Challenge_adjusted_solved_time']\n",
    "challenge_adjusted_median_solved_time_sagemaker = df_sagemaker[['Challenge_topic_higher_level', 'Challenge_adjusted_solved_time']].groupby(\n",
    "    'Challenge_topic_higher_level').median()['Challenge_adjusted_solved_time']\n",
    "_, p = mannwhitneyu(challenge_adjusted_median_solved_time_azureml,\n",
    "                    challenge_adjusted_median_solved_time_sagemaker)\n",
    "if p < alpha:\n",
    "    print(f'p = {p}, indicating different distribution of SageMaker vs AzureML in higher level adjusted median challenge solved time')"
   ]
  },
  {
   "cell_type": "code",
   "execution_count": 125,
   "metadata": {},
   "outputs": [],
   "source": [
    "df = pd.read_json(os.path.join(path_general, 'assigned.json'))\n",
    "\n",
    "df_topics = []\n",
    "\n",
    "for name, group in df.groupby('Challenge_topic'):\n",
    "    Challenge_count = group['Challenge_topic'].count()\n",
    "    Challenge_solved_ratio = group['Challenge_closed_time'].notna().sum() / Challenge_count\n",
    "    Challenge_mean_score = group['Challenge_score'].mean()\n",
    "    Challenge_mean_favorite_count = group['Challenge_follower_count'].mean()\n",
    "    Challenge_mean_follower_count = group['Challenge_follower_count'].mean()\n",
    "    Challenge_mean_link_count = group['Challenge_link_count'].mean()\n",
    "    Challenge_mean_information_entropy = group['Challenge_information_entropy'].mean()\n",
    "    Challenge_mean_readability = group['Challenge_readability'].mean()\n",
    "    Challenge_mean_sentence_count = group['Challenge_sentence_count'].mean()\n",
    "    Challenge_mean_word_count = group['Challenge_word_count'].mean()\n",
    "    Challenge_mean_unique_word_count = group['Challenge_unique_word_count'].mean()\n",
    "    Challenge_mean_view_count = group['Challenge_view_count'].mean()\n",
    "    Challenge_mean_answer_count = group['Challenge_answer_count'].mean()\n",
    "    Challenge_mean_comment_count = group['Challenge_comment_count'].mean()\n",
    "\n",
    "    Solution_mean_score = group['Solution_score'].mean()\n",
    "    Solution_mean_link_count = group['Solution_link_count'].mean()\n",
    "    Solution_mean_information_entropy = group['Solution_information_entropy'].mean()\n",
    "    Solution_mean_readability = group['Solution_readability'].mean()\n",
    "    Solution_mean_sentence_count = group['Solution_sentence_count'].mean()\n",
    "    Solution_mean_word_count = group['Solution_word_count'].mean()\n",
    "    Solution_mean_unique_word_count = group['Solution_unique_word_count'].mean()\n",
    "    Solution_mean_comment_count = group['Solution_comment_count'].mean()\n",
    "\n",
    "    Challenge_mean_solved_time = group['Challenge_solved_time'].mean()\n",
    "    Challenge_median_solved_time = group['Challenge_solved_time'].median()\n",
    "    Challenge_adjusted_mean_solved_time = group['Challenge_adjusted_solved_time'].mean()\n",
    "    Challenge_adjusted_meadian_solved_time = group['Challenge_adjusted_solved_time'].median()\n",
    "\n",
    "    topic_info = {\n",
    "        'Challenge topic': name,\n",
    "        'Challenge count': Challenge_count,\n",
    "        'Challenge solved ratio': Challenge_solved_ratio,\n",
    "        'Challenge mean score': Challenge_mean_score,\n",
    "        'Challenge mean favorite count': Challenge_mean_favorite_count,\n",
    "        'Challenge mean follower count': Challenge_mean_follower_count,\n",
    "        'Challenge mean link count': Challenge_mean_link_count,\n",
    "        'Challenge mean information entropy': Challenge_mean_information_entropy,\n",
    "        'Challenge mean readability': Challenge_mean_readability,\n",
    "        'Challenge mean sentence count': Challenge_mean_sentence_count,\n",
    "        'Challenge mean word count': Challenge_mean_word_count,\n",
    "        'Challenge mean unique word count': Challenge_mean_unique_word_count,\n",
    "        'Challenge mean view count': Challenge_mean_view_count,\n",
    "        'Challenge mean answer count': Challenge_mean_answer_count,\n",
    "        'Challenge mean comment count': Challenge_mean_comment_count,\n",
    "\n",
    "        'Solution mean score': Solution_mean_score,\n",
    "        'Solution mean link count': Solution_mean_link_count,\n",
    "        'Solution mean information entropy': Solution_mean_information_entropy,\n",
    "        'Solution mean readability': Solution_mean_readability,\n",
    "        'Solution mean sentence count': Solution_mean_sentence_count,\n",
    "        'Solution mean word count': Solution_mean_word_count,\n",
    "        'Solution mean unique word count': Solution_mean_unique_word_count,\n",
    "        'Solution mean comment count': Solution_mean_comment_count,\n",
    "\n",
    "        'Challenge mean solved time': Challenge_mean_solved_time,\n",
    "        'Challenge median solved time': Challenge_median_solved_time,\n",
    "        'Challenge adjusted mean solved time': Challenge_adjusted_mean_solved_time,\n",
    "        'Challenge adjusted median solved time': Challenge_adjusted_meadian_solved_time,\n",
    "    }\n",
    "    df_topics.append(topic_info)\n",
    "\n",
    "df_topics = pd.DataFrame(df_topics)\n",
    "df_topics.to_json(os.path.join(path_challenge, 'general.json'),\n",
    "                  indent=4, orient='records')"
   ]
  },
  {
   "cell_type": "code",
   "execution_count": 129,
   "metadata": {},
   "outputs": [
    {
     "name": "stdout",
     "output_type": "stream",
     "text": [
      "p = 0.0015991239950436504, indicating there is statistically significant correlation between challenge mean link count vs median solved time\n",
      "p = 0.0003168367306850429, indicating there is statistically significant correlation between challenge mean information entropy vs median solved time\n",
      "p = 0.00010628137079463929, indicating there is statistically significant correlation between challenge mean word count vs median solved time\n",
      "p = 4.687577349865672e-05, indicating there is statistically significant correlation between challenge mean sentence count vs median solved time\n",
      "p = 2.9987557433586082e-05, indicating there is statistically significant correlation between challenge mean unique word count vs median solved time\n",
      "p = 0.030424777563564508, indicating there is statistically significant correlation between challenge mean readability vs median solved time\n",
      "p = 0.0003859853481081621, indicating there is statistically significant correlation between challenge median vs mean solved time\n"
     ]
    }
   ],
   "source": [
    "df = pd.read_json(os.path.join(path_challenge, 'general.json'))\n",
    "\n",
    "_, p = pearsonr(df_topics['Challenge mean score'],\n",
    "                df_topics['Challenge solved ratio'])\n",
    "if p < alpha:\n",
    "    print(f'p = {p}, indicating there is statistically significant correlation between challenge solved ratio vs mean score')\n",
    "\n",
    "_, p = pearsonr(df_topics['Challenge mean favorite count'],\n",
    "                df_topics['Challenge solved ratio'])\n",
    "if p < alpha:\n",
    "    print(f'p = {p}, indicating there is statistically significant correlation between challenge solved ratio vs mean favorite count')\n",
    "\n",
    "_, p = pearsonr(df_topics['Challenge mean follower count'],\n",
    "                df_topics['Challenge solved ratio'])\n",
    "if p < alpha:\n",
    "    print(f'p = {p}, indicating there is statistically significant correlation between challenge solved ratio vs mean follower count')\n",
    "\n",
    "_, p = pearsonr(df_topics['Challenge mean link count'],\n",
    "                df_topics['Challenge solved ratio'])\n",
    "if p < alpha:\n",
    "    print(f'p = {p}, indicating there is statistically significant correlation between challenge solved ratio vs mean link count')\n",
    "\n",
    "_, p = pearsonr(df_topics['Challenge mean information entropy'],\n",
    "                df_topics['Challenge solved ratio'])\n",
    "if p < alpha:\n",
    "    print(f'p = {p}, indicating there is statistically significant correlation between challenge solved ratio vs mean information entropy')\n",
    "\n",
    "_, p = pearsonr(df_topics['Challenge mean readability'],\n",
    "                df_topics['Challenge solved ratio'])\n",
    "if p < alpha:\n",
    "    print(f'p = {p}, indicating there is statistically significant correlation between challenge solved ratio vs mean readability')\n",
    "\n",
    "_, p = pearsonr(df_topics['Challenge mean sentence count'],\n",
    "                df_topics['Challenge solved ratio'])\n",
    "if p < alpha:\n",
    "    print(f'p = {p}, indicating there is statistically significant correlation between challenge solved ratio vs mean sentence count')\n",
    "\n",
    "_, p = pearsonr(df_topics['Challenge mean word count'],\n",
    "                df_topics['Challenge solved ratio'])\n",
    "if p < alpha:\n",
    "    print(f'p = {p}, indicating there is statistically significant correlation between challenge solved ratio vs mean word count')\n",
    "    \n",
    "_, p = pearsonr(df_topics['Challenge mean unique word count'],\n",
    "                df_topics['Challenge solved ratio'])\n",
    "if p < alpha:\n",
    "    print(f'p = {p}, indicating there is statistically significant correlation between challenge solved ratio vs mean unique word count')\n",
    "        \n",
    "_, p = pearsonr(df_topics['Challenge mean view count'],\n",
    "                df_topics['Challenge solved ratio'])\n",
    "if p < alpha:\n",
    "    print(f'p = {p}, indicating there is statistically significant correlation between challenge solved ratio vs mean view count')\n",
    "      \n",
    "_, p = pearsonr(df_topics['Challenge mean answer count'],\n",
    "                df_topics['Challenge solved ratio'])\n",
    "if p < alpha:\n",
    "    print(f'p = {p}, indicating there is statistically significant correlation between challenge solved ratio vs mean answer count')\n",
    "      \n",
    "_, p = pearsonr(df_topics['Challenge mean comment count'],\n",
    "                df_topics['Challenge solved ratio'])\n",
    "if p < alpha:\n",
    "    print(f'p = {p}, indicating there is statistically significant correlation between challenge solved ratio vs mean comment count')\n",
    "  \n",
    "_, p = pearsonr(df_topics['Challenge solved ratio'],\n",
    "                df_topics['Challenge median solved time'])\n",
    "if p < alpha:\n",
    "    print(f'p = {p}, indicating there is statistically significant correlation between challenge solved ratio vs median solved time')\n",
    "\n",
    "_, p = pearsonr(df_topics['Challenge mean score'],\n",
    "                df_topics['Challenge median solved time'])\n",
    "if p < alpha:\n",
    "    print(f'p = {p}, indicating there is statistically significant correlation between challenge mean score vs median solved time')\n",
    "\n",
    "_, p = pearsonr(df_topics['Challenge mean favorite count'],\n",
    "                df_topics['Challenge median solved time'])\n",
    "if p < alpha:\n",
    "    print(f'p = {p}, indicating there is statistically significant correlation between challenge mean favorite count vs median solved time')\n",
    "\n",
    "_, p = pearsonr(df_topics['Challenge mean follower count'],\n",
    "                df_topics['Challenge median solved time'])\n",
    "if p < alpha:\n",
    "    print(f'p = {p}, indicating there is statistically significant correlation between challenge mean follower count vs median solved time')\n",
    "\n",
    "_, p = pearsonr(df_topics['Challenge mean link count'],\n",
    "                df_topics['Challenge median solved time'])\n",
    "if p < alpha:\n",
    "    print(f'p = {p}, indicating there is statistically significant correlation between challenge mean link count vs median solved time')\n",
    "\n",
    "_, p = pearsonr(df_topics['Challenge mean information entropy'],\n",
    "                df_topics['Challenge median solved time'])\n",
    "if p < alpha:\n",
    "    print(f'p = {p}, indicating there is statistically significant correlation between challenge mean information entropy vs median solved time')\n",
    "\n",
    "_, p = pearsonr(df_topics['Challenge mean word count'],\n",
    "                df_topics['Challenge median solved time'])\n",
    "if p < alpha:\n",
    "    print(f'p = {p}, indicating there is statistically significant correlation between challenge mean word count vs median solved time')\n",
    "\n",
    "_, p = pearsonr(df_topics['Challenge mean sentence count'],\n",
    "                df_topics['Challenge median solved time'])\n",
    "if p < alpha:\n",
    "    print(f'p = {p}, indicating there is statistically significant correlation between challenge mean sentence count vs median solved time')\n",
    "    \n",
    "_, p = pearsonr(df_topics['Challenge mean unique word count'],\n",
    "                df_topics['Challenge median solved time'])\n",
    "if p < alpha:\n",
    "    print(f'p = {p}, indicating there is statistically significant correlation between challenge mean unique word count vs median solved time')\n",
    "\n",
    "_, p = pearsonr(df_topics['Challenge mean readability'],\n",
    "                df_topics['Challenge median solved time'])\n",
    "if p < alpha:\n",
    "    print(f'p = {p}, indicating there is statistically significant correlation between challenge mean readability vs median solved time')\n",
    "\n",
    "_, p = pearsonr(df_topics['Challenge mean view count'],\n",
    "                df_topics['Challenge median solved time'])\n",
    "if p < alpha:\n",
    "    print(f'p = {p}, indicating there is statistically significant correlation between challenge mean view count vs median solved time')\n",
    "\n",
    "_, p = pearsonr(df_topics['Challenge mean comment count'],\n",
    "                df_topics['Challenge median solved time'])\n",
    "if p < alpha:\n",
    "    print(f'p = {p}, indicating there is statistically significant correlation between challenge mean comment count vs median solved time')\n",
    "\n",
    "_, p = pearsonr(df_topics['Challenge mean answer count'],\n",
    "                df_topics['Challenge median solved time'])\n",
    "if p < alpha:\n",
    "    print(f'p = {p}, indicating there is statistically significant correlation between challenge mean answer count vs median solved time')\n",
    "\n",
    "_, p = pearsonr(df_topics['Challenge mean solved time'],\n",
    "                df_topics['Challenge median solved time'])\n",
    "if p < alpha:\n",
    "    print(f'p = {p}, indicating there is statistically significant correlation between challenge median vs mean solved time')\n",
    "\n",
    "_, p = pearsonr(df_topics['Challenge adjusted mean solved time'],\n",
    "                df_topics['Challenge adjusted median solved time'])\n",
    "if p < alpha:\n",
    "    print(f'p = {p}, indicating there is statistically significant correlation between challenge adjusted median vs mean solved time')\n",
    "\n",
    "# Plot median solved time against mean solved time for each topic using count ratio as size\n",
    "fig = px.scatter(df_topics, y=\"Challenge median solved time\", x=\"Challenge mean solved time\",\n",
    "                 color=\"Challenge topic\", hover_name=\"Challenge topic\", size=\"Challenge count\", trendline=\"ols\")\n",
    "fig.update_layout(\n",
    "    width=2000,\n",
    "    height=1000,\n",
    "    margin=dict(l=0, r=0, t=0, b=0))\n",
    "fig.write_image(os.path.join(path_challenge, 'Challenge median vs mean solved time.png'))\n",
    "\n",
    "# Plot adjusted median solved time against adjusted mean solved time for each topic using count ratio as size\n",
    "fig = px.scatter(df_topics, y=\"Challenge adjusted median solved time\", x=\"Challenge adjusted mean solved time\",\n",
    "                 color=\"Challenge topic\", hover_name=\"Challenge topic\", size=\"Challenge count\", trendline=\"ols\")\n",
    "fig.update_layout(\n",
    "    width=2000,\n",
    "    height=1000,\n",
    "    margin=dict(l=0, r=0, t=0, b=0))\n",
    "fig.write_image(os.path.join(path_challenge, 'Challenge adjusted median vs mean solved time.png'))"
   ]
  },
  {
   "cell_type": "code",
   "execution_count": null,
   "metadata": {},
   "outputs": [
    {
     "data": {
      "application/vnd.plotly.v1+json": {
       "config": {
        "plotlyServerURL": "https://plot.ly"
       },
       "data": [
        {
         "hovertemplate": "<b>%{hovertext}</b><br><br>Mean solved time=%{x}<br>Median solved time=%{y}<br>Count ratio=%{marker.size}<br>Topic=%{marker.color}<extra></extra>",
         "hovertext": [
          0,
          1,
          10,
          11,
          12,
          13,
          14,
          15,
          16,
          17,
          18,
          19,
          2,
          20,
          21,
          22,
          23,
          24,
          25,
          26,
          27,
          28,
          29,
          3,
          30,
          31,
          32,
          33,
          34,
          35,
          36,
          37,
          38,
          39,
          4,
          40,
          41,
          42,
          43,
          5,
          6,
          7,
          8,
          9
         ],
         "legendgroup": "",
         "marker": {
          "color": [
           0,
           1,
           10,
           11,
           12,
           13,
           14,
           15,
           16,
           17,
           18,
           19,
           2,
           20,
           21,
           22,
           23,
           24,
           25,
           26,
           27,
           28,
           29,
           3,
           30,
           31,
           32,
           33,
           34,
           35,
           36,
           37,
           38,
           39,
           4,
           40,
           41,
           42,
           43,
           5,
           6,
           7,
           8,
           9
          ],
          "coloraxis": "coloraxis",
          "size": [
           8.4619535888,
           5.9039395575,
           3.7560712358,
           2.4716675661,
           1.2951969778999999,
           2.6983270372,
           1.5110631409000002,
           2.2342147868,
           2.9249865084,
           1.4139233675,
           1.8996222342,
           1.4570966001,
           3.3675121425,
           1.2844036697,
           1.4678899083,
           1.5866162979,
           0.9390178090000001,
           2.4284943334999998,
           0.9282245008000001,
           2.4284943334999998,
           1.0793308149,
           0.7663248786,
           1.3923367512,
           4.0366972477,
           1.0685375067,
           1.5866162979,
           1.0685375067,
           1.2196438208,
           0.5396654074,
           0.8850512682,
           4.1770102536,
           1.7269293038,
           3.3783054506,
           2.8386400432,
           3.6913113869,
           1.014570966,
           3.2271991365,
           2.1586616298,
           1.5866162979,
           2.7738801943,
           1.8456556935,
           4.0474905559,
           1.7161359957,
           1.7161359957
          ],
          "sizemode": "area",
          "sizeref": 0.021154883972,
          "symbol": "circle"
         },
         "mode": "markers",
         "name": "",
         "orientation": "v",
         "showlegend": false,
         "type": "scatter",
         "x": [
          578.4124317797,
          293.9108446995,
          463.2335578221,
          338.7636674576,
          197.3053580651,
          582.4283534763,
          118.6823469765,
          146.1042958382,
          226.4945161052,
          101.3407338492,
          171.8060214835,
          351.9679595309,
          623.6921893492,
          437.7347737153,
          211.2731726957,
          318.4791367801,
          979.6206781482,
          178.5052553357,
          137.2475566389,
          273.4520006415,
          389.3961056838,
          142.2223923333,
          146.3075010147,
          260.7483791777,
          690.4933746368,
          238.3664082937,
          199.7369593939,
          390.4885579514,
          130.6095485185,
          246.9253569742,
          246.719647902,
          449.0519050143,
          353.1045914826,
          504.1765208371,
          276.5343495166,
          777.0313674074,
          262.6949156727,
          125.9334437477,
          406.9399564251,
          578.4063895455,
          462.0911602431,
          369.3205178813,
          383.5106586193,
          319.9786934097
         ],
         "xaxis": "x",
         "y": [
          24.1450022222,
          23.4367558333,
          47.8624777778,
          13.2357005556,
          18.5982666667,
          91.9724823611,
          31.3555654167,
          17.6541272222,
          24.7825569445,
          24.8024372222,
          10.7241647222,
          39.9339302778,
          44.3762386111,
          26.0612581944,
          12.1208140278,
          43.2314219444,
          39.2214844445,
          32.9775055556,
          42.4155234722,
          18.0198879167,
          27.1444840278,
          58.5243405556,
          6.8781394444,
          29.9698797222,
          90.2757661111,
          6.9030891667,
          8.4690644444,
          28.38799125,
          67.1714023611,
          24.0506027778,
          18.4475338889,
          14.6736786111,
          19.77049,
          37.6439279167,
          14.9208969444,
          11.5363191667,
          24.0739286111,
          27.4099408334,
          14.4911426389,
          58.57324625,
          47.2822068056,
          19.931705,
          27.6802179167,
          37.6094661111
         ],
         "yaxis": "y"
        },
        {
         "hovertemplate": "<b>OLS trendline</b><br>Median solved time = 21.897 * log10(Mean solved time) + -23.4575<br>R<sup>2</sup>=0.072302<br><br>Mean solved time=%{x}<br>Median solved time=%{y} <b>(trend)</b><extra></extra>",
         "legendgroup": "",
         "marker": {
          "symbol": "circle"
         },
         "mode": "lines",
         "name": "",
         "showlegend": false,
         "type": "scatter",
         "x": [
          101.3407338492,
          118.6823469765,
          125.9334437477,
          130.6095485185,
          137.2475566389,
          142.2223923333,
          146.1042958382,
          146.3075010147,
          171.8060214835,
          178.5052553357,
          197.3053580651,
          199.7369593939,
          211.2731726957,
          226.4945161052,
          238.3664082937,
          246.719647902,
          246.9253569742,
          260.7483791777,
          262.6949156727,
          273.4520006415,
          276.5343495166,
          293.9108446995,
          318.4791367801,
          319.9786934097,
          338.7636674576,
          351.9679595309,
          353.1045914826,
          369.3205178813,
          383.5106586193,
          389.3961056838,
          390.4885579514,
          406.9399564251,
          437.7347737153,
          449.0519050143,
          462.0911602431,
          463.2335578221,
          504.1765208371,
          578.4063895455,
          578.4124317797,
          582.4283534763,
          623.6921893492,
          690.4933746368,
          777.0313674074,
          979.6206781482
         ],
         "xaxis": "x",
         "y": [
          20.463219291933658,
          21.965400888538905,
          22.529357793249055,
          22.876071996915893,
          23.347508266361693,
          23.686109828803243,
          23.94219568245689,
          23.955412880597123,
          25.483207590337038,
          25.84697469578415,
          26.799229799204483,
          26.915712238786853,
          27.449691375144997,
          28.111273622584385,
          28.597110862420575,
          28.924661564158473,
          28.932587274145785,
          29.450581742078143,
          29.52131022854687,
          29.90296309206123,
          30.00955736747453,
          30.589095599510795,
          31.35254367682698,
          31.397215214847133,
          31.939730804903284,
          32.303359497252266,
          32.33402046667186,
          32.76101404182055,
          33.119556012202864,
          33.264386567899955,
          33.29102887485099,
          33.68346785632322,
          34.377181297243865,
          34.61992067047557,
          34.89212518009535,
          34.915606515081784,
          35.721036168142064,
          37.027203984794866,
          37.02730332651184,
          37.0931014887207,
          37.74405183732226,
          38.71166415598501,
          39.834522550805914,
          42.037788074826494
         ],
         "yaxis": "y"
        }
       ],
       "layout": {
        "coloraxis": {
         "colorbar": {
          "title": {
           "text": "Challenge topic"
          }
         },
         "colorscale": [
          [
           0,
           "#0d0887"
          ],
          [
           0.1111111111111111,
           "#46039f"
          ],
          [
           0.2222222222222222,
           "#7201a8"
          ],
          [
           0.3333333333333333,
           "#9c179e"
          ],
          [
           0.4444444444444444,
           "#bd3786"
          ],
          [
           0.5555555555555556,
           "#d8576b"
          ],
          [
           0.6666666666666666,
           "#ed7953"
          ],
          [
           0.7777777777777778,
           "#fb9f3a"
          ],
          [
           0.8888888888888888,
           "#fdca26"
          ],
          [
           1,
           "#f0f921"
          ]
         ]
        },
        "height": 500,
        "legend": {
         "itemsizing": "constant",
         "tracegroupgap": 0
        },
        "margin": {
         "b": 0,
         "l": 0,
         "r": 0,
         "t": 0
        },
        "template": {
         "data": {
          "bar": [
           {
            "error_x": {
             "color": "#2a3f5f"
            },
            "error_y": {
             "color": "#2a3f5f"
            },
            "marker": {
             "line": {
              "color": "#E5ECF6",
              "width": 0.5
             },
             "pattern": {
              "fillmode": "overlay",
              "size": 10,
              "solidity": 0.2
             }
            },
            "type": "bar"
           }
          ],
          "barpolar": [
           {
            "marker": {
             "line": {
              "color": "#E5ECF6",
              "width": 0.5
             },
             "pattern": {
              "fillmode": "overlay",
              "size": 10,
              "solidity": 0.2
             }
            },
            "type": "barpolar"
           }
          ],
          "carpet": [
           {
            "aaxis": {
             "endlinecolor": "#2a3f5f",
             "gridcolor": "white",
             "linecolor": "white",
             "minorgridcolor": "white",
             "startlinecolor": "#2a3f5f"
            },
            "baxis": {
             "endlinecolor": "#2a3f5f",
             "gridcolor": "white",
             "linecolor": "white",
             "minorgridcolor": "white",
             "startlinecolor": "#2a3f5f"
            },
            "type": "carpet"
           }
          ],
          "choropleth": [
           {
            "colorbar": {
             "outlinewidth": 0,
             "ticks": ""
            },
            "type": "choropleth"
           }
          ],
          "contour": [
           {
            "colorbar": {
             "outlinewidth": 0,
             "ticks": ""
            },
            "colorscale": [
             [
              0,
              "#0d0887"
             ],
             [
              0.1111111111111111,
              "#46039f"
             ],
             [
              0.2222222222222222,
              "#7201a8"
             ],
             [
              0.3333333333333333,
              "#9c179e"
             ],
             [
              0.4444444444444444,
              "#bd3786"
             ],
             [
              0.5555555555555556,
              "#d8576b"
             ],
             [
              0.6666666666666666,
              "#ed7953"
             ],
             [
              0.7777777777777778,
              "#fb9f3a"
             ],
             [
              0.8888888888888888,
              "#fdca26"
             ],
             [
              1,
              "#f0f921"
             ]
            ],
            "type": "contour"
           }
          ],
          "contourcarpet": [
           {
            "colorbar": {
             "outlinewidth": 0,
             "ticks": ""
            },
            "type": "contourcarpet"
           }
          ],
          "heatmap": [
           {
            "colorbar": {
             "outlinewidth": 0,
             "ticks": ""
            },
            "colorscale": [
             [
              0,
              "#0d0887"
             ],
             [
              0.1111111111111111,
              "#46039f"
             ],
             [
              0.2222222222222222,
              "#7201a8"
             ],
             [
              0.3333333333333333,
              "#9c179e"
             ],
             [
              0.4444444444444444,
              "#bd3786"
             ],
             [
              0.5555555555555556,
              "#d8576b"
             ],
             [
              0.6666666666666666,
              "#ed7953"
             ],
             [
              0.7777777777777778,
              "#fb9f3a"
             ],
             [
              0.8888888888888888,
              "#fdca26"
             ],
             [
              1,
              "#f0f921"
             ]
            ],
            "type": "heatmap"
           }
          ],
          "heatmapgl": [
           {
            "colorbar": {
             "outlinewidth": 0,
             "ticks": ""
            },
            "colorscale": [
             [
              0,
              "#0d0887"
             ],
             [
              0.1111111111111111,
              "#46039f"
             ],
             [
              0.2222222222222222,
              "#7201a8"
             ],
             [
              0.3333333333333333,
              "#9c179e"
             ],
             [
              0.4444444444444444,
              "#bd3786"
             ],
             [
              0.5555555555555556,
              "#d8576b"
             ],
             [
              0.6666666666666666,
              "#ed7953"
             ],
             [
              0.7777777777777778,
              "#fb9f3a"
             ],
             [
              0.8888888888888888,
              "#fdca26"
             ],
             [
              1,
              "#f0f921"
             ]
            ],
            "type": "heatmapgl"
           }
          ],
          "histogram": [
           {
            "marker": {
             "pattern": {
              "fillmode": "overlay",
              "size": 10,
              "solidity": 0.2
             }
            },
            "type": "histogram"
           }
          ],
          "histogram2d": [
           {
            "colorbar": {
             "outlinewidth": 0,
             "ticks": ""
            },
            "colorscale": [
             [
              0,
              "#0d0887"
             ],
             [
              0.1111111111111111,
              "#46039f"
             ],
             [
              0.2222222222222222,
              "#7201a8"
             ],
             [
              0.3333333333333333,
              "#9c179e"
             ],
             [
              0.4444444444444444,
              "#bd3786"
             ],
             [
              0.5555555555555556,
              "#d8576b"
             ],
             [
              0.6666666666666666,
              "#ed7953"
             ],
             [
              0.7777777777777778,
              "#fb9f3a"
             ],
             [
              0.8888888888888888,
              "#fdca26"
             ],
             [
              1,
              "#f0f921"
             ]
            ],
            "type": "histogram2d"
           }
          ],
          "histogram2dcontour": [
           {
            "colorbar": {
             "outlinewidth": 0,
             "ticks": ""
            },
            "colorscale": [
             [
              0,
              "#0d0887"
             ],
             [
              0.1111111111111111,
              "#46039f"
             ],
             [
              0.2222222222222222,
              "#7201a8"
             ],
             [
              0.3333333333333333,
              "#9c179e"
             ],
             [
              0.4444444444444444,
              "#bd3786"
             ],
             [
              0.5555555555555556,
              "#d8576b"
             ],
             [
              0.6666666666666666,
              "#ed7953"
             ],
             [
              0.7777777777777778,
              "#fb9f3a"
             ],
             [
              0.8888888888888888,
              "#fdca26"
             ],
             [
              1,
              "#f0f921"
             ]
            ],
            "type": "histogram2dcontour"
           }
          ],
          "mesh3d": [
           {
            "colorbar": {
             "outlinewidth": 0,
             "ticks": ""
            },
            "type": "mesh3d"
           }
          ],
          "parcoords": [
           {
            "line": {
             "colorbar": {
              "outlinewidth": 0,
              "ticks": ""
             }
            },
            "type": "parcoords"
           }
          ],
          "pie": [
           {
            "automargin": true,
            "type": "pie"
           }
          ],
          "scatter": [
           {
            "fillpattern": {
             "fillmode": "overlay",
             "size": 10,
             "solidity": 0.2
            },
            "type": "scatter"
           }
          ],
          "scatter3d": [
           {
            "line": {
             "colorbar": {
              "outlinewidth": 0,
              "ticks": ""
             }
            },
            "marker": {
             "colorbar": {
              "outlinewidth": 0,
              "ticks": ""
             }
            },
            "type": "scatter3d"
           }
          ],
          "scattercarpet": [
           {
            "marker": {
             "colorbar": {
              "outlinewidth": 0,
              "ticks": ""
             }
            },
            "type": "scattercarpet"
           }
          ],
          "scattergeo": [
           {
            "marker": {
             "colorbar": {
              "outlinewidth": 0,
              "ticks": ""
             }
            },
            "type": "scattergeo"
           }
          ],
          "scattergl": [
           {
            "marker": {
             "colorbar": {
              "outlinewidth": 0,
              "ticks": ""
             }
            },
            "type": "scattergl"
           }
          ],
          "scattermapbox": [
           {
            "marker": {
             "colorbar": {
              "outlinewidth": 0,
              "ticks": ""
             }
            },
            "type": "scattermapbox"
           }
          ],
          "scatterpolar": [
           {
            "marker": {
             "colorbar": {
              "outlinewidth": 0,
              "ticks": ""
             }
            },
            "type": "scatterpolar"
           }
          ],
          "scatterpolargl": [
           {
            "marker": {
             "colorbar": {
              "outlinewidth": 0,
              "ticks": ""
             }
            },
            "type": "scatterpolargl"
           }
          ],
          "scatterternary": [
           {
            "marker": {
             "colorbar": {
              "outlinewidth": 0,
              "ticks": ""
             }
            },
            "type": "scatterternary"
           }
          ],
          "surface": [
           {
            "colorbar": {
             "outlinewidth": 0,
             "ticks": ""
            },
            "colorscale": [
             [
              0,
              "#0d0887"
             ],
             [
              0.1111111111111111,
              "#46039f"
             ],
             [
              0.2222222222222222,
              "#7201a8"
             ],
             [
              0.3333333333333333,
              "#9c179e"
             ],
             [
              0.4444444444444444,
              "#bd3786"
             ],
             [
              0.5555555555555556,
              "#d8576b"
             ],
             [
              0.6666666666666666,
              "#ed7953"
             ],
             [
              0.7777777777777778,
              "#fb9f3a"
             ],
             [
              0.8888888888888888,
              "#fdca26"
             ],
             [
              1,
              "#f0f921"
             ]
            ],
            "type": "surface"
           }
          ],
          "table": [
           {
            "cells": {
             "fill": {
              "color": "#EBF0F8"
             },
             "line": {
              "color": "white"
             }
            },
            "header": {
             "fill": {
              "color": "#C8D4E3"
             },
             "line": {
              "color": "white"
             }
            },
            "type": "table"
           }
          ]
         },
         "layout": {
          "annotationdefaults": {
           "arrowcolor": "#2a3f5f",
           "arrowhead": 0,
           "arrowwidth": 1
          },
          "autotypenumbers": "strict",
          "coloraxis": {
           "colorbar": {
            "outlinewidth": 0,
            "ticks": ""
           }
          },
          "colorscale": {
           "diverging": [
            [
             0,
             "#8e0152"
            ],
            [
             0.1,
             "#c51b7d"
            ],
            [
             0.2,
             "#de77ae"
            ],
            [
             0.3,
             "#f1b6da"
            ],
            [
             0.4,
             "#fde0ef"
            ],
            [
             0.5,
             "#f7f7f7"
            ],
            [
             0.6,
             "#e6f5d0"
            ],
            [
             0.7,
             "#b8e186"
            ],
            [
             0.8,
             "#7fbc41"
            ],
            [
             0.9,
             "#4d9221"
            ],
            [
             1,
             "#276419"
            ]
           ],
           "sequential": [
            [
             0,
             "#0d0887"
            ],
            [
             0.1111111111111111,
             "#46039f"
            ],
            [
             0.2222222222222222,
             "#7201a8"
            ],
            [
             0.3333333333333333,
             "#9c179e"
            ],
            [
             0.4444444444444444,
             "#bd3786"
            ],
            [
             0.5555555555555556,
             "#d8576b"
            ],
            [
             0.6666666666666666,
             "#ed7953"
            ],
            [
             0.7777777777777778,
             "#fb9f3a"
            ],
            [
             0.8888888888888888,
             "#fdca26"
            ],
            [
             1,
             "#f0f921"
            ]
           ],
           "sequentialminus": [
            [
             0,
             "#0d0887"
            ],
            [
             0.1111111111111111,
             "#46039f"
            ],
            [
             0.2222222222222222,
             "#7201a8"
            ],
            [
             0.3333333333333333,
             "#9c179e"
            ],
            [
             0.4444444444444444,
             "#bd3786"
            ],
            [
             0.5555555555555556,
             "#d8576b"
            ],
            [
             0.6666666666666666,
             "#ed7953"
            ],
            [
             0.7777777777777778,
             "#fb9f3a"
            ],
            [
             0.8888888888888888,
             "#fdca26"
            ],
            [
             1,
             "#f0f921"
            ]
           ]
          },
          "colorway": [
           "#636efa",
           "#EF553B",
           "#00cc96",
           "#ab63fa",
           "#FFA15A",
           "#19d3f3",
           "#FF6692",
           "#B6E880",
           "#FF97FF",
           "#FECB52"
          ],
          "font": {
           "color": "#2a3f5f"
          },
          "geo": {
           "bgcolor": "white",
           "lakecolor": "white",
           "landcolor": "#E5ECF6",
           "showlakes": true,
           "showland": true,
           "subunitcolor": "white"
          },
          "hoverlabel": {
           "align": "left"
          },
          "hovermode": "closest",
          "mapbox": {
           "style": "light"
          },
          "paper_bgcolor": "white",
          "plot_bgcolor": "#E5ECF6",
          "polar": {
           "angularaxis": {
            "gridcolor": "white",
            "linecolor": "white",
            "ticks": ""
           },
           "bgcolor": "#E5ECF6",
           "radialaxis": {
            "gridcolor": "white",
            "linecolor": "white",
            "ticks": ""
           }
          },
          "scene": {
           "xaxis": {
            "backgroundcolor": "#E5ECF6",
            "gridcolor": "white",
            "gridwidth": 2,
            "linecolor": "white",
            "showbackground": true,
            "ticks": "",
            "zerolinecolor": "white"
           },
           "yaxis": {
            "backgroundcolor": "#E5ECF6",
            "gridcolor": "white",
            "gridwidth": 2,
            "linecolor": "white",
            "showbackground": true,
            "ticks": "",
            "zerolinecolor": "white"
           },
           "zaxis": {
            "backgroundcolor": "#E5ECF6",
            "gridcolor": "white",
            "gridwidth": 2,
            "linecolor": "white",
            "showbackground": true,
            "ticks": "",
            "zerolinecolor": "white"
           }
          },
          "shapedefaults": {
           "line": {
            "color": "#2a3f5f"
           }
          },
          "ternary": {
           "aaxis": {
            "gridcolor": "white",
            "linecolor": "white",
            "ticks": ""
           },
           "baxis": {
            "gridcolor": "white",
            "linecolor": "white",
            "ticks": ""
           },
           "bgcolor": "#E5ECF6",
           "caxis": {
            "gridcolor": "white",
            "linecolor": "white",
            "ticks": ""
           }
          },
          "title": {
           "x": 0.05
          },
          "xaxis": {
           "automargin": true,
           "gridcolor": "white",
           "linecolor": "white",
           "ticks": "",
           "title": {
            "standoff": 15
           },
           "zerolinecolor": "white",
           "zerolinewidth": 2
          },
          "yaxis": {
           "automargin": true,
           "gridcolor": "white",
           "linecolor": "white",
           "ticks": "",
           "title": {
            "standoff": 15
           },
           "zerolinecolor": "white",
           "zerolinewidth": 2
          }
         }
        },
        "width": 1000,
        "xaxis": {
         "anchor": "y",
         "domain": [
          0,
          1
         ],
         "title": {
          "text": "Mean solved time (log scale)"
         },
         "type": "log"
        },
        "yaxis": {
         "anchor": "x",
         "domain": [
          0,
          1
         ],
         "title": {
          "text": "Median solved time"
         }
        }
       }
      }
     },
     "metadata": {},
     "output_type": "display_data"
    },
    {
     "data": {
      "application/vnd.plotly.v1+json": {
       "config": {
        "plotlyServerURL": "https://plot.ly"
       },
       "data": [
        {
         "hovertemplate": "<b>%{hovertext}</b><br><br>Median solved time=%{x}<br>Mean score=%{y}<br>Mean view count=%{marker.size}<br>Topic=%{marker.color}<extra></extra>",
         "hovertext": [
          0,
          1,
          10,
          11,
          12,
          13,
          14,
          15,
          16,
          17,
          18,
          19,
          2,
          20,
          21,
          22,
          23,
          24,
          25,
          26,
          27,
          28,
          29,
          3,
          30,
          31,
          32,
          33,
          34,
          35,
          36,
          37,
          38,
          39,
          4,
          40,
          41,
          42,
          43,
          5,
          6,
          7,
          8,
          9
         ],
         "legendgroup": "",
         "marker": {
          "color": [
           0,
           1,
           10,
           11,
           12,
           13,
           14,
           15,
           16,
           17,
           18,
           19,
           2,
           20,
           21,
           22,
           23,
           24,
           25,
           26,
           27,
           28,
           29,
           3,
           30,
           31,
           32,
           33,
           34,
           35,
           36,
           37,
           38,
           39,
           4,
           40,
           41,
           42,
           43,
           5,
           6,
           7,
           8,
           9
          ],
          "coloraxis": "coloraxis",
          "size": [
           850.9036918138,
           440.6915167095,
           375.0769230769,
           450.1294964029,
           534.2201834862,
           505.3318777293,
           240.7459016393,
           1307.4624277457,
           971.3347826087,
           1096,
           632.641025641,
           420.7053571429,
           616.724137931,
           767.5104166667,
           492.1538461538,
           949.8623188406,
           302.3220338983,
           1230.9529411765,
           370.8356164384,
           467.9366197183,
           536.1774193548,
           710.4761904762,
           947.3981481481,
           450.9410029499,
           558.8214285714,
           182.6697247706,
           698.7804878049,
           682.1619047619,
           181.2391304348,
           474.3275862069,
           721.3729372937,
           659.1052631579,
           414.1294642857,
           488.2,
           700.0841750842,
           1122.6590909091,
           492.6807511737,
           416.3921568627,
           830.6571428571,
           510.4095238095,
           759.0197368421,
           434.7630662021,
           350.96,
           272.7847222222
          ],
          "sizemode": "area",
          "sizeref": 3.2686560693642503,
          "symbol": "circle"
         },
         "mode": "markers",
         "name": "",
         "orientation": "v",
         "showlegend": false,
         "type": "scatter",
         "x": [
          24.1450022222,
          23.4367558333,
          47.8624777778,
          13.2357005556,
          18.5982666667,
          91.9724823611,
          31.3555654167,
          17.6541272222,
          24.7825569445,
          24.8024372222,
          10.7241647222,
          39.9339302778,
          44.3762386111,
          26.0612581944,
          12.1208140278,
          43.2314219444,
          39.2214844445,
          32.9775055556,
          42.4155234722,
          18.0198879167,
          27.1444840278,
          58.5243405556,
          6.8781394444,
          29.9698797222,
          90.2757661111,
          6.9030891667,
          8.4690644444,
          28.38799125,
          67.1714023611,
          24.0506027778,
          18.4475338889,
          14.6736786111,
          19.77049,
          37.6439279167,
          14.9208969444,
          11.5363191667,
          24.0739286111,
          27.4099408334,
          14.4911426389,
          58.57324625,
          47.2822068056,
          19.931705,
          27.6802179167,
          37.6094661111
         ],
         "xaxis": "x",
         "y": [
          0.873221216,
          0.8796296296,
          0.7433628319000001,
          0.6026785714,
          1.019047619,
          0.8987854251,
          0.9716981132,
          1.0922330097,
          1.2,
          0.8914728682,
          0.7413793103,
          0.7258064516,
          0.9671052632,
          0.8878504673000001,
          0.6222222222,
          0.925170068,
          0.44827586210000003,
          0.8153153153,
          0.6352941176,
          0.599078341,
          0.5384615385,
          0.9577464789000001,
          0.8449612403000001,
          0.8069705094,
          1.1473684211,
          0.4789915966,
          1.3775510203999999,
          0.9279279279,
          0.14,
          0.7439024390000001,
          0.8198433420000001,
          0.7806451613000001,
          0.5792880259000001,
          0.8862745098,
          1.318452381,
          0.9247311828,
          0.6394557823,
          0.7286432161,
          0.9166666667000001,
          0.7401574803000001,
          1.2565789474,
          0.5961002786,
          0.641509434,
          0.5471698113
         ],
         "yaxis": "y"
        }
       ],
       "layout": {
        "coloraxis": {
         "colorbar": {
          "title": {
           "text": "Challenge topic"
          }
         },
         "colorscale": [
          [
           0,
           "#0d0887"
          ],
          [
           0.1111111111111111,
           "#46039f"
          ],
          [
           0.2222222222222222,
           "#7201a8"
          ],
          [
           0.3333333333333333,
           "#9c179e"
          ],
          [
           0.4444444444444444,
           "#bd3786"
          ],
          [
           0.5555555555555556,
           "#d8576b"
          ],
          [
           0.6666666666666666,
           "#ed7953"
          ],
          [
           0.7777777777777778,
           "#fb9f3a"
          ],
          [
           0.8888888888888888,
           "#fdca26"
          ],
          [
           1,
           "#f0f921"
          ]
         ]
        },
        "height": 500,
        "legend": {
         "itemsizing": "constant",
         "tracegroupgap": 0
        },
        "margin": {
         "b": 0,
         "l": 0,
         "r": 0,
         "t": 0
        },
        "template": {
         "data": {
          "bar": [
           {
            "error_x": {
             "color": "#2a3f5f"
            },
            "error_y": {
             "color": "#2a3f5f"
            },
            "marker": {
             "line": {
              "color": "#E5ECF6",
              "width": 0.5
             },
             "pattern": {
              "fillmode": "overlay",
              "size": 10,
              "solidity": 0.2
             }
            },
            "type": "bar"
           }
          ],
          "barpolar": [
           {
            "marker": {
             "line": {
              "color": "#E5ECF6",
              "width": 0.5
             },
             "pattern": {
              "fillmode": "overlay",
              "size": 10,
              "solidity": 0.2
             }
            },
            "type": "barpolar"
           }
          ],
          "carpet": [
           {
            "aaxis": {
             "endlinecolor": "#2a3f5f",
             "gridcolor": "white",
             "linecolor": "white",
             "minorgridcolor": "white",
             "startlinecolor": "#2a3f5f"
            },
            "baxis": {
             "endlinecolor": "#2a3f5f",
             "gridcolor": "white",
             "linecolor": "white",
             "minorgridcolor": "white",
             "startlinecolor": "#2a3f5f"
            },
            "type": "carpet"
           }
          ],
          "choropleth": [
           {
            "colorbar": {
             "outlinewidth": 0,
             "ticks": ""
            },
            "type": "choropleth"
           }
          ],
          "contour": [
           {
            "colorbar": {
             "outlinewidth": 0,
             "ticks": ""
            },
            "colorscale": [
             [
              0,
              "#0d0887"
             ],
             [
              0.1111111111111111,
              "#46039f"
             ],
             [
              0.2222222222222222,
              "#7201a8"
             ],
             [
              0.3333333333333333,
              "#9c179e"
             ],
             [
              0.4444444444444444,
              "#bd3786"
             ],
             [
              0.5555555555555556,
              "#d8576b"
             ],
             [
              0.6666666666666666,
              "#ed7953"
             ],
             [
              0.7777777777777778,
              "#fb9f3a"
             ],
             [
              0.8888888888888888,
              "#fdca26"
             ],
             [
              1,
              "#f0f921"
             ]
            ],
            "type": "contour"
           }
          ],
          "contourcarpet": [
           {
            "colorbar": {
             "outlinewidth": 0,
             "ticks": ""
            },
            "type": "contourcarpet"
           }
          ],
          "heatmap": [
           {
            "colorbar": {
             "outlinewidth": 0,
             "ticks": ""
            },
            "colorscale": [
             [
              0,
              "#0d0887"
             ],
             [
              0.1111111111111111,
              "#46039f"
             ],
             [
              0.2222222222222222,
              "#7201a8"
             ],
             [
              0.3333333333333333,
              "#9c179e"
             ],
             [
              0.4444444444444444,
              "#bd3786"
             ],
             [
              0.5555555555555556,
              "#d8576b"
             ],
             [
              0.6666666666666666,
              "#ed7953"
             ],
             [
              0.7777777777777778,
              "#fb9f3a"
             ],
             [
              0.8888888888888888,
              "#fdca26"
             ],
             [
              1,
              "#f0f921"
             ]
            ],
            "type": "heatmap"
           }
          ],
          "heatmapgl": [
           {
            "colorbar": {
             "outlinewidth": 0,
             "ticks": ""
            },
            "colorscale": [
             [
              0,
              "#0d0887"
             ],
             [
              0.1111111111111111,
              "#46039f"
             ],
             [
              0.2222222222222222,
              "#7201a8"
             ],
             [
              0.3333333333333333,
              "#9c179e"
             ],
             [
              0.4444444444444444,
              "#bd3786"
             ],
             [
              0.5555555555555556,
              "#d8576b"
             ],
             [
              0.6666666666666666,
              "#ed7953"
             ],
             [
              0.7777777777777778,
              "#fb9f3a"
             ],
             [
              0.8888888888888888,
              "#fdca26"
             ],
             [
              1,
              "#f0f921"
             ]
            ],
            "type": "heatmapgl"
           }
          ],
          "histogram": [
           {
            "marker": {
             "pattern": {
              "fillmode": "overlay",
              "size": 10,
              "solidity": 0.2
             }
            },
            "type": "histogram"
           }
          ],
          "histogram2d": [
           {
            "colorbar": {
             "outlinewidth": 0,
             "ticks": ""
            },
            "colorscale": [
             [
              0,
              "#0d0887"
             ],
             [
              0.1111111111111111,
              "#46039f"
             ],
             [
              0.2222222222222222,
              "#7201a8"
             ],
             [
              0.3333333333333333,
              "#9c179e"
             ],
             [
              0.4444444444444444,
              "#bd3786"
             ],
             [
              0.5555555555555556,
              "#d8576b"
             ],
             [
              0.6666666666666666,
              "#ed7953"
             ],
             [
              0.7777777777777778,
              "#fb9f3a"
             ],
             [
              0.8888888888888888,
              "#fdca26"
             ],
             [
              1,
              "#f0f921"
             ]
            ],
            "type": "histogram2d"
           }
          ],
          "histogram2dcontour": [
           {
            "colorbar": {
             "outlinewidth": 0,
             "ticks": ""
            },
            "colorscale": [
             [
              0,
              "#0d0887"
             ],
             [
              0.1111111111111111,
              "#46039f"
             ],
             [
              0.2222222222222222,
              "#7201a8"
             ],
             [
              0.3333333333333333,
              "#9c179e"
             ],
             [
              0.4444444444444444,
              "#bd3786"
             ],
             [
              0.5555555555555556,
              "#d8576b"
             ],
             [
              0.6666666666666666,
              "#ed7953"
             ],
             [
              0.7777777777777778,
              "#fb9f3a"
             ],
             [
              0.8888888888888888,
              "#fdca26"
             ],
             [
              1,
              "#f0f921"
             ]
            ],
            "type": "histogram2dcontour"
           }
          ],
          "mesh3d": [
           {
            "colorbar": {
             "outlinewidth": 0,
             "ticks": ""
            },
            "type": "mesh3d"
           }
          ],
          "parcoords": [
           {
            "line": {
             "colorbar": {
              "outlinewidth": 0,
              "ticks": ""
             }
            },
            "type": "parcoords"
           }
          ],
          "pie": [
           {
            "automargin": true,
            "type": "pie"
           }
          ],
          "scatter": [
           {
            "fillpattern": {
             "fillmode": "overlay",
             "size": 10,
             "solidity": 0.2
            },
            "type": "scatter"
           }
          ],
          "scatter3d": [
           {
            "line": {
             "colorbar": {
              "outlinewidth": 0,
              "ticks": ""
             }
            },
            "marker": {
             "colorbar": {
              "outlinewidth": 0,
              "ticks": ""
             }
            },
            "type": "scatter3d"
           }
          ],
          "scattercarpet": [
           {
            "marker": {
             "colorbar": {
              "outlinewidth": 0,
              "ticks": ""
             }
            },
            "type": "scattercarpet"
           }
          ],
          "scattergeo": [
           {
            "marker": {
             "colorbar": {
              "outlinewidth": 0,
              "ticks": ""
             }
            },
            "type": "scattergeo"
           }
          ],
          "scattergl": [
           {
            "marker": {
             "colorbar": {
              "outlinewidth": 0,
              "ticks": ""
             }
            },
            "type": "scattergl"
           }
          ],
          "scattermapbox": [
           {
            "marker": {
             "colorbar": {
              "outlinewidth": 0,
              "ticks": ""
             }
            },
            "type": "scattermapbox"
           }
          ],
          "scatterpolar": [
           {
            "marker": {
             "colorbar": {
              "outlinewidth": 0,
              "ticks": ""
             }
            },
            "type": "scatterpolar"
           }
          ],
          "scatterpolargl": [
           {
            "marker": {
             "colorbar": {
              "outlinewidth": 0,
              "ticks": ""
             }
            },
            "type": "scatterpolargl"
           }
          ],
          "scatterternary": [
           {
            "marker": {
             "colorbar": {
              "outlinewidth": 0,
              "ticks": ""
             }
            },
            "type": "scatterternary"
           }
          ],
          "surface": [
           {
            "colorbar": {
             "outlinewidth": 0,
             "ticks": ""
            },
            "colorscale": [
             [
              0,
              "#0d0887"
             ],
             [
              0.1111111111111111,
              "#46039f"
             ],
             [
              0.2222222222222222,
              "#7201a8"
             ],
             [
              0.3333333333333333,
              "#9c179e"
             ],
             [
              0.4444444444444444,
              "#bd3786"
             ],
             [
              0.5555555555555556,
              "#d8576b"
             ],
             [
              0.6666666666666666,
              "#ed7953"
             ],
             [
              0.7777777777777778,
              "#fb9f3a"
             ],
             [
              0.8888888888888888,
              "#fdca26"
             ],
             [
              1,
              "#f0f921"
             ]
            ],
            "type": "surface"
           }
          ],
          "table": [
           {
            "cells": {
             "fill": {
              "color": "#EBF0F8"
             },
             "line": {
              "color": "white"
             }
            },
            "header": {
             "fill": {
              "color": "#C8D4E3"
             },
             "line": {
              "color": "white"
             }
            },
            "type": "table"
           }
          ]
         },
         "layout": {
          "annotationdefaults": {
           "arrowcolor": "#2a3f5f",
           "arrowhead": 0,
           "arrowwidth": 1
          },
          "autotypenumbers": "strict",
          "coloraxis": {
           "colorbar": {
            "outlinewidth": 0,
            "ticks": ""
           }
          },
          "colorscale": {
           "diverging": [
            [
             0,
             "#8e0152"
            ],
            [
             0.1,
             "#c51b7d"
            ],
            [
             0.2,
             "#de77ae"
            ],
            [
             0.3,
             "#f1b6da"
            ],
            [
             0.4,
             "#fde0ef"
            ],
            [
             0.5,
             "#f7f7f7"
            ],
            [
             0.6,
             "#e6f5d0"
            ],
            [
             0.7,
             "#b8e186"
            ],
            [
             0.8,
             "#7fbc41"
            ],
            [
             0.9,
             "#4d9221"
            ],
            [
             1,
             "#276419"
            ]
           ],
           "sequential": [
            [
             0,
             "#0d0887"
            ],
            [
             0.1111111111111111,
             "#46039f"
            ],
            [
             0.2222222222222222,
             "#7201a8"
            ],
            [
             0.3333333333333333,
             "#9c179e"
            ],
            [
             0.4444444444444444,
             "#bd3786"
            ],
            [
             0.5555555555555556,
             "#d8576b"
            ],
            [
             0.6666666666666666,
             "#ed7953"
            ],
            [
             0.7777777777777778,
             "#fb9f3a"
            ],
            [
             0.8888888888888888,
             "#fdca26"
            ],
            [
             1,
             "#f0f921"
            ]
           ],
           "sequentialminus": [
            [
             0,
             "#0d0887"
            ],
            [
             0.1111111111111111,
             "#46039f"
            ],
            [
             0.2222222222222222,
             "#7201a8"
            ],
            [
             0.3333333333333333,
             "#9c179e"
            ],
            [
             0.4444444444444444,
             "#bd3786"
            ],
            [
             0.5555555555555556,
             "#d8576b"
            ],
            [
             0.6666666666666666,
             "#ed7953"
            ],
            [
             0.7777777777777778,
             "#fb9f3a"
            ],
            [
             0.8888888888888888,
             "#fdca26"
            ],
            [
             1,
             "#f0f921"
            ]
           ]
          },
          "colorway": [
           "#636efa",
           "#EF553B",
           "#00cc96",
           "#ab63fa",
           "#FFA15A",
           "#19d3f3",
           "#FF6692",
           "#B6E880",
           "#FF97FF",
           "#FECB52"
          ],
          "font": {
           "color": "#2a3f5f"
          },
          "geo": {
           "bgcolor": "white",
           "lakecolor": "white",
           "landcolor": "#E5ECF6",
           "showlakes": true,
           "showland": true,
           "subunitcolor": "white"
          },
          "hoverlabel": {
           "align": "left"
          },
          "hovermode": "closest",
          "mapbox": {
           "style": "light"
          },
          "paper_bgcolor": "white",
          "plot_bgcolor": "#E5ECF6",
          "polar": {
           "angularaxis": {
            "gridcolor": "white",
            "linecolor": "white",
            "ticks": ""
           },
           "bgcolor": "#E5ECF6",
           "radialaxis": {
            "gridcolor": "white",
            "linecolor": "white",
            "ticks": ""
           }
          },
          "scene": {
           "xaxis": {
            "backgroundcolor": "#E5ECF6",
            "gridcolor": "white",
            "gridwidth": 2,
            "linecolor": "white",
            "showbackground": true,
            "ticks": "",
            "zerolinecolor": "white"
           },
           "yaxis": {
            "backgroundcolor": "#E5ECF6",
            "gridcolor": "white",
            "gridwidth": 2,
            "linecolor": "white",
            "showbackground": true,
            "ticks": "",
            "zerolinecolor": "white"
           },
           "zaxis": {
            "backgroundcolor": "#E5ECF6",
            "gridcolor": "white",
            "gridwidth": 2,
            "linecolor": "white",
            "showbackground": true,
            "ticks": "",
            "zerolinecolor": "white"
           }
          },
          "shapedefaults": {
           "line": {
            "color": "#2a3f5f"
           }
          },
          "ternary": {
           "aaxis": {
            "gridcolor": "white",
            "linecolor": "white",
            "ticks": ""
           },
           "baxis": {
            "gridcolor": "white",
            "linecolor": "white",
            "ticks": ""
           },
           "bgcolor": "#E5ECF6",
           "caxis": {
            "gridcolor": "white",
            "linecolor": "white",
            "ticks": ""
           }
          },
          "title": {
           "x": 0.05
          },
          "xaxis": {
           "automargin": true,
           "gridcolor": "white",
           "linecolor": "white",
           "ticks": "",
           "title": {
            "standoff": 15
           },
           "zerolinecolor": "white",
           "zerolinewidth": 2
          },
          "yaxis": {
           "automargin": true,
           "gridcolor": "white",
           "linecolor": "white",
           "ticks": "",
           "title": {
            "standoff": 15
           },
           "zerolinecolor": "white",
           "zerolinewidth": 2
          }
         }
        },
        "width": 1000,
        "xaxis": {
         "anchor": "y",
         "domain": [
          0,
          1
         ],
         "title": {
          "text": "Median solved time"
         }
        },
        "yaxis": {
         "anchor": "x",
         "domain": [
          0,
          1
         ],
         "title": {
          "text": "Mean score"
         }
        }
       }
      }
     },
     "metadata": {},
     "output_type": "display_data"
    },
    {
     "data": {
      "application/vnd.plotly.v1+json": {
       "config": {
        "plotlyServerURL": "https://plot.ly"
       },
       "data": [
        {
         "hovertemplate": "<b>%{hovertext}</b><br><br>Median solved time=%{x}<br>Mean favorite count=%{y}<br>Mean answer count=%{marker.size}<br>Topic=%{marker.color}<extra></extra>",
         "hovertext": [
          0,
          1,
          10,
          11,
          12,
          13,
          14,
          15,
          16,
          17,
          18,
          19,
          2,
          20,
          21,
          22,
          23,
          24,
          25,
          26,
          27,
          28,
          29,
          3,
          30,
          31,
          32,
          33,
          34,
          35,
          36,
          37,
          38,
          39,
          4,
          40,
          41,
          42,
          43,
          5,
          6,
          7,
          8,
          9
         ],
         "legendgroup": "",
         "marker": {
          "color": [
           0,
           1,
           10,
           11,
           12,
           13,
           14,
           15,
           16,
           17,
           18,
           19,
           2,
           20,
           21,
           22,
           23,
           24,
           25,
           26,
           27,
           28,
           29,
           3,
           30,
           31,
           32,
           33,
           34,
           35,
           36,
           37,
           38,
           39,
           4,
           40,
           41,
           42,
           43,
           5,
           6,
           7,
           8,
           9
          ],
          "coloraxis": "coloraxis",
          "size": [
           1.4221938776,
           1.4844606947,
           2.3965517241,
           1.9694323144,
           1.05,
           1.148,
           1.0714285714,
           1.4106280193,
           1.2915129151,
           1.1984732824,
           1.1022727273,
           1.4444444444,
           1.2211538462,
           1.3445378151,
           1.3529411765,
           1.306122449,
           1.2528735632,
           1.2533333333,
           1.3604651162999999,
           1.2222222222,
           1.19,
           1.0845070423,
           1.1627906977,
           1.9385026738,
           1.8282828282999999,
           1.1496598639,
           2.3636363636,
           1.3185840708,
           1.26,
           1.9268292683000001,
           1.4289405685,
           1.21875,
           1.4089456869,
           1.1368821293,
           2.7748538012,
           1.4148936170000002,
           1.8695652174,
           1.085,
           1.462585034,
           1.8832684825000001,
           1.8771929825,
           1.0906666667,
           1.2201257862000001,
           3.4716981132
          ],
          "sizemode": "area",
          "sizeref": 0.008679245283,
          "symbol": "circle"
         },
         "mode": "markers",
         "name": "",
         "orientation": "v",
         "showlegend": false,
         "type": "scatter",
         "x": [
          24.1450022222,
          23.4367558333,
          47.8624777778,
          13.2357005556,
          18.5982666667,
          91.9724823611,
          31.3555654167,
          17.6541272222,
          24.7825569445,
          24.8024372222,
          10.7241647222,
          39.9339302778,
          44.3762386111,
          26.0612581944,
          12.1208140278,
          43.2314219444,
          39.2214844445,
          32.9775055556,
          42.4155234722,
          18.0198879167,
          27.1444840278,
          58.5243405556,
          6.8781394444,
          29.9698797222,
          90.2757661111,
          6.9030891667,
          8.4690644444,
          28.38799125,
          67.1714023611,
          24.0506027778,
          18.4475338889,
          14.6736786111,
          19.77049,
          37.6439279167,
          14.9208969444,
          11.5363191667,
          24.0739286111,
          27.4099408334,
          14.4911426389,
          58.57324625,
          47.2822068056,
          19.931705,
          27.6802179167,
          37.6094661111
         ],
         "xaxis": "x",
         "y": [
          1.1842105263,
          1.2448979592,
          1.2105263158,
          1.4,
          1.2941176471,
          1.1428571429,
          2,
          1.8,
          1.75,
          1.3571428571,
          1.3529411765,
          0.875,
          1.2894736842,
          1.0625,
          0.875,
          1.3599999999999999,
          1,
          1.15,
          1.3333333333000001,
          0.85,
          1,
          1.3333333333000001,
          0.9473684211000001,
          1.2,
          1.2666666667,
          1.25,
          1.25,
          0.9166666667000001,
          1,
          1,
          1.3703703704,
          1.2307692308,
          0.9583333333,
          1.2702702703,
          1.5555555556,
          1.1666666667,
          0.9230769231,
          1,
          1.1818181818,
          1.1875,
          1.2857142857000001,
          1,
          1.0909090909,
          0.8571428571
         ],
         "yaxis": "y"
        }
       ],
       "layout": {
        "coloraxis": {
         "colorbar": {
          "title": {
           "text": "Challenge topic"
          }
         },
         "colorscale": [
          [
           0,
           "#0d0887"
          ],
          [
           0.1111111111111111,
           "#46039f"
          ],
          [
           0.2222222222222222,
           "#7201a8"
          ],
          [
           0.3333333333333333,
           "#9c179e"
          ],
          [
           0.4444444444444444,
           "#bd3786"
          ],
          [
           0.5555555555555556,
           "#d8576b"
          ],
          [
           0.6666666666666666,
           "#ed7953"
          ],
          [
           0.7777777777777778,
           "#fb9f3a"
          ],
          [
           0.8888888888888888,
           "#fdca26"
          ],
          [
           1,
           "#f0f921"
          ]
         ]
        },
        "height": 500,
        "legend": {
         "itemsizing": "constant",
         "tracegroupgap": 0
        },
        "margin": {
         "b": 0,
         "l": 0,
         "r": 0,
         "t": 0
        },
        "template": {
         "data": {
          "bar": [
           {
            "error_x": {
             "color": "#2a3f5f"
            },
            "error_y": {
             "color": "#2a3f5f"
            },
            "marker": {
             "line": {
              "color": "#E5ECF6",
              "width": 0.5
             },
             "pattern": {
              "fillmode": "overlay",
              "size": 10,
              "solidity": 0.2
             }
            },
            "type": "bar"
           }
          ],
          "barpolar": [
           {
            "marker": {
             "line": {
              "color": "#E5ECF6",
              "width": 0.5
             },
             "pattern": {
              "fillmode": "overlay",
              "size": 10,
              "solidity": 0.2
             }
            },
            "type": "barpolar"
           }
          ],
          "carpet": [
           {
            "aaxis": {
             "endlinecolor": "#2a3f5f",
             "gridcolor": "white",
             "linecolor": "white",
             "minorgridcolor": "white",
             "startlinecolor": "#2a3f5f"
            },
            "baxis": {
             "endlinecolor": "#2a3f5f",
             "gridcolor": "white",
             "linecolor": "white",
             "minorgridcolor": "white",
             "startlinecolor": "#2a3f5f"
            },
            "type": "carpet"
           }
          ],
          "choropleth": [
           {
            "colorbar": {
             "outlinewidth": 0,
             "ticks": ""
            },
            "type": "choropleth"
           }
          ],
          "contour": [
           {
            "colorbar": {
             "outlinewidth": 0,
             "ticks": ""
            },
            "colorscale": [
             [
              0,
              "#0d0887"
             ],
             [
              0.1111111111111111,
              "#46039f"
             ],
             [
              0.2222222222222222,
              "#7201a8"
             ],
             [
              0.3333333333333333,
              "#9c179e"
             ],
             [
              0.4444444444444444,
              "#bd3786"
             ],
             [
              0.5555555555555556,
              "#d8576b"
             ],
             [
              0.6666666666666666,
              "#ed7953"
             ],
             [
              0.7777777777777778,
              "#fb9f3a"
             ],
             [
              0.8888888888888888,
              "#fdca26"
             ],
             [
              1,
              "#f0f921"
             ]
            ],
            "type": "contour"
           }
          ],
          "contourcarpet": [
           {
            "colorbar": {
             "outlinewidth": 0,
             "ticks": ""
            },
            "type": "contourcarpet"
           }
          ],
          "heatmap": [
           {
            "colorbar": {
             "outlinewidth": 0,
             "ticks": ""
            },
            "colorscale": [
             [
              0,
              "#0d0887"
             ],
             [
              0.1111111111111111,
              "#46039f"
             ],
             [
              0.2222222222222222,
              "#7201a8"
             ],
             [
              0.3333333333333333,
              "#9c179e"
             ],
             [
              0.4444444444444444,
              "#bd3786"
             ],
             [
              0.5555555555555556,
              "#d8576b"
             ],
             [
              0.6666666666666666,
              "#ed7953"
             ],
             [
              0.7777777777777778,
              "#fb9f3a"
             ],
             [
              0.8888888888888888,
              "#fdca26"
             ],
             [
              1,
              "#f0f921"
             ]
            ],
            "type": "heatmap"
           }
          ],
          "heatmapgl": [
           {
            "colorbar": {
             "outlinewidth": 0,
             "ticks": ""
            },
            "colorscale": [
             [
              0,
              "#0d0887"
             ],
             [
              0.1111111111111111,
              "#46039f"
             ],
             [
              0.2222222222222222,
              "#7201a8"
             ],
             [
              0.3333333333333333,
              "#9c179e"
             ],
             [
              0.4444444444444444,
              "#bd3786"
             ],
             [
              0.5555555555555556,
              "#d8576b"
             ],
             [
              0.6666666666666666,
              "#ed7953"
             ],
             [
              0.7777777777777778,
              "#fb9f3a"
             ],
             [
              0.8888888888888888,
              "#fdca26"
             ],
             [
              1,
              "#f0f921"
             ]
            ],
            "type": "heatmapgl"
           }
          ],
          "histogram": [
           {
            "marker": {
             "pattern": {
              "fillmode": "overlay",
              "size": 10,
              "solidity": 0.2
             }
            },
            "type": "histogram"
           }
          ],
          "histogram2d": [
           {
            "colorbar": {
             "outlinewidth": 0,
             "ticks": ""
            },
            "colorscale": [
             [
              0,
              "#0d0887"
             ],
             [
              0.1111111111111111,
              "#46039f"
             ],
             [
              0.2222222222222222,
              "#7201a8"
             ],
             [
              0.3333333333333333,
              "#9c179e"
             ],
             [
              0.4444444444444444,
              "#bd3786"
             ],
             [
              0.5555555555555556,
              "#d8576b"
             ],
             [
              0.6666666666666666,
              "#ed7953"
             ],
             [
              0.7777777777777778,
              "#fb9f3a"
             ],
             [
              0.8888888888888888,
              "#fdca26"
             ],
             [
              1,
              "#f0f921"
             ]
            ],
            "type": "histogram2d"
           }
          ],
          "histogram2dcontour": [
           {
            "colorbar": {
             "outlinewidth": 0,
             "ticks": ""
            },
            "colorscale": [
             [
              0,
              "#0d0887"
             ],
             [
              0.1111111111111111,
              "#46039f"
             ],
             [
              0.2222222222222222,
              "#7201a8"
             ],
             [
              0.3333333333333333,
              "#9c179e"
             ],
             [
              0.4444444444444444,
              "#bd3786"
             ],
             [
              0.5555555555555556,
              "#d8576b"
             ],
             [
              0.6666666666666666,
              "#ed7953"
             ],
             [
              0.7777777777777778,
              "#fb9f3a"
             ],
             [
              0.8888888888888888,
              "#fdca26"
             ],
             [
              1,
              "#f0f921"
             ]
            ],
            "type": "histogram2dcontour"
           }
          ],
          "mesh3d": [
           {
            "colorbar": {
             "outlinewidth": 0,
             "ticks": ""
            },
            "type": "mesh3d"
           }
          ],
          "parcoords": [
           {
            "line": {
             "colorbar": {
              "outlinewidth": 0,
              "ticks": ""
             }
            },
            "type": "parcoords"
           }
          ],
          "pie": [
           {
            "automargin": true,
            "type": "pie"
           }
          ],
          "scatter": [
           {
            "fillpattern": {
             "fillmode": "overlay",
             "size": 10,
             "solidity": 0.2
            },
            "type": "scatter"
           }
          ],
          "scatter3d": [
           {
            "line": {
             "colorbar": {
              "outlinewidth": 0,
              "ticks": ""
             }
            },
            "marker": {
             "colorbar": {
              "outlinewidth": 0,
              "ticks": ""
             }
            },
            "type": "scatter3d"
           }
          ],
          "scattercarpet": [
           {
            "marker": {
             "colorbar": {
              "outlinewidth": 0,
              "ticks": ""
             }
            },
            "type": "scattercarpet"
           }
          ],
          "scattergeo": [
           {
            "marker": {
             "colorbar": {
              "outlinewidth": 0,
              "ticks": ""
             }
            },
            "type": "scattergeo"
           }
          ],
          "scattergl": [
           {
            "marker": {
             "colorbar": {
              "outlinewidth": 0,
              "ticks": ""
             }
            },
            "type": "scattergl"
           }
          ],
          "scattermapbox": [
           {
            "marker": {
             "colorbar": {
              "outlinewidth": 0,
              "ticks": ""
             }
            },
            "type": "scattermapbox"
           }
          ],
          "scatterpolar": [
           {
            "marker": {
             "colorbar": {
              "outlinewidth": 0,
              "ticks": ""
             }
            },
            "type": "scatterpolar"
           }
          ],
          "scatterpolargl": [
           {
            "marker": {
             "colorbar": {
              "outlinewidth": 0,
              "ticks": ""
             }
            },
            "type": "scatterpolargl"
           }
          ],
          "scatterternary": [
           {
            "marker": {
             "colorbar": {
              "outlinewidth": 0,
              "ticks": ""
             }
            },
            "type": "scatterternary"
           }
          ],
          "surface": [
           {
            "colorbar": {
             "outlinewidth": 0,
             "ticks": ""
            },
            "colorscale": [
             [
              0,
              "#0d0887"
             ],
             [
              0.1111111111111111,
              "#46039f"
             ],
             [
              0.2222222222222222,
              "#7201a8"
             ],
             [
              0.3333333333333333,
              "#9c179e"
             ],
             [
              0.4444444444444444,
              "#bd3786"
             ],
             [
              0.5555555555555556,
              "#d8576b"
             ],
             [
              0.6666666666666666,
              "#ed7953"
             ],
             [
              0.7777777777777778,
              "#fb9f3a"
             ],
             [
              0.8888888888888888,
              "#fdca26"
             ],
             [
              1,
              "#f0f921"
             ]
            ],
            "type": "surface"
           }
          ],
          "table": [
           {
            "cells": {
             "fill": {
              "color": "#EBF0F8"
             },
             "line": {
              "color": "white"
             }
            },
            "header": {
             "fill": {
              "color": "#C8D4E3"
             },
             "line": {
              "color": "white"
             }
            },
            "type": "table"
           }
          ]
         },
         "layout": {
          "annotationdefaults": {
           "arrowcolor": "#2a3f5f",
           "arrowhead": 0,
           "arrowwidth": 1
          },
          "autotypenumbers": "strict",
          "coloraxis": {
           "colorbar": {
            "outlinewidth": 0,
            "ticks": ""
           }
          },
          "colorscale": {
           "diverging": [
            [
             0,
             "#8e0152"
            ],
            [
             0.1,
             "#c51b7d"
            ],
            [
             0.2,
             "#de77ae"
            ],
            [
             0.3,
             "#f1b6da"
            ],
            [
             0.4,
             "#fde0ef"
            ],
            [
             0.5,
             "#f7f7f7"
            ],
            [
             0.6,
             "#e6f5d0"
            ],
            [
             0.7,
             "#b8e186"
            ],
            [
             0.8,
             "#7fbc41"
            ],
            [
             0.9,
             "#4d9221"
            ],
            [
             1,
             "#276419"
            ]
           ],
           "sequential": [
            [
             0,
             "#0d0887"
            ],
            [
             0.1111111111111111,
             "#46039f"
            ],
            [
             0.2222222222222222,
             "#7201a8"
            ],
            [
             0.3333333333333333,
             "#9c179e"
            ],
            [
             0.4444444444444444,
             "#bd3786"
            ],
            [
             0.5555555555555556,
             "#d8576b"
            ],
            [
             0.6666666666666666,
             "#ed7953"
            ],
            [
             0.7777777777777778,
             "#fb9f3a"
            ],
            [
             0.8888888888888888,
             "#fdca26"
            ],
            [
             1,
             "#f0f921"
            ]
           ],
           "sequentialminus": [
            [
             0,
             "#0d0887"
            ],
            [
             0.1111111111111111,
             "#46039f"
            ],
            [
             0.2222222222222222,
             "#7201a8"
            ],
            [
             0.3333333333333333,
             "#9c179e"
            ],
            [
             0.4444444444444444,
             "#bd3786"
            ],
            [
             0.5555555555555556,
             "#d8576b"
            ],
            [
             0.6666666666666666,
             "#ed7953"
            ],
            [
             0.7777777777777778,
             "#fb9f3a"
            ],
            [
             0.8888888888888888,
             "#fdca26"
            ],
            [
             1,
             "#f0f921"
            ]
           ]
          },
          "colorway": [
           "#636efa",
           "#EF553B",
           "#00cc96",
           "#ab63fa",
           "#FFA15A",
           "#19d3f3",
           "#FF6692",
           "#B6E880",
           "#FF97FF",
           "#FECB52"
          ],
          "font": {
           "color": "#2a3f5f"
          },
          "geo": {
           "bgcolor": "white",
           "lakecolor": "white",
           "landcolor": "#E5ECF6",
           "showlakes": true,
           "showland": true,
           "subunitcolor": "white"
          },
          "hoverlabel": {
           "align": "left"
          },
          "hovermode": "closest",
          "mapbox": {
           "style": "light"
          },
          "paper_bgcolor": "white",
          "plot_bgcolor": "#E5ECF6",
          "polar": {
           "angularaxis": {
            "gridcolor": "white",
            "linecolor": "white",
            "ticks": ""
           },
           "bgcolor": "#E5ECF6",
           "radialaxis": {
            "gridcolor": "white",
            "linecolor": "white",
            "ticks": ""
           }
          },
          "scene": {
           "xaxis": {
            "backgroundcolor": "#E5ECF6",
            "gridcolor": "white",
            "gridwidth": 2,
            "linecolor": "white",
            "showbackground": true,
            "ticks": "",
            "zerolinecolor": "white"
           },
           "yaxis": {
            "backgroundcolor": "#E5ECF6",
            "gridcolor": "white",
            "gridwidth": 2,
            "linecolor": "white",
            "showbackground": true,
            "ticks": "",
            "zerolinecolor": "white"
           },
           "zaxis": {
            "backgroundcolor": "#E5ECF6",
            "gridcolor": "white",
            "gridwidth": 2,
            "linecolor": "white",
            "showbackground": true,
            "ticks": "",
            "zerolinecolor": "white"
           }
          },
          "shapedefaults": {
           "line": {
            "color": "#2a3f5f"
           }
          },
          "ternary": {
           "aaxis": {
            "gridcolor": "white",
            "linecolor": "white",
            "ticks": ""
           },
           "baxis": {
            "gridcolor": "white",
            "linecolor": "white",
            "ticks": ""
           },
           "bgcolor": "#E5ECF6",
           "caxis": {
            "gridcolor": "white",
            "linecolor": "white",
            "ticks": ""
           }
          },
          "title": {
           "x": 0.05
          },
          "xaxis": {
           "automargin": true,
           "gridcolor": "white",
           "linecolor": "white",
           "ticks": "",
           "title": {
            "standoff": 15
           },
           "zerolinecolor": "white",
           "zerolinewidth": 2
          },
          "yaxis": {
           "automargin": true,
           "gridcolor": "white",
           "linecolor": "white",
           "ticks": "",
           "title": {
            "standoff": 15
           },
           "zerolinecolor": "white",
           "zerolinewidth": 2
          }
         }
        },
        "width": 1000,
        "xaxis": {
         "anchor": "y",
         "domain": [
          0,
          1
         ],
         "title": {
          "text": "Median solved time"
         }
        },
        "yaxis": {
         "anchor": "x",
         "domain": [
          0,
          1
         ],
         "title": {
          "text": "Mean favorite count"
         }
        }
       }
      }
     },
     "metadata": {},
     "output_type": "display_data"
    }
   ],
   "source": [
    "df_challenge = pd.read_json(os.path.join(\n",
    "    path_challenge_open_closed, 'general.json'))\n",
    "\n",
    "# Plot median solved time against mean solved time for each topic using count ratio as size\n",
    "fig = px.scatter(df_challenge, y=\"Median solved time\", x=\"Mean solved time\", color=\"Topic\",\n",
    "                 hover_name=\"Topic\", size=\"Count ratio\", trendline=\"ols\", log_x=True, trendline_options=dict(log_x=True))\n",
    "fig.update_xaxes(title_text=\"Mean solved time (log scale)\")\n",
    "fig.update_layout(\n",
    "    width=1000,\n",
    "    height=500,\n",
    "    margin=dict(l=0, r=0, t=0, b=0),\n",
    "    coloraxis_colorbar=dict(\n",
    "        title=\"Challenge topic\",\n",
    "    ))\n",
    "fig.show()\n",
    "\n",
    "# Plot mean score against mean solved time for each topic using mean view count as size\n",
    "fig = px.scatter(df_challenge, y=\"Mean score\", x=\"Median solved time\",\n",
    "                 color=\"Topic\", hover_name=\"Topic\", size=\"Mean view count\")\n",
    "fig.update_layout(\n",
    "    width=1000,\n",
    "    height=500,\n",
    "    margin=dict(l=0, r=0, t=0, b=0),\n",
    "    coloraxis_colorbar=dict(\n",
    "        title=\"Challenge topic\",\n",
    "    ))\n",
    "fig.show()\n",
    "\n",
    "# Plot mean favorite count against median solved time for each topic using mean answer count as size\n",
    "fig = px.scatter(df_challenge, y=\"Mean favorite count\", x=\"Median solved time\",\n",
    "                 color=\"Topic\", hover_name=\"Topic\", size=\"Mean answer count\")\n",
    "fig.update_layout(\n",
    "    width=1000,\n",
    "    height=500,\n",
    "    margin=dict(l=0, r=0, t=0, b=0),\n",
    "    coloraxis_colorbar=dict(\n",
    "        title=\"Challenge topic\",\n",
    "    ))\n",
    "fig.show()\n"
   ]
  },
  {
   "cell_type": "code",
   "execution_count": null,
   "metadata": {},
   "outputs": [],
   "source": [
    "import scipy.interpolate\n",
    "from statsmodels.nonparametric.smoothers_lowess import lowess as sm_lowess\n",
    "\n",
    "\n",
    "def smooth(x, y, xgrid, lowess_kw=None):\n",
    "    samples = np.random.choice(len(x), 50, replace=True)\n",
    "    y_s = y[samples]\n",
    "    x_s = x[samples]\n",
    "    y_sm = sm_lowess(y_s, x_s, **lowess_kw)\n",
    "    # regularly sample it onto the grid\n",
    "    y_grid = scipy.interpolate.interp1d(\n",
    "        x_s, y_sm, fill_value='extrapolate')(xgrid)\n",
    "    return y_grid\n",
    "\n",
    "\n",
    "def lowess_with_confidence_bounds(x, y, conf_interval=0.95, lowess_kw=None):\n",
    "    \"\"\"\n",
    "    Perform Lowess regression and determine a confidence interval by bootstrap resampling\n",
    "    \"\"\"\n",
    "    xgrid = np.linspace(x.min(), x.max())\n",
    "\n",
    "    K = 100\n",
    "    smooths = np.stack([smooth(x, y, xgrid, lowess_kw) for _ in range(K)]).T\n",
    "\n",
    "    mean = np.nanmean(smooths, axis=1)\n",
    "    stderr = scipy.stats.sem(smooths, axis=1)\n",
    "\n",
    "    clower = np.nanpercentile(smooths, (1-conf_interval)*50, axis=1)\n",
    "    cupper = np.nanpercentile(smooths, (1+conf_interval)*50, axis=1)\n",
    "\n",
    "    return xgrid, mean, stderr, clower, cupper"
   ]
  },
  {
   "cell_type": "code",
   "execution_count": null,
   "metadata": {},
   "outputs": [
    {
     "data": {
      "text/plain": [
       "(Timestamp('2014-08-08 14:04:22.160000'),\n",
       " Timestamp('2023-02-22 01:36:03.995000'))"
      ]
     },
     "execution_count": 13,
     "metadata": {},
     "output_type": "execute_result"
    }
   ],
   "source": [
    "df_all = pd.read_json(os.path.join(path_general, 'assigned.json'))\n",
    "df_challenge = df_all[df_all['Challenge_topic'] > -1]\n",
    "# BigQuery Stack Overflow public dataset is updated until Nov 24, 2022, 1:39:22 PM UTC-5\n",
    "min(df_challenge['Challenge_creation_time']), max(\n",
    "    df_challenge['Challenge_creation_time'])\n"
   ]
  },
  {
   "cell_type": "code",
   "execution_count": null,
   "metadata": {},
   "outputs": [],
   "source": [
    "# Explore challenge topics evolution\n",
    "\n",
    "df_challenge = pd.read_json(os.path.join(path_general, 'assigned.json'))\n",
    "df_challenge = df_challenge[df_challenge['Challenge_topic'] > -1]\n",
    "df_challenge = df_challenge[(df_challenge['Challenge_creation_time'] > '2014-09-14')\n",
    "                            & (df_challenge['Challenge_creation_time'] < '2022-11-21')]\n",
    "\n",
    "for name, group in df_challenge.groupby('Challenge_topic'):\n",
    "    group = group.groupby(pd.Grouper(key='Challenge_creation_time', freq='2W')).agg(\n",
    "        Count=('Challenge_topic', 'count')).reset_index()\n",
    "    x = pd.to_datetime(group['Challenge_creation_time']).values\n",
    "    x = np.array([i.astype('datetime64[D]').astype(int) for i in x])\n",
    "    y = group['Count'].values\n",
    "    # 95% confidence interval\n",
    "    xgrid, mean, stderr, clower, cupper = lowess_with_confidence_bounds(\n",
    "        x, y, conf_interval=0.95, lowess_kw={\"frac\": 0.5, \"it\": 5, \"return_sorted\": False})\n",
    "    x = pd.to_datetime(group['Challenge_creation_time']).values\n",
    "    fig, ax = plt.subplots(figsize=(20, 10))\n",
    "    plt.plot(x, y, 'k.', label='Observations')\n",
    "    plt.plot(xgrid, mean, color='tomato', label='LOWESS')\n",
    "    plt.fill_between(xgrid, clower, cupper, alpha=0.3,\n",
    "                     label='LOWESS uncertainty')\n",
    "    plt.legend(loc='best')\n",
    "    fig.savefig(os.path.join(path_challenge_evolution,\n",
    "                f'Topic_{name}'), bbox_inches=\"tight\")\n",
    "    plt.close()"
   ]
  },
  {
   "cell_type": "code",
   "execution_count": null,
   "metadata": {},
   "outputs": [
    {
     "data": {
      "text/plain": [
       "(Timestamp('2014-09-14 22:12:24.493000'),\n",
       " Timestamp('2023-02-21 18:36:06.284000'))"
      ]
     },
     "execution_count": 15,
     "metadata": {},
     "output_type": "execute_result"
    }
   ],
   "source": [
    "df_all = pd.read_json(os.path.join(path_general, 'assigned.json'))\n",
    "df_solution = df_all[df_all['Solution_topic'] > -1]\n",
    "# BigQuery Stack Overflow public dataset is updated until Nov 24, 2022, 1:39:22 PM UTC-5\n",
    "min(df_solution['Challenge_creation_time']), max(\n",
    "    df_solution['Challenge_creation_time'])"
   ]
  },
  {
   "cell_type": "code",
   "execution_count": null,
   "metadata": {},
   "outputs": [],
   "source": [
    "# Explore solution topics evolution\n",
    "\n",
    "df_solution = pd.read_json(os.path.join(path_general, 'assigned.json'))\n",
    "df_solution = df_solution[df_solution['Solution_topic'] > -1]\n",
    "df_solution = df_solution[(df_solution['Challenge_creation_time'] > '2014-09-14')\n",
    "                          & (df_solution['Challenge_creation_time'] < '2022-11-21')]\n",
    "\n",
    "for name, group in df_solution.groupby('Solution_topic'):\n",
    "    group = group.groupby(pd.Grouper(key='Challenge_closed_time', freq='W')).agg(\n",
    "        Count=('Solution_topic', 'count')).reset_index()\n",
    "    x = pd.to_datetime(group['Challenge_closed_time']).values\n",
    "    x = np.array([i.astype('datetime64[D]').astype(int) for i in x])\n",
    "    y = group['Count'].values\n",
    "    # 95% confidence interval\n",
    "    xgrid, mean, stderr, clower, cupper = lowess_with_confidence_bounds(\n",
    "        x, y, conf_interval=0.95, lowess_kw={\"frac\": 0.5, \"it\": 5, \"return_sorted\": False})\n",
    "    x = pd.to_datetime(group['Challenge_closed_time']).values\n",
    "    fig, ax = plt.subplots(figsize=(20, 10))\n",
    "    plt.plot(x, y, 'k.', label='Observations')\n",
    "    plt.plot(xgrid, mean, color='tomato', label='LOWESS')\n",
    "    plt.fill_between(xgrid, clower, cupper, alpha=0.3,\n",
    "                     label='LOWESS uncertainty')\n",
    "    plt.legend(loc='best')\n",
    "    fig.savefig(os.path.join(path_solution_evolution,\n",
    "                f'Topic_{name}'), bbox_inches=\"tight\")\n",
    "    plt.close()"
   ]
  }
 ],
 "metadata": {
  "kernelspec": {
   "display_name": "Python 3 (ipykernel)",
   "language": "python",
   "name": "python3"
  },
  "language_info": {
   "codemirror_mode": {
    "name": "ipython",
    "version": 3
   },
   "file_extension": ".py",
   "mimetype": "text/x-python",
   "name": "python",
   "nbconvert_exporter": "python",
   "pygments_lexer": "ipython3",
   "version": "3.9.6"
  },
  "vscode": {
   "interpreter": {
    "hash": "ad2bdc8ecc057115af97d19610ffacc2b4e99fae6737bb82f5d7fb13d2f2c186"
   }
  }
 },
 "nbformat": 4,
 "nbformat_minor": 1
}
